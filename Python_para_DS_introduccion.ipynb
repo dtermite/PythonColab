{
  "nbformat": 4,
  "nbformat_minor": 0,
  "metadata": {
    "colab": {
      "provenance": [],
      "collapsed_sections": [
        "_8sc92q05Bb6",
        "WpwUtA4_7pKm"
      ],
      "authorship_tag": "ABX9TyPtxR0eOdrzccu/E8QczFGc",
      "include_colab_link": true
    },
    "kernelspec": {
      "name": "python3",
      "display_name": "Python 3"
    },
    "language_info": {
      "name": "python"
    }
  },
  "cells": [
    {
      "cell_type": "markdown",
      "metadata": {
        "id": "view-in-github",
        "colab_type": "text"
      },
      "source": [
        "<a href=\"https://colab.research.google.com/github/dtermite/PythonColab/blob/main/Python_para_DS_introduccion.ipynb\" target=\"_parent\"><img src=\"https://colab.research.google.com/assets/colab-badge.svg\" alt=\"Open In Colab\"/></a>"
      ]
    },
    {
      "cell_type": "markdown",
      "source": [
        "#**Pyton para DS - Introduccion** "
      ],
      "metadata": {
        "id": "_8sc92q05Bb6"
      }
    },
    {
      "cell_type": "code",
      "execution_count": null,
      "metadata": {
        "colab": {
          "base_uri": "https://localhost:8080/"
        },
        "id": "HjBXZEfd3tEz",
        "outputId": "dba25bb7-a522-490d-a52c-0bf7a6a98591"
      },
      "outputs": [
        {
          "output_type": "execute_result",
          "data": {
            "text/plain": [
              "2"
            ]
          },
          "metadata": {},
          "execution_count": 1
        }
      ],
      "source": [
        "1+1"
      ]
    },
    {
      "cell_type": "code",
      "source": [
        "'Diego'"
      ],
      "metadata": {
        "colab": {
          "base_uri": "https://localhost:8080/",
          "height": 35
        },
        "id": "Ehan8hsN5jyW",
        "outputId": "8f65f82a-1ba3-4832-8031-4652fe2c7039"
      },
      "execution_count": null,
      "outputs": [
        {
          "output_type": "execute_result",
          "data": {
            "text/plain": [
              "'Diego'"
            ],
            "application/vnd.google.colaboratory.intrinsic+json": {
              "type": "string"
            }
          },
          "metadata": {},
          "execution_count": 2
        }
      ]
    },
    {
      "cell_type": "code",
      "source": [
        "nombre='Diego'"
      ],
      "metadata": {
        "id": "xT-8e7tr58Wm"
      },
      "execution_count": null,
      "outputs": []
    },
    {
      "cell_type": "code",
      "source": [
        "nombre"
      ],
      "metadata": {
        "colab": {
          "base_uri": "https://localhost:8080/",
          "height": 35
        },
        "id": "SBUGBTxJ6Sf1",
        "outputId": "04ecee76-00dd-49be-ec0a-04b71707c180"
      },
      "execution_count": null,
      "outputs": [
        {
          "output_type": "execute_result",
          "data": {
            "text/plain": [
              "'Diego'"
            ],
            "application/vnd.google.colaboratory.intrinsic+json": {
              "type": "string"
            }
          },
          "metadata": {},
          "execution_count": 5
        }
      ]
    },
    {
      "cell_type": "code",
      "source": [
        "edad=55"
      ],
      "metadata": {
        "id": "qpEpL15W6ZqE"
      },
      "execution_count": null,
      "outputs": []
    },
    {
      "cell_type": "code",
      "source": [
        "edad"
      ],
      "metadata": {
        "colab": {
          "base_uri": "https://localhost:8080/"
        },
        "id": "z-xHuLt46fMM",
        "outputId": "3cb5fc0d-dfae-4531-a8eb-0ca76f820efb"
      },
      "execution_count": null,
      "outputs": [
        {
          "output_type": "execute_result",
          "data": {
            "text/plain": [
              "55"
            ]
          },
          "metadata": {},
          "execution_count": 7
        }
      ]
    },
    {
      "cell_type": "markdown",
      "source": [
        "#**Mi primer funcion**"
      ],
      "metadata": {
        "id": "WpwUtA4_7pKm"
      }
    },
    {
      "cell_type": "code",
      "source": [
        "print('El nombre es Diego  y su edad es: 55')"
      ],
      "metadata": {
        "colab": {
          "base_uri": "https://localhost:8080/"
        },
        "id": "rsPqBh786gS0",
        "outputId": "9a8f6d41-eb00-4649-9339-cbfbd7fadf9d"
      },
      "execution_count": null,
      "outputs": [
        {
          "output_type": "stream",
          "name": "stdout",
          "text": [
            "El nombre es Diego  y su edad es: 55\n"
          ]
        }
      ]
    },
    {
      "cell_type": "code",
      "source": [
        "print(f'El nombre es {nombre} y su edad es {edad} años')"
      ],
      "metadata": {
        "colab": {
          "base_uri": "https://localhost:8080/"
        },
        "id": "xnodUHfP7h0q",
        "outputId": "e724b9ab-e90d-4aba-fbfd-1935a87d2e2c"
      },
      "execution_count": null,
      "outputs": [
        {
          "output_type": "stream",
          "name": "stdout",
          "text": [
            "El nombre es Diego y su edad es 55 años\n"
          ]
        }
      ]
    },
    {
      "cell_type": "code",
      "source": [
        "def saludar():\n",
        "  nombre=input('Digite su numbre:')\n",
        "  print(f'Hola {nombre} sea bienvenido!!!!')"
      ],
      "metadata": {
        "id": "EH1RJzjL8g7R"
      },
      "execution_count": null,
      "outputs": []
    },
    {
      "cell_type": "code",
      "source": [
        "saludar()"
      ],
      "metadata": {
        "colab": {
          "base_uri": "https://localhost:8080/"
        },
        "id": "7qoD4XZ-9UZH",
        "outputId": "987c45a5-6361-426b-ddd3-6f0f23a428b9"
      },
      "execution_count": null,
      "outputs": [
        {
          "output_type": "stream",
          "name": "stdout",
          "text": [
            "Digite su numbre:Diego\n",
            "Hola Diego sea bienvenido!!!!\n"
          ]
        }
      ]
    },
    {
      "cell_type": "code",
      "source": [
        "def nombre_completo():\n",
        "   primer_nombre = input('¿Cuál es tu primer nombre? ')\n",
        "   apellido = input('¿Cuál es tu apellido? ')\n",
        "   nombre_completo = primer_nombre + ' ' + apellido\n",
        "   print(nombre_completo)\n",
        "nombre_completo()"
      ],
      "metadata": {
        "colab": {
          "base_uri": "https://localhost:8080/"
        },
        "id": "euVUeqEZ9eT3",
        "outputId": "9ca30433-ff96-4496-e2b5-fb14657b9793"
      },
      "execution_count": null,
      "outputs": [
        {
          "output_type": "stream",
          "name": "stdout",
          "text": [
            "¿Cuál es tu primer nombre? Diego\n",
            "¿Cuál es tu apellido? Termite\n",
            "Diego Termite\n"
          ]
        }
      ]
    },
    {
      "cell_type": "markdown",
      "source": [
        "#**Ciclos y bucles**"
      ],
      "metadata": {
        "id": "H2DJ2SjLqEju"
      }
    },
    {
      "cell_type": "code",
      "source": [
        "edades=[18,15,12,45,50]\n",
        "\n",
        "def verificar_si_puede_conducir(edad):\n",
        "  if edad<18:\n",
        "    print('NO puede conducir')\n",
        "  else:\n",
        "    print('SI puede conducir')\n",
        "\n",
        "for edad in edades:\n",
        "  verificar_si_puede_conducir(edad)\n"
      ],
      "metadata": {
        "id": "ozrPheFr_OvE",
        "colab": {
          "base_uri": "https://localhost:8080/"
        },
        "outputId": "0cbf65e1-5471-4d99-b8f8-afe7e9a41d8e"
      },
      "execution_count": null,
      "outputs": [
        {
          "output_type": "stream",
          "name": "stdout",
          "text": [
            "SI puede conducir\n",
            "NO puede conducir\n",
            "NO puede conducir\n",
            "SI puede conducir\n",
            "SI puede conducir\n"
          ]
        }
      ]
    },
    {
      "cell_type": "code",
      "source": [
        "edades=[18,15,12,45,50]\n",
        "\n",
        "def verificar_si_puede_conducir_dentro(edad):\n",
        "  for edad in edades:\n",
        "    if edad<18:\n",
        "      print('NO puede conducir')\n",
        "    else:\n",
        "      print('SI puede conducir')\n",
        "\n",
        "\n",
        "verificar_si_puede_conducir_dentro(edades)"
      ],
      "metadata": {
        "colab": {
          "base_uri": "https://localhost:8080/"
        },
        "id": "CK2wzvCPob30",
        "outputId": "665858ba-1ba6-49ba-c453-18f221e21812"
      },
      "execution_count": null,
      "outputs": [
        {
          "output_type": "stream",
          "name": "stdout",
          "text": [
            "SI puede conducir\n",
            "NO puede conducir\n",
            "NO puede conducir\n",
            "SI puede conducir\n",
            "SI puede conducir\n"
          ]
        }
      ]
    },
    {
      "cell_type": "markdown",
      "source": [
        "#Booleanos\n"
      ],
      "metadata": {
        "id": "s6M0mk8jxjNk"
      }
    },
    {
      "cell_type": "code",
      "source": [
        "verificaciones=[]\n",
        "edades=[13,15,20]\n",
        "\n",
        "def verificar_si_puede_conducir_bool(verificaciones,edades):\n",
        "  for edad in edades:\n",
        "    if edad>=18:\n",
        "      verificaciones.append(True)\n",
        "    else:\n",
        "      verificaciones.append(False)\n",
        "  for verificacion in verificaciones:\n",
        "    if verificacion == True:\n",
        "      print('SI puede')\n",
        "    else:\n",
        "      print('NO puede')\n",
        "    \n",
        "\n",
        "verificar_si_puede_conducir_bool(verificaciones,edades)"
      ],
      "metadata": {
        "colab": {
          "base_uri": "https://localhost:8080/"
        },
        "id": "k3-8gI85rKTO",
        "outputId": "3ca6343d-4f28-45a0-a85b-ebd4963aa300"
      },
      "execution_count": null,
      "outputs": [
        {
          "output_type": "stream",
          "name": "stdout",
          "text": [
            "NO puede\n",
            "NO puede\n",
            "SI puede\n"
          ]
        }
      ]
    },
    {
      "cell_type": "markdown",
      "source": [
        "#Listas con diferentes tipos de datos"
      ],
      "metadata": {
        "id": "BkvdpVmJ4AQo"
      }
    },
    {
      "cell_type": "code",
      "source": [
        "persona=['Mariana',25,True,'Mexico']\n",
        "\n",
        "for elemento in persona:\n",
        "  print(f'El elemento de la lista {elemento} es del tipo', type(elemento))\n"
      ],
      "metadata": {
        "colab": {
          "base_uri": "https://localhost:8080/"
        },
        "id": "P4MmEnX4yX3I",
        "outputId": "b2222978-914b-476e-d417-e1270ba01398"
      },
      "execution_count": null,
      "outputs": [
        {
          "output_type": "stream",
          "name": "stdout",
          "text": [
            "El elemento de la lista Mariana es del tipo <class 'str'>\n",
            "El elemento de la lista 25 es del tipo <class 'int'>\n",
            "El elemento de la lista True es del tipo <class 'bool'>\n",
            "El elemento de la lista Mexico es del tipo <class 'str'>\n"
          ]
        }
      ]
    },
    {
      "cell_type": "markdown",
      "source": [
        "#Importando una biblioteca"
      ],
      "metadata": {
        "id": "f-5ITtsc7YWy"
      }
    },
    {
      "cell_type": "code",
      "source": [
        "from random import randrange\n",
        "randrange(0,11)"
      ],
      "metadata": {
        "colab": {
          "base_uri": "https://localhost:8080/"
        },
        "id": "kiE-KVzz4oaN",
        "outputId": "351999f7-faa0-4ab3-a5e9-65002039e1d0"
      },
      "execution_count": null,
      "outputs": [
        {
          "output_type": "execute_result",
          "data": {
            "text/plain": [
              "8"
            ]
          },
          "metadata": {},
          "execution_count": 23
        }
      ]
    },
    {
      "cell_type": "code",
      "source": [],
      "metadata": {
        "id": "goR0CfEt7xoU"
      },
      "execution_count": null,
      "outputs": []
    }
  ]
}