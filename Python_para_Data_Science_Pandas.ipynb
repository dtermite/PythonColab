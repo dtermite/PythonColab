{
  "cells": [
    {
      "cell_type": "markdown",
      "metadata": {
        "id": "view-in-github",
        "colab_type": "text"
      },
      "source": [
        "<a href=\"https://colab.research.google.com/github/dtermite/PythonColab/blob/main/Python_para_Data_Science_Pandas.ipynb\" target=\"_parent\"><img src=\"https://colab.research.google.com/assets/colab-badge.svg\" alt=\"Open In Colab\"/></a>"
      ]
    },
    {
      "cell_type": "markdown",
      "metadata": {
        "id": "W4bTJkJED0-t"
      },
      "source": [
        "# <font color=green> PYTHON PARA DATA SCIENCE - PANDAS\n",
        "---"
      ]
    },
    {
      "cell_type": "markdown",
      "metadata": {
        "id": "GOEcCc62D0-x"
      },
      "source": [
        "# <font color=green> 1. INTRODUCCIÓN A PYTHON\n",
        "---"
      ]
    },
    {
      "cell_type": "markdown",
      "metadata": {
        "id": "oGvoOJ-XD0-y"
      },
      "source": [
        "# 1.1 Introducción"
      ]
    },
    {
      "cell_type": "markdown",
      "metadata": {
        "id": "fam3BM0aD0-z"
      },
      "source": [
        "> Python es un lenguaje de programación de alto nivel con soporte a múltiples paradigmas de programación. Es un proyecto *open source* y desde su aparición en 1991, viene convirtiéndose en uno de los lenguajes de programación interpretados más populares. \n",
        ">\n",
        "> En los últimos años Python ha desarrollado una comunidad activa de procesamiento científico y análisis de datos y viene destacándose como uno de los lenguajes más relevantes cuando el asunto es ciencia de datos y machine learning, tanto en el entorno académico como también en el entorno laboral."
      ]
    },
    {
      "cell_type": "markdown",
      "metadata": {
        "id": "6kH5DY-vD0-1"
      },
      "source": [
        "# 1.2 Instalación y entorno de trabajo"
      ]
    },
    {
      "cell_type": "markdown",
      "metadata": {
        "id": "BTpm79I2D0-2"
      },
      "source": [
        "### Instalación Local\n",
        "\n",
        "### https://www.python.org/downloads/\n",
        "### o\n",
        "### https://www.anaconda.com/distribution/"
      ]
    },
    {
      "cell_type": "markdown",
      "metadata": {
        "id": "AuPS_XwRD0-3"
      },
      "source": [
        "### Google Colaboratory\n",
        "\n",
        "### https://colab.research.google.com"
      ]
    },
    {
      "cell_type": "markdown",
      "metadata": {
        "id": "4rUYsPrXD0-4"
      },
      "source": [
        "### Verificando versión"
      ]
    },
    {
      "cell_type": "code",
      "execution_count": null,
      "metadata": {
        "colab": {
          "base_uri": "https://localhost:8080/"
        },
        "id": "PgTCVRB2D0-5",
        "outputId": "00abd911-0844-4850-9f6f-ce3ad520449a"
      },
      "outputs": [
        {
          "output_type": "stream",
          "name": "stdout",
          "text": [
            "Python 3.9.16\n"
          ]
        }
      ],
      "source": [
        "!python -V"
      ]
    },
    {
      "cell_type": "markdown",
      "metadata": {
        "id": "lTtI6so4D0-9"
      },
      "source": [
        "# 1.3 Trabajando con datos"
      ]
    },
    {
      "cell_type": "code",
      "execution_count": null,
      "metadata": {
        "id": "E_n4FUUWD0-9"
      },
      "outputs": [],
      "source": [
        "import pandas as pd\n",
        "pd.set_option('display.max_rows', 10)\n",
        "pd.set_option('display.max_columns', 10)"
      ]
    },
    {
      "cell_type": "code",
      "execution_count": null,
      "metadata": {
        "id": "Kq-JdRHFD0-_"
      },
      "outputs": [],
      "source": [
        "dataset = pd.read_csv('db.csv', sep =';')"
      ]
    },
    {
      "cell_type": "code",
      "execution_count": null,
      "metadata": {
        "colab": {
          "base_uri": "https://localhost:8080/",
          "height": 423
        },
        "id": "mOV1rCA6D0_A",
        "scrolled": true,
        "outputId": "5f12354f-8b70-4c50-d97b-05cf0ad39382"
      },
      "outputs": [
        {
          "output_type": "execute_result",
          "data": {
            "text/plain": [
              "                    Nombre                  Motor   Año  Kilometraje  Cero_km  \\\n",
              "0            Jetta Variant        Motor 4.0 Turbo  2003      44410.0    False   \n",
              "1                   Passat           Motor Diesel  1991       5712.0    False   \n",
              "2                 Crossfox        Motor Diesel V8  1990      37123.0    False   \n",
              "3                      DS5        Motor 2.4 Turbo  2019          NaN     True   \n",
              "4         Aston Martin DB4        Motor 2.4 Turbo  2006      25757.0    False   \n",
              "..                     ...                    ...   ...          ...      ...   \n",
              "253           Phantom 2013               Motor V8  2014      27505.0    False   \n",
              "254  Cadillac Ciel concept               Motor V8  1991      29981.0    False   \n",
              "255             Classe GLK  Motor 5.0 V8 Bi-Turbo  2002      52637.0    False   \n",
              "256       Aston Martin DB5           Motor Diesel  1996       7685.0    False   \n",
              "257                  Macan        Motor Diesel V6  1992      50188.0    False   \n",
              "\n",
              "                                            Accesorios      Valor  \n",
              "0    ['Llantas de aleación', 'Cerraduras electricas...   88078.64  \n",
              "1    ['Central multimedia', 'Techo panorámico', 'Fr...  106161.94  \n",
              "2    ['Piloto automático', 'Control de estabilidad'...   72832.16  \n",
              "3    ['Cerraduras electricas', '4 X 4', 'Ventanas e...  124549.07  \n",
              "4    ['Llantas de aleación', '4 X 4', 'Central mult...   92612.10  \n",
              "..                                                 ...        ...  \n",
              "253  ['Control de estabilidad', 'Piloto automático'...   51759.58  \n",
              "254  ['Asientos de cuero', 'Panel digital', 'Sensor...   51667.06  \n",
              "255  ['Llantas de aleación', 'Control de tracción',...   68934.03  \n",
              "256  ['Aire condicionado', '4 X 4', 'Transmisión au...  122110.90  \n",
              "257  ['Central multimedia', 'Techo panorámico', 'Ve...   90381.47  \n",
              "\n",
              "[258 rows x 7 columns]"
            ],
            "text/html": [
              "\n",
              "  <div id=\"df-7236afa1-725d-4119-90c9-f2c8d004ba66\">\n",
              "    <div class=\"colab-df-container\">\n",
              "      <div>\n",
              "<style scoped>\n",
              "    .dataframe tbody tr th:only-of-type {\n",
              "        vertical-align: middle;\n",
              "    }\n",
              "\n",
              "    .dataframe tbody tr th {\n",
              "        vertical-align: top;\n",
              "    }\n",
              "\n",
              "    .dataframe thead th {\n",
              "        text-align: right;\n",
              "    }\n",
              "</style>\n",
              "<table border=\"1\" class=\"dataframe\">\n",
              "  <thead>\n",
              "    <tr style=\"text-align: right;\">\n",
              "      <th></th>\n",
              "      <th>Nombre</th>\n",
              "      <th>Motor</th>\n",
              "      <th>Año</th>\n",
              "      <th>Kilometraje</th>\n",
              "      <th>Cero_km</th>\n",
              "      <th>Accesorios</th>\n",
              "      <th>Valor</th>\n",
              "    </tr>\n",
              "  </thead>\n",
              "  <tbody>\n",
              "    <tr>\n",
              "      <th>0</th>\n",
              "      <td>Jetta Variant</td>\n",
              "      <td>Motor 4.0 Turbo</td>\n",
              "      <td>2003</td>\n",
              "      <td>44410.0</td>\n",
              "      <td>False</td>\n",
              "      <td>['Llantas de aleación', 'Cerraduras electricas...</td>\n",
              "      <td>88078.64</td>\n",
              "    </tr>\n",
              "    <tr>\n",
              "      <th>1</th>\n",
              "      <td>Passat</td>\n",
              "      <td>Motor Diesel</td>\n",
              "      <td>1991</td>\n",
              "      <td>5712.0</td>\n",
              "      <td>False</td>\n",
              "      <td>['Central multimedia', 'Techo panorámico', 'Fr...</td>\n",
              "      <td>106161.94</td>\n",
              "    </tr>\n",
              "    <tr>\n",
              "      <th>2</th>\n",
              "      <td>Crossfox</td>\n",
              "      <td>Motor Diesel V8</td>\n",
              "      <td>1990</td>\n",
              "      <td>37123.0</td>\n",
              "      <td>False</td>\n",
              "      <td>['Piloto automático', 'Control de estabilidad'...</td>\n",
              "      <td>72832.16</td>\n",
              "    </tr>\n",
              "    <tr>\n",
              "      <th>3</th>\n",
              "      <td>DS5</td>\n",
              "      <td>Motor 2.4 Turbo</td>\n",
              "      <td>2019</td>\n",
              "      <td>NaN</td>\n",
              "      <td>True</td>\n",
              "      <td>['Cerraduras electricas', '4 X 4', 'Ventanas e...</td>\n",
              "      <td>124549.07</td>\n",
              "    </tr>\n",
              "    <tr>\n",
              "      <th>4</th>\n",
              "      <td>Aston Martin DB4</td>\n",
              "      <td>Motor 2.4 Turbo</td>\n",
              "      <td>2006</td>\n",
              "      <td>25757.0</td>\n",
              "      <td>False</td>\n",
              "      <td>['Llantas de aleación', '4 X 4', 'Central mult...</td>\n",
              "      <td>92612.10</td>\n",
              "    </tr>\n",
              "    <tr>\n",
              "      <th>...</th>\n",
              "      <td>...</td>\n",
              "      <td>...</td>\n",
              "      <td>...</td>\n",
              "      <td>...</td>\n",
              "      <td>...</td>\n",
              "      <td>...</td>\n",
              "      <td>...</td>\n",
              "    </tr>\n",
              "    <tr>\n",
              "      <th>253</th>\n",
              "      <td>Phantom 2013</td>\n",
              "      <td>Motor V8</td>\n",
              "      <td>2014</td>\n",
              "      <td>27505.0</td>\n",
              "      <td>False</td>\n",
              "      <td>['Control de estabilidad', 'Piloto automático'...</td>\n",
              "      <td>51759.58</td>\n",
              "    </tr>\n",
              "    <tr>\n",
              "      <th>254</th>\n",
              "      <td>Cadillac Ciel concept</td>\n",
              "      <td>Motor V8</td>\n",
              "      <td>1991</td>\n",
              "      <td>29981.0</td>\n",
              "      <td>False</td>\n",
              "      <td>['Asientos de cuero', 'Panel digital', 'Sensor...</td>\n",
              "      <td>51667.06</td>\n",
              "    </tr>\n",
              "    <tr>\n",
              "      <th>255</th>\n",
              "      <td>Classe GLK</td>\n",
              "      <td>Motor 5.0 V8 Bi-Turbo</td>\n",
              "      <td>2002</td>\n",
              "      <td>52637.0</td>\n",
              "      <td>False</td>\n",
              "      <td>['Llantas de aleación', 'Control de tracción',...</td>\n",
              "      <td>68934.03</td>\n",
              "    </tr>\n",
              "    <tr>\n",
              "      <th>256</th>\n",
              "      <td>Aston Martin DB5</td>\n",
              "      <td>Motor Diesel</td>\n",
              "      <td>1996</td>\n",
              "      <td>7685.0</td>\n",
              "      <td>False</td>\n",
              "      <td>['Aire condicionado', '4 X 4', 'Transmisión au...</td>\n",
              "      <td>122110.90</td>\n",
              "    </tr>\n",
              "    <tr>\n",
              "      <th>257</th>\n",
              "      <td>Macan</td>\n",
              "      <td>Motor Diesel V6</td>\n",
              "      <td>1992</td>\n",
              "      <td>50188.0</td>\n",
              "      <td>False</td>\n",
              "      <td>['Central multimedia', 'Techo panorámico', 'Ve...</td>\n",
              "      <td>90381.47</td>\n",
              "    </tr>\n",
              "  </tbody>\n",
              "</table>\n",
              "<p>258 rows × 7 columns</p>\n",
              "</div>\n",
              "      <button class=\"colab-df-convert\" onclick=\"convertToInteractive('df-7236afa1-725d-4119-90c9-f2c8d004ba66')\"\n",
              "              title=\"Convert this dataframe to an interactive table.\"\n",
              "              style=\"display:none;\">\n",
              "        \n",
              "  <svg xmlns=\"http://www.w3.org/2000/svg\" height=\"24px\"viewBox=\"0 0 24 24\"\n",
              "       width=\"24px\">\n",
              "    <path d=\"M0 0h24v24H0V0z\" fill=\"none\"/>\n",
              "    <path d=\"M18.56 5.44l.94 2.06.94-2.06 2.06-.94-2.06-.94-.94-2.06-.94 2.06-2.06.94zm-11 1L8.5 8.5l.94-2.06 2.06-.94-2.06-.94L8.5 2.5l-.94 2.06-2.06.94zm10 10l.94 2.06.94-2.06 2.06-.94-2.06-.94-.94-2.06-.94 2.06-2.06.94z\"/><path d=\"M17.41 7.96l-1.37-1.37c-.4-.4-.92-.59-1.43-.59-.52 0-1.04.2-1.43.59L10.3 9.45l-7.72 7.72c-.78.78-.78 2.05 0 2.83L4 21.41c.39.39.9.59 1.41.59.51 0 1.02-.2 1.41-.59l7.78-7.78 2.81-2.81c.8-.78.8-2.07 0-2.86zM5.41 20L4 18.59l7.72-7.72 1.47 1.35L5.41 20z\"/>\n",
              "  </svg>\n",
              "      </button>\n",
              "      \n",
              "  <style>\n",
              "    .colab-df-container {\n",
              "      display:flex;\n",
              "      flex-wrap:wrap;\n",
              "      gap: 12px;\n",
              "    }\n",
              "\n",
              "    .colab-df-convert {\n",
              "      background-color: #E8F0FE;\n",
              "      border: none;\n",
              "      border-radius: 50%;\n",
              "      cursor: pointer;\n",
              "      display: none;\n",
              "      fill: #1967D2;\n",
              "      height: 32px;\n",
              "      padding: 0 0 0 0;\n",
              "      width: 32px;\n",
              "    }\n",
              "\n",
              "    .colab-df-convert:hover {\n",
              "      background-color: #E2EBFA;\n",
              "      box-shadow: 0px 1px 2px rgba(60, 64, 67, 0.3), 0px 1px 3px 1px rgba(60, 64, 67, 0.15);\n",
              "      fill: #174EA6;\n",
              "    }\n",
              "\n",
              "    [theme=dark] .colab-df-convert {\n",
              "      background-color: #3B4455;\n",
              "      fill: #D2E3FC;\n",
              "    }\n",
              "\n",
              "    [theme=dark] .colab-df-convert:hover {\n",
              "      background-color: #434B5C;\n",
              "      box-shadow: 0px 1px 3px 1px rgba(0, 0, 0, 0.15);\n",
              "      filter: drop-shadow(0px 1px 2px rgba(0, 0, 0, 0.3));\n",
              "      fill: #FFFFFF;\n",
              "    }\n",
              "  </style>\n",
              "\n",
              "      <script>\n",
              "        const buttonEl =\n",
              "          document.querySelector('#df-7236afa1-725d-4119-90c9-f2c8d004ba66 button.colab-df-convert');\n",
              "        buttonEl.style.display =\n",
              "          google.colab.kernel.accessAllowed ? 'block' : 'none';\n",
              "\n",
              "        async function convertToInteractive(key) {\n",
              "          const element = document.querySelector('#df-7236afa1-725d-4119-90c9-f2c8d004ba66');\n",
              "          const dataTable =\n",
              "            await google.colab.kernel.invokeFunction('convertToInteractive',\n",
              "                                                     [key], {});\n",
              "          if (!dataTable) return;\n",
              "\n",
              "          const docLinkHtml = 'Like what you see? Visit the ' +\n",
              "            '<a target=\"_blank\" href=https://colab.research.google.com/notebooks/data_table.ipynb>data table notebook</a>'\n",
              "            + ' to learn more about interactive tables.';\n",
              "          element.innerHTML = '';\n",
              "          dataTable['output_type'] = 'display_data';\n",
              "          await google.colab.output.renderOutput(dataTable, element);\n",
              "          const docLink = document.createElement('div');\n",
              "          docLink.innerHTML = docLinkHtml;\n",
              "          element.appendChild(docLink);\n",
              "        }\n",
              "      </script>\n",
              "    </div>\n",
              "  </div>\n",
              "  "
            ]
          },
          "metadata": {},
          "execution_count": 4
        }
      ],
      "source": [
        "dataset"
      ]
    },
    {
      "cell_type": "code",
      "execution_count": null,
      "metadata": {
        "colab": {
          "base_uri": "https://localhost:8080/"
        },
        "id": "5D739PzJD0_B",
        "outputId": "740d3d76-d74e-41b7-a380-7476e04a7a69"
      },
      "outputs": [
        {
          "output_type": "execute_result",
          "data": {
            "text/plain": [
              "Nombre          object\n",
              "Motor           object\n",
              "Año              int64\n",
              "Kilometraje    float64\n",
              "Cero_km           bool\n",
              "Accesorios      object\n",
              "Valor          float64\n",
              "dtype: object"
            ]
          },
          "metadata": {},
          "execution_count": 5
        }
      ],
      "source": [
        "dataset.dtypes"
      ]
    },
    {
      "cell_type": "code",
      "execution_count": null,
      "metadata": {
        "colab": {
          "base_uri": "https://localhost:8080/",
          "height": 300
        },
        "id": "r_qUf16LD0_D",
        "outputId": "8c68a6e2-1d1c-41e2-ecd6-3db45d0e2387"
      },
      "outputs": [
        {
          "output_type": "execute_result",
          "data": {
            "text/plain": [
              "         Kilometraje          Valor\n",
              "count     197.000000     258.000000\n",
              "mean    58278.421320   98960.513101\n",
              "std     35836.733259   29811.932305\n",
              "min       107.000000   50742.100000\n",
              "25%     27505.000000   70743.512500\n",
              "50%     55083.000000   97724.380000\n",
              "75%     90495.000000  124633.302500\n",
              "max    119945.000000  149489.920000"
            ],
            "text/html": [
              "\n",
              "  <div id=\"df-18738ff3-d203-46b5-b3f1-991ebac6321b\">\n",
              "    <div class=\"colab-df-container\">\n",
              "      <div>\n",
              "<style scoped>\n",
              "    .dataframe tbody tr th:only-of-type {\n",
              "        vertical-align: middle;\n",
              "    }\n",
              "\n",
              "    .dataframe tbody tr th {\n",
              "        vertical-align: top;\n",
              "    }\n",
              "\n",
              "    .dataframe thead th {\n",
              "        text-align: right;\n",
              "    }\n",
              "</style>\n",
              "<table border=\"1\" class=\"dataframe\">\n",
              "  <thead>\n",
              "    <tr style=\"text-align: right;\">\n",
              "      <th></th>\n",
              "      <th>Kilometraje</th>\n",
              "      <th>Valor</th>\n",
              "    </tr>\n",
              "  </thead>\n",
              "  <tbody>\n",
              "    <tr>\n",
              "      <th>count</th>\n",
              "      <td>197.000000</td>\n",
              "      <td>258.000000</td>\n",
              "    </tr>\n",
              "    <tr>\n",
              "      <th>mean</th>\n",
              "      <td>58278.421320</td>\n",
              "      <td>98960.513101</td>\n",
              "    </tr>\n",
              "    <tr>\n",
              "      <th>std</th>\n",
              "      <td>35836.733259</td>\n",
              "      <td>29811.932305</td>\n",
              "    </tr>\n",
              "    <tr>\n",
              "      <th>min</th>\n",
              "      <td>107.000000</td>\n",
              "      <td>50742.100000</td>\n",
              "    </tr>\n",
              "    <tr>\n",
              "      <th>25%</th>\n",
              "      <td>27505.000000</td>\n",
              "      <td>70743.512500</td>\n",
              "    </tr>\n",
              "    <tr>\n",
              "      <th>50%</th>\n",
              "      <td>55083.000000</td>\n",
              "      <td>97724.380000</td>\n",
              "    </tr>\n",
              "    <tr>\n",
              "      <th>75%</th>\n",
              "      <td>90495.000000</td>\n",
              "      <td>124633.302500</td>\n",
              "    </tr>\n",
              "    <tr>\n",
              "      <th>max</th>\n",
              "      <td>119945.000000</td>\n",
              "      <td>149489.920000</td>\n",
              "    </tr>\n",
              "  </tbody>\n",
              "</table>\n",
              "</div>\n",
              "      <button class=\"colab-df-convert\" onclick=\"convertToInteractive('df-18738ff3-d203-46b5-b3f1-991ebac6321b')\"\n",
              "              title=\"Convert this dataframe to an interactive table.\"\n",
              "              style=\"display:none;\">\n",
              "        \n",
              "  <svg xmlns=\"http://www.w3.org/2000/svg\" height=\"24px\"viewBox=\"0 0 24 24\"\n",
              "       width=\"24px\">\n",
              "    <path d=\"M0 0h24v24H0V0z\" fill=\"none\"/>\n",
              "    <path d=\"M18.56 5.44l.94 2.06.94-2.06 2.06-.94-2.06-.94-.94-2.06-.94 2.06-2.06.94zm-11 1L8.5 8.5l.94-2.06 2.06-.94-2.06-.94L8.5 2.5l-.94 2.06-2.06.94zm10 10l.94 2.06.94-2.06 2.06-.94-2.06-.94-.94-2.06-.94 2.06-2.06.94z\"/><path d=\"M17.41 7.96l-1.37-1.37c-.4-.4-.92-.59-1.43-.59-.52 0-1.04.2-1.43.59L10.3 9.45l-7.72 7.72c-.78.78-.78 2.05 0 2.83L4 21.41c.39.39.9.59 1.41.59.51 0 1.02-.2 1.41-.59l7.78-7.78 2.81-2.81c.8-.78.8-2.07 0-2.86zM5.41 20L4 18.59l7.72-7.72 1.47 1.35L5.41 20z\"/>\n",
              "  </svg>\n",
              "      </button>\n",
              "      \n",
              "  <style>\n",
              "    .colab-df-container {\n",
              "      display:flex;\n",
              "      flex-wrap:wrap;\n",
              "      gap: 12px;\n",
              "    }\n",
              "\n",
              "    .colab-df-convert {\n",
              "      background-color: #E8F0FE;\n",
              "      border: none;\n",
              "      border-radius: 50%;\n",
              "      cursor: pointer;\n",
              "      display: none;\n",
              "      fill: #1967D2;\n",
              "      height: 32px;\n",
              "      padding: 0 0 0 0;\n",
              "      width: 32px;\n",
              "    }\n",
              "\n",
              "    .colab-df-convert:hover {\n",
              "      background-color: #E2EBFA;\n",
              "      box-shadow: 0px 1px 2px rgba(60, 64, 67, 0.3), 0px 1px 3px 1px rgba(60, 64, 67, 0.15);\n",
              "      fill: #174EA6;\n",
              "    }\n",
              "\n",
              "    [theme=dark] .colab-df-convert {\n",
              "      background-color: #3B4455;\n",
              "      fill: #D2E3FC;\n",
              "    }\n",
              "\n",
              "    [theme=dark] .colab-df-convert:hover {\n",
              "      background-color: #434B5C;\n",
              "      box-shadow: 0px 1px 3px 1px rgba(0, 0, 0, 0.15);\n",
              "      filter: drop-shadow(0px 1px 2px rgba(0, 0, 0, 0.3));\n",
              "      fill: #FFFFFF;\n",
              "    }\n",
              "  </style>\n",
              "\n",
              "      <script>\n",
              "        const buttonEl =\n",
              "          document.querySelector('#df-18738ff3-d203-46b5-b3f1-991ebac6321b button.colab-df-convert');\n",
              "        buttonEl.style.display =\n",
              "          google.colab.kernel.accessAllowed ? 'block' : 'none';\n",
              "\n",
              "        async function convertToInteractive(key) {\n",
              "          const element = document.querySelector('#df-18738ff3-d203-46b5-b3f1-991ebac6321b');\n",
              "          const dataTable =\n",
              "            await google.colab.kernel.invokeFunction('convertToInteractive',\n",
              "                                                     [key], {});\n",
              "          if (!dataTable) return;\n",
              "\n",
              "          const docLinkHtml = 'Like what you see? Visit the ' +\n",
              "            '<a target=\"_blank\" href=https://colab.research.google.com/notebooks/data_table.ipynb>data table notebook</a>'\n",
              "            + ' to learn more about interactive tables.';\n",
              "          element.innerHTML = '';\n",
              "          dataTable['output_type'] = 'display_data';\n",
              "          await google.colab.output.renderOutput(dataTable, element);\n",
              "          const docLink = document.createElement('div');\n",
              "          docLink.innerHTML = docLinkHtml;\n",
              "          element.appendChild(docLink);\n",
              "        }\n",
              "      </script>\n",
              "    </div>\n",
              "  </div>\n",
              "  "
            ]
          },
          "metadata": {},
          "execution_count": 6
        }
      ],
      "source": [
        "dataset[['Kilometraje','Valor']].describe()"
      ]
    },
    {
      "cell_type": "code",
      "execution_count": null,
      "metadata": {
        "colab": {
          "base_uri": "https://localhost:8080/"
        },
        "id": "0R-_7PH5D0_E",
        "outputId": "df20caf7-5058-4c5d-8e32-8bb6a119ad5e"
      },
      "outputs": [
        {
          "output_type": "stream",
          "name": "stdout",
          "text": [
            "<class 'pandas.core.frame.DataFrame'>\n",
            "RangeIndex: 258 entries, 0 to 257\n",
            "Data columns (total 7 columns):\n",
            " #   Column       Non-Null Count  Dtype  \n",
            "---  ------       --------------  -----  \n",
            " 0   Nombre       258 non-null    object \n",
            " 1   Motor        258 non-null    object \n",
            " 2   Año          258 non-null    int64  \n",
            " 3   Kilometraje  197 non-null    float64\n",
            " 4   Cero_km      258 non-null    bool   \n",
            " 5   Accesorios   258 non-null    object \n",
            " 6   Valor        258 non-null    float64\n",
            "dtypes: bool(1), float64(2), int64(1), object(3)\n",
            "memory usage: 12.5+ KB\n"
          ]
        }
      ],
      "source": [
        "dataset.info()"
      ]
    },
    {
      "cell_type": "markdown",
      "metadata": {
        "id": "htjoBLwiD0_F"
      },
      "source": [
        "# <font color=green> 2. TRABAJANDO CON TUPLAS\n",
        "---"
      ]
    },
    {
      "cell_type": "markdown",
      "metadata": {
        "id": "MZH5_QnYD0_G"
      },
      "source": [
        "# 2.1 Creando tuplas\n",
        "\n",
        "Tuplas son secuencias **inmutables** que son utilizadas para guardar colecciones de objetos, geralmente heterogéneos. Pueden ser construídas de varias formas:\n",
        "```\n",
        "- Utilizando un par de paréntesis: ( )\n",
        "- Utilizando una coma a la derecha: x,\n",
        "- Utilizando un par de paréntesis con objetos separados por comas: ( x, y, z )\n",
        "- Utilizando: tuple() o tuple(iterador)\n",
        "```"
      ]
    },
    {
      "cell_type": "code",
      "execution_count": null,
      "metadata": {
        "colab": {
          "base_uri": "https://localhost:8080/"
        },
        "id": "xzcs9fzeD0_G",
        "outputId": "fb9df270-c2cc-42bb-f953-e5e0d1422ad9"
      },
      "outputs": [
        {
          "output_type": "execute_result",
          "data": {
            "text/plain": [
              "()"
            ]
          },
          "metadata": {},
          "execution_count": 8
        }
      ],
      "source": [
        "()"
      ]
    },
    {
      "cell_type": "code",
      "execution_count": null,
      "metadata": {
        "colab": {
          "base_uri": "https://localhost:8080/"
        },
        "id": "qJq7a2qTD0_I",
        "outputId": "da2497b3-fd71-4241-8ed8-9b2d04f319a2"
      },
      "outputs": [
        {
          "output_type": "execute_result",
          "data": {
            "text/plain": [
              "(1, 2, 3)"
            ]
          },
          "metadata": {},
          "execution_count": 9
        }
      ],
      "source": [
        "1, 2, 3"
      ]
    },
    {
      "cell_type": "code",
      "execution_count": null,
      "metadata": {
        "colab": {
          "base_uri": "https://localhost:8080/"
        },
        "id": "sg7LdvptD0_J",
        "outputId": "d79df85b-44ac-4a9f-af02-46ff09b40cd6"
      },
      "outputs": [
        {
          "output_type": "execute_result",
          "data": {
            "text/plain": [
              "('Passat', 153000)"
            ]
          },
          "metadata": {},
          "execution_count": 10
        }
      ],
      "source": [
        "nombre = 'Passat'\n",
        "valor = 153000\n",
        "(nombre, valor)"
      ]
    },
    {
      "cell_type": "code",
      "execution_count": null,
      "metadata": {
        "colab": {
          "base_uri": "https://localhost:8080/"
        },
        "id": "XSSMebXjD0_K",
        "outputId": "9cdcc5e3-4cd2-4bb1-a192-7d3e8de8f3de"
      },
      "outputs": [
        {
          "output_type": "execute_result",
          "data": {
            "text/plain": [
              "('Jetta Variant', 'Passat', 'Crossfox', 'DS5')"
            ]
          },
          "metadata": {},
          "execution_count": 11
        }
      ],
      "source": [
        "nombres_carros =tuple(['Jetta Variant', 'Passat', 'Crossfox', 'DS5'])\n",
        "nombres_carros"
      ]
    },
    {
      "cell_type": "code",
      "execution_count": null,
      "metadata": {
        "colab": {
          "base_uri": "https://localhost:8080/"
        },
        "id": "dpkdzrzRD0_M",
        "outputId": "bcf9740a-3551-4636-9c14-5eaef05c7309"
      },
      "outputs": [
        {
          "output_type": "execute_result",
          "data": {
            "text/plain": [
              "tuple"
            ]
          },
          "metadata": {},
          "execution_count": 12
        }
      ],
      "source": [
        "type(nombres_carros)"
      ]
    },
    {
      "cell_type": "markdown",
      "metadata": {
        "id": "iKUY2DOUD0_N"
      },
      "source": [
        "# 2.2 Selecciones en tuplas"
      ]
    },
    {
      "cell_type": "code",
      "execution_count": null,
      "metadata": {
        "colab": {
          "base_uri": "https://localhost:8080/",
          "height": 36
        },
        "id": "hBEeAM7_D0_N",
        "outputId": "85f6fed2-700f-4f40-a518-25f07cac87a2"
      },
      "outputs": [
        {
          "output_type": "execute_result",
          "data": {
            "text/plain": [
              "'Jetta Variant'"
            ],
            "application/vnd.google.colaboratory.intrinsic+json": {
              "type": "string"
            }
          },
          "metadata": {},
          "execution_count": 13
        }
      ],
      "source": [
        "nombres_carros[0]"
      ]
    },
    {
      "cell_type": "code",
      "execution_count": null,
      "metadata": {
        "colab": {
          "base_uri": "https://localhost:8080/",
          "height": 36
        },
        "id": "-mx_1E_tD0_P",
        "outputId": "fcbefb93-6edd-4f00-fca0-a9e106f13ed8"
      },
      "outputs": [
        {
          "output_type": "execute_result",
          "data": {
            "text/plain": [
              "'Passat'"
            ],
            "application/vnd.google.colaboratory.intrinsic+json": {
              "type": "string"
            }
          },
          "metadata": {},
          "execution_count": 14
        }
      ],
      "source": [
        "nombres_carros[1]"
      ]
    },
    {
      "cell_type": "code",
      "execution_count": null,
      "metadata": {
        "colab": {
          "base_uri": "https://localhost:8080/",
          "height": 36
        },
        "id": "LMhyqnFID0_Q",
        "outputId": "650aab7a-1e94-4d3a-938e-25982882efa7"
      },
      "outputs": [
        {
          "output_type": "execute_result",
          "data": {
            "text/plain": [
              "'DS5'"
            ],
            "application/vnd.google.colaboratory.intrinsic+json": {
              "type": "string"
            }
          },
          "metadata": {},
          "execution_count": 15
        }
      ],
      "source": [
        "nombres_carros[-1]"
      ]
    },
    {
      "cell_type": "code",
      "execution_count": null,
      "metadata": {
        "colab": {
          "base_uri": "https://localhost:8080/"
        },
        "id": "6btHff4BD0_T",
        "outputId": "27b10a95-6928-463c-cdb5-b4bd57f71a89"
      },
      "outputs": [
        {
          "output_type": "execute_result",
          "data": {
            "text/plain": [
              "('Passat', 'Crossfox')"
            ]
          },
          "metadata": {},
          "execution_count": 16
        }
      ],
      "source": [
        "inicio = 1\n",
        "final = 3\n",
        "nombres_carros[inicio : final]"
      ]
    },
    {
      "cell_type": "code",
      "execution_count": null,
      "metadata": {
        "id": "K_Dc12xBD0_U"
      },
      "outputs": [],
      "source": []
    },
    {
      "cell_type": "code",
      "execution_count": null,
      "metadata": {
        "colab": {
          "base_uri": "https://localhost:8080/"
        },
        "id": "zvrWYkkeD0_W",
        "outputId": "310e562c-0612-44d4-da42-2f90690d9831"
      },
      "outputs": [
        {
          "output_type": "execute_result",
          "data": {
            "text/plain": [
              "('Jetta Variant', 'Passat', 'Crossfox', 'DS5', ('Fusca', 'Gol', 'C4'))"
            ]
          },
          "metadata": {},
          "execution_count": 17
        }
      ],
      "source": [
        "nombres_carros = ('Jetta Variant', 'Passat', 'Crossfox', 'DS5', ('Fusca', 'Gol', 'C4'))\n",
        "nombres_carros"
      ]
    },
    {
      "cell_type": "code",
      "execution_count": null,
      "metadata": {
        "colab": {
          "base_uri": "https://localhost:8080/"
        },
        "id": "Dw7tbM2ED0_Z",
        "outputId": "e8e5f555-2872-4cd0-e9a1-286458888ef7"
      },
      "outputs": [
        {
          "output_type": "execute_result",
          "data": {
            "text/plain": [
              "('Fusca', 'Gol', 'C4')"
            ]
          },
          "metadata": {},
          "execution_count": 18
        }
      ],
      "source": [
        "nombres_carros[-1]"
      ]
    },
    {
      "cell_type": "code",
      "execution_count": null,
      "metadata": {
        "colab": {
          "base_uri": "https://localhost:8080/",
          "height": 36
        },
        "outputId": "826f13aa-52c6-41ac-b61c-01044456d23d",
        "id": "pgyNUdLQmAZN"
      },
      "outputs": [
        {
          "output_type": "execute_result",
          "data": {
            "text/plain": [
              "'Gol'"
            ],
            "application/vnd.google.colaboratory.intrinsic+json": {
              "type": "string"
            }
          },
          "metadata": {},
          "execution_count": 19
        }
      ],
      "source": [
        "nombres_carros[-1][1]"
      ]
    },
    {
      "cell_type": "markdown",
      "metadata": {
        "id": "KLMxh4-0D0_c"
      },
      "source": [
        "# 2.3 Iterando en tuplas"
      ]
    },
    {
      "cell_type": "code",
      "execution_count": null,
      "metadata": {
        "colab": {
          "base_uri": "https://localhost:8080/"
        },
        "id": "K53elKsYD0_c",
        "outputId": "dcf50909-a264-4f26-dde8-a4cffdf1e7a7"
      },
      "outputs": [
        {
          "output_type": "execute_result",
          "data": {
            "text/plain": [
              "('Jetta Variant', 'Passat', 'Crossfox', 'DS5')"
            ]
          },
          "metadata": {},
          "execution_count": 20
        }
      ],
      "source": [
        "nombres_carros = ('Jetta Variant', 'Passat', 'Crossfox', 'DS5')\n",
        "nombres_carros"
      ]
    },
    {
      "cell_type": "code",
      "execution_count": null,
      "metadata": {
        "colab": {
          "base_uri": "https://localhost:8080/"
        },
        "id": "igZhZ5zdD0_d",
        "outputId": "17e3fcb6-0fc9-4aac-d08b-9a9a29dc884b"
      },
      "outputs": [
        {
          "output_type": "stream",
          "name": "stdout",
          "text": [
            "Jetta Variant\n",
            "Passat\n",
            "Crossfox\n",
            "DS5\n"
          ]
        }
      ],
      "source": [
        "for item in nombres_carros:\n",
        "  print(item)"
      ]
    },
    {
      "cell_type": "markdown",
      "metadata": {
        "id": "AOBjxBk8D0_f"
      },
      "source": [
        "### Desempacando tuplas"
      ]
    },
    {
      "cell_type": "code",
      "execution_count": null,
      "metadata": {
        "colab": {
          "base_uri": "https://localhost:8080/"
        },
        "id": "UoEFnumhD0_f",
        "outputId": "92d12072-0738-4801-cbee-e113bab8508b"
      },
      "outputs": [
        {
          "output_type": "execute_result",
          "data": {
            "text/plain": [
              "('Jetta Variant', 'Passat', 'Crossfox', 'DS5')"
            ]
          },
          "metadata": {},
          "execution_count": 22
        }
      ],
      "source": [
        "nombres_carros = ('Jetta Variant', 'Passat', 'Crossfox', 'DS5')\n",
        "nombres_carros"
      ]
    },
    {
      "cell_type": "code",
      "execution_count": null,
      "metadata": {
        "id": "AaCLcNYTD0_g"
      },
      "outputs": [],
      "source": [
        "carro_1, carro_2, carro_3, carro_4 = nombres_carros"
      ]
    },
    {
      "cell_type": "code",
      "execution_count": null,
      "metadata": {
        "colab": {
          "base_uri": "https://localhost:8080/",
          "height": 36
        },
        "id": "TA71S9egD0_h",
        "outputId": "fcd0d053-adeb-4a03-a854-2244f14f132e"
      },
      "outputs": [
        {
          "output_type": "execute_result",
          "data": {
            "text/plain": [
              "'Jetta Variant'"
            ],
            "application/vnd.google.colaboratory.intrinsic+json": {
              "type": "string"
            }
          },
          "metadata": {},
          "execution_count": 24
        }
      ],
      "source": [
        "carro_1"
      ]
    },
    {
      "cell_type": "code",
      "execution_count": null,
      "metadata": {
        "colab": {
          "base_uri": "https://localhost:8080/",
          "height": 36
        },
        "id": "CHoJ034MD0_i",
        "outputId": "7e28a639-104b-4441-ded4-7907cb7bb4ce"
      },
      "outputs": [
        {
          "output_type": "execute_result",
          "data": {
            "text/plain": [
              "'Passat'"
            ],
            "application/vnd.google.colaboratory.intrinsic+json": {
              "type": "string"
            }
          },
          "metadata": {},
          "execution_count": 25
        }
      ],
      "source": [
        "carro_2"
      ]
    },
    {
      "cell_type": "code",
      "execution_count": null,
      "metadata": {
        "colab": {
          "base_uri": "https://localhost:8080/",
          "height": 36
        },
        "id": "oxJrOuCSD0_j",
        "outputId": "5f36302a-fc81-4edf-a756-5f26084cd487"
      },
      "outputs": [
        {
          "output_type": "execute_result",
          "data": {
            "text/plain": [
              "'Crossfox'"
            ],
            "application/vnd.google.colaboratory.intrinsic+json": {
              "type": "string"
            }
          },
          "metadata": {},
          "execution_count": 26
        }
      ],
      "source": [
        "carro_3"
      ]
    },
    {
      "cell_type": "code",
      "execution_count": null,
      "metadata": {
        "colab": {
          "base_uri": "https://localhost:8080/",
          "height": 36
        },
        "id": "BbR9sB4BD0_k",
        "outputId": "022711c6-4c73-4ea7-a8c6-61b68c049dcc"
      },
      "outputs": [
        {
          "output_type": "execute_result",
          "data": {
            "text/plain": [
              "'DS5'"
            ],
            "application/vnd.google.colaboratory.intrinsic+json": {
              "type": "string"
            }
          },
          "metadata": {},
          "execution_count": 27
        }
      ],
      "source": [
        "carro_4"
      ]
    },
    {
      "cell_type": "code",
      "execution_count": null,
      "metadata": {
        "id": "aZvokrjPD0_m"
      },
      "outputs": [],
      "source": [
        "_, A, _, B = nombres_carros"
      ]
    },
    {
      "cell_type": "code",
      "execution_count": null,
      "metadata": {
        "colab": {
          "base_uri": "https://localhost:8080/",
          "height": 36
        },
        "id": "wZXDbVg0D0_o",
        "outputId": "715bedbe-0d72-4543-82b7-97f9ea03a1cc"
      },
      "outputs": [
        {
          "output_type": "execute_result",
          "data": {
            "text/plain": [
              "'Passat'"
            ],
            "application/vnd.google.colaboratory.intrinsic+json": {
              "type": "string"
            }
          },
          "metadata": {},
          "execution_count": 29
        }
      ],
      "source": [
        "A"
      ]
    },
    {
      "cell_type": "code",
      "execution_count": null,
      "metadata": {
        "colab": {
          "base_uri": "https://localhost:8080/",
          "height": 36
        },
        "id": "aWgDMBXiD0_p",
        "outputId": "5cd41133-3c81-49f0-b5b6-dff1d049b10f"
      },
      "outputs": [
        {
          "output_type": "execute_result",
          "data": {
            "text/plain": [
              "'DS5'"
            ],
            "application/vnd.google.colaboratory.intrinsic+json": {
              "type": "string"
            }
          },
          "metadata": {},
          "execution_count": 30
        }
      ],
      "source": [
        "B"
      ]
    },
    {
      "cell_type": "code",
      "execution_count": null,
      "metadata": {
        "id": "OdpgNh-ND0_q"
      },
      "outputs": [],
      "source": [
        "_, C, _, *_ = nombres_carros"
      ]
    },
    {
      "cell_type": "code",
      "execution_count": null,
      "metadata": {
        "colab": {
          "base_uri": "https://localhost:8080/",
          "height": 36
        },
        "id": "upVYFnMdD0_r",
        "outputId": "264568e5-cafd-4316-cd10-9e942d38c3f1"
      },
      "outputs": [
        {
          "output_type": "execute_result",
          "data": {
            "text/plain": [
              "'Passat'"
            ],
            "application/vnd.google.colaboratory.intrinsic+json": {
              "type": "string"
            }
          },
          "metadata": {},
          "execution_count": 32
        }
      ],
      "source": [
        "C"
      ]
    },
    {
      "cell_type": "markdown",
      "metadata": {
        "id": "u85Aou8WD0_s"
      },
      "source": [
        "## *zip()*\n",
        "\n",
        "https://docs.python.org/3.6/library/functions.html#zip"
      ]
    },
    {
      "cell_type": "code",
      "execution_count": null,
      "metadata": {
        "colab": {
          "base_uri": "https://localhost:8080/"
        },
        "id": "PaC2oXGED0_t",
        "outputId": "0d57e7a7-3c23-4244-b25f-47c2ca244542"
      },
      "outputs": [
        {
          "output_type": "execute_result",
          "data": {
            "text/plain": [
              "['Jetta Variant', 'Passat', 'Crossfox', 'DS5']"
            ]
          },
          "metadata": {},
          "execution_count": 33
        }
      ],
      "source": [
        "carros = ['Jetta Variant', 'Passat', 'Crossfox', 'DS5']\n",
        "carros"
      ]
    },
    {
      "cell_type": "code",
      "execution_count": null,
      "metadata": {
        "colab": {
          "base_uri": "https://localhost:8080/"
        },
        "id": "_02O1VnHD0_u",
        "outputId": "96e9eccc-f256-49d1-f3ce-fd400215d3b6"
      },
      "outputs": [
        {
          "output_type": "execute_result",
          "data": {
            "text/plain": [
              "[88078.64, 106161.94, 72832.16, 124549.07]"
            ]
          },
          "metadata": {},
          "execution_count": 34
        }
      ],
      "source": [
        "valores = [88078.64, 106161.94, 72832.16, 124549.07]\n",
        "valores"
      ]
    },
    {
      "cell_type": "code",
      "execution_count": null,
      "metadata": {
        "colab": {
          "base_uri": "https://localhost:8080/"
        },
        "id": "roQK5nYRD0_v",
        "outputId": "6f9e0a65-f9b7-4998-ede8-9ae58660b3e1"
      },
      "outputs": [
        {
          "output_type": "execute_result",
          "data": {
            "text/plain": [
              "[('Jetta Variant', 88078.64),\n",
              " ('Passat', 106161.94),\n",
              " ('Crossfox', 72832.16),\n",
              " ('DS5', 124549.07)]"
            ]
          },
          "metadata": {},
          "execution_count": 35
        }
      ],
      "source": [
        "list(zip(carros, valores))"
      ]
    },
    {
      "cell_type": "code",
      "execution_count": null,
      "metadata": {
        "colab": {
          "base_uri": "https://localhost:8080/"
        },
        "id": "_WRxIRHrD0_w",
        "outputId": "b3b685f4-2ce0-406b-eed3-31874991abcb"
      },
      "outputs": [
        {
          "output_type": "stream",
          "name": "stdout",
          "text": [
            "('Jetta Variant', 88078.64)\n",
            "('Passat', 106161.94)\n",
            "('Crossfox', 72832.16)\n",
            "('DS5', 124549.07)\n"
          ]
        }
      ],
      "source": [
        "for item in zip(carros, valores):\n",
        "  print(item)"
      ]
    },
    {
      "cell_type": "code",
      "execution_count": null,
      "metadata": {
        "colab": {
          "base_uri": "https://localhost:8080/"
        },
        "id": "2zIuhIILD0_x",
        "outputId": "66b0a3b9-06a4-44f6-80fc-700ca2121d95"
      },
      "outputs": [
        {
          "output_type": "stream",
          "name": "stdout",
          "text": [
            "Jetta Variant 88078.64\n",
            "Passat 106161.94\n",
            "Crossfox 72832.16\n",
            "DS5 124549.07\n"
          ]
        }
      ],
      "source": [
        "for carro, valor in zip(carros, valores):\n",
        "  print(carro, valor)"
      ]
    },
    {
      "cell_type": "code",
      "execution_count": null,
      "metadata": {
        "colab": {
          "base_uri": "https://localhost:8080/"
        },
        "id": "ZJaL62IpD0_y",
        "outputId": "a46918e7-a861-497b-bf2a-11c179179d91"
      },
      "outputs": [
        {
          "output_type": "stream",
          "name": "stdout",
          "text": [
            "Passat\n",
            "DS5\n"
          ]
        }
      ],
      "source": [
        "for carro, valor in zip(carros, valores):\n",
        "  if (valor > 100000):\n",
        "    print(carro)"
      ]
    },
    {
      "cell_type": "markdown",
      "metadata": {
        "id": "xo76nR8rD0_0"
      },
      "source": [
        "# <font color=green> 3. TRABAJANDO CON DICCIONARIOS\n",
        "---"
      ]
    },
    {
      "cell_type": "markdown",
      "metadata": {
        "id": "wfWzOuztD0_0"
      },
      "source": [
        "# 3.1 Creando diccionarios\n",
        "\n",
        "Listas son colecciones secuenciales, es decir, los elementos de estas secuencias están ordenados y utilizan índices (números enteros) para acceder a los valores.\n",
        "\n",
        "Los diccionarios son colecciones ligeramente diferentes. Son estructuras de datos que representan un tipo de mapeo. Los mapeos son colecciones de asociaciones entre pares de valores donde el primer elemento del par se conoce como llave (*key*) y el segundo como valor (*value*).\n",
        "\n",
        "```\n",
        "diccionario = {key_1: value_1, key_2: value_2, ..., key_n: value_n}\n",
        "```\n",
        "\n",
        "https://docs.python.org/3.6/library/stdtypes.html#typesmapping"
      ]
    },
    {
      "cell_type": "code",
      "execution_count": null,
      "metadata": {
        "colab": {
          "base_uri": "https://localhost:8080/"
        },
        "id": "YIFVkWT6D0_1",
        "outputId": "42454b2f-5280-4b87-a468-c17d3b78614d"
      },
      "outputs": [
        {
          "output_type": "execute_result",
          "data": {
            "text/plain": [
              "['Jetta Variant', 'Passat', 'Crossfox']"
            ]
          },
          "metadata": {},
          "execution_count": 39
        }
      ],
      "source": [
        "carros = ['Jetta Variant', 'Passat', 'Crossfox']\n",
        "carros"
      ]
    },
    {
      "cell_type": "code",
      "execution_count": null,
      "metadata": {
        "colab": {
          "base_uri": "https://localhost:8080/"
        },
        "id": "2LHiBn3-D0_2",
        "outputId": "77b11592-5201-4741-8f50-1afb4a219339"
      },
      "outputs": [
        {
          "output_type": "execute_result",
          "data": {
            "text/plain": [
              "[88078.64, 106161.94, 72832.16]"
            ]
          },
          "metadata": {},
          "execution_count": 40
        }
      ],
      "source": [
        "valores = [88078.64, 106161.94, 72832.16]\n",
        "valores"
      ]
    },
    {
      "cell_type": "code",
      "execution_count": null,
      "metadata": {
        "colab": {
          "base_uri": "https://localhost:8080/"
        },
        "id": "YxLAx_sqD0_4",
        "outputId": "f443beb4-401b-4529-d943-e10da1b99847"
      },
      "outputs": [
        {
          "output_type": "execute_result",
          "data": {
            "text/plain": [
              "1"
            ]
          },
          "metadata": {},
          "execution_count": 41
        }
      ],
      "source": [
        "carros.index('Passat')"
      ]
    },
    {
      "cell_type": "code",
      "execution_count": null,
      "metadata": {
        "colab": {
          "base_uri": "https://localhost:8080/"
        },
        "id": "WITNWExID0_7",
        "outputId": "4824e4a3-7c96-4f0a-dec4-007b1a816799"
      },
      "outputs": [
        {
          "output_type": "execute_result",
          "data": {
            "text/plain": [
              "106161.94"
            ]
          },
          "metadata": {},
          "execution_count": 42
        }
      ],
      "source": [
        "valores[carros.index('Passat')]"
      ]
    },
    {
      "cell_type": "code",
      "execution_count": null,
      "metadata": {
        "colab": {
          "base_uri": "https://localhost:8080/"
        },
        "id": "bHNqoDbTD0_8",
        "outputId": "d5a8c2df-beb5-4a3a-906e-1d1ff36d2fda"
      },
      "outputs": [
        {
          "output_type": "execute_result",
          "data": {
            "text/plain": [
              "{'Jetta Variant': 88078.64, 'Passat': 106161.94, 'Crossfox': 72832.16}"
            ]
          },
          "metadata": {},
          "execution_count": 43
        }
      ],
      "source": [
        "datos = {'Jetta Variant': 88078.64, 'Passat': 106161.94, 'Crossfox': 72832.16}\n",
        "datos"
      ]
    },
    {
      "cell_type": "code",
      "execution_count": null,
      "metadata": {
        "colab": {
          "base_uri": "https://localhost:8080/"
        },
        "id": "4FyQgmcAD0_9",
        "outputId": "acb58f6c-ed26-4cd7-a6c2-800a57ecb19c"
      },
      "outputs": [
        {
          "output_type": "execute_result",
          "data": {
            "text/plain": [
              "dict"
            ]
          },
          "metadata": {},
          "execution_count": 44
        }
      ],
      "source": [
        "type(datos)"
      ]
    },
    {
      "cell_type": "markdown",
      "metadata": {
        "id": "PQg-MLkGD0_-"
      },
      "source": [
        "### Creando diccionarios con *zip()*"
      ]
    },
    {
      "cell_type": "code",
      "execution_count": null,
      "metadata": {
        "colab": {
          "base_uri": "https://localhost:8080/"
        },
        "id": "iB4Q_gbND0__",
        "outputId": "b250846f-1c8c-41d6-bc21-9b7577618137"
      },
      "outputs": [
        {
          "output_type": "execute_result",
          "data": {
            "text/plain": [
              "[('Jetta Variant', 88078.64), ('Passat', 106161.94), ('Crossfox', 72832.16)]"
            ]
          },
          "metadata": {},
          "execution_count": 45
        }
      ],
      "source": [
        "list(zip(carros, valores))"
      ]
    },
    {
      "cell_type": "code",
      "execution_count": null,
      "metadata": {
        "colab": {
          "base_uri": "https://localhost:8080/"
        },
        "id": "mIgZqdKKD1AA",
        "outputId": "30f2ae9e-fe20-46b4-8d3c-8d9ffb6d4da7"
      },
      "outputs": [
        {
          "output_type": "execute_result",
          "data": {
            "text/plain": [
              "{'Jetta Variant': 88078.64, 'Passat': 106161.94, 'Crossfox': 72832.16}"
            ]
          },
          "metadata": {},
          "execution_count": 58
        }
      ],
      "source": [
        "datos = dict(zip(carros, valores))\n",
        "datos"
      ]
    },
    {
      "cell_type": "markdown",
      "metadata": {
        "id": "KYeRqavFD1AD"
      },
      "source": [
        "# 3.2 Operaciones con diccionarios"
      ]
    },
    {
      "cell_type": "markdown",
      "metadata": {
        "id": "KzmWbEltD1AD"
      },
      "source": [
        "## *dict[ key ]*\n",
        "\n",
        "Devuelve el valor correspondiente a la llave (*key*) en el diccionario."
      ]
    },
    {
      "cell_type": "code",
      "execution_count": null,
      "metadata": {
        "colab": {
          "base_uri": "https://localhost:8080/"
        },
        "id": "hFFDz6wKD1AD",
        "outputId": "cd50cb3d-2650-4041-c5f1-b43c4c0810ec"
      },
      "outputs": [
        {
          "output_type": "execute_result",
          "data": {
            "text/plain": [
              "106161.94"
            ]
          },
          "metadata": {},
          "execution_count": 47
        }
      ],
      "source": [
        "datos['Passat']"
      ]
    },
    {
      "cell_type": "markdown",
      "metadata": {
        "id": "SWlE6VTBD1AE"
      },
      "source": [
        "## *key in dict*\n",
        "\n",
        "Devuelve **True** si la llave (*key*) es encontrada en el diccionario."
      ]
    },
    {
      "cell_type": "code",
      "execution_count": null,
      "metadata": {
        "colab": {
          "base_uri": "https://localhost:8080/"
        },
        "id": "Iy88SxBtD1AE",
        "outputId": "29dd1c75-c143-4a1a-9db4-eab29ddecdb2"
      },
      "outputs": [
        {
          "output_type": "execute_result",
          "data": {
            "text/plain": [
              "True"
            ]
          },
          "metadata": {},
          "execution_count": 48
        }
      ],
      "source": [
        "'Passat' in datos"
      ]
    },
    {
      "cell_type": "code",
      "execution_count": null,
      "metadata": {
        "colab": {
          "base_uri": "https://localhost:8080/"
        },
        "id": "Oma56NkAD1AF",
        "outputId": "93572553-11c8-44b4-c119-cadadaf8552f"
      },
      "outputs": [
        {
          "output_type": "execute_result",
          "data": {
            "text/plain": [
              "False"
            ]
          },
          "metadata": {},
          "execution_count": 49
        }
      ],
      "source": [
        "'Fusca' in datos"
      ]
    },
    {
      "cell_type": "code",
      "execution_count": null,
      "metadata": {
        "colab": {
          "base_uri": "https://localhost:8080/"
        },
        "id": "yS2U-_8gD1AG",
        "outputId": "111e5635-7865-49dd-ca7c-17bf43d47c04"
      },
      "outputs": [
        {
          "output_type": "execute_result",
          "data": {
            "text/plain": [
              "True"
            ]
          },
          "metadata": {},
          "execution_count": 50
        }
      ],
      "source": [
        "'Fusca' not in datos"
      ]
    },
    {
      "cell_type": "markdown",
      "metadata": {
        "id": "oWbWyDd0D1AI"
      },
      "source": [
        "## *len(dict)*\n",
        "\n",
        "Devuelve el número de itens del diccionario."
      ]
    },
    {
      "cell_type": "code",
      "execution_count": null,
      "metadata": {
        "colab": {
          "base_uri": "https://localhost:8080/"
        },
        "id": "k08YkCc1D1AJ",
        "outputId": "846bbded-2d8f-4548-cd9b-2aee3cd7a637"
      },
      "outputs": [
        {
          "output_type": "execute_result",
          "data": {
            "text/plain": [
              "3"
            ]
          },
          "metadata": {},
          "execution_count": 51
        }
      ],
      "source": [
        "len(datos)"
      ]
    },
    {
      "cell_type": "markdown",
      "metadata": {
        "id": "yYNqIHJBD1AK"
      },
      "source": [
        "## *dict[ key ] = value*\n",
        "\n",
        "Incluye un item al diccionario."
      ]
    },
    {
      "cell_type": "code",
      "execution_count": null,
      "metadata": {
        "colab": {
          "base_uri": "https://localhost:8080/"
        },
        "id": "5jj3i52bD1AK",
        "outputId": "27cae4d8-f345-43b4-bdec-c9c2058bcfbd"
      },
      "outputs": [
        {
          "output_type": "execute_result",
          "data": {
            "text/plain": [
              "{'Jetta Variant': 88078.64,\n",
              " 'Passat': 106161.94,\n",
              " 'Crossfox': 72832.16,\n",
              " 'DS5': 124529.08}"
            ]
          },
          "metadata": {},
          "execution_count": 60
        }
      ],
      "source": [
        "datos['DS5']=124529.08\n",
        "datos"
      ]
    },
    {
      "cell_type": "markdown",
      "metadata": {
        "id": "_z0JySuqD1AL"
      },
      "source": [
        "## *del dict[ key ]*\n",
        "\n",
        "Borra el item de llave (*key*) del diccionario."
      ]
    },
    {
      "cell_type": "code",
      "execution_count": null,
      "metadata": {
        "colab": {
          "base_uri": "https://localhost:8080/"
        },
        "id": "PPfh6sfID1AM",
        "outputId": "4f3a5bb5-be45-4762-b565-8d7864a4b1a1"
      },
      "outputs": [
        {
          "output_type": "execute_result",
          "data": {
            "text/plain": [
              "{'Jetta Variant': 88078.64, 'Crossfox': 72832.16, 'DS5': 124529.08}"
            ]
          },
          "metadata": {},
          "execution_count": 61
        }
      ],
      "source": [
        "del datos['Passat']\n",
        "datos"
      ]
    },
    {
      "cell_type": "markdown",
      "metadata": {
        "id": "FodJVx5sD1AP"
      },
      "source": [
        "# 3.3 Métodos de diccionarios"
      ]
    },
    {
      "cell_type": "markdown",
      "metadata": {
        "id": "7pqdPOkYD1AP"
      },
      "source": [
        "## *dict.update()*\n",
        "\n",
        "Actualiza el diccionario."
      ]
    },
    {
      "cell_type": "code",
      "execution_count": null,
      "metadata": {
        "id": "DUySYxKQD1AQ",
        "colab": {
          "base_uri": "https://localhost:8080/"
        },
        "outputId": "1a3f727f-b33c-4399-a8ef-7ed3326ddc77"
      },
      "outputs": [
        {
          "output_type": "execute_result",
          "data": {
            "text/plain": [
              "{'Jetta Variant': 88078.64, 'Crossfox': 72832.16, 'DS5': 124529.08}"
            ]
          },
          "metadata": {},
          "execution_count": 62
        }
      ],
      "source": [
        "datos"
      ]
    },
    {
      "cell_type": "code",
      "execution_count": null,
      "metadata": {
        "id": "DLsqp71cD1AR",
        "colab": {
          "base_uri": "https://localhost:8080/"
        },
        "outputId": "8575e287-0562-457f-a116-1f48df5d6c8f"
      },
      "outputs": [
        {
          "output_type": "execute_result",
          "data": {
            "text/plain": [
              "{'Jetta Variant': 88078.64,\n",
              " 'Crossfox': 72832.16,\n",
              " 'DS5': 124529.08,\n",
              " 'Passat': 106161.94}"
            ]
          },
          "metadata": {},
          "execution_count": 64
        }
      ],
      "source": [
        "datos.update({'Passat': 106161.94})\n",
        "datos"
      ]
    },
    {
      "cell_type": "code",
      "source": [
        "datos.update({'Passat': 106161.95, 'Fusca': 150000})\n",
        "datos"
      ],
      "metadata": {
        "colab": {
          "base_uri": "https://localhost:8080/"
        },
        "id": "7sxA84FXrYd4",
        "outputId": "30b7034a-d586-40fc-a81a-2788e76a7141"
      },
      "execution_count": null,
      "outputs": [
        {
          "output_type": "execute_result",
          "data": {
            "text/plain": [
              "{'Jetta Variant': 88078.64,\n",
              " 'Crossfox': 72832.16,\n",
              " 'DS5': 124529.08,\n",
              " 'Passat': 106161.95,\n",
              " 'Fusca': 150000}"
            ]
          },
          "metadata": {},
          "execution_count": 65
        }
      ]
    },
    {
      "cell_type": "markdown",
      "metadata": {
        "id": "JLs5c0DeD1AR"
      },
      "source": [
        "## *dict.copy()*\n",
        "\n",
        "Crea una copia del diccionario."
      ]
    },
    {
      "cell_type": "code",
      "execution_count": null,
      "metadata": {
        "id": "X9F7OB3eD1AS"
      },
      "outputs": [],
      "source": [
        "datosCopy = datos.copy()"
      ]
    },
    {
      "cell_type": "code",
      "execution_count": null,
      "metadata": {
        "id": "v0rL0bveD1AS",
        "colab": {
          "base_uri": "https://localhost:8080/"
        },
        "outputId": "38990715-bf2e-4d90-b092-e2c62e0809a4"
      },
      "outputs": [
        {
          "output_type": "execute_result",
          "data": {
            "text/plain": [
              "{'Jetta Variant': 88078.64,\n",
              " 'Crossfox': 72832.16,\n",
              " 'DS5': 124529.08,\n",
              " 'Passat': 106161.95,\n",
              " 'Fusca': 150000}"
            ]
          },
          "metadata": {},
          "execution_count": 67
        }
      ],
      "source": [
        "datosCopy"
      ]
    },
    {
      "cell_type": "code",
      "execution_count": null,
      "metadata": {
        "id": "M-abRGGrD1AT",
        "colab": {
          "base_uri": "https://localhost:8080/"
        },
        "outputId": "1c0f8566-1c6d-49b3-cb3e-ca1786159f43"
      },
      "outputs": [
        {
          "output_type": "execute_result",
          "data": {
            "text/plain": [
              "{'Jetta Variant': 88078.64,\n",
              " 'Crossfox': 72832.16,\n",
              " 'DS5': 124529.08,\n",
              " 'Passat': 106161.95}"
            ]
          },
          "metadata": {},
          "execution_count": 68
        }
      ],
      "source": [
        "del datosCopy['Fusca']\n",
        "datosCopy"
      ]
    },
    {
      "cell_type": "code",
      "execution_count": null,
      "metadata": {
        "id": "ETBD0TkND1AU",
        "colab": {
          "base_uri": "https://localhost:8080/"
        },
        "outputId": "cfc08d81-8335-4d4a-ce39-b7d314bec889"
      },
      "outputs": [
        {
          "output_type": "execute_result",
          "data": {
            "text/plain": [
              "{'Jetta Variant': 88078.64,\n",
              " 'Crossfox': 72832.16,\n",
              " 'DS5': 124529.08,\n",
              " 'Passat': 106161.95,\n",
              " 'Fusca': 150000}"
            ]
          },
          "metadata": {},
          "execution_count": 69
        }
      ],
      "source": [
        "datos"
      ]
    },
    {
      "cell_type": "markdown",
      "metadata": {
        "id": "mNODkmHCD1AV"
      },
      "source": [
        "## *dict.pop(key[, default ])*\n",
        "\n",
        "Si la llave se encuentra en el diccionario, el elemento se elimina y se devuelve su valor. De lo contrario, se devuelve el valor especificado como *default*. Si no se proporciona el valor *default* y la llave no se encuentra en el diccionario, se generará un error."
      ]
    },
    {
      "cell_type": "code",
      "execution_count": null,
      "metadata": {
        "id": "_4QEPwScD1AW",
        "colab": {
          "base_uri": "https://localhost:8080/"
        },
        "outputId": "e7276b18-2e3e-45b3-dce1-1ec16da207f9"
      },
      "outputs": [
        {
          "output_type": "execute_result",
          "data": {
            "text/plain": [
              "{'Jetta Variant': 88078.64,\n",
              " 'Crossfox': 72832.16,\n",
              " 'DS5': 124529.08,\n",
              " 'Passat': 106161.95}"
            ]
          },
          "metadata": {},
          "execution_count": 70
        }
      ],
      "source": [
        "datosCopy"
      ]
    },
    {
      "cell_type": "code",
      "execution_count": null,
      "metadata": {
        "id": "Hjh0MuymD1AX",
        "colab": {
          "base_uri": "https://localhost:8080/"
        },
        "outputId": "9ff52c5d-4c6b-499b-cdca-49e6e314eb1d"
      },
      "outputs": [
        {
          "output_type": "execute_result",
          "data": {
            "text/plain": [
              "106161.95"
            ]
          },
          "metadata": {},
          "execution_count": 71
        }
      ],
      "source": [
        "datosCopy.pop('Passat')"
      ]
    },
    {
      "cell_type": "code",
      "execution_count": null,
      "metadata": {
        "id": "f51rKjkuD1AX",
        "colab": {
          "base_uri": "https://localhost:8080/"
        },
        "outputId": "afacaa57-f0dc-402a-9541-395d663fe1ce"
      },
      "outputs": [
        {
          "output_type": "execute_result",
          "data": {
            "text/plain": [
              "{'Jetta Variant': 88078.64, 'Crossfox': 72832.16, 'DS5': 124529.08}"
            ]
          },
          "metadata": {},
          "execution_count": 72
        }
      ],
      "source": [
        "datosCopy"
      ]
    },
    {
      "cell_type": "code",
      "execution_count": null,
      "metadata": {
        "id": "Ah4sZ7axD1AZ",
        "colab": {
          "base_uri": "https://localhost:8080/",
          "height": 171
        },
        "outputId": "00c0c061-1149-455c-e7a5-6a7d41771342"
      },
      "outputs": [
        {
          "output_type": "error",
          "ename": "KeyError",
          "evalue": "ignored",
          "traceback": [
            "\u001b[0;31m---------------------------------------------------------------------------\u001b[0m",
            "\u001b[0;31mKeyError\u001b[0m                                  Traceback (most recent call last)",
            "\u001b[0;32m<ipython-input-73-6cf29ea99361>\u001b[0m in \u001b[0;36m<cell line: 1>\u001b[0;34m()\u001b[0m\n\u001b[0;32m----> 1\u001b[0;31m \u001b[0mdatosCopy\u001b[0m\u001b[0;34m.\u001b[0m\u001b[0mpop\u001b[0m\u001b[0;34m(\u001b[0m\u001b[0;34m'Passat'\u001b[0m\u001b[0;34m)\u001b[0m\u001b[0;34m\u001b[0m\u001b[0;34m\u001b[0m\u001b[0m\n\u001b[0m",
            "\u001b[0;31mKeyError\u001b[0m: 'Passat'"
          ]
        }
      ],
      "source": [
        "datosCopy.pop('Passat')"
      ]
    },
    {
      "cell_type": "code",
      "execution_count": null,
      "metadata": {
        "id": "SJATRY8RD1Aa",
        "colab": {
          "base_uri": "https://localhost:8080/",
          "height": 36
        },
        "outputId": "cfa62bbb-326c-429f-ba1d-db2e0d03a57a"
      },
      "outputs": [
        {
          "output_type": "execute_result",
          "data": {
            "text/plain": [
              "'Llave no fue encontrada'"
            ],
            "application/vnd.google.colaboratory.intrinsic+json": {
              "type": "string"
            }
          },
          "metadata": {},
          "execution_count": 74
        }
      ],
      "source": [
        "datosCopy.pop('Passat', 'Llave no fue encontrada')"
      ]
    },
    {
      "cell_type": "code",
      "execution_count": null,
      "metadata": {
        "id": "V36wHdzmD1Ab",
        "colab": {
          "base_uri": "https://localhost:8080/"
        },
        "outputId": "0e59a977-b705-4f88-9a00-1b3596ccc51a"
      },
      "outputs": [
        {
          "output_type": "execute_result",
          "data": {
            "text/plain": [
              "124529.08"
            ]
          },
          "metadata": {},
          "execution_count": 75
        }
      ],
      "source": [
        "datosCopy.pop('DS5', 'Llave no encontrada')"
      ]
    },
    {
      "cell_type": "code",
      "execution_count": null,
      "metadata": {
        "id": "LJ0lQIrdD1Ac",
        "colab": {
          "base_uri": "https://localhost:8080/"
        },
        "outputId": "c893f121-cd3c-442d-af17-0fb272652de3"
      },
      "outputs": [
        {
          "output_type": "execute_result",
          "data": {
            "text/plain": [
              "{'Jetta Variant': 88078.64, 'Crossfox': 72832.16}"
            ]
          },
          "metadata": {},
          "execution_count": 76
        }
      ],
      "source": [
        "datosCopy"
      ]
    },
    {
      "cell_type": "markdown",
      "metadata": {
        "id": "Q5J0R7d3D1Ag"
      },
      "source": [
        "## *dict.clear()*\n",
        "\n",
        "Borra todos los itens del diccionario."
      ]
    },
    {
      "cell_type": "code",
      "execution_count": null,
      "metadata": {
        "id": "AvkP_8mND1Ag"
      },
      "outputs": [],
      "source": [
        "datosCopy.clear()"
      ]
    },
    {
      "cell_type": "code",
      "execution_count": null,
      "metadata": {
        "id": "S69pMYboD1Ah",
        "colab": {
          "base_uri": "https://localhost:8080/"
        },
        "outputId": "c02e2084-364e-4270-b0b6-f3758e6da389"
      },
      "outputs": [
        {
          "output_type": "execute_result",
          "data": {
            "text/plain": [
              "{}"
            ]
          },
          "metadata": {},
          "execution_count": 78
        }
      ],
      "source": [
        "datosCopy"
      ]
    },
    {
      "cell_type": "markdown",
      "metadata": {
        "id": "QhoSRfPsD1Ai"
      },
      "source": [
        "# 3.4 Iterando en diccionarios"
      ]
    },
    {
      "cell_type": "code",
      "source": [
        "datos"
      ],
      "metadata": {
        "colab": {
          "base_uri": "https://localhost:8080/"
        },
        "id": "Bt6dY58HxzuJ",
        "outputId": "9fdec2dc-0e1b-41dc-9352-fb2f97a170ce"
      },
      "execution_count": null,
      "outputs": [
        {
          "output_type": "execute_result",
          "data": {
            "text/plain": [
              "{'Jetta Variant': 88078.64,\n",
              " 'Crossfox': 72832.16,\n",
              " 'DS5': 124529.08,\n",
              " 'Passat': 106161.95,\n",
              " 'Fusca': 150000}"
            ]
          },
          "metadata": {},
          "execution_count": 79
        }
      ]
    },
    {
      "cell_type": "markdown",
      "metadata": {
        "id": "E-agaqakD1Ai"
      },
      "source": [
        "## *dict.keys()*\n",
        "\n",
        "Devuelve una lista con las llaves (*keys*) del diccionario."
      ]
    },
    {
      "cell_type": "code",
      "execution_count": null,
      "metadata": {
        "id": "qFADEYmBD1Aj",
        "colab": {
          "base_uri": "https://localhost:8080/"
        },
        "outputId": "bb6a33a6-3126-4209-c917-ed64a879743b"
      },
      "outputs": [
        {
          "output_type": "execute_result",
          "data": {
            "text/plain": [
              "dict_keys(['Jetta Variant', 'Crossfox', 'DS5', 'Passat', 'Fusca'])"
            ]
          },
          "metadata": {},
          "execution_count": 80
        }
      ],
      "source": [
        "datos.keys()"
      ]
    },
    {
      "cell_type": "code",
      "execution_count": null,
      "metadata": {
        "id": "niwh9AgDD1Aj",
        "colab": {
          "base_uri": "https://localhost:8080/"
        },
        "outputId": "507647e0-3a89-4f5e-ed36-f28914d14fd1"
      },
      "outputs": [
        {
          "output_type": "stream",
          "name": "stdout",
          "text": [
            "Jetta Variant\n",
            "Crossfox\n",
            "DS5\n",
            "Passat\n",
            "Fusca\n"
          ]
        }
      ],
      "source": [
        "for key in datos.keys():\n",
        "  print(key)"
      ]
    },
    {
      "cell_type": "markdown",
      "metadata": {
        "id": "qFj6Cc7dD1Ak"
      },
      "source": [
        "## *dict.values()*\n",
        "\n",
        "Devuelve una lista con todos los valores (*values*) del diccionario."
      ]
    },
    {
      "cell_type": "code",
      "execution_count": null,
      "metadata": {
        "id": "nfpLxrQVD1Al",
        "colab": {
          "base_uri": "https://localhost:8080/"
        },
        "outputId": "9429ff43-4560-41bc-ca47-7ed771460c56"
      },
      "outputs": [
        {
          "output_type": "execute_result",
          "data": {
            "text/plain": [
              "dict_values([88078.64, 72832.16, 124529.08, 106161.95, 150000])"
            ]
          },
          "metadata": {},
          "execution_count": 82
        }
      ],
      "source": [
        "datos.values()"
      ]
    },
    {
      "cell_type": "markdown",
      "metadata": {
        "id": "-NGRwX0AD1Al"
      },
      "source": [
        "## *dict.items()*\n",
        "\n",
        "Devuelve una lista con una tupla para cada par llave-valor (*key-value*) del diccionario."
      ]
    },
    {
      "cell_type": "code",
      "execution_count": null,
      "metadata": {
        "id": "Q2I9_6YvD1Am",
        "colab": {
          "base_uri": "https://localhost:8080/"
        },
        "outputId": "34ef0fe3-cc5c-49b5-f348-140901423d58"
      },
      "outputs": [
        {
          "output_type": "execute_result",
          "data": {
            "text/plain": [
              "dict_items([('Jetta Variant', 88078.64), ('Crossfox', 72832.16), ('DS5', 124529.08), ('Passat', 106161.95), ('Fusca', 150000)])"
            ]
          },
          "metadata": {},
          "execution_count": 83
        }
      ],
      "source": [
        "datos.items()"
      ]
    },
    {
      "cell_type": "code",
      "execution_count": null,
      "metadata": {
        "id": "0j41ZqgQD1Am",
        "colab": {
          "base_uri": "https://localhost:8080/"
        },
        "outputId": "033f767e-f448-4d45-b81e-2a198773b386"
      },
      "outputs": [
        {
          "output_type": "stream",
          "name": "stdout",
          "text": [
            "('Jetta Variant', 88078.64)\n",
            "('Crossfox', 72832.16)\n",
            "('DS5', 124529.08)\n",
            "('Passat', 106161.95)\n",
            "('Fusca', 150000)\n"
          ]
        }
      ],
      "source": [
        "for item in datos.items():\n",
        "  print(item)"
      ]
    },
    {
      "cell_type": "code",
      "execution_count": null,
      "metadata": {
        "id": "OVY9rIwFD1An",
        "colab": {
          "base_uri": "https://localhost:8080/"
        },
        "outputId": "c791654e-27b1-49ab-9dc5-a01e1678bc30"
      },
      "outputs": [
        {
          "output_type": "stream",
          "name": "stdout",
          "text": [
            "Jetta Variant -> 88078.64\n",
            "Crossfox -> 72832.16\n",
            "DS5 -> 124529.08\n",
            "Passat -> 106161.95\n",
            "Fusca -> 150000\n"
          ]
        }
      ],
      "source": [
        "for key, value in datos.items():\n",
        "  print(key, '->', value)"
      ]
    },
    {
      "cell_type": "code",
      "execution_count": null,
      "metadata": {
        "id": "ma2Ol8vcD1Ap",
        "colab": {
          "base_uri": "https://localhost:8080/"
        },
        "outputId": "37282c2a-5812-4137-9698-71391b0e2dc0"
      },
      "outputs": [
        {
          "output_type": "stream",
          "name": "stdout",
          "text": [
            "DS5 -> 124529.08\n",
            "Passat -> 106161.95\n",
            "Fusca -> 150000\n"
          ]
        }
      ],
      "source": [
        "for key, value in datos.items():\n",
        "  if (value > 100000):\n",
        "    print(key, '->', value)"
      ]
    },
    {
      "cell_type": "code",
      "source": [
        "datos = {\n",
        "    'Crossfox': {'valor': 72000, 'año': 2005}, \n",
        "    'DS5': {'valor': 125000, 'año': 2015}, \n",
        "    'Fusca': {'valor': 150000, 'año': 1976}, \n",
        "    'Jetta': {'valor': 88000, 'año': 2010}, \n",
        "    'Passat': {'valor': 106000, 'año': 1998}\n",
        "}"
      ],
      "metadata": {
        "id": "G5ofErJBAfFE"
      },
      "execution_count": null,
      "outputs": []
    },
    {
      "cell_type": "code",
      "source": [
        "datos"
      ],
      "metadata": {
        "colab": {
          "base_uri": "https://localhost:8080/"
        },
        "id": "7My7i4cdAkUE",
        "outputId": "6e039ed6-3f4f-4407-a846-9504faadce0b"
      },
      "execution_count": null,
      "outputs": [
        {
          "output_type": "execute_result",
          "data": {
            "text/plain": [
              "{'Crossfox': {'valor': 72000, 'año': 2005},\n",
              " 'DS5': {'valor': 125000, 'año': 2015},\n",
              " 'Fusca': {'valor': 150000, 'año': 1976},\n",
              " 'Jetta': {'valor': 88000, 'año': 2010},\n",
              " 'Passat': {'valor': 106000, 'año': 1998}}"
            ]
          },
          "metadata": {},
          "execution_count": 89
        }
      ]
    },
    {
      "cell_type": "code",
      "source": [
        "for item in datos.items():\n",
        "    if(item[1]['año'] >= 2000):\n",
        "        print(item[0])"
      ],
      "metadata": {
        "colab": {
          "base_uri": "https://localhost:8080/"
        },
        "id": "7aHf_T5PAdXt",
        "outputId": "22d2d83b-1a1f-47ee-c7aa-7881e4bbd645"
      },
      "execution_count": null,
      "outputs": [
        {
          "output_type": "stream",
          "name": "stdout",
          "text": [
            "Crossfox\n",
            "DS5\n",
            "Jetta\n"
          ]
        }
      ]
    },
    {
      "cell_type": "markdown",
      "metadata": {
        "id": "-q3AlSg3D1Aq"
      },
      "source": [
        "# <font color=green> 4. FUNCIONES Y PAQUETES\n",
        "---\n",
        "\n",
        "Funciones son unidades de código reutilizables que realizan una tarea específica, pueden recibir alguna entrada y también pueden devolver algún resultado."
      ]
    },
    {
      "cell_type": "markdown",
      "metadata": {
        "id": "5CfEcU58D1Aq"
      },
      "source": [
        "# 4.1 Built-in function\n",
        "\n",
        "El lenguaje Python tiene varias funciones integradas que siempre están accesibles. Algunas ya las usamos en nuestro entrenamiento:\n",
        "type(), print(), zip(), len(), set() etc.\n",
        "\n",
        "https://docs.python.org/3.6/library/functions.html"
      ]
    },
    {
      "cell_type": "code",
      "execution_count": null,
      "metadata": {
        "id": "DP7cmY7xD1Aq",
        "colab": {
          "base_uri": "https://localhost:8080/"
        },
        "outputId": "d0127e1d-b36e-4952-ba23-4ed12edb518d"
      },
      "outputs": [
        {
          "output_type": "execute_result",
          "data": {
            "text/plain": [
              "{'Jetta Variant': 88078.64, 'Passat': 106161.94, 'Crossfox': 72832.16}"
            ]
          },
          "metadata": {},
          "execution_count": 92
        }
      ],
      "source": [
        "datos = {'Jetta Variant': 88078.64, 'Passat': 106161.94, 'Crossfox': 72832.16}\n",
        "datos"
      ]
    },
    {
      "cell_type": "code",
      "execution_count": null,
      "metadata": {
        "id": "5zAcGSCbD1Ar",
        "colab": {
          "base_uri": "https://localhost:8080/"
        },
        "outputId": "d4b251d2-1891-4768-99c5-fcff24be21c2"
      },
      "outputs": [
        {
          "output_type": "stream",
          "name": "stdout",
          "text": [
            "267072.74\n"
          ]
        }
      ],
      "source": [
        "valor = 0\n",
        "for key, value in datos.items():\n",
        "  valor += value\n",
        "print(valor)"
      ]
    },
    {
      "cell_type": "code",
      "execution_count": null,
      "metadata": {
        "id": "zG9_jU_1D1At",
        "colab": {
          "base_uri": "https://localhost:8080/"
        },
        "outputId": "3d607757-dcea-4210-e803-2286385afa8c"
      },
      "outputs": [
        {
          "output_type": "execute_result",
          "data": {
            "text/plain": [
              "[88078.64, 106161.94, 72832.16]"
            ]
          },
          "metadata": {},
          "execution_count": 98
        }
      ],
      "source": [
        "list(datos.values())"
      ]
    },
    {
      "cell_type": "code",
      "execution_count": null,
      "metadata": {
        "id": "jn0O3uXZD1Au",
        "colab": {
          "base_uri": "https://localhost:8080/"
        },
        "outputId": "db437e72-8801-4ad7-863a-d2f958c79472"
      },
      "outputs": [
        {
          "output_type": "execute_result",
          "data": {
            "text/plain": [
              "267072.74"
            ]
          },
          "metadata": {},
          "execution_count": 101
        }
      ],
      "source": [
        "sum(datos.values())"
      ]
    },
    {
      "cell_type": "code",
      "execution_count": null,
      "metadata": {
        "id": "lnUjKVnoD1Aw",
        "colab": {
          "base_uri": "https://localhost:8080/"
        },
        "outputId": "dbd86efc-cd3d-4c99-d6db-aff18d2e8b40"
      },
      "outputs": [
        {
          "output_type": "execute_result",
          "data": {
            "text/plain": [
              "1267072.7399999998"
            ]
          },
          "metadata": {},
          "execution_count": 102
        }
      ],
      "source": [
        "sum(datos.values(), 1000000)"
      ]
    },
    {
      "cell_type": "code",
      "execution_count": null,
      "metadata": {
        "id": "WdEuYXe2D1Ay",
        "scrolled": false,
        "colab": {
          "base_uri": "https://localhost:8080/"
        },
        "outputId": "1fce1ed0-9543-4df8-880d-f8697003dc36"
      },
      "outputs": [
        {
          "output_type": "stream",
          "name": "stdout",
          "text": [
            "Help on built-in function print in module builtins:\n",
            "\n",
            "print(...)\n",
            "    print(value, ..., sep=' ', end='\\n', file=sys.stdout, flush=False)\n",
            "    \n",
            "    Prints the values to a stream, or to sys.stdout by default.\n",
            "    Optional keyword arguments:\n",
            "    file:  a file-like object (stream); defaults to the current sys.stdout.\n",
            "    sep:   string inserted between values, default a space.\n",
            "    end:   string appended after the last value, default a newline.\n",
            "    flush: whether to forcibly flush the stream.\n",
            "\n"
          ]
        }
      ],
      "source": [
        "help(print)"
      ]
    },
    {
      "cell_type": "code",
      "execution_count": null,
      "metadata": {
        "id": "hIA29O3tD1Az"
      },
      "outputs": [],
      "source": [
        "print?"
      ]
    },
    {
      "cell_type": "markdown",
      "metadata": {
        "id": "6w62Sl5ZD1A0"
      },
      "source": [
        "# 4.2 Definiendo funciones sin y con parámetros"
      ]
    },
    {
      "cell_type": "markdown",
      "metadata": {
        "id": "OADZiBP2D1A0"
      },
      "source": [
        "### Funciones sin parámetros\n",
        "\n",
        "#### Formato estándar\n",
        "\n",
        "```\n",
        "def <nombre>():\n",
        "    <instrucciones>\n",
        "```"
      ]
    },
    {
      "cell_type": "code",
      "execution_count": null,
      "metadata": {
        "id": "uCkplEpQD1A0"
      },
      "outputs": [],
      "source": [
        "def media():\n",
        "  valor=(1+2+3)/3\n",
        "  print(valor)"
      ]
    },
    {
      "cell_type": "code",
      "execution_count": null,
      "metadata": {
        "id": "fOCEGq5VD1A1",
        "colab": {
          "base_uri": "https://localhost:8080/"
        },
        "outputId": "18496b97-44ee-4d23-8336-38636a78d384"
      },
      "outputs": [
        {
          "output_type": "stream",
          "name": "stdout",
          "text": [
            "2.0\n"
          ]
        }
      ],
      "source": [
        "media()"
      ]
    },
    {
      "cell_type": "markdown",
      "metadata": {
        "id": "PwSlYSVAD1A2"
      },
      "source": [
        "### Funciones con parámetros\n",
        "\n",
        "#### Formato estándar\n",
        "\n",
        "```\n",
        "def <nombre>(<param_1>, <param_2>, ..., <param_n>):\n",
        "    <instrucciones>\n",
        "```"
      ]
    },
    {
      "cell_type": "code",
      "execution_count": null,
      "metadata": {
        "id": "A3YnBUduD1A3"
      },
      "outputs": [],
      "source": [
        "def media(number_1, number_2, number_3):\n",
        "  valor=(number_1+number_2+number_3)/3\n",
        "  print(valor)"
      ]
    },
    {
      "cell_type": "code",
      "execution_count": null,
      "metadata": {
        "id": "rGUZbRERD1A3",
        "colab": {
          "base_uri": "https://localhost:8080/"
        },
        "outputId": "65fad7ba-452f-4ca8-8f28-87b8486b0327"
      },
      "outputs": [
        {
          "output_type": "stream",
          "name": "stdout",
          "text": [
            "2.0\n"
          ]
        }
      ],
      "source": [
        "media(1,2,3)"
      ]
    },
    {
      "cell_type": "code",
      "execution_count": null,
      "metadata": {
        "id": "B9WDlRE7D1A5",
        "colab": {
          "base_uri": "https://localhost:8080/"
        },
        "outputId": "c9570932-97b3-4cca-ac49-b9a9d9fc2617"
      },
      "outputs": [
        {
          "output_type": "stream",
          "name": "stdout",
          "text": [
            "40.0\n"
          ]
        }
      ],
      "source": [
        "media(10,50,60 )"
      ]
    },
    {
      "cell_type": "code",
      "execution_count": null,
      "metadata": {
        "id": "1HAy8OK_D1A6"
      },
      "outputs": [],
      "source": [
        "def media(lista):\n",
        "  valor=sum(lista) / len(lista)\n",
        "  print(valor)"
      ]
    },
    {
      "cell_type": "code",
      "execution_count": null,
      "metadata": {
        "id": "_CDa4oOfD1A6",
        "colab": {
          "base_uri": "https://localhost:8080/"
        },
        "outputId": "d2112334-4ce9-4df8-8cb9-fcd528ab38ec"
      },
      "outputs": [
        {
          "output_type": "stream",
          "name": "stdout",
          "text": [
            "4.5\n"
          ]
        }
      ],
      "source": [
        "media([1,2,3,4,5,6,7,8])"
      ]
    },
    {
      "cell_type": "code",
      "execution_count": null,
      "metadata": {
        "id": "xH-mxqYAD1A8",
        "colab": {
          "base_uri": "https://localhost:8080/"
        },
        "outputId": "f3bb7402-3001-439f-f531-968a5000c60a"
      },
      "outputs": [
        {
          "output_type": "stream",
          "name": "stdout",
          "text": [
            "4.5\n"
          ]
        }
      ],
      "source": [
        "resultado = media([1,2,3,4,5,6,7,8])"
      ]
    },
    {
      "cell_type": "code",
      "source": [
        "resultado"
      ],
      "metadata": {
        "id": "XiCxvEZj7FC3"
      },
      "execution_count": null,
      "outputs": []
    },
    {
      "cell_type": "code",
      "execution_count": null,
      "metadata": {
        "id": "WXXC_UidD1A8",
        "colab": {
          "base_uri": "https://localhost:8080/"
        },
        "outputId": "1b372eed-dedc-4788-cb44-4849daab6ac9"
      },
      "outputs": [
        {
          "output_type": "execute_result",
          "data": {
            "text/plain": [
              "NoneType"
            ]
          },
          "metadata": {},
          "execution_count": 13
        }
      ],
      "source": [
        "type(resultado)"
      ]
    },
    {
      "cell_type": "code",
      "source": [
        "datos = {\n",
        "    'Crossfox': {'km': 35000, 'año': 2005}, \n",
        "    'DS5': {'km': 17000, 'año': 2015}, \n",
        "    'Fusca': {'km': 130000, 'año': 1979}, \n",
        "    'Jetta': {'km': 56000, 'año': 2011}, \n",
        "    'Passat': {'km': 62000, 'año': 1999}\n",
        "}"
      ],
      "metadata": {
        "id": "0vXO1ha2_lQu"
      },
      "execution_count": null,
      "outputs": []
    },
    {
      "cell_type": "code",
      "source": [
        "def km_media(dataset, año_actual):\n",
        "    for item in dataset.items():\n",
        "        result = item[1]['km'] / (año_actual - item[1]['año'])\n",
        "        print(result)"
      ],
      "metadata": {
        "id": "Pk1vq-82_jB-"
      },
      "execution_count": null,
      "outputs": []
    },
    {
      "cell_type": "code",
      "source": [
        "km_media(datos, 2019)"
      ],
      "metadata": {
        "colab": {
          "base_uri": "https://localhost:8080/"
        },
        "id": "mWhnDHda_hUP",
        "outputId": "a3697a90-3823-4e49-f1c3-4988a5e1660f"
      },
      "execution_count": null,
      "outputs": [
        {
          "output_type": "stream",
          "name": "stdout",
          "text": [
            "2500.0\n",
            "4250.0\n",
            "3250.0\n",
            "7000.0\n",
            "3100.0\n"
          ]
        }
      ]
    },
    {
      "cell_type": "markdown",
      "metadata": {
        "id": "8zNYrmFbD1A9"
      },
      "source": [
        "# 4.3 Definiendo funciones que devuelven valores"
      ]
    },
    {
      "cell_type": "markdown",
      "metadata": {
        "id": "J44K-dMOD1A9"
      },
      "source": [
        "### Funciones que devuelven un valor\n",
        "\n",
        "#### Formato estándar\n",
        "\n",
        "```\n",
        "def <nombre>(<param_1>, <param_2>, ..., <param_n>):\n",
        "    <instrucciones>\n",
        "    return <resultado>\n",
        "```"
      ]
    },
    {
      "cell_type": "code",
      "execution_count": null,
      "metadata": {
        "id": "-UG42RQJD1A9"
      },
      "outputs": [],
      "source": [
        "media([1,2,3,4,5,6])"
      ]
    },
    {
      "cell_type": "code",
      "execution_count": null,
      "metadata": {
        "id": "VJwdvoT5D1A-",
        "colab": {
          "base_uri": "https://localhost:8080/"
        },
        "outputId": "0232386f-9193-4579-ab0e-6e44130a199d"
      },
      "outputs": [
        {
          "output_type": "stream",
          "name": "stdout",
          "text": [
            "3.5\n"
          ]
        }
      ],
      "source": [
        "media([1,2,3,4,5,6])"
      ]
    },
    {
      "cell_type": "code",
      "execution_count": null,
      "metadata": {
        "id": "AgAeJkpND1A-",
        "colab": {
          "base_uri": "https://localhost:8080/"
        },
        "outputId": "91267108-91ac-4830-981a-59e5e59e8d62"
      },
      "outputs": [
        {
          "output_type": "stream",
          "name": "stdout",
          "text": [
            "3.5\n"
          ]
        }
      ],
      "source": [
        "resultado = media([1,2,3,4,5,6])"
      ]
    },
    {
      "cell_type": "code",
      "execution_count": null,
      "metadata": {
        "id": "_r616TevD1A_"
      },
      "outputs": [],
      "source": [
        "resultado"
      ]
    },
    {
      "cell_type": "markdown",
      "metadata": {
        "id": "MQaK8GV5D1BA"
      },
      "source": [
        "### Funciones que devuelven más de un valor\n",
        "\n",
        "#### Formato estándar\n",
        "\n",
        "```\n",
        "def <nombre>(<param_1>, <param_2>, ..., <param_n>):\n",
        "    <instrucciones>\n",
        "    return (<resultado_1>, <resultado_2>, ..., <resultado_n>)\n",
        "```"
      ]
    },
    {
      "cell_type": "code",
      "execution_count": null,
      "metadata": {
        "id": "v0PUMegVD1BA"
      },
      "outputs": [],
      "source": [
        "def media(lista):\n",
        "  valor=sum(lista) / len(lista)\n",
        "  return(valor, len(lista))"
      ]
    },
    {
      "cell_type": "code",
      "execution_count": null,
      "metadata": {
        "id": "Ys-etom8D1BA",
        "colab": {
          "base_uri": "https://localhost:8080/"
        },
        "outputId": "f43f554a-0694-46a2-d2f1-b820a2e018eb"
      },
      "outputs": [
        {
          "output_type": "execute_result",
          "data": {
            "text/plain": [
              "(4.5, 8)"
            ]
          },
          "metadata": {},
          "execution_count": 33
        }
      ],
      "source": [
        "media([1,2,3,4,5,6,7,8])"
      ]
    },
    {
      "cell_type": "code",
      "execution_count": null,
      "metadata": {
        "id": "LERrvkMHD1BC"
      },
      "outputs": [],
      "source": [
        "#desenpacando\n",
        "resultado, n = media([1,2,3,4,5,6,7,8,9])"
      ]
    },
    {
      "cell_type": "code",
      "execution_count": null,
      "metadata": {
        "id": "sqoFOWSsD1BC",
        "colab": {
          "base_uri": "https://localhost:8080/"
        },
        "outputId": "4d7703b4-fd68-40f3-efec-34fa1461e8c8"
      },
      "outputs": [
        {
          "output_type": "execute_result",
          "data": {
            "text/plain": [
              "5.0"
            ]
          },
          "metadata": {},
          "execution_count": 41
        }
      ],
      "source": [
        " resultado"
      ]
    },
    {
      "cell_type": "code",
      "execution_count": null,
      "metadata": {
        "id": "NdB_Jyw_D1BD",
        "colab": {
          "base_uri": "https://localhost:8080/"
        },
        "outputId": "5b16bc2a-a7a2-49c7-a067-95e42b478f08"
      },
      "outputs": [
        {
          "output_type": "execute_result",
          "data": {
            "text/plain": [
              "9"
            ]
          },
          "metadata": {},
          "execution_count": 42
        }
      ],
      "source": [
        "n"
      ]
    },
    {
      "cell_type": "code",
      "source": [
        "datos = {\n",
        "    'Crossfox': {'km': 35000, 'año': 2005}, \n",
        "    'DS5': {'km': 17000, 'año': 2015}, \n",
        "    'Fusca': {'km': 130000, 'año': 1979}, \n",
        "    'Jetta': {'km': 56000, 'año': 2011}, \n",
        "    'Passat': {'km': 62000, 'año': 1999}\n",
        "}"
      ],
      "metadata": {
        "id": "rpGstp6vE997"
      },
      "execution_count": null,
      "outputs": []
    },
    {
      "cell_type": "code",
      "source": [
        "def km_media(dataset, año_actual):\n",
        "    result = {}\n",
        "    for item in dataset.items():\n",
        "        media = item[1]['km'] / (año_actual - item[1]['año'])\n",
        "        item[1].update({ 'km_media': media })\n",
        "        result.update({ item[0]: item[1] })\n",
        "    return result"
      ],
      "metadata": {
        "id": "0oc4_QPgFBPT"
      },
      "execution_count": null,
      "outputs": []
    },
    {
      "cell_type": "code",
      "source": [
        "km_media(datos, 2019)"
      ],
      "metadata": {
        "colab": {
          "base_uri": "https://localhost:8080/"
        },
        "id": "Mtre39DDE8ZD",
        "outputId": "a9b8594f-fe40-43ba-d1d8-47c84b99cf91"
      },
      "execution_count": null,
      "outputs": [
        {
          "output_type": "execute_result",
          "data": {
            "text/plain": [
              "{'Crossfox': {'km': 35000, 'año': 2005, 'km_media': 2500.0},\n",
              " 'DS5': {'km': 17000, 'año': 2015, 'km_media': 4250.0},\n",
              " 'Fusca': {'km': 130000, 'año': 1979, 'km_media': 3250.0},\n",
              " 'Jetta': {'km': 56000, 'año': 2011, 'km_media': 7000.0},\n",
              " 'Passat': {'km': 62000, 'año': 1999, 'km_media': 3100.0}}"
            ]
          },
          "metadata": {},
          "execution_count": 51
        }
      ]
    },
    {
      "cell_type": "markdown",
      "metadata": {
        "id": "uQ5lNnKrD1BD"
      },
      "source": [
        "# <font color=green> 5. PANDAS BÁSICO\n",
        "---\n",
        "\n",
        "**versión: 1.1.0**\n",
        "\n",
        "Pandas es una herramienta de manipulación de datos de alto nivel, construida sobre la base del paquete Numpy. El paquete pandas tiene estructuras de datos muy interesantes para la manipulación de datos y, por esto, es ampliamente utilizado por los científicos de datos.\n",
        "\n",
        "\n",
        "## Estructuras de Datos\n",
        "\n",
        "### Series\n",
        "\n",
        "Series son arrays unidimensionales etiquetados capaces de almacenar cualquier tipo de dato. Las etiquetas de las líneas se denominan **index**. La forma básica de crear una Series es la siguiente:\n",
        "\n",
        "\n",
        "```\n",
        "    s = pd.Series(datos, index = index)\n",
        "```\n",
        "\n",
        "El argumento *datos* puede ser un diccionario, una lista, un array Numpy o una constante.\n",
        "\n",
        "### DataFrames\n",
        "\n",
        "DataFrame es una estructura de datos tabular bidimensional con etiquetas de fila y columna. Como la Series, los DataFrames son capaces de almacenar cualquier tipo de datos.\n",
        "\n",
        "\n",
        "```\n",
        "    df = pd.DataFrame(datos, index = index, columns = columns)\n",
        "```\n",
        "\n",
        "El argumento *datos* puede ser un diccionario, una lista, un array Numpy, una Series y otro DataFrame.\n",
        "\n",
        "**Documentación:** https://pandas.pydata.org/pandas-docs/version/1.1.0/"
      ]
    },
    {
      "cell_type": "markdown",
      "metadata": {
        "id": "2qa7RC03D1BD"
      },
      "source": [
        "# 5.1 Estructuras de datos"
      ]
    },
    {
      "cell_type": "code",
      "execution_count": 4,
      "metadata": {
        "id": "4QyFDeS4D1BD"
      },
      "outputs": [],
      "source": [
        "import pandas as pd"
      ]
    },
    {
      "cell_type": "markdown",
      "metadata": {
        "id": "kIey8_OcD1BF"
      },
      "source": [
        "### Creando una Series a partir de una lista"
      ]
    },
    {
      "cell_type": "code",
      "execution_count": null,
      "metadata": {
        "id": "yEZR6DWiD1BF",
        "colab": {
          "base_uri": "https://localhost:8080/"
        },
        "outputId": "9e0cedee-e58e-4d54-a37b-7d074ea550aa"
      },
      "outputs": [
        {
          "output_type": "execute_result",
          "data": {
            "text/plain": [
              "['Jetta Variant', 'Passat', 'Crossfox']"
            ]
          },
          "metadata": {},
          "execution_count": 53
        }
      ],
      "source": [
        "carros = ['Jetta Variant', 'Passat', 'Crossfox']\n",
        "carros"
      ]
    },
    {
      "cell_type": "code",
      "execution_count": null,
      "metadata": {
        "id": "rLudWKZ_D1BF",
        "colab": {
          "base_uri": "https://localhost:8080/"
        },
        "outputId": "91b5cd6d-ffb6-4a82-fc21-7588950e8ce3"
      },
      "outputs": [
        {
          "output_type": "execute_result",
          "data": {
            "text/plain": [
              "0    Jetta Variant\n",
              "1           Passat\n",
              "2         Crossfox\n",
              "dtype: object"
            ]
          },
          "metadata": {},
          "execution_count": 54
        }
      ],
      "source": [
        "pd.Series(carros)"
      ]
    },
    {
      "cell_type": "markdown",
      "metadata": {
        "id": "VYVIKd1-D1BG"
      },
      "source": [
        "### Creando un DataFrame a partir de una lista de diccionarios"
      ]
    },
    {
      "cell_type": "code",
      "execution_count": null,
      "metadata": {
        "id": "QFNS9PckD1BG"
      },
      "outputs": [],
      "source": [
        "datos = [\n",
        "    {'Nombre': 'Jetta Variant', 'Motor': 'Motor 4.0 Turbo', 'Año': 2003, 'Kilometraje': 44410.0, 'Cero_km': False, 'Valor': 88078.64},\n",
        "    {'Nombre': 'Passat', 'Motor': 'Motor Diesel', 'Año': 1991, 'Kilometraje': 5712.0, 'Cero_km': False, 'Valor': 106161.94},\n",
        "    {'Nombre': 'Crossfox', 'Motor': 'Motor Diesel V8', 'Año': 1990, 'Kilometraje': 37123.0, 'Cero_km': False, 'Valor': 72832.16}\n",
        "]"
      ]
    },
    {
      "cell_type": "code",
      "execution_count": null,
      "metadata": {
        "id": "WDQb9AnKD1BH"
      },
      "outputs": [],
      "source": [
        "dataset =pd.DataFrame(datos)"
      ]
    },
    {
      "cell_type": "code",
      "execution_count": null,
      "metadata": {
        "id": "-2-jGvmGD1BI",
        "colab": {
          "base_uri": "https://localhost:8080/",
          "height": 143
        },
        "outputId": "d6074bf7-0eca-47e6-ed0d-e4521ce1a63b"
      },
      "outputs": [
        {
          "output_type": "execute_result",
          "data": {
            "text/plain": [
              "          Nombre            Motor   Año  Kilometraje  Cero_km      Valor\n",
              "0  Jetta Variant  Motor 4.0 Turbo  2003      44410.0    False   88078.64\n",
              "1         Passat     Motor Diesel  1991       5712.0    False  106161.94\n",
              "2       Crossfox  Motor Diesel V8  1990      37123.0    False   72832.16"
            ],
            "text/html": [
              "\n",
              "  <div id=\"df-42990fdf-86ca-4cb0-a11b-ef236ce02df0\">\n",
              "    <div class=\"colab-df-container\">\n",
              "      <div>\n",
              "<style scoped>\n",
              "    .dataframe tbody tr th:only-of-type {\n",
              "        vertical-align: middle;\n",
              "    }\n",
              "\n",
              "    .dataframe tbody tr th {\n",
              "        vertical-align: top;\n",
              "    }\n",
              "\n",
              "    .dataframe thead th {\n",
              "        text-align: right;\n",
              "    }\n",
              "</style>\n",
              "<table border=\"1\" class=\"dataframe\">\n",
              "  <thead>\n",
              "    <tr style=\"text-align: right;\">\n",
              "      <th></th>\n",
              "      <th>Nombre</th>\n",
              "      <th>Motor</th>\n",
              "      <th>Año</th>\n",
              "      <th>Kilometraje</th>\n",
              "      <th>Cero_km</th>\n",
              "      <th>Valor</th>\n",
              "    </tr>\n",
              "  </thead>\n",
              "  <tbody>\n",
              "    <tr>\n",
              "      <th>0</th>\n",
              "      <td>Jetta Variant</td>\n",
              "      <td>Motor 4.0 Turbo</td>\n",
              "      <td>2003</td>\n",
              "      <td>44410.0</td>\n",
              "      <td>False</td>\n",
              "      <td>88078.64</td>\n",
              "    </tr>\n",
              "    <tr>\n",
              "      <th>1</th>\n",
              "      <td>Passat</td>\n",
              "      <td>Motor Diesel</td>\n",
              "      <td>1991</td>\n",
              "      <td>5712.0</td>\n",
              "      <td>False</td>\n",
              "      <td>106161.94</td>\n",
              "    </tr>\n",
              "    <tr>\n",
              "      <th>2</th>\n",
              "      <td>Crossfox</td>\n",
              "      <td>Motor Diesel V8</td>\n",
              "      <td>1990</td>\n",
              "      <td>37123.0</td>\n",
              "      <td>False</td>\n",
              "      <td>72832.16</td>\n",
              "    </tr>\n",
              "  </tbody>\n",
              "</table>\n",
              "</div>\n",
              "      <button class=\"colab-df-convert\" onclick=\"convertToInteractive('df-42990fdf-86ca-4cb0-a11b-ef236ce02df0')\"\n",
              "              title=\"Convert this dataframe to an interactive table.\"\n",
              "              style=\"display:none;\">\n",
              "        \n",
              "  <svg xmlns=\"http://www.w3.org/2000/svg\" height=\"24px\"viewBox=\"0 0 24 24\"\n",
              "       width=\"24px\">\n",
              "    <path d=\"M0 0h24v24H0V0z\" fill=\"none\"/>\n",
              "    <path d=\"M18.56 5.44l.94 2.06.94-2.06 2.06-.94-2.06-.94-.94-2.06-.94 2.06-2.06.94zm-11 1L8.5 8.5l.94-2.06 2.06-.94-2.06-.94L8.5 2.5l-.94 2.06-2.06.94zm10 10l.94 2.06.94-2.06 2.06-.94-2.06-.94-.94-2.06-.94 2.06-2.06.94z\"/><path d=\"M17.41 7.96l-1.37-1.37c-.4-.4-.92-.59-1.43-.59-.52 0-1.04.2-1.43.59L10.3 9.45l-7.72 7.72c-.78.78-.78 2.05 0 2.83L4 21.41c.39.39.9.59 1.41.59.51 0 1.02-.2 1.41-.59l7.78-7.78 2.81-2.81c.8-.78.8-2.07 0-2.86zM5.41 20L4 18.59l7.72-7.72 1.47 1.35L5.41 20z\"/>\n",
              "  </svg>\n",
              "      </button>\n",
              "      \n",
              "  <style>\n",
              "    .colab-df-container {\n",
              "      display:flex;\n",
              "      flex-wrap:wrap;\n",
              "      gap: 12px;\n",
              "    }\n",
              "\n",
              "    .colab-df-convert {\n",
              "      background-color: #E8F0FE;\n",
              "      border: none;\n",
              "      border-radius: 50%;\n",
              "      cursor: pointer;\n",
              "      display: none;\n",
              "      fill: #1967D2;\n",
              "      height: 32px;\n",
              "      padding: 0 0 0 0;\n",
              "      width: 32px;\n",
              "    }\n",
              "\n",
              "    .colab-df-convert:hover {\n",
              "      background-color: #E2EBFA;\n",
              "      box-shadow: 0px 1px 2px rgba(60, 64, 67, 0.3), 0px 1px 3px 1px rgba(60, 64, 67, 0.15);\n",
              "      fill: #174EA6;\n",
              "    }\n",
              "\n",
              "    [theme=dark] .colab-df-convert {\n",
              "      background-color: #3B4455;\n",
              "      fill: #D2E3FC;\n",
              "    }\n",
              "\n",
              "    [theme=dark] .colab-df-convert:hover {\n",
              "      background-color: #434B5C;\n",
              "      box-shadow: 0px 1px 3px 1px rgba(0, 0, 0, 0.15);\n",
              "      filter: drop-shadow(0px 1px 2px rgba(0, 0, 0, 0.3));\n",
              "      fill: #FFFFFF;\n",
              "    }\n",
              "  </style>\n",
              "\n",
              "      <script>\n",
              "        const buttonEl =\n",
              "          document.querySelector('#df-42990fdf-86ca-4cb0-a11b-ef236ce02df0 button.colab-df-convert');\n",
              "        buttonEl.style.display =\n",
              "          google.colab.kernel.accessAllowed ? 'block' : 'none';\n",
              "\n",
              "        async function convertToInteractive(key) {\n",
              "          const element = document.querySelector('#df-42990fdf-86ca-4cb0-a11b-ef236ce02df0');\n",
              "          const dataTable =\n",
              "            await google.colab.kernel.invokeFunction('convertToInteractive',\n",
              "                                                     [key], {});\n",
              "          if (!dataTable) return;\n",
              "\n",
              "          const docLinkHtml = 'Like what you see? Visit the ' +\n",
              "            '<a target=\"_blank\" href=https://colab.research.google.com/notebooks/data_table.ipynb>data table notebook</a>'\n",
              "            + ' to learn more about interactive tables.';\n",
              "          element.innerHTML = '';\n",
              "          dataTable['output_type'] = 'display_data';\n",
              "          await google.colab.output.renderOutput(dataTable, element);\n",
              "          const docLink = document.createElement('div');\n",
              "          docLink.innerHTML = docLinkHtml;\n",
              "          element.appendChild(docLink);\n",
              "        }\n",
              "      </script>\n",
              "    </div>\n",
              "  </div>\n",
              "  "
            ]
          },
          "metadata": {},
          "execution_count": 57
        }
      ],
      "source": [
        "dataset"
      ]
    },
    {
      "cell_type": "code",
      "execution_count": null,
      "metadata": {
        "id": "2kbyOThiD1BJ",
        "colab": {
          "base_uri": "https://localhost:8080/",
          "height": 143
        },
        "outputId": "cd82969d-8804-4d2b-9d06-1d06a1f657bf"
      },
      "outputs": [
        {
          "output_type": "execute_result",
          "data": {
            "text/plain": [
              "          Nombre   Año            Motor  Kilometraje  Cero_km      Valor\n",
              "0  Jetta Variant  2003  Motor 4.0 Turbo      44410.0    False   88078.64\n",
              "1         Passat  1991     Motor Diesel       5712.0    False  106161.94\n",
              "2       Crossfox  1990  Motor Diesel V8      37123.0    False   72832.16"
            ],
            "text/html": [
              "\n",
              "  <div id=\"df-9b97f5e5-c530-4c22-8159-916e8f337a97\">\n",
              "    <div class=\"colab-df-container\">\n",
              "      <div>\n",
              "<style scoped>\n",
              "    .dataframe tbody tr th:only-of-type {\n",
              "        vertical-align: middle;\n",
              "    }\n",
              "\n",
              "    .dataframe tbody tr th {\n",
              "        vertical-align: top;\n",
              "    }\n",
              "\n",
              "    .dataframe thead th {\n",
              "        text-align: right;\n",
              "    }\n",
              "</style>\n",
              "<table border=\"1\" class=\"dataframe\">\n",
              "  <thead>\n",
              "    <tr style=\"text-align: right;\">\n",
              "      <th></th>\n",
              "      <th>Nombre</th>\n",
              "      <th>Año</th>\n",
              "      <th>Motor</th>\n",
              "      <th>Kilometraje</th>\n",
              "      <th>Cero_km</th>\n",
              "      <th>Valor</th>\n",
              "    </tr>\n",
              "  </thead>\n",
              "  <tbody>\n",
              "    <tr>\n",
              "      <th>0</th>\n",
              "      <td>Jetta Variant</td>\n",
              "      <td>2003</td>\n",
              "      <td>Motor 4.0 Turbo</td>\n",
              "      <td>44410.0</td>\n",
              "      <td>False</td>\n",
              "      <td>88078.64</td>\n",
              "    </tr>\n",
              "    <tr>\n",
              "      <th>1</th>\n",
              "      <td>Passat</td>\n",
              "      <td>1991</td>\n",
              "      <td>Motor Diesel</td>\n",
              "      <td>5712.0</td>\n",
              "      <td>False</td>\n",
              "      <td>106161.94</td>\n",
              "    </tr>\n",
              "    <tr>\n",
              "      <th>2</th>\n",
              "      <td>Crossfox</td>\n",
              "      <td>1990</td>\n",
              "      <td>Motor Diesel V8</td>\n",
              "      <td>37123.0</td>\n",
              "      <td>False</td>\n",
              "      <td>72832.16</td>\n",
              "    </tr>\n",
              "  </tbody>\n",
              "</table>\n",
              "</div>\n",
              "      <button class=\"colab-df-convert\" onclick=\"convertToInteractive('df-9b97f5e5-c530-4c22-8159-916e8f337a97')\"\n",
              "              title=\"Convert this dataframe to an interactive table.\"\n",
              "              style=\"display:none;\">\n",
              "        \n",
              "  <svg xmlns=\"http://www.w3.org/2000/svg\" height=\"24px\"viewBox=\"0 0 24 24\"\n",
              "       width=\"24px\">\n",
              "    <path d=\"M0 0h24v24H0V0z\" fill=\"none\"/>\n",
              "    <path d=\"M18.56 5.44l.94 2.06.94-2.06 2.06-.94-2.06-.94-.94-2.06-.94 2.06-2.06.94zm-11 1L8.5 8.5l.94-2.06 2.06-.94-2.06-.94L8.5 2.5l-.94 2.06-2.06.94zm10 10l.94 2.06.94-2.06 2.06-.94-2.06-.94-.94-2.06-.94 2.06-2.06.94z\"/><path d=\"M17.41 7.96l-1.37-1.37c-.4-.4-.92-.59-1.43-.59-.52 0-1.04.2-1.43.59L10.3 9.45l-7.72 7.72c-.78.78-.78 2.05 0 2.83L4 21.41c.39.39.9.59 1.41.59.51 0 1.02-.2 1.41-.59l7.78-7.78 2.81-2.81c.8-.78.8-2.07 0-2.86zM5.41 20L4 18.59l7.72-7.72 1.47 1.35L5.41 20z\"/>\n",
              "  </svg>\n",
              "      </button>\n",
              "      \n",
              "  <style>\n",
              "    .colab-df-container {\n",
              "      display:flex;\n",
              "      flex-wrap:wrap;\n",
              "      gap: 12px;\n",
              "    }\n",
              "\n",
              "    .colab-df-convert {\n",
              "      background-color: #E8F0FE;\n",
              "      border: none;\n",
              "      border-radius: 50%;\n",
              "      cursor: pointer;\n",
              "      display: none;\n",
              "      fill: #1967D2;\n",
              "      height: 32px;\n",
              "      padding: 0 0 0 0;\n",
              "      width: 32px;\n",
              "    }\n",
              "\n",
              "    .colab-df-convert:hover {\n",
              "      background-color: #E2EBFA;\n",
              "      box-shadow: 0px 1px 2px rgba(60, 64, 67, 0.3), 0px 1px 3px 1px rgba(60, 64, 67, 0.15);\n",
              "      fill: #174EA6;\n",
              "    }\n",
              "\n",
              "    [theme=dark] .colab-df-convert {\n",
              "      background-color: #3B4455;\n",
              "      fill: #D2E3FC;\n",
              "    }\n",
              "\n",
              "    [theme=dark] .colab-df-convert:hover {\n",
              "      background-color: #434B5C;\n",
              "      box-shadow: 0px 1px 3px 1px rgba(0, 0, 0, 0.15);\n",
              "      filter: drop-shadow(0px 1px 2px rgba(0, 0, 0, 0.3));\n",
              "      fill: #FFFFFF;\n",
              "    }\n",
              "  </style>\n",
              "\n",
              "      <script>\n",
              "        const buttonEl =\n",
              "          document.querySelector('#df-9b97f5e5-c530-4c22-8159-916e8f337a97 button.colab-df-convert');\n",
              "        buttonEl.style.display =\n",
              "          google.colab.kernel.accessAllowed ? 'block' : 'none';\n",
              "\n",
              "        async function convertToInteractive(key) {\n",
              "          const element = document.querySelector('#df-9b97f5e5-c530-4c22-8159-916e8f337a97');\n",
              "          const dataTable =\n",
              "            await google.colab.kernel.invokeFunction('convertToInteractive',\n",
              "                                                     [key], {});\n",
              "          if (!dataTable) return;\n",
              "\n",
              "          const docLinkHtml = 'Like what you see? Visit the ' +\n",
              "            '<a target=\"_blank\" href=https://colab.research.google.com/notebooks/data_table.ipynb>data table notebook</a>'\n",
              "            + ' to learn more about interactive tables.';\n",
              "          element.innerHTML = '';\n",
              "          dataTable['output_type'] = 'display_data';\n",
              "          await google.colab.output.renderOutput(dataTable, element);\n",
              "          const docLink = document.createElement('div');\n",
              "          docLink.innerHTML = docLinkHtml;\n",
              "          element.appendChild(docLink);\n",
              "        }\n",
              "      </script>\n",
              "    </div>\n",
              "  </div>\n",
              "  "
            ]
          },
          "metadata": {},
          "execution_count": 60
        }
      ],
      "source": [
        "#cambiando orden de encabezados\n",
        "dataset[['Nombre', 'Año', 'Motor', 'Kilometraje', 'Cero_km', 'Valor']]"
      ]
    },
    {
      "cell_type": "markdown",
      "metadata": {
        "id": "pJK2tQgYD1BK"
      },
      "source": [
        "### Creando un DataFrame a partir de un diccionario"
      ]
    },
    {
      "cell_type": "code",
      "execution_count": null,
      "metadata": {
        "id": "WKNQwKucD1BK"
      },
      "outputs": [],
      "source": [
        "datos = {\n",
        "    'Nombre': ['Jetta Variant', 'Passat', 'Crossfox'], \n",
        "    'Motor': ['Motor 4.0 Turbo', 'Motor Diesel', 'Motor Diesel V8'],\n",
        "    'Año': [2003, 1991, 1990],\n",
        "    'Kilometraje': [44410.0, 5712.0, 37123.0],\n",
        "    'Cero_km': [False, False, False],\n",
        "    'Valor': [88078.64, 106161.94, 72832.16]\n",
        "}"
      ]
    },
    {
      "cell_type": "code",
      "execution_count": null,
      "metadata": {
        "id": "lKnuZfzcD1BK"
      },
      "outputs": [],
      "source": [
        "dataset = pd.DataFrame(datos)"
      ]
    },
    {
      "cell_type": "code",
      "execution_count": null,
      "metadata": {
        "id": "PNqTytC-D1BL",
        "colab": {
          "base_uri": "https://localhost:8080/",
          "height": 143
        },
        "outputId": "65d7a136-c2c8-4406-cdeb-1d141610299d"
      },
      "outputs": [
        {
          "output_type": "execute_result",
          "data": {
            "text/plain": [
              "          Nombre            Motor   Año  Kilometraje  Cero_km      Valor\n",
              "0  Jetta Variant  Motor 4.0 Turbo  2003      44410.0    False   88078.64\n",
              "1         Passat     Motor Diesel  1991       5712.0    False  106161.94\n",
              "2       Crossfox  Motor Diesel V8  1990      37123.0    False   72832.16"
            ],
            "text/html": [
              "\n",
              "  <div id=\"df-4585811f-a5a1-4fad-9fe0-baec15fa8484\">\n",
              "    <div class=\"colab-df-container\">\n",
              "      <div>\n",
              "<style scoped>\n",
              "    .dataframe tbody tr th:only-of-type {\n",
              "        vertical-align: middle;\n",
              "    }\n",
              "\n",
              "    .dataframe tbody tr th {\n",
              "        vertical-align: top;\n",
              "    }\n",
              "\n",
              "    .dataframe thead th {\n",
              "        text-align: right;\n",
              "    }\n",
              "</style>\n",
              "<table border=\"1\" class=\"dataframe\">\n",
              "  <thead>\n",
              "    <tr style=\"text-align: right;\">\n",
              "      <th></th>\n",
              "      <th>Nombre</th>\n",
              "      <th>Motor</th>\n",
              "      <th>Año</th>\n",
              "      <th>Kilometraje</th>\n",
              "      <th>Cero_km</th>\n",
              "      <th>Valor</th>\n",
              "    </tr>\n",
              "  </thead>\n",
              "  <tbody>\n",
              "    <tr>\n",
              "      <th>0</th>\n",
              "      <td>Jetta Variant</td>\n",
              "      <td>Motor 4.0 Turbo</td>\n",
              "      <td>2003</td>\n",
              "      <td>44410.0</td>\n",
              "      <td>False</td>\n",
              "      <td>88078.64</td>\n",
              "    </tr>\n",
              "    <tr>\n",
              "      <th>1</th>\n",
              "      <td>Passat</td>\n",
              "      <td>Motor Diesel</td>\n",
              "      <td>1991</td>\n",
              "      <td>5712.0</td>\n",
              "      <td>False</td>\n",
              "      <td>106161.94</td>\n",
              "    </tr>\n",
              "    <tr>\n",
              "      <th>2</th>\n",
              "      <td>Crossfox</td>\n",
              "      <td>Motor Diesel V8</td>\n",
              "      <td>1990</td>\n",
              "      <td>37123.0</td>\n",
              "      <td>False</td>\n",
              "      <td>72832.16</td>\n",
              "    </tr>\n",
              "  </tbody>\n",
              "</table>\n",
              "</div>\n",
              "      <button class=\"colab-df-convert\" onclick=\"convertToInteractive('df-4585811f-a5a1-4fad-9fe0-baec15fa8484')\"\n",
              "              title=\"Convert this dataframe to an interactive table.\"\n",
              "              style=\"display:none;\">\n",
              "        \n",
              "  <svg xmlns=\"http://www.w3.org/2000/svg\" height=\"24px\"viewBox=\"0 0 24 24\"\n",
              "       width=\"24px\">\n",
              "    <path d=\"M0 0h24v24H0V0z\" fill=\"none\"/>\n",
              "    <path d=\"M18.56 5.44l.94 2.06.94-2.06 2.06-.94-2.06-.94-.94-2.06-.94 2.06-2.06.94zm-11 1L8.5 8.5l.94-2.06 2.06-.94-2.06-.94L8.5 2.5l-.94 2.06-2.06.94zm10 10l.94 2.06.94-2.06 2.06-.94-2.06-.94-.94-2.06-.94 2.06-2.06.94z\"/><path d=\"M17.41 7.96l-1.37-1.37c-.4-.4-.92-.59-1.43-.59-.52 0-1.04.2-1.43.59L10.3 9.45l-7.72 7.72c-.78.78-.78 2.05 0 2.83L4 21.41c.39.39.9.59 1.41.59.51 0 1.02-.2 1.41-.59l7.78-7.78 2.81-2.81c.8-.78.8-2.07 0-2.86zM5.41 20L4 18.59l7.72-7.72 1.47 1.35L5.41 20z\"/>\n",
              "  </svg>\n",
              "      </button>\n",
              "      \n",
              "  <style>\n",
              "    .colab-df-container {\n",
              "      display:flex;\n",
              "      flex-wrap:wrap;\n",
              "      gap: 12px;\n",
              "    }\n",
              "\n",
              "    .colab-df-convert {\n",
              "      background-color: #E8F0FE;\n",
              "      border: none;\n",
              "      border-radius: 50%;\n",
              "      cursor: pointer;\n",
              "      display: none;\n",
              "      fill: #1967D2;\n",
              "      height: 32px;\n",
              "      padding: 0 0 0 0;\n",
              "      width: 32px;\n",
              "    }\n",
              "\n",
              "    .colab-df-convert:hover {\n",
              "      background-color: #E2EBFA;\n",
              "      box-shadow: 0px 1px 2px rgba(60, 64, 67, 0.3), 0px 1px 3px 1px rgba(60, 64, 67, 0.15);\n",
              "      fill: #174EA6;\n",
              "    }\n",
              "\n",
              "    [theme=dark] .colab-df-convert {\n",
              "      background-color: #3B4455;\n",
              "      fill: #D2E3FC;\n",
              "    }\n",
              "\n",
              "    [theme=dark] .colab-df-convert:hover {\n",
              "      background-color: #434B5C;\n",
              "      box-shadow: 0px 1px 3px 1px rgba(0, 0, 0, 0.15);\n",
              "      filter: drop-shadow(0px 1px 2px rgba(0, 0, 0, 0.3));\n",
              "      fill: #FFFFFF;\n",
              "    }\n",
              "  </style>\n",
              "\n",
              "      <script>\n",
              "        const buttonEl =\n",
              "          document.querySelector('#df-4585811f-a5a1-4fad-9fe0-baec15fa8484 button.colab-df-convert');\n",
              "        buttonEl.style.display =\n",
              "          google.colab.kernel.accessAllowed ? 'block' : 'none';\n",
              "\n",
              "        async function convertToInteractive(key) {\n",
              "          const element = document.querySelector('#df-4585811f-a5a1-4fad-9fe0-baec15fa8484');\n",
              "          const dataTable =\n",
              "            await google.colab.kernel.invokeFunction('convertToInteractive',\n",
              "                                                     [key], {});\n",
              "          if (!dataTable) return;\n",
              "\n",
              "          const docLinkHtml = 'Like what you see? Visit the ' +\n",
              "            '<a target=\"_blank\" href=https://colab.research.google.com/notebooks/data_table.ipynb>data table notebook</a>'\n",
              "            + ' to learn more about interactive tables.';\n",
              "          element.innerHTML = '';\n",
              "          dataTable['output_type'] = 'display_data';\n",
              "          await google.colab.output.renderOutput(dataTable, element);\n",
              "          const docLink = document.createElement('div');\n",
              "          docLink.innerHTML = docLinkHtml;\n",
              "          element.appendChild(docLink);\n",
              "        }\n",
              "      </script>\n",
              "    </div>\n",
              "  </div>\n",
              "  "
            ]
          },
          "metadata": {},
          "execution_count": 65
        }
      ],
      "source": [
        "dataset"
      ]
    },
    {
      "cell_type": "markdown",
      "metadata": {
        "id": "fCCXs0reD1BL"
      },
      "source": [
        "### Creando un DataFrame a partir de un archivo externo"
      ]
    },
    {
      "cell_type": "code",
      "execution_count": 5,
      "metadata": {
        "id": "78PRHGeZD1BL"
      },
      "outputs": [],
      "source": [
        "dataset = pd.read_csv('db.csv', sep =';')"
      ]
    },
    {
      "cell_type": "code",
      "execution_count": 6,
      "metadata": {
        "id": "1o1YlnVPD1BM",
        "scrolled": true,
        "colab": {
          "base_uri": "https://localhost:8080/",
          "height": 423
        },
        "outputId": "53a940d7-e33a-4973-a543-35a0c886a5e1"
      },
      "outputs": [
        {
          "output_type": "execute_result",
          "data": {
            "text/plain": [
              "                    Nombre                  Motor   Año  Kilometraje  Cero_km  \\\n",
              "0            Jetta Variant        Motor 4.0 Turbo  2003      44410.0    False   \n",
              "1                   Passat           Motor Diesel  1991       5712.0    False   \n",
              "2                 Crossfox        Motor Diesel V8  1990      37123.0    False   \n",
              "3                      DS5        Motor 2.4 Turbo  2019          NaN     True   \n",
              "4         Aston Martin DB4        Motor 2.4 Turbo  2006      25757.0    False   \n",
              "..                     ...                    ...   ...          ...      ...   \n",
              "253           Phantom 2013               Motor V8  2014      27505.0    False   \n",
              "254  Cadillac Ciel concept               Motor V8  1991      29981.0    False   \n",
              "255             Classe GLK  Motor 5.0 V8 Bi-Turbo  2002      52637.0    False   \n",
              "256       Aston Martin DB5           Motor Diesel  1996       7685.0    False   \n",
              "257                  Macan        Motor Diesel V6  1992      50188.0    False   \n",
              "\n",
              "                                            Accesorios      Valor  \n",
              "0    ['Llantas de aleación', 'Cerraduras electricas...   88078.64  \n",
              "1    ['Central multimedia', 'Techo panorámico', 'Fr...  106161.94  \n",
              "2    ['Piloto automático', 'Control de estabilidad'...   72832.16  \n",
              "3    ['Cerraduras electricas', '4 X 4', 'Ventanas e...  124549.07  \n",
              "4    ['Llantas de aleación', '4 X 4', 'Central mult...   92612.10  \n",
              "..                                                 ...        ...  \n",
              "253  ['Control de estabilidad', 'Piloto automático'...   51759.58  \n",
              "254  ['Asientos de cuero', 'Panel digital', 'Sensor...   51667.06  \n",
              "255  ['Llantas de aleación', 'Control de tracción',...   68934.03  \n",
              "256  ['Aire condicionado', '4 X 4', 'Transmisión au...  122110.90  \n",
              "257  ['Central multimedia', 'Techo panorámico', 'Ve...   90381.47  \n",
              "\n",
              "[258 rows x 7 columns]"
            ],
            "text/html": [
              "\n",
              "  <div id=\"df-018c8a54-6e6a-4df9-9987-60e0ac45c005\">\n",
              "    <div class=\"colab-df-container\">\n",
              "      <div>\n",
              "<style scoped>\n",
              "    .dataframe tbody tr th:only-of-type {\n",
              "        vertical-align: middle;\n",
              "    }\n",
              "\n",
              "    .dataframe tbody tr th {\n",
              "        vertical-align: top;\n",
              "    }\n",
              "\n",
              "    .dataframe thead th {\n",
              "        text-align: right;\n",
              "    }\n",
              "</style>\n",
              "<table border=\"1\" class=\"dataframe\">\n",
              "  <thead>\n",
              "    <tr style=\"text-align: right;\">\n",
              "      <th></th>\n",
              "      <th>Nombre</th>\n",
              "      <th>Motor</th>\n",
              "      <th>Año</th>\n",
              "      <th>Kilometraje</th>\n",
              "      <th>Cero_km</th>\n",
              "      <th>Accesorios</th>\n",
              "      <th>Valor</th>\n",
              "    </tr>\n",
              "  </thead>\n",
              "  <tbody>\n",
              "    <tr>\n",
              "      <th>0</th>\n",
              "      <td>Jetta Variant</td>\n",
              "      <td>Motor 4.0 Turbo</td>\n",
              "      <td>2003</td>\n",
              "      <td>44410.0</td>\n",
              "      <td>False</td>\n",
              "      <td>['Llantas de aleación', 'Cerraduras electricas...</td>\n",
              "      <td>88078.64</td>\n",
              "    </tr>\n",
              "    <tr>\n",
              "      <th>1</th>\n",
              "      <td>Passat</td>\n",
              "      <td>Motor Diesel</td>\n",
              "      <td>1991</td>\n",
              "      <td>5712.0</td>\n",
              "      <td>False</td>\n",
              "      <td>['Central multimedia', 'Techo panorámico', 'Fr...</td>\n",
              "      <td>106161.94</td>\n",
              "    </tr>\n",
              "    <tr>\n",
              "      <th>2</th>\n",
              "      <td>Crossfox</td>\n",
              "      <td>Motor Diesel V8</td>\n",
              "      <td>1990</td>\n",
              "      <td>37123.0</td>\n",
              "      <td>False</td>\n",
              "      <td>['Piloto automático', 'Control de estabilidad'...</td>\n",
              "      <td>72832.16</td>\n",
              "    </tr>\n",
              "    <tr>\n",
              "      <th>3</th>\n",
              "      <td>DS5</td>\n",
              "      <td>Motor 2.4 Turbo</td>\n",
              "      <td>2019</td>\n",
              "      <td>NaN</td>\n",
              "      <td>True</td>\n",
              "      <td>['Cerraduras electricas', '4 X 4', 'Ventanas e...</td>\n",
              "      <td>124549.07</td>\n",
              "    </tr>\n",
              "    <tr>\n",
              "      <th>4</th>\n",
              "      <td>Aston Martin DB4</td>\n",
              "      <td>Motor 2.4 Turbo</td>\n",
              "      <td>2006</td>\n",
              "      <td>25757.0</td>\n",
              "      <td>False</td>\n",
              "      <td>['Llantas de aleación', '4 X 4', 'Central mult...</td>\n",
              "      <td>92612.10</td>\n",
              "    </tr>\n",
              "    <tr>\n",
              "      <th>...</th>\n",
              "      <td>...</td>\n",
              "      <td>...</td>\n",
              "      <td>...</td>\n",
              "      <td>...</td>\n",
              "      <td>...</td>\n",
              "      <td>...</td>\n",
              "      <td>...</td>\n",
              "    </tr>\n",
              "    <tr>\n",
              "      <th>253</th>\n",
              "      <td>Phantom 2013</td>\n",
              "      <td>Motor V8</td>\n",
              "      <td>2014</td>\n",
              "      <td>27505.0</td>\n",
              "      <td>False</td>\n",
              "      <td>['Control de estabilidad', 'Piloto automático'...</td>\n",
              "      <td>51759.58</td>\n",
              "    </tr>\n",
              "    <tr>\n",
              "      <th>254</th>\n",
              "      <td>Cadillac Ciel concept</td>\n",
              "      <td>Motor V8</td>\n",
              "      <td>1991</td>\n",
              "      <td>29981.0</td>\n",
              "      <td>False</td>\n",
              "      <td>['Asientos de cuero', 'Panel digital', 'Sensor...</td>\n",
              "      <td>51667.06</td>\n",
              "    </tr>\n",
              "    <tr>\n",
              "      <th>255</th>\n",
              "      <td>Classe GLK</td>\n",
              "      <td>Motor 5.0 V8 Bi-Turbo</td>\n",
              "      <td>2002</td>\n",
              "      <td>52637.0</td>\n",
              "      <td>False</td>\n",
              "      <td>['Llantas de aleación', 'Control de tracción',...</td>\n",
              "      <td>68934.03</td>\n",
              "    </tr>\n",
              "    <tr>\n",
              "      <th>256</th>\n",
              "      <td>Aston Martin DB5</td>\n",
              "      <td>Motor Diesel</td>\n",
              "      <td>1996</td>\n",
              "      <td>7685.0</td>\n",
              "      <td>False</td>\n",
              "      <td>['Aire condicionado', '4 X 4', 'Transmisión au...</td>\n",
              "      <td>122110.90</td>\n",
              "    </tr>\n",
              "    <tr>\n",
              "      <th>257</th>\n",
              "      <td>Macan</td>\n",
              "      <td>Motor Diesel V6</td>\n",
              "      <td>1992</td>\n",
              "      <td>50188.0</td>\n",
              "      <td>False</td>\n",
              "      <td>['Central multimedia', 'Techo panorámico', 'Ve...</td>\n",
              "      <td>90381.47</td>\n",
              "    </tr>\n",
              "  </tbody>\n",
              "</table>\n",
              "<p>258 rows × 7 columns</p>\n",
              "</div>\n",
              "      <button class=\"colab-df-convert\" onclick=\"convertToInteractive('df-018c8a54-6e6a-4df9-9987-60e0ac45c005')\"\n",
              "              title=\"Convert this dataframe to an interactive table.\"\n",
              "              style=\"display:none;\">\n",
              "        \n",
              "  <svg xmlns=\"http://www.w3.org/2000/svg\" height=\"24px\"viewBox=\"0 0 24 24\"\n",
              "       width=\"24px\">\n",
              "    <path d=\"M0 0h24v24H0V0z\" fill=\"none\"/>\n",
              "    <path d=\"M18.56 5.44l.94 2.06.94-2.06 2.06-.94-2.06-.94-.94-2.06-.94 2.06-2.06.94zm-11 1L8.5 8.5l.94-2.06 2.06-.94-2.06-.94L8.5 2.5l-.94 2.06-2.06.94zm10 10l.94 2.06.94-2.06 2.06-.94-2.06-.94-.94-2.06-.94 2.06-2.06.94z\"/><path d=\"M17.41 7.96l-1.37-1.37c-.4-.4-.92-.59-1.43-.59-.52 0-1.04.2-1.43.59L10.3 9.45l-7.72 7.72c-.78.78-.78 2.05 0 2.83L4 21.41c.39.39.9.59 1.41.59.51 0 1.02-.2 1.41-.59l7.78-7.78 2.81-2.81c.8-.78.8-2.07 0-2.86zM5.41 20L4 18.59l7.72-7.72 1.47 1.35L5.41 20z\"/>\n",
              "  </svg>\n",
              "      </button>\n",
              "      \n",
              "  <style>\n",
              "    .colab-df-container {\n",
              "      display:flex;\n",
              "      flex-wrap:wrap;\n",
              "      gap: 12px;\n",
              "    }\n",
              "\n",
              "    .colab-df-convert {\n",
              "      background-color: #E8F0FE;\n",
              "      border: none;\n",
              "      border-radius: 50%;\n",
              "      cursor: pointer;\n",
              "      display: none;\n",
              "      fill: #1967D2;\n",
              "      height: 32px;\n",
              "      padding: 0 0 0 0;\n",
              "      width: 32px;\n",
              "    }\n",
              "\n",
              "    .colab-df-convert:hover {\n",
              "      background-color: #E2EBFA;\n",
              "      box-shadow: 0px 1px 2px rgba(60, 64, 67, 0.3), 0px 1px 3px 1px rgba(60, 64, 67, 0.15);\n",
              "      fill: #174EA6;\n",
              "    }\n",
              "\n",
              "    [theme=dark] .colab-df-convert {\n",
              "      background-color: #3B4455;\n",
              "      fill: #D2E3FC;\n",
              "    }\n",
              "\n",
              "    [theme=dark] .colab-df-convert:hover {\n",
              "      background-color: #434B5C;\n",
              "      box-shadow: 0px 1px 3px 1px rgba(0, 0, 0, 0.15);\n",
              "      filter: drop-shadow(0px 1px 2px rgba(0, 0, 0, 0.3));\n",
              "      fill: #FFFFFF;\n",
              "    }\n",
              "  </style>\n",
              "\n",
              "      <script>\n",
              "        const buttonEl =\n",
              "          document.querySelector('#df-018c8a54-6e6a-4df9-9987-60e0ac45c005 button.colab-df-convert');\n",
              "        buttonEl.style.display =\n",
              "          google.colab.kernel.accessAllowed ? 'block' : 'none';\n",
              "\n",
              "        async function convertToInteractive(key) {\n",
              "          const element = document.querySelector('#df-018c8a54-6e6a-4df9-9987-60e0ac45c005');\n",
              "          const dataTable =\n",
              "            await google.colab.kernel.invokeFunction('convertToInteractive',\n",
              "                                                     [key], {});\n",
              "          if (!dataTable) return;\n",
              "\n",
              "          const docLinkHtml = 'Like what you see? Visit the ' +\n",
              "            '<a target=\"_blank\" href=https://colab.research.google.com/notebooks/data_table.ipynb>data table notebook</a>'\n",
              "            + ' to learn more about interactive tables.';\n",
              "          element.innerHTML = '';\n",
              "          dataTable['output_type'] = 'display_data';\n",
              "          await google.colab.output.renderOutput(dataTable, element);\n",
              "          const docLink = document.createElement('div');\n",
              "          docLink.innerHTML = docLinkHtml;\n",
              "          element.appendChild(docLink);\n",
              "        }\n",
              "      </script>\n",
              "    </div>\n",
              "  </div>\n",
              "  "
            ]
          },
          "metadata": {},
          "execution_count": 6
        }
      ],
      "source": [
        "dataset"
      ]
    },
    {
      "cell_type": "code",
      "source": [
        "#cambiando el indice de la columna\n",
        "dataset = pd.read_csv('db.csv', sep =';', index_col = 0)"
      ],
      "metadata": {
        "id": "epKl_8W2O0y6"
      },
      "execution_count": 7,
      "outputs": []
    },
    {
      "cell_type": "code",
      "source": [
        "dataset"
      ],
      "metadata": {
        "colab": {
          "base_uri": "https://localhost:8080/",
          "height": 455
        },
        "id": "-aTsLze4Oy0o",
        "outputId": "5c60a7cc-4542-419e-a076-e5343c19b7b2"
      },
      "execution_count": 8,
      "outputs": [
        {
          "output_type": "execute_result",
          "data": {
            "text/plain": [
              "                                       Motor   Año  Kilometraje  Cero_km  \\\n",
              "Nombre                                                                     \n",
              "Jetta Variant                Motor 4.0 Turbo  2003      44410.0    False   \n",
              "Passat                          Motor Diesel  1991       5712.0    False   \n",
              "Crossfox                     Motor Diesel V8  1990      37123.0    False   \n",
              "DS5                          Motor 2.4 Turbo  2019          NaN     True   \n",
              "Aston Martin DB4             Motor 2.4 Turbo  2006      25757.0    False   \n",
              "...                                      ...   ...          ...      ...   \n",
              "Phantom 2013                        Motor V8  2014      27505.0    False   \n",
              "Cadillac Ciel concept               Motor V8  1991      29981.0    False   \n",
              "Classe GLK             Motor 5.0 V8 Bi-Turbo  2002      52637.0    False   \n",
              "Aston Martin DB5                Motor Diesel  1996       7685.0    False   \n",
              "Macan                        Motor Diesel V6  1992      50188.0    False   \n",
              "\n",
              "                                                              Accesorios  \\\n",
              "Nombre                                                                     \n",
              "Jetta Variant          ['Llantas de aleación', 'Cerraduras electricas...   \n",
              "Passat                 ['Central multimedia', 'Techo panorámico', 'Fr...   \n",
              "Crossfox               ['Piloto automático', 'Control de estabilidad'...   \n",
              "DS5                    ['Cerraduras electricas', '4 X 4', 'Ventanas e...   \n",
              "Aston Martin DB4       ['Llantas de aleación', '4 X 4', 'Central mult...   \n",
              "...                                                                  ...   \n",
              "Phantom 2013           ['Control de estabilidad', 'Piloto automático'...   \n",
              "Cadillac Ciel concept  ['Asientos de cuero', 'Panel digital', 'Sensor...   \n",
              "Classe GLK             ['Llantas de aleación', 'Control de tracción',...   \n",
              "Aston Martin DB5       ['Aire condicionado', '4 X 4', 'Transmisión au...   \n",
              "Macan                  ['Central multimedia', 'Techo panorámico', 'Ve...   \n",
              "\n",
              "                           Valor  \n",
              "Nombre                            \n",
              "Jetta Variant           88078.64  \n",
              "Passat                 106161.94  \n",
              "Crossfox                72832.16  \n",
              "DS5                    124549.07  \n",
              "Aston Martin DB4        92612.10  \n",
              "...                          ...  \n",
              "Phantom 2013            51759.58  \n",
              "Cadillac Ciel concept   51667.06  \n",
              "Classe GLK              68934.03  \n",
              "Aston Martin DB5       122110.90  \n",
              "Macan                   90381.47  \n",
              "\n",
              "[258 rows x 6 columns]"
            ],
            "text/html": [
              "\n",
              "  <div id=\"df-943f6084-5ec0-4227-8284-82dc547cb998\">\n",
              "    <div class=\"colab-df-container\">\n",
              "      <div>\n",
              "<style scoped>\n",
              "    .dataframe tbody tr th:only-of-type {\n",
              "        vertical-align: middle;\n",
              "    }\n",
              "\n",
              "    .dataframe tbody tr th {\n",
              "        vertical-align: top;\n",
              "    }\n",
              "\n",
              "    .dataframe thead th {\n",
              "        text-align: right;\n",
              "    }\n",
              "</style>\n",
              "<table border=\"1\" class=\"dataframe\">\n",
              "  <thead>\n",
              "    <tr style=\"text-align: right;\">\n",
              "      <th></th>\n",
              "      <th>Motor</th>\n",
              "      <th>Año</th>\n",
              "      <th>Kilometraje</th>\n",
              "      <th>Cero_km</th>\n",
              "      <th>Accesorios</th>\n",
              "      <th>Valor</th>\n",
              "    </tr>\n",
              "    <tr>\n",
              "      <th>Nombre</th>\n",
              "      <th></th>\n",
              "      <th></th>\n",
              "      <th></th>\n",
              "      <th></th>\n",
              "      <th></th>\n",
              "      <th></th>\n",
              "    </tr>\n",
              "  </thead>\n",
              "  <tbody>\n",
              "    <tr>\n",
              "      <th>Jetta Variant</th>\n",
              "      <td>Motor 4.0 Turbo</td>\n",
              "      <td>2003</td>\n",
              "      <td>44410.0</td>\n",
              "      <td>False</td>\n",
              "      <td>['Llantas de aleación', 'Cerraduras electricas...</td>\n",
              "      <td>88078.64</td>\n",
              "    </tr>\n",
              "    <tr>\n",
              "      <th>Passat</th>\n",
              "      <td>Motor Diesel</td>\n",
              "      <td>1991</td>\n",
              "      <td>5712.0</td>\n",
              "      <td>False</td>\n",
              "      <td>['Central multimedia', 'Techo panorámico', 'Fr...</td>\n",
              "      <td>106161.94</td>\n",
              "    </tr>\n",
              "    <tr>\n",
              "      <th>Crossfox</th>\n",
              "      <td>Motor Diesel V8</td>\n",
              "      <td>1990</td>\n",
              "      <td>37123.0</td>\n",
              "      <td>False</td>\n",
              "      <td>['Piloto automático', 'Control de estabilidad'...</td>\n",
              "      <td>72832.16</td>\n",
              "    </tr>\n",
              "    <tr>\n",
              "      <th>DS5</th>\n",
              "      <td>Motor 2.4 Turbo</td>\n",
              "      <td>2019</td>\n",
              "      <td>NaN</td>\n",
              "      <td>True</td>\n",
              "      <td>['Cerraduras electricas', '4 X 4', 'Ventanas e...</td>\n",
              "      <td>124549.07</td>\n",
              "    </tr>\n",
              "    <tr>\n",
              "      <th>Aston Martin DB4</th>\n",
              "      <td>Motor 2.4 Turbo</td>\n",
              "      <td>2006</td>\n",
              "      <td>25757.0</td>\n",
              "      <td>False</td>\n",
              "      <td>['Llantas de aleación', '4 X 4', 'Central mult...</td>\n",
              "      <td>92612.10</td>\n",
              "    </tr>\n",
              "    <tr>\n",
              "      <th>...</th>\n",
              "      <td>...</td>\n",
              "      <td>...</td>\n",
              "      <td>...</td>\n",
              "      <td>...</td>\n",
              "      <td>...</td>\n",
              "      <td>...</td>\n",
              "    </tr>\n",
              "    <tr>\n",
              "      <th>Phantom 2013</th>\n",
              "      <td>Motor V8</td>\n",
              "      <td>2014</td>\n",
              "      <td>27505.0</td>\n",
              "      <td>False</td>\n",
              "      <td>['Control de estabilidad', 'Piloto automático'...</td>\n",
              "      <td>51759.58</td>\n",
              "    </tr>\n",
              "    <tr>\n",
              "      <th>Cadillac Ciel concept</th>\n",
              "      <td>Motor V8</td>\n",
              "      <td>1991</td>\n",
              "      <td>29981.0</td>\n",
              "      <td>False</td>\n",
              "      <td>['Asientos de cuero', 'Panel digital', 'Sensor...</td>\n",
              "      <td>51667.06</td>\n",
              "    </tr>\n",
              "    <tr>\n",
              "      <th>Classe GLK</th>\n",
              "      <td>Motor 5.0 V8 Bi-Turbo</td>\n",
              "      <td>2002</td>\n",
              "      <td>52637.0</td>\n",
              "      <td>False</td>\n",
              "      <td>['Llantas de aleación', 'Control de tracción',...</td>\n",
              "      <td>68934.03</td>\n",
              "    </tr>\n",
              "    <tr>\n",
              "      <th>Aston Martin DB5</th>\n",
              "      <td>Motor Diesel</td>\n",
              "      <td>1996</td>\n",
              "      <td>7685.0</td>\n",
              "      <td>False</td>\n",
              "      <td>['Aire condicionado', '4 X 4', 'Transmisión au...</td>\n",
              "      <td>122110.90</td>\n",
              "    </tr>\n",
              "    <tr>\n",
              "      <th>Macan</th>\n",
              "      <td>Motor Diesel V6</td>\n",
              "      <td>1992</td>\n",
              "      <td>50188.0</td>\n",
              "      <td>False</td>\n",
              "      <td>['Central multimedia', 'Techo panorámico', 'Ve...</td>\n",
              "      <td>90381.47</td>\n",
              "    </tr>\n",
              "  </tbody>\n",
              "</table>\n",
              "<p>258 rows × 6 columns</p>\n",
              "</div>\n",
              "      <button class=\"colab-df-convert\" onclick=\"convertToInteractive('df-943f6084-5ec0-4227-8284-82dc547cb998')\"\n",
              "              title=\"Convert this dataframe to an interactive table.\"\n",
              "              style=\"display:none;\">\n",
              "        \n",
              "  <svg xmlns=\"http://www.w3.org/2000/svg\" height=\"24px\"viewBox=\"0 0 24 24\"\n",
              "       width=\"24px\">\n",
              "    <path d=\"M0 0h24v24H0V0z\" fill=\"none\"/>\n",
              "    <path d=\"M18.56 5.44l.94 2.06.94-2.06 2.06-.94-2.06-.94-.94-2.06-.94 2.06-2.06.94zm-11 1L8.5 8.5l.94-2.06 2.06-.94-2.06-.94L8.5 2.5l-.94 2.06-2.06.94zm10 10l.94 2.06.94-2.06 2.06-.94-2.06-.94-.94-2.06-.94 2.06-2.06.94z\"/><path d=\"M17.41 7.96l-1.37-1.37c-.4-.4-.92-.59-1.43-.59-.52 0-1.04.2-1.43.59L10.3 9.45l-7.72 7.72c-.78.78-.78 2.05 0 2.83L4 21.41c.39.39.9.59 1.41.59.51 0 1.02-.2 1.41-.59l7.78-7.78 2.81-2.81c.8-.78.8-2.07 0-2.86zM5.41 20L4 18.59l7.72-7.72 1.47 1.35L5.41 20z\"/>\n",
              "  </svg>\n",
              "      </button>\n",
              "      \n",
              "  <style>\n",
              "    .colab-df-container {\n",
              "      display:flex;\n",
              "      flex-wrap:wrap;\n",
              "      gap: 12px;\n",
              "    }\n",
              "\n",
              "    .colab-df-convert {\n",
              "      background-color: #E8F0FE;\n",
              "      border: none;\n",
              "      border-radius: 50%;\n",
              "      cursor: pointer;\n",
              "      display: none;\n",
              "      fill: #1967D2;\n",
              "      height: 32px;\n",
              "      padding: 0 0 0 0;\n",
              "      width: 32px;\n",
              "    }\n",
              "\n",
              "    .colab-df-convert:hover {\n",
              "      background-color: #E2EBFA;\n",
              "      box-shadow: 0px 1px 2px rgba(60, 64, 67, 0.3), 0px 1px 3px 1px rgba(60, 64, 67, 0.15);\n",
              "      fill: #174EA6;\n",
              "    }\n",
              "\n",
              "    [theme=dark] .colab-df-convert {\n",
              "      background-color: #3B4455;\n",
              "      fill: #D2E3FC;\n",
              "    }\n",
              "\n",
              "    [theme=dark] .colab-df-convert:hover {\n",
              "      background-color: #434B5C;\n",
              "      box-shadow: 0px 1px 3px 1px rgba(0, 0, 0, 0.15);\n",
              "      filter: drop-shadow(0px 1px 2px rgba(0, 0, 0, 0.3));\n",
              "      fill: #FFFFFF;\n",
              "    }\n",
              "  </style>\n",
              "\n",
              "      <script>\n",
              "        const buttonEl =\n",
              "          document.querySelector('#df-943f6084-5ec0-4227-8284-82dc547cb998 button.colab-df-convert');\n",
              "        buttonEl.style.display =\n",
              "          google.colab.kernel.accessAllowed ? 'block' : 'none';\n",
              "\n",
              "        async function convertToInteractive(key) {\n",
              "          const element = document.querySelector('#df-943f6084-5ec0-4227-8284-82dc547cb998');\n",
              "          const dataTable =\n",
              "            await google.colab.kernel.invokeFunction('convertToInteractive',\n",
              "                                                     [key], {});\n",
              "          if (!dataTable) return;\n",
              "\n",
              "          const docLinkHtml = 'Like what you see? Visit the ' +\n",
              "            '<a target=\"_blank\" href=https://colab.research.google.com/notebooks/data_table.ipynb>data table notebook</a>'\n",
              "            + ' to learn more about interactive tables.';\n",
              "          element.innerHTML = '';\n",
              "          dataTable['output_type'] = 'display_data';\n",
              "          await google.colab.output.renderOutput(dataTable, element);\n",
              "          const docLink = document.createElement('div');\n",
              "          docLink.innerHTML = docLinkHtml;\n",
              "          element.appendChild(docLink);\n",
              "        }\n",
              "      </script>\n",
              "    </div>\n",
              "  </div>\n",
              "  "
            ]
          },
          "metadata": {},
          "execution_count": 8
        }
      ]
    },
    {
      "cell_type": "markdown",
      "metadata": {
        "id": "y5V-1AK-D1BN"
      },
      "source": [
        "# 5.2 Selecciones con DataFrames"
      ]
    },
    {
      "cell_type": "markdown",
      "metadata": {
        "id": "wZjqlHe9D1BN"
      },
      "source": [
        "### Seleccionando columnas"
      ]
    },
    {
      "cell_type": "code",
      "execution_count": 9,
      "metadata": {
        "id": "gM3LbtzlD1BN",
        "scrolled": true,
        "colab": {
          "base_uri": "https://localhost:8080/",
          "height": 237
        },
        "outputId": "f710a1f2-6075-4069-8794-07fe93bccedb"
      },
      "outputs": [
        {
          "output_type": "execute_result",
          "data": {
            "text/plain": [
              "                            Motor   Año  Kilometraje  Cero_km  \\\n",
              "Nombre                                                          \n",
              "Jetta Variant     Motor 4.0 Turbo  2003      44410.0    False   \n",
              "Passat               Motor Diesel  1991       5712.0    False   \n",
              "Crossfox          Motor Diesel V8  1990      37123.0    False   \n",
              "DS5               Motor 2.4 Turbo  2019          NaN     True   \n",
              "Aston Martin DB4  Motor 2.4 Turbo  2006      25757.0    False   \n",
              "\n",
              "                                                         Accesorios      Valor  \n",
              "Nombre                                                                          \n",
              "Jetta Variant     ['Llantas de aleación', 'Cerraduras electricas...   88078.64  \n",
              "Passat            ['Central multimedia', 'Techo panorámico', 'Fr...  106161.94  \n",
              "Crossfox          ['Piloto automático', 'Control de estabilidad'...   72832.16  \n",
              "DS5               ['Cerraduras electricas', '4 X 4', 'Ventanas e...  124549.07  \n",
              "Aston Martin DB4  ['Llantas de aleación', '4 X 4', 'Central mult...   92612.10  "
            ],
            "text/html": [
              "\n",
              "  <div id=\"df-8d6e5e49-99c7-436b-acb9-68cd8f061aca\">\n",
              "    <div class=\"colab-df-container\">\n",
              "      <div>\n",
              "<style scoped>\n",
              "    .dataframe tbody tr th:only-of-type {\n",
              "        vertical-align: middle;\n",
              "    }\n",
              "\n",
              "    .dataframe tbody tr th {\n",
              "        vertical-align: top;\n",
              "    }\n",
              "\n",
              "    .dataframe thead th {\n",
              "        text-align: right;\n",
              "    }\n",
              "</style>\n",
              "<table border=\"1\" class=\"dataframe\">\n",
              "  <thead>\n",
              "    <tr style=\"text-align: right;\">\n",
              "      <th></th>\n",
              "      <th>Motor</th>\n",
              "      <th>Año</th>\n",
              "      <th>Kilometraje</th>\n",
              "      <th>Cero_km</th>\n",
              "      <th>Accesorios</th>\n",
              "      <th>Valor</th>\n",
              "    </tr>\n",
              "    <tr>\n",
              "      <th>Nombre</th>\n",
              "      <th></th>\n",
              "      <th></th>\n",
              "      <th></th>\n",
              "      <th></th>\n",
              "      <th></th>\n",
              "      <th></th>\n",
              "    </tr>\n",
              "  </thead>\n",
              "  <tbody>\n",
              "    <tr>\n",
              "      <th>Jetta Variant</th>\n",
              "      <td>Motor 4.0 Turbo</td>\n",
              "      <td>2003</td>\n",
              "      <td>44410.0</td>\n",
              "      <td>False</td>\n",
              "      <td>['Llantas de aleación', 'Cerraduras electricas...</td>\n",
              "      <td>88078.64</td>\n",
              "    </tr>\n",
              "    <tr>\n",
              "      <th>Passat</th>\n",
              "      <td>Motor Diesel</td>\n",
              "      <td>1991</td>\n",
              "      <td>5712.0</td>\n",
              "      <td>False</td>\n",
              "      <td>['Central multimedia', 'Techo panorámico', 'Fr...</td>\n",
              "      <td>106161.94</td>\n",
              "    </tr>\n",
              "    <tr>\n",
              "      <th>Crossfox</th>\n",
              "      <td>Motor Diesel V8</td>\n",
              "      <td>1990</td>\n",
              "      <td>37123.0</td>\n",
              "      <td>False</td>\n",
              "      <td>['Piloto automático', 'Control de estabilidad'...</td>\n",
              "      <td>72832.16</td>\n",
              "    </tr>\n",
              "    <tr>\n",
              "      <th>DS5</th>\n",
              "      <td>Motor 2.4 Turbo</td>\n",
              "      <td>2019</td>\n",
              "      <td>NaN</td>\n",
              "      <td>True</td>\n",
              "      <td>['Cerraduras electricas', '4 X 4', 'Ventanas e...</td>\n",
              "      <td>124549.07</td>\n",
              "    </tr>\n",
              "    <tr>\n",
              "      <th>Aston Martin DB4</th>\n",
              "      <td>Motor 2.4 Turbo</td>\n",
              "      <td>2006</td>\n",
              "      <td>25757.0</td>\n",
              "      <td>False</td>\n",
              "      <td>['Llantas de aleación', '4 X 4', 'Central mult...</td>\n",
              "      <td>92612.10</td>\n",
              "    </tr>\n",
              "  </tbody>\n",
              "</table>\n",
              "</div>\n",
              "      <button class=\"colab-df-convert\" onclick=\"convertToInteractive('df-8d6e5e49-99c7-436b-acb9-68cd8f061aca')\"\n",
              "              title=\"Convert this dataframe to an interactive table.\"\n",
              "              style=\"display:none;\">\n",
              "        \n",
              "  <svg xmlns=\"http://www.w3.org/2000/svg\" height=\"24px\"viewBox=\"0 0 24 24\"\n",
              "       width=\"24px\">\n",
              "    <path d=\"M0 0h24v24H0V0z\" fill=\"none\"/>\n",
              "    <path d=\"M18.56 5.44l.94 2.06.94-2.06 2.06-.94-2.06-.94-.94-2.06-.94 2.06-2.06.94zm-11 1L8.5 8.5l.94-2.06 2.06-.94-2.06-.94L8.5 2.5l-.94 2.06-2.06.94zm10 10l.94 2.06.94-2.06 2.06-.94-2.06-.94-.94-2.06-.94 2.06-2.06.94z\"/><path d=\"M17.41 7.96l-1.37-1.37c-.4-.4-.92-.59-1.43-.59-.52 0-1.04.2-1.43.59L10.3 9.45l-7.72 7.72c-.78.78-.78 2.05 0 2.83L4 21.41c.39.39.9.59 1.41.59.51 0 1.02-.2 1.41-.59l7.78-7.78 2.81-2.81c.8-.78.8-2.07 0-2.86zM5.41 20L4 18.59l7.72-7.72 1.47 1.35L5.41 20z\"/>\n",
              "  </svg>\n",
              "      </button>\n",
              "      \n",
              "  <style>\n",
              "    .colab-df-container {\n",
              "      display:flex;\n",
              "      flex-wrap:wrap;\n",
              "      gap: 12px;\n",
              "    }\n",
              "\n",
              "    .colab-df-convert {\n",
              "      background-color: #E8F0FE;\n",
              "      border: none;\n",
              "      border-radius: 50%;\n",
              "      cursor: pointer;\n",
              "      display: none;\n",
              "      fill: #1967D2;\n",
              "      height: 32px;\n",
              "      padding: 0 0 0 0;\n",
              "      width: 32px;\n",
              "    }\n",
              "\n",
              "    .colab-df-convert:hover {\n",
              "      background-color: #E2EBFA;\n",
              "      box-shadow: 0px 1px 2px rgba(60, 64, 67, 0.3), 0px 1px 3px 1px rgba(60, 64, 67, 0.15);\n",
              "      fill: #174EA6;\n",
              "    }\n",
              "\n",
              "    [theme=dark] .colab-df-convert {\n",
              "      background-color: #3B4455;\n",
              "      fill: #D2E3FC;\n",
              "    }\n",
              "\n",
              "    [theme=dark] .colab-df-convert:hover {\n",
              "      background-color: #434B5C;\n",
              "      box-shadow: 0px 1px 3px 1px rgba(0, 0, 0, 0.15);\n",
              "      filter: drop-shadow(0px 1px 2px rgba(0, 0, 0, 0.3));\n",
              "      fill: #FFFFFF;\n",
              "    }\n",
              "  </style>\n",
              "\n",
              "      <script>\n",
              "        const buttonEl =\n",
              "          document.querySelector('#df-8d6e5e49-99c7-436b-acb9-68cd8f061aca button.colab-df-convert');\n",
              "        buttonEl.style.display =\n",
              "          google.colab.kernel.accessAllowed ? 'block' : 'none';\n",
              "\n",
              "        async function convertToInteractive(key) {\n",
              "          const element = document.querySelector('#df-8d6e5e49-99c7-436b-acb9-68cd8f061aca');\n",
              "          const dataTable =\n",
              "            await google.colab.kernel.invokeFunction('convertToInteractive',\n",
              "                                                     [key], {});\n",
              "          if (!dataTable) return;\n",
              "\n",
              "          const docLinkHtml = 'Like what you see? Visit the ' +\n",
              "            '<a target=\"_blank\" href=https://colab.research.google.com/notebooks/data_table.ipynb>data table notebook</a>'\n",
              "            + ' to learn more about interactive tables.';\n",
              "          element.innerHTML = '';\n",
              "          dataTable['output_type'] = 'display_data';\n",
              "          await google.colab.output.renderOutput(dataTable, element);\n",
              "          const docLink = document.createElement('div');\n",
              "          docLink.innerHTML = docLinkHtml;\n",
              "          element.appendChild(docLink);\n",
              "        }\n",
              "      </script>\n",
              "    </div>\n",
              "  </div>\n",
              "  "
            ]
          },
          "metadata": {},
          "execution_count": 9
        }
      ],
      "source": [
        "dataset.head()"
      ]
    },
    {
      "cell_type": "code",
      "execution_count": 10,
      "metadata": {
        "id": "R2FWgCM_D1BO",
        "colab": {
          "base_uri": "https://localhost:8080/"
        },
        "outputId": "b7c06d60-e8ea-4f57-95de-db0ced833ac0"
      },
      "outputs": [
        {
          "output_type": "execute_result",
          "data": {
            "text/plain": [
              "Nombre\n",
              "Jetta Variant             88078.64\n",
              "Passat                   106161.94\n",
              "Crossfox                  72832.16\n",
              "DS5                      124549.07\n",
              "Aston Martin DB4          92612.10\n",
              "                           ...    \n",
              "Phantom 2013              51759.58\n",
              "Cadillac Ciel concept     51667.06\n",
              "Classe GLK                68934.03\n",
              "Aston Martin DB5         122110.90\n",
              "Macan                     90381.47\n",
              "Name: Valor, Length: 258, dtype: float64"
            ]
          },
          "metadata": {},
          "execution_count": 10
        }
      ],
      "source": [
        "#Con [] simples lo muestra en formato serie\n",
        "dataset['Valor']"
      ]
    },
    {
      "cell_type": "code",
      "execution_count": 11,
      "metadata": {
        "id": "lCCumsxsD1BP",
        "scrolled": true,
        "colab": {
          "base_uri": "https://localhost:8080/"
        },
        "outputId": "b8c55e90-3654-4a9b-fdcf-7393972acfd4"
      },
      "outputs": [
        {
          "output_type": "execute_result",
          "data": {
            "text/plain": [
              "pandas.core.series.Series"
            ]
          },
          "metadata": {},
          "execution_count": 11
        }
      ],
      "source": [
        "type(dataset['Valor'])"
      ]
    },
    {
      "cell_type": "code",
      "execution_count": 12,
      "metadata": {
        "id": "zxlyC3B8D1BP",
        "colab": {
          "base_uri": "https://localhost:8080/",
          "height": 455
        },
        "outputId": "a1ad2cbe-4343-4f71-c830-6f82edef5f13"
      },
      "outputs": [
        {
          "output_type": "execute_result",
          "data": {
            "text/plain": [
              "                           Valor\n",
              "Nombre                          \n",
              "Jetta Variant           88078.64\n",
              "Passat                 106161.94\n",
              "Crossfox                72832.16\n",
              "DS5                    124549.07\n",
              "Aston Martin DB4        92612.10\n",
              "...                          ...\n",
              "Phantom 2013            51759.58\n",
              "Cadillac Ciel concept   51667.06\n",
              "Classe GLK              68934.03\n",
              "Aston Martin DB5       122110.90\n",
              "Macan                   90381.47\n",
              "\n",
              "[258 rows x 1 columns]"
            ],
            "text/html": [
              "\n",
              "  <div id=\"df-7b22b12b-0294-486e-a7a9-3362129095e7\">\n",
              "    <div class=\"colab-df-container\">\n",
              "      <div>\n",
              "<style scoped>\n",
              "    .dataframe tbody tr th:only-of-type {\n",
              "        vertical-align: middle;\n",
              "    }\n",
              "\n",
              "    .dataframe tbody tr th {\n",
              "        vertical-align: top;\n",
              "    }\n",
              "\n",
              "    .dataframe thead th {\n",
              "        text-align: right;\n",
              "    }\n",
              "</style>\n",
              "<table border=\"1\" class=\"dataframe\">\n",
              "  <thead>\n",
              "    <tr style=\"text-align: right;\">\n",
              "      <th></th>\n",
              "      <th>Valor</th>\n",
              "    </tr>\n",
              "    <tr>\n",
              "      <th>Nombre</th>\n",
              "      <th></th>\n",
              "    </tr>\n",
              "  </thead>\n",
              "  <tbody>\n",
              "    <tr>\n",
              "      <th>Jetta Variant</th>\n",
              "      <td>88078.64</td>\n",
              "    </tr>\n",
              "    <tr>\n",
              "      <th>Passat</th>\n",
              "      <td>106161.94</td>\n",
              "    </tr>\n",
              "    <tr>\n",
              "      <th>Crossfox</th>\n",
              "      <td>72832.16</td>\n",
              "    </tr>\n",
              "    <tr>\n",
              "      <th>DS5</th>\n",
              "      <td>124549.07</td>\n",
              "    </tr>\n",
              "    <tr>\n",
              "      <th>Aston Martin DB4</th>\n",
              "      <td>92612.10</td>\n",
              "    </tr>\n",
              "    <tr>\n",
              "      <th>...</th>\n",
              "      <td>...</td>\n",
              "    </tr>\n",
              "    <tr>\n",
              "      <th>Phantom 2013</th>\n",
              "      <td>51759.58</td>\n",
              "    </tr>\n",
              "    <tr>\n",
              "      <th>Cadillac Ciel concept</th>\n",
              "      <td>51667.06</td>\n",
              "    </tr>\n",
              "    <tr>\n",
              "      <th>Classe GLK</th>\n",
              "      <td>68934.03</td>\n",
              "    </tr>\n",
              "    <tr>\n",
              "      <th>Aston Martin DB5</th>\n",
              "      <td>122110.90</td>\n",
              "    </tr>\n",
              "    <tr>\n",
              "      <th>Macan</th>\n",
              "      <td>90381.47</td>\n",
              "    </tr>\n",
              "  </tbody>\n",
              "</table>\n",
              "<p>258 rows × 1 columns</p>\n",
              "</div>\n",
              "      <button class=\"colab-df-convert\" onclick=\"convertToInteractive('df-7b22b12b-0294-486e-a7a9-3362129095e7')\"\n",
              "              title=\"Convert this dataframe to an interactive table.\"\n",
              "              style=\"display:none;\">\n",
              "        \n",
              "  <svg xmlns=\"http://www.w3.org/2000/svg\" height=\"24px\"viewBox=\"0 0 24 24\"\n",
              "       width=\"24px\">\n",
              "    <path d=\"M0 0h24v24H0V0z\" fill=\"none\"/>\n",
              "    <path d=\"M18.56 5.44l.94 2.06.94-2.06 2.06-.94-2.06-.94-.94-2.06-.94 2.06-2.06.94zm-11 1L8.5 8.5l.94-2.06 2.06-.94-2.06-.94L8.5 2.5l-.94 2.06-2.06.94zm10 10l.94 2.06.94-2.06 2.06-.94-2.06-.94-.94-2.06-.94 2.06-2.06.94z\"/><path d=\"M17.41 7.96l-1.37-1.37c-.4-.4-.92-.59-1.43-.59-.52 0-1.04.2-1.43.59L10.3 9.45l-7.72 7.72c-.78.78-.78 2.05 0 2.83L4 21.41c.39.39.9.59 1.41.59.51 0 1.02-.2 1.41-.59l7.78-7.78 2.81-2.81c.8-.78.8-2.07 0-2.86zM5.41 20L4 18.59l7.72-7.72 1.47 1.35L5.41 20z\"/>\n",
              "  </svg>\n",
              "      </button>\n",
              "      \n",
              "  <style>\n",
              "    .colab-df-container {\n",
              "      display:flex;\n",
              "      flex-wrap:wrap;\n",
              "      gap: 12px;\n",
              "    }\n",
              "\n",
              "    .colab-df-convert {\n",
              "      background-color: #E8F0FE;\n",
              "      border: none;\n",
              "      border-radius: 50%;\n",
              "      cursor: pointer;\n",
              "      display: none;\n",
              "      fill: #1967D2;\n",
              "      height: 32px;\n",
              "      padding: 0 0 0 0;\n",
              "      width: 32px;\n",
              "    }\n",
              "\n",
              "    .colab-df-convert:hover {\n",
              "      background-color: #E2EBFA;\n",
              "      box-shadow: 0px 1px 2px rgba(60, 64, 67, 0.3), 0px 1px 3px 1px rgba(60, 64, 67, 0.15);\n",
              "      fill: #174EA6;\n",
              "    }\n",
              "\n",
              "    [theme=dark] .colab-df-convert {\n",
              "      background-color: #3B4455;\n",
              "      fill: #D2E3FC;\n",
              "    }\n",
              "\n",
              "    [theme=dark] .colab-df-convert:hover {\n",
              "      background-color: #434B5C;\n",
              "      box-shadow: 0px 1px 3px 1px rgba(0, 0, 0, 0.15);\n",
              "      filter: drop-shadow(0px 1px 2px rgba(0, 0, 0, 0.3));\n",
              "      fill: #FFFFFF;\n",
              "    }\n",
              "  </style>\n",
              "\n",
              "      <script>\n",
              "        const buttonEl =\n",
              "          document.querySelector('#df-7b22b12b-0294-486e-a7a9-3362129095e7 button.colab-df-convert');\n",
              "        buttonEl.style.display =\n",
              "          google.colab.kernel.accessAllowed ? 'block' : 'none';\n",
              "\n",
              "        async function convertToInteractive(key) {\n",
              "          const element = document.querySelector('#df-7b22b12b-0294-486e-a7a9-3362129095e7');\n",
              "          const dataTable =\n",
              "            await google.colab.kernel.invokeFunction('convertToInteractive',\n",
              "                                                     [key], {});\n",
              "          if (!dataTable) return;\n",
              "\n",
              "          const docLinkHtml = 'Like what you see? Visit the ' +\n",
              "            '<a target=\"_blank\" href=https://colab.research.google.com/notebooks/data_table.ipynb>data table notebook</a>'\n",
              "            + ' to learn more about interactive tables.';\n",
              "          element.innerHTML = '';\n",
              "          dataTable['output_type'] = 'display_data';\n",
              "          await google.colab.output.renderOutput(dataTable, element);\n",
              "          const docLink = document.createElement('div');\n",
              "          docLink.innerHTML = docLinkHtml;\n",
              "          element.appendChild(docLink);\n",
              "        }\n",
              "      </script>\n",
              "    </div>\n",
              "  </div>\n",
              "  "
            ]
          },
          "metadata": {},
          "execution_count": 12
        }
      ],
      "source": [
        "#Con [[]] lo muestra en formato DataFrame []\n",
        "dataset[['Valor']]"
      ]
    },
    {
      "cell_type": "code",
      "source": [
        "type(dataset[['Valor']])"
      ],
      "metadata": {
        "colab": {
          "base_uri": "https://localhost:8080/"
        },
        "id": "jbLVRTVRT1om",
        "outputId": "03b240aa-3fa6-4956-eeb0-ee6ecdf4fde8"
      },
      "execution_count": 13,
      "outputs": [
        {
          "output_type": "execute_result",
          "data": {
            "text/plain": [
              "pandas.core.frame.DataFrame"
            ]
          },
          "metadata": {},
          "execution_count": 13
        }
      ]
    },
    {
      "cell_type": "markdown",
      "metadata": {
        "id": "7RPXPm1XD1BQ"
      },
      "source": [
        "### Seleccionando lineas - [ i : j ] \n",
        "\n",
        "<font color=red>**Observación:**</font> La indexación tiene origen en cero y en las particiones(*slices*) la línea con índice i es **incluída** y la línea con índice j **no es incluída** en el resultado."
      ]
    },
    {
      "cell_type": "code",
      "execution_count": 14,
      "metadata": {
        "id": "PdDUwPw3D1BQ",
        "colab": {
          "base_uri": "https://localhost:8080/",
          "height": 175
        },
        "outputId": "4c221665-e3d6-4cad-808c-68af669c0401"
      },
      "outputs": [
        {
          "output_type": "execute_result",
          "data": {
            "text/plain": [
              "                         Motor   Año  Kilometraje  Cero_km  \\\n",
              "Nombre                                                       \n",
              "Jetta Variant  Motor 4.0 Turbo  2003      44410.0    False   \n",
              "Passat            Motor Diesel  1991       5712.0    False   \n",
              "Crossfox       Motor Diesel V8  1990      37123.0    False   \n",
              "\n",
              "                                                      Accesorios      Valor  \n",
              "Nombre                                                                       \n",
              "Jetta Variant  ['Llantas de aleación', 'Cerraduras electricas...   88078.64  \n",
              "Passat         ['Central multimedia', 'Techo panorámico', 'Fr...  106161.94  \n",
              "Crossfox       ['Piloto automático', 'Control de estabilidad'...   72832.16  "
            ],
            "text/html": [
              "\n",
              "  <div id=\"df-c094a151-1d9f-4b70-a16b-4f8e82e8c8a4\">\n",
              "    <div class=\"colab-df-container\">\n",
              "      <div>\n",
              "<style scoped>\n",
              "    .dataframe tbody tr th:only-of-type {\n",
              "        vertical-align: middle;\n",
              "    }\n",
              "\n",
              "    .dataframe tbody tr th {\n",
              "        vertical-align: top;\n",
              "    }\n",
              "\n",
              "    .dataframe thead th {\n",
              "        text-align: right;\n",
              "    }\n",
              "</style>\n",
              "<table border=\"1\" class=\"dataframe\">\n",
              "  <thead>\n",
              "    <tr style=\"text-align: right;\">\n",
              "      <th></th>\n",
              "      <th>Motor</th>\n",
              "      <th>Año</th>\n",
              "      <th>Kilometraje</th>\n",
              "      <th>Cero_km</th>\n",
              "      <th>Accesorios</th>\n",
              "      <th>Valor</th>\n",
              "    </tr>\n",
              "    <tr>\n",
              "      <th>Nombre</th>\n",
              "      <th></th>\n",
              "      <th></th>\n",
              "      <th></th>\n",
              "      <th></th>\n",
              "      <th></th>\n",
              "      <th></th>\n",
              "    </tr>\n",
              "  </thead>\n",
              "  <tbody>\n",
              "    <tr>\n",
              "      <th>Jetta Variant</th>\n",
              "      <td>Motor 4.0 Turbo</td>\n",
              "      <td>2003</td>\n",
              "      <td>44410.0</td>\n",
              "      <td>False</td>\n",
              "      <td>['Llantas de aleación', 'Cerraduras electricas...</td>\n",
              "      <td>88078.64</td>\n",
              "    </tr>\n",
              "    <tr>\n",
              "      <th>Passat</th>\n",
              "      <td>Motor Diesel</td>\n",
              "      <td>1991</td>\n",
              "      <td>5712.0</td>\n",
              "      <td>False</td>\n",
              "      <td>['Central multimedia', 'Techo panorámico', 'Fr...</td>\n",
              "      <td>106161.94</td>\n",
              "    </tr>\n",
              "    <tr>\n",
              "      <th>Crossfox</th>\n",
              "      <td>Motor Diesel V8</td>\n",
              "      <td>1990</td>\n",
              "      <td>37123.0</td>\n",
              "      <td>False</td>\n",
              "      <td>['Piloto automático', 'Control de estabilidad'...</td>\n",
              "      <td>72832.16</td>\n",
              "    </tr>\n",
              "  </tbody>\n",
              "</table>\n",
              "</div>\n",
              "      <button class=\"colab-df-convert\" onclick=\"convertToInteractive('df-c094a151-1d9f-4b70-a16b-4f8e82e8c8a4')\"\n",
              "              title=\"Convert this dataframe to an interactive table.\"\n",
              "              style=\"display:none;\">\n",
              "        \n",
              "  <svg xmlns=\"http://www.w3.org/2000/svg\" height=\"24px\"viewBox=\"0 0 24 24\"\n",
              "       width=\"24px\">\n",
              "    <path d=\"M0 0h24v24H0V0z\" fill=\"none\"/>\n",
              "    <path d=\"M18.56 5.44l.94 2.06.94-2.06 2.06-.94-2.06-.94-.94-2.06-.94 2.06-2.06.94zm-11 1L8.5 8.5l.94-2.06 2.06-.94-2.06-.94L8.5 2.5l-.94 2.06-2.06.94zm10 10l.94 2.06.94-2.06 2.06-.94-2.06-.94-.94-2.06-.94 2.06-2.06.94z\"/><path d=\"M17.41 7.96l-1.37-1.37c-.4-.4-.92-.59-1.43-.59-.52 0-1.04.2-1.43.59L10.3 9.45l-7.72 7.72c-.78.78-.78 2.05 0 2.83L4 21.41c.39.39.9.59 1.41.59.51 0 1.02-.2 1.41-.59l7.78-7.78 2.81-2.81c.8-.78.8-2.07 0-2.86zM5.41 20L4 18.59l7.72-7.72 1.47 1.35L5.41 20z\"/>\n",
              "  </svg>\n",
              "      </button>\n",
              "      \n",
              "  <style>\n",
              "    .colab-df-container {\n",
              "      display:flex;\n",
              "      flex-wrap:wrap;\n",
              "      gap: 12px;\n",
              "    }\n",
              "\n",
              "    .colab-df-convert {\n",
              "      background-color: #E8F0FE;\n",
              "      border: none;\n",
              "      border-radius: 50%;\n",
              "      cursor: pointer;\n",
              "      display: none;\n",
              "      fill: #1967D2;\n",
              "      height: 32px;\n",
              "      padding: 0 0 0 0;\n",
              "      width: 32px;\n",
              "    }\n",
              "\n",
              "    .colab-df-convert:hover {\n",
              "      background-color: #E2EBFA;\n",
              "      box-shadow: 0px 1px 2px rgba(60, 64, 67, 0.3), 0px 1px 3px 1px rgba(60, 64, 67, 0.15);\n",
              "      fill: #174EA6;\n",
              "    }\n",
              "\n",
              "    [theme=dark] .colab-df-convert {\n",
              "      background-color: #3B4455;\n",
              "      fill: #D2E3FC;\n",
              "    }\n",
              "\n",
              "    [theme=dark] .colab-df-convert:hover {\n",
              "      background-color: #434B5C;\n",
              "      box-shadow: 0px 1px 3px 1px rgba(0, 0, 0, 0.15);\n",
              "      filter: drop-shadow(0px 1px 2px rgba(0, 0, 0, 0.3));\n",
              "      fill: #FFFFFF;\n",
              "    }\n",
              "  </style>\n",
              "\n",
              "      <script>\n",
              "        const buttonEl =\n",
              "          document.querySelector('#df-c094a151-1d9f-4b70-a16b-4f8e82e8c8a4 button.colab-df-convert');\n",
              "        buttonEl.style.display =\n",
              "          google.colab.kernel.accessAllowed ? 'block' : 'none';\n",
              "\n",
              "        async function convertToInteractive(key) {\n",
              "          const element = document.querySelector('#df-c094a151-1d9f-4b70-a16b-4f8e82e8c8a4');\n",
              "          const dataTable =\n",
              "            await google.colab.kernel.invokeFunction('convertToInteractive',\n",
              "                                                     [key], {});\n",
              "          if (!dataTable) return;\n",
              "\n",
              "          const docLinkHtml = 'Like what you see? Visit the ' +\n",
              "            '<a target=\"_blank\" href=https://colab.research.google.com/notebooks/data_table.ipynb>data table notebook</a>'\n",
              "            + ' to learn more about interactive tables.';\n",
              "          element.innerHTML = '';\n",
              "          dataTable['output_type'] = 'display_data';\n",
              "          await google.colab.output.renderOutput(dataTable, element);\n",
              "          const docLink = document.createElement('div');\n",
              "          docLink.innerHTML = docLinkHtml;\n",
              "          element.appendChild(docLink);\n",
              "        }\n",
              "      </script>\n",
              "    </div>\n",
              "  </div>\n",
              "  "
            ]
          },
          "metadata": {},
          "execution_count": 14
        }
      ],
      "source": [
        "#Siempre se coloca el intervalo + 1\n",
        "dataset[0:3]"
      ]
    },
    {
      "cell_type": "markdown",
      "metadata": {
        "id": "G3DMSk97D1BR"
      },
      "source": [
        "### Utilizando .loc para selecciones\n",
        "\n",
        "<font color=red>**Observación:**</font> Selecciona un grupo de líneas y columnas según las etiquetas o una matriz booleana."
      ]
    },
    {
      "cell_type": "code",
      "execution_count": 15,
      "metadata": {
        "id": "Ftg-hNOoD1BR",
        "colab": {
          "base_uri": "https://localhost:8080/"
        },
        "outputId": "07332bf2-143f-4daa-9cf0-538403b6efb8"
      },
      "outputs": [
        {
          "output_type": "execute_result",
          "data": {
            "text/plain": [
              "Motor                                               Motor Diesel\n",
              "Año                                                         1991\n",
              "Kilometraje                                               5712.0\n",
              "Cero_km                                                    False\n",
              "Accesorios     ['Central multimedia', 'Techo panorámico', 'Fr...\n",
              "Valor                                                  106161.94\n",
              "Name: Passat, dtype: object"
            ]
          },
          "metadata": {},
          "execution_count": 15
        }
      ],
      "source": [
        "dataset.loc['Passat']"
      ]
    },
    {
      "cell_type": "code",
      "execution_count": 16,
      "metadata": {
        "id": "xdxkDrHvD1BS",
        "colab": {
          "base_uri": "https://localhost:8080/",
          "height": 143
        },
        "outputId": "52c8d7c5-f726-4ef0-bdb3-c9d56e643aa6"
      },
      "outputs": [
        {
          "output_type": "execute_result",
          "data": {
            "text/plain": [
              "                  Motor   Año  Kilometraje  Cero_km  \\\n",
              "Nombre                                                \n",
              "Passat     Motor Diesel  1991       5712.0    False   \n",
              "DS5     Motor 2.4 Turbo  2019          NaN     True   \n",
              "\n",
              "                                               Accesorios      Valor  \n",
              "Nombre                                                                \n",
              "Passat  ['Central multimedia', 'Techo panorámico', 'Fr...  106161.94  \n",
              "DS5     ['Cerraduras electricas', '4 X 4', 'Ventanas e...  124549.07  "
            ],
            "text/html": [
              "\n",
              "  <div id=\"df-5e373c6e-477d-4359-81e3-8f18b1ebe9f1\">\n",
              "    <div class=\"colab-df-container\">\n",
              "      <div>\n",
              "<style scoped>\n",
              "    .dataframe tbody tr th:only-of-type {\n",
              "        vertical-align: middle;\n",
              "    }\n",
              "\n",
              "    .dataframe tbody tr th {\n",
              "        vertical-align: top;\n",
              "    }\n",
              "\n",
              "    .dataframe thead th {\n",
              "        text-align: right;\n",
              "    }\n",
              "</style>\n",
              "<table border=\"1\" class=\"dataframe\">\n",
              "  <thead>\n",
              "    <tr style=\"text-align: right;\">\n",
              "      <th></th>\n",
              "      <th>Motor</th>\n",
              "      <th>Año</th>\n",
              "      <th>Kilometraje</th>\n",
              "      <th>Cero_km</th>\n",
              "      <th>Accesorios</th>\n",
              "      <th>Valor</th>\n",
              "    </tr>\n",
              "    <tr>\n",
              "      <th>Nombre</th>\n",
              "      <th></th>\n",
              "      <th></th>\n",
              "      <th></th>\n",
              "      <th></th>\n",
              "      <th></th>\n",
              "      <th></th>\n",
              "    </tr>\n",
              "  </thead>\n",
              "  <tbody>\n",
              "    <tr>\n",
              "      <th>Passat</th>\n",
              "      <td>Motor Diesel</td>\n",
              "      <td>1991</td>\n",
              "      <td>5712.0</td>\n",
              "      <td>False</td>\n",
              "      <td>['Central multimedia', 'Techo panorámico', 'Fr...</td>\n",
              "      <td>106161.94</td>\n",
              "    </tr>\n",
              "    <tr>\n",
              "      <th>DS5</th>\n",
              "      <td>Motor 2.4 Turbo</td>\n",
              "      <td>2019</td>\n",
              "      <td>NaN</td>\n",
              "      <td>True</td>\n",
              "      <td>['Cerraduras electricas', '4 X 4', 'Ventanas e...</td>\n",
              "      <td>124549.07</td>\n",
              "    </tr>\n",
              "  </tbody>\n",
              "</table>\n",
              "</div>\n",
              "      <button class=\"colab-df-convert\" onclick=\"convertToInteractive('df-5e373c6e-477d-4359-81e3-8f18b1ebe9f1')\"\n",
              "              title=\"Convert this dataframe to an interactive table.\"\n",
              "              style=\"display:none;\">\n",
              "        \n",
              "  <svg xmlns=\"http://www.w3.org/2000/svg\" height=\"24px\"viewBox=\"0 0 24 24\"\n",
              "       width=\"24px\">\n",
              "    <path d=\"M0 0h24v24H0V0z\" fill=\"none\"/>\n",
              "    <path d=\"M18.56 5.44l.94 2.06.94-2.06 2.06-.94-2.06-.94-.94-2.06-.94 2.06-2.06.94zm-11 1L8.5 8.5l.94-2.06 2.06-.94-2.06-.94L8.5 2.5l-.94 2.06-2.06.94zm10 10l.94 2.06.94-2.06 2.06-.94-2.06-.94-.94-2.06-.94 2.06-2.06.94z\"/><path d=\"M17.41 7.96l-1.37-1.37c-.4-.4-.92-.59-1.43-.59-.52 0-1.04.2-1.43.59L10.3 9.45l-7.72 7.72c-.78.78-.78 2.05 0 2.83L4 21.41c.39.39.9.59 1.41.59.51 0 1.02-.2 1.41-.59l7.78-7.78 2.81-2.81c.8-.78.8-2.07 0-2.86zM5.41 20L4 18.59l7.72-7.72 1.47 1.35L5.41 20z\"/>\n",
              "  </svg>\n",
              "      </button>\n",
              "      \n",
              "  <style>\n",
              "    .colab-df-container {\n",
              "      display:flex;\n",
              "      flex-wrap:wrap;\n",
              "      gap: 12px;\n",
              "    }\n",
              "\n",
              "    .colab-df-convert {\n",
              "      background-color: #E8F0FE;\n",
              "      border: none;\n",
              "      border-radius: 50%;\n",
              "      cursor: pointer;\n",
              "      display: none;\n",
              "      fill: #1967D2;\n",
              "      height: 32px;\n",
              "      padding: 0 0 0 0;\n",
              "      width: 32px;\n",
              "    }\n",
              "\n",
              "    .colab-df-convert:hover {\n",
              "      background-color: #E2EBFA;\n",
              "      box-shadow: 0px 1px 2px rgba(60, 64, 67, 0.3), 0px 1px 3px 1px rgba(60, 64, 67, 0.15);\n",
              "      fill: #174EA6;\n",
              "    }\n",
              "\n",
              "    [theme=dark] .colab-df-convert {\n",
              "      background-color: #3B4455;\n",
              "      fill: #D2E3FC;\n",
              "    }\n",
              "\n",
              "    [theme=dark] .colab-df-convert:hover {\n",
              "      background-color: #434B5C;\n",
              "      box-shadow: 0px 1px 3px 1px rgba(0, 0, 0, 0.15);\n",
              "      filter: drop-shadow(0px 1px 2px rgba(0, 0, 0, 0.3));\n",
              "      fill: #FFFFFF;\n",
              "    }\n",
              "  </style>\n",
              "\n",
              "      <script>\n",
              "        const buttonEl =\n",
              "          document.querySelector('#df-5e373c6e-477d-4359-81e3-8f18b1ebe9f1 button.colab-df-convert');\n",
              "        buttonEl.style.display =\n",
              "          google.colab.kernel.accessAllowed ? 'block' : 'none';\n",
              "\n",
              "        async function convertToInteractive(key) {\n",
              "          const element = document.querySelector('#df-5e373c6e-477d-4359-81e3-8f18b1ebe9f1');\n",
              "          const dataTable =\n",
              "            await google.colab.kernel.invokeFunction('convertToInteractive',\n",
              "                                                     [key], {});\n",
              "          if (!dataTable) return;\n",
              "\n",
              "          const docLinkHtml = 'Like what you see? Visit the ' +\n",
              "            '<a target=\"_blank\" href=https://colab.research.google.com/notebooks/data_table.ipynb>data table notebook</a>'\n",
              "            + ' to learn more about interactive tables.';\n",
              "          element.innerHTML = '';\n",
              "          dataTable['output_type'] = 'display_data';\n",
              "          await google.colab.output.renderOutput(dataTable, element);\n",
              "          const docLink = document.createElement('div');\n",
              "          docLink.innerHTML = docLinkHtml;\n",
              "          element.appendChild(docLink);\n",
              "        }\n",
              "      </script>\n",
              "    </div>\n",
              "  </div>\n",
              "  "
            ]
          },
          "metadata": {},
          "execution_count": 16
        }
      ],
      "source": [
        "# cuando se busca mas de un valor como no es una serie hay que buscarlo con doble []\n",
        "dataset.loc[['Passat', 'DS5']]"
      ]
    },
    {
      "cell_type": "code",
      "execution_count": 17,
      "metadata": {
        "id": "pMN3U1KjD1BS",
        "colab": {
          "base_uri": "https://localhost:8080/",
          "height": 143
        },
        "outputId": "58c81ad0-acea-496d-b23a-76578d5f24c7"
      },
      "outputs": [
        {
          "output_type": "execute_result",
          "data": {
            "text/plain": [
              "                  Motor      Valor\n",
              "Nombre                            \n",
              "Passat     Motor Diesel  106161.94\n",
              "DS5     Motor 2.4 Turbo  124549.07"
            ],
            "text/html": [
              "\n",
              "  <div id=\"df-953ce276-d34c-461c-8434-2c1165f340d5\">\n",
              "    <div class=\"colab-df-container\">\n",
              "      <div>\n",
              "<style scoped>\n",
              "    .dataframe tbody tr th:only-of-type {\n",
              "        vertical-align: middle;\n",
              "    }\n",
              "\n",
              "    .dataframe tbody tr th {\n",
              "        vertical-align: top;\n",
              "    }\n",
              "\n",
              "    .dataframe thead th {\n",
              "        text-align: right;\n",
              "    }\n",
              "</style>\n",
              "<table border=\"1\" class=\"dataframe\">\n",
              "  <thead>\n",
              "    <tr style=\"text-align: right;\">\n",
              "      <th></th>\n",
              "      <th>Motor</th>\n",
              "      <th>Valor</th>\n",
              "    </tr>\n",
              "    <tr>\n",
              "      <th>Nombre</th>\n",
              "      <th></th>\n",
              "      <th></th>\n",
              "    </tr>\n",
              "  </thead>\n",
              "  <tbody>\n",
              "    <tr>\n",
              "      <th>Passat</th>\n",
              "      <td>Motor Diesel</td>\n",
              "      <td>106161.94</td>\n",
              "    </tr>\n",
              "    <tr>\n",
              "      <th>DS5</th>\n",
              "      <td>Motor 2.4 Turbo</td>\n",
              "      <td>124549.07</td>\n",
              "    </tr>\n",
              "  </tbody>\n",
              "</table>\n",
              "</div>\n",
              "      <button class=\"colab-df-convert\" onclick=\"convertToInteractive('df-953ce276-d34c-461c-8434-2c1165f340d5')\"\n",
              "              title=\"Convert this dataframe to an interactive table.\"\n",
              "              style=\"display:none;\">\n",
              "        \n",
              "  <svg xmlns=\"http://www.w3.org/2000/svg\" height=\"24px\"viewBox=\"0 0 24 24\"\n",
              "       width=\"24px\">\n",
              "    <path d=\"M0 0h24v24H0V0z\" fill=\"none\"/>\n",
              "    <path d=\"M18.56 5.44l.94 2.06.94-2.06 2.06-.94-2.06-.94-.94-2.06-.94 2.06-2.06.94zm-11 1L8.5 8.5l.94-2.06 2.06-.94-2.06-.94L8.5 2.5l-.94 2.06-2.06.94zm10 10l.94 2.06.94-2.06 2.06-.94-2.06-.94-.94-2.06-.94 2.06-2.06.94z\"/><path d=\"M17.41 7.96l-1.37-1.37c-.4-.4-.92-.59-1.43-.59-.52 0-1.04.2-1.43.59L10.3 9.45l-7.72 7.72c-.78.78-.78 2.05 0 2.83L4 21.41c.39.39.9.59 1.41.59.51 0 1.02-.2 1.41-.59l7.78-7.78 2.81-2.81c.8-.78.8-2.07 0-2.86zM5.41 20L4 18.59l7.72-7.72 1.47 1.35L5.41 20z\"/>\n",
              "  </svg>\n",
              "      </button>\n",
              "      \n",
              "  <style>\n",
              "    .colab-df-container {\n",
              "      display:flex;\n",
              "      flex-wrap:wrap;\n",
              "      gap: 12px;\n",
              "    }\n",
              "\n",
              "    .colab-df-convert {\n",
              "      background-color: #E8F0FE;\n",
              "      border: none;\n",
              "      border-radius: 50%;\n",
              "      cursor: pointer;\n",
              "      display: none;\n",
              "      fill: #1967D2;\n",
              "      height: 32px;\n",
              "      padding: 0 0 0 0;\n",
              "      width: 32px;\n",
              "    }\n",
              "\n",
              "    .colab-df-convert:hover {\n",
              "      background-color: #E2EBFA;\n",
              "      box-shadow: 0px 1px 2px rgba(60, 64, 67, 0.3), 0px 1px 3px 1px rgba(60, 64, 67, 0.15);\n",
              "      fill: #174EA6;\n",
              "    }\n",
              "\n",
              "    [theme=dark] .colab-df-convert {\n",
              "      background-color: #3B4455;\n",
              "      fill: #D2E3FC;\n",
              "    }\n",
              "\n",
              "    [theme=dark] .colab-df-convert:hover {\n",
              "      background-color: #434B5C;\n",
              "      box-shadow: 0px 1px 3px 1px rgba(0, 0, 0, 0.15);\n",
              "      filter: drop-shadow(0px 1px 2px rgba(0, 0, 0, 0.3));\n",
              "      fill: #FFFFFF;\n",
              "    }\n",
              "  </style>\n",
              "\n",
              "      <script>\n",
              "        const buttonEl =\n",
              "          document.querySelector('#df-953ce276-d34c-461c-8434-2c1165f340d5 button.colab-df-convert');\n",
              "        buttonEl.style.display =\n",
              "          google.colab.kernel.accessAllowed ? 'block' : 'none';\n",
              "\n",
              "        async function convertToInteractive(key) {\n",
              "          const element = document.querySelector('#df-953ce276-d34c-461c-8434-2c1165f340d5');\n",
              "          const dataTable =\n",
              "            await google.colab.kernel.invokeFunction('convertToInteractive',\n",
              "                                                     [key], {});\n",
              "          if (!dataTable) return;\n",
              "\n",
              "          const docLinkHtml = 'Like what you see? Visit the ' +\n",
              "            '<a target=\"_blank\" href=https://colab.research.google.com/notebooks/data_table.ipynb>data table notebook</a>'\n",
              "            + ' to learn more about interactive tables.';\n",
              "          element.innerHTML = '';\n",
              "          dataTable['output_type'] = 'display_data';\n",
              "          await google.colab.output.renderOutput(dataTable, element);\n",
              "          const docLink = document.createElement('div');\n",
              "          docLink.innerHTML = docLinkHtml;\n",
              "          element.appendChild(docLink);\n",
              "        }\n",
              "      </script>\n",
              "    </div>\n",
              "  </div>\n",
              "  "
            ]
          },
          "metadata": {},
          "execution_count": 17
        }
      ],
      "source": [
        "#Para mostrar solo algunas columnas\n",
        "dataset.loc[['Passat', 'DS5'], ['Motor', 'Valor']]"
      ]
    },
    {
      "cell_type": "code",
      "execution_count": 18,
      "metadata": {
        "id": "oOEO72uZD1BT",
        "scrolled": true,
        "colab": {
          "base_uri": "https://localhost:8080/",
          "height": 455
        },
        "outputId": "6b043c85-4bdd-4631-d426-476de7e69136"
      },
      "outputs": [
        {
          "output_type": "execute_result",
          "data": {
            "text/plain": [
              "                                       Motor      Valor\n",
              "Nombre                                                 \n",
              "Jetta Variant                Motor 4.0 Turbo   88078.64\n",
              "Passat                          Motor Diesel  106161.94\n",
              "Crossfox                     Motor Diesel V8   72832.16\n",
              "DS5                          Motor 2.4 Turbo  124549.07\n",
              "Aston Martin DB4             Motor 2.4 Turbo   92612.10\n",
              "...                                      ...        ...\n",
              "Phantom 2013                        Motor V8   51759.58\n",
              "Cadillac Ciel concept               Motor V8   51667.06\n",
              "Classe GLK             Motor 5.0 V8 Bi-Turbo   68934.03\n",
              "Aston Martin DB5                Motor Diesel  122110.90\n",
              "Macan                        Motor Diesel V6   90381.47\n",
              "\n",
              "[258 rows x 2 columns]"
            ],
            "text/html": [
              "\n",
              "  <div id=\"df-093de8ef-88b7-4fd4-a188-1575305dbd59\">\n",
              "    <div class=\"colab-df-container\">\n",
              "      <div>\n",
              "<style scoped>\n",
              "    .dataframe tbody tr th:only-of-type {\n",
              "        vertical-align: middle;\n",
              "    }\n",
              "\n",
              "    .dataframe tbody tr th {\n",
              "        vertical-align: top;\n",
              "    }\n",
              "\n",
              "    .dataframe thead th {\n",
              "        text-align: right;\n",
              "    }\n",
              "</style>\n",
              "<table border=\"1\" class=\"dataframe\">\n",
              "  <thead>\n",
              "    <tr style=\"text-align: right;\">\n",
              "      <th></th>\n",
              "      <th>Motor</th>\n",
              "      <th>Valor</th>\n",
              "    </tr>\n",
              "    <tr>\n",
              "      <th>Nombre</th>\n",
              "      <th></th>\n",
              "      <th></th>\n",
              "    </tr>\n",
              "  </thead>\n",
              "  <tbody>\n",
              "    <tr>\n",
              "      <th>Jetta Variant</th>\n",
              "      <td>Motor 4.0 Turbo</td>\n",
              "      <td>88078.64</td>\n",
              "    </tr>\n",
              "    <tr>\n",
              "      <th>Passat</th>\n",
              "      <td>Motor Diesel</td>\n",
              "      <td>106161.94</td>\n",
              "    </tr>\n",
              "    <tr>\n",
              "      <th>Crossfox</th>\n",
              "      <td>Motor Diesel V8</td>\n",
              "      <td>72832.16</td>\n",
              "    </tr>\n",
              "    <tr>\n",
              "      <th>DS5</th>\n",
              "      <td>Motor 2.4 Turbo</td>\n",
              "      <td>124549.07</td>\n",
              "    </tr>\n",
              "    <tr>\n",
              "      <th>Aston Martin DB4</th>\n",
              "      <td>Motor 2.4 Turbo</td>\n",
              "      <td>92612.10</td>\n",
              "    </tr>\n",
              "    <tr>\n",
              "      <th>...</th>\n",
              "      <td>...</td>\n",
              "      <td>...</td>\n",
              "    </tr>\n",
              "    <tr>\n",
              "      <th>Phantom 2013</th>\n",
              "      <td>Motor V8</td>\n",
              "      <td>51759.58</td>\n",
              "    </tr>\n",
              "    <tr>\n",
              "      <th>Cadillac Ciel concept</th>\n",
              "      <td>Motor V8</td>\n",
              "      <td>51667.06</td>\n",
              "    </tr>\n",
              "    <tr>\n",
              "      <th>Classe GLK</th>\n",
              "      <td>Motor 5.0 V8 Bi-Turbo</td>\n",
              "      <td>68934.03</td>\n",
              "    </tr>\n",
              "    <tr>\n",
              "      <th>Aston Martin DB5</th>\n",
              "      <td>Motor Diesel</td>\n",
              "      <td>122110.90</td>\n",
              "    </tr>\n",
              "    <tr>\n",
              "      <th>Macan</th>\n",
              "      <td>Motor Diesel V6</td>\n",
              "      <td>90381.47</td>\n",
              "    </tr>\n",
              "  </tbody>\n",
              "</table>\n",
              "<p>258 rows × 2 columns</p>\n",
              "</div>\n",
              "      <button class=\"colab-df-convert\" onclick=\"convertToInteractive('df-093de8ef-88b7-4fd4-a188-1575305dbd59')\"\n",
              "              title=\"Convert this dataframe to an interactive table.\"\n",
              "              style=\"display:none;\">\n",
              "        \n",
              "  <svg xmlns=\"http://www.w3.org/2000/svg\" height=\"24px\"viewBox=\"0 0 24 24\"\n",
              "       width=\"24px\">\n",
              "    <path d=\"M0 0h24v24H0V0z\" fill=\"none\"/>\n",
              "    <path d=\"M18.56 5.44l.94 2.06.94-2.06 2.06-.94-2.06-.94-.94-2.06-.94 2.06-2.06.94zm-11 1L8.5 8.5l.94-2.06 2.06-.94-2.06-.94L8.5 2.5l-.94 2.06-2.06.94zm10 10l.94 2.06.94-2.06 2.06-.94-2.06-.94-.94-2.06-.94 2.06-2.06.94z\"/><path d=\"M17.41 7.96l-1.37-1.37c-.4-.4-.92-.59-1.43-.59-.52 0-1.04.2-1.43.59L10.3 9.45l-7.72 7.72c-.78.78-.78 2.05 0 2.83L4 21.41c.39.39.9.59 1.41.59.51 0 1.02-.2 1.41-.59l7.78-7.78 2.81-2.81c.8-.78.8-2.07 0-2.86zM5.41 20L4 18.59l7.72-7.72 1.47 1.35L5.41 20z\"/>\n",
              "  </svg>\n",
              "      </button>\n",
              "      \n",
              "  <style>\n",
              "    .colab-df-container {\n",
              "      display:flex;\n",
              "      flex-wrap:wrap;\n",
              "      gap: 12px;\n",
              "    }\n",
              "\n",
              "    .colab-df-convert {\n",
              "      background-color: #E8F0FE;\n",
              "      border: none;\n",
              "      border-radius: 50%;\n",
              "      cursor: pointer;\n",
              "      display: none;\n",
              "      fill: #1967D2;\n",
              "      height: 32px;\n",
              "      padding: 0 0 0 0;\n",
              "      width: 32px;\n",
              "    }\n",
              "\n",
              "    .colab-df-convert:hover {\n",
              "      background-color: #E2EBFA;\n",
              "      box-shadow: 0px 1px 2px rgba(60, 64, 67, 0.3), 0px 1px 3px 1px rgba(60, 64, 67, 0.15);\n",
              "      fill: #174EA6;\n",
              "    }\n",
              "\n",
              "    [theme=dark] .colab-df-convert {\n",
              "      background-color: #3B4455;\n",
              "      fill: #D2E3FC;\n",
              "    }\n",
              "\n",
              "    [theme=dark] .colab-df-convert:hover {\n",
              "      background-color: #434B5C;\n",
              "      box-shadow: 0px 1px 3px 1px rgba(0, 0, 0, 0.15);\n",
              "      filter: drop-shadow(0px 1px 2px rgba(0, 0, 0, 0.3));\n",
              "      fill: #FFFFFF;\n",
              "    }\n",
              "  </style>\n",
              "\n",
              "      <script>\n",
              "        const buttonEl =\n",
              "          document.querySelector('#df-093de8ef-88b7-4fd4-a188-1575305dbd59 button.colab-df-convert');\n",
              "        buttonEl.style.display =\n",
              "          google.colab.kernel.accessAllowed ? 'block' : 'none';\n",
              "\n",
              "        async function convertToInteractive(key) {\n",
              "          const element = document.querySelector('#df-093de8ef-88b7-4fd4-a188-1575305dbd59');\n",
              "          const dataTable =\n",
              "            await google.colab.kernel.invokeFunction('convertToInteractive',\n",
              "                                                     [key], {});\n",
              "          if (!dataTable) return;\n",
              "\n",
              "          const docLinkHtml = 'Like what you see? Visit the ' +\n",
              "            '<a target=\"_blank\" href=https://colab.research.google.com/notebooks/data_table.ipynb>data table notebook</a>'\n",
              "            + ' to learn more about interactive tables.';\n",
              "          element.innerHTML = '';\n",
              "          dataTable['output_type'] = 'display_data';\n",
              "          await google.colab.output.renderOutput(dataTable, element);\n",
              "          const docLink = document.createElement('div');\n",
              "          docLink.innerHTML = docLinkHtml;\n",
              "          element.appendChild(docLink);\n",
              "        }\n",
              "      </script>\n",
              "    </div>\n",
              "  </div>\n",
              "  "
            ]
          },
          "metadata": {},
          "execution_count": 18
        }
      ],
      "source": [
        "#Para mostrar todas las columnas\n",
        "dataset.loc[:, ['Motor', 'Valor']]"
      ]
    },
    {
      "cell_type": "markdown",
      "metadata": {
        "id": "SYKEe3vCD1BT"
      },
      "source": [
        "### Utilizando .iloc para selecciones\n",
        "\n",
        "<font color=red>**Observación:**</font> Selecciona con base en los índices, es decir, utiliza la posición de las informaciones."
      ]
    },
    {
      "cell_type": "code",
      "execution_count": 19,
      "metadata": {
        "id": "U4Bru90bD1BT",
        "colab": {
          "base_uri": "https://localhost:8080/",
          "height": 237
        },
        "outputId": "12443b9b-10f6-44d3-dca8-abfea67b6292"
      },
      "outputs": [
        {
          "output_type": "execute_result",
          "data": {
            "text/plain": [
              "                            Motor   Año  Kilometraje  Cero_km  \\\n",
              "Nombre                                                          \n",
              "Jetta Variant     Motor 4.0 Turbo  2003      44410.0    False   \n",
              "Passat               Motor Diesel  1991       5712.0    False   \n",
              "Crossfox          Motor Diesel V8  1990      37123.0    False   \n",
              "DS5               Motor 2.4 Turbo  2019          NaN     True   \n",
              "Aston Martin DB4  Motor 2.4 Turbo  2006      25757.0    False   \n",
              "\n",
              "                                                         Accesorios      Valor  \n",
              "Nombre                                                                          \n",
              "Jetta Variant     ['Llantas de aleación', 'Cerraduras electricas...   88078.64  \n",
              "Passat            ['Central multimedia', 'Techo panorámico', 'Fr...  106161.94  \n",
              "Crossfox          ['Piloto automático', 'Control de estabilidad'...   72832.16  \n",
              "DS5               ['Cerraduras electricas', '4 X 4', 'Ventanas e...  124549.07  \n",
              "Aston Martin DB4  ['Llantas de aleación', '4 X 4', 'Central mult...   92612.10  "
            ],
            "text/html": [
              "\n",
              "  <div id=\"df-eb4ed7bc-91f7-41eb-ad9d-f08ae6c55cc4\">\n",
              "    <div class=\"colab-df-container\">\n",
              "      <div>\n",
              "<style scoped>\n",
              "    .dataframe tbody tr th:only-of-type {\n",
              "        vertical-align: middle;\n",
              "    }\n",
              "\n",
              "    .dataframe tbody tr th {\n",
              "        vertical-align: top;\n",
              "    }\n",
              "\n",
              "    .dataframe thead th {\n",
              "        text-align: right;\n",
              "    }\n",
              "</style>\n",
              "<table border=\"1\" class=\"dataframe\">\n",
              "  <thead>\n",
              "    <tr style=\"text-align: right;\">\n",
              "      <th></th>\n",
              "      <th>Motor</th>\n",
              "      <th>Año</th>\n",
              "      <th>Kilometraje</th>\n",
              "      <th>Cero_km</th>\n",
              "      <th>Accesorios</th>\n",
              "      <th>Valor</th>\n",
              "    </tr>\n",
              "    <tr>\n",
              "      <th>Nombre</th>\n",
              "      <th></th>\n",
              "      <th></th>\n",
              "      <th></th>\n",
              "      <th></th>\n",
              "      <th></th>\n",
              "      <th></th>\n",
              "    </tr>\n",
              "  </thead>\n",
              "  <tbody>\n",
              "    <tr>\n",
              "      <th>Jetta Variant</th>\n",
              "      <td>Motor 4.0 Turbo</td>\n",
              "      <td>2003</td>\n",
              "      <td>44410.0</td>\n",
              "      <td>False</td>\n",
              "      <td>['Llantas de aleación', 'Cerraduras electricas...</td>\n",
              "      <td>88078.64</td>\n",
              "    </tr>\n",
              "    <tr>\n",
              "      <th>Passat</th>\n",
              "      <td>Motor Diesel</td>\n",
              "      <td>1991</td>\n",
              "      <td>5712.0</td>\n",
              "      <td>False</td>\n",
              "      <td>['Central multimedia', 'Techo panorámico', 'Fr...</td>\n",
              "      <td>106161.94</td>\n",
              "    </tr>\n",
              "    <tr>\n",
              "      <th>Crossfox</th>\n",
              "      <td>Motor Diesel V8</td>\n",
              "      <td>1990</td>\n",
              "      <td>37123.0</td>\n",
              "      <td>False</td>\n",
              "      <td>['Piloto automático', 'Control de estabilidad'...</td>\n",
              "      <td>72832.16</td>\n",
              "    </tr>\n",
              "    <tr>\n",
              "      <th>DS5</th>\n",
              "      <td>Motor 2.4 Turbo</td>\n",
              "      <td>2019</td>\n",
              "      <td>NaN</td>\n",
              "      <td>True</td>\n",
              "      <td>['Cerraduras electricas', '4 X 4', 'Ventanas e...</td>\n",
              "      <td>124549.07</td>\n",
              "    </tr>\n",
              "    <tr>\n",
              "      <th>Aston Martin DB4</th>\n",
              "      <td>Motor 2.4 Turbo</td>\n",
              "      <td>2006</td>\n",
              "      <td>25757.0</td>\n",
              "      <td>False</td>\n",
              "      <td>['Llantas de aleación', '4 X 4', 'Central mult...</td>\n",
              "      <td>92612.10</td>\n",
              "    </tr>\n",
              "  </tbody>\n",
              "</table>\n",
              "</div>\n",
              "      <button class=\"colab-df-convert\" onclick=\"convertToInteractive('df-eb4ed7bc-91f7-41eb-ad9d-f08ae6c55cc4')\"\n",
              "              title=\"Convert this dataframe to an interactive table.\"\n",
              "              style=\"display:none;\">\n",
              "        \n",
              "  <svg xmlns=\"http://www.w3.org/2000/svg\" height=\"24px\"viewBox=\"0 0 24 24\"\n",
              "       width=\"24px\">\n",
              "    <path d=\"M0 0h24v24H0V0z\" fill=\"none\"/>\n",
              "    <path d=\"M18.56 5.44l.94 2.06.94-2.06 2.06-.94-2.06-.94-.94-2.06-.94 2.06-2.06.94zm-11 1L8.5 8.5l.94-2.06 2.06-.94-2.06-.94L8.5 2.5l-.94 2.06-2.06.94zm10 10l.94 2.06.94-2.06 2.06-.94-2.06-.94-.94-2.06-.94 2.06-2.06.94z\"/><path d=\"M17.41 7.96l-1.37-1.37c-.4-.4-.92-.59-1.43-.59-.52 0-1.04.2-1.43.59L10.3 9.45l-7.72 7.72c-.78.78-.78 2.05 0 2.83L4 21.41c.39.39.9.59 1.41.59.51 0 1.02-.2 1.41-.59l7.78-7.78 2.81-2.81c.8-.78.8-2.07 0-2.86zM5.41 20L4 18.59l7.72-7.72 1.47 1.35L5.41 20z\"/>\n",
              "  </svg>\n",
              "      </button>\n",
              "      \n",
              "  <style>\n",
              "    .colab-df-container {\n",
              "      display:flex;\n",
              "      flex-wrap:wrap;\n",
              "      gap: 12px;\n",
              "    }\n",
              "\n",
              "    .colab-df-convert {\n",
              "      background-color: #E8F0FE;\n",
              "      border: none;\n",
              "      border-radius: 50%;\n",
              "      cursor: pointer;\n",
              "      display: none;\n",
              "      fill: #1967D2;\n",
              "      height: 32px;\n",
              "      padding: 0 0 0 0;\n",
              "      width: 32px;\n",
              "    }\n",
              "\n",
              "    .colab-df-convert:hover {\n",
              "      background-color: #E2EBFA;\n",
              "      box-shadow: 0px 1px 2px rgba(60, 64, 67, 0.3), 0px 1px 3px 1px rgba(60, 64, 67, 0.15);\n",
              "      fill: #174EA6;\n",
              "    }\n",
              "\n",
              "    [theme=dark] .colab-df-convert {\n",
              "      background-color: #3B4455;\n",
              "      fill: #D2E3FC;\n",
              "    }\n",
              "\n",
              "    [theme=dark] .colab-df-convert:hover {\n",
              "      background-color: #434B5C;\n",
              "      box-shadow: 0px 1px 3px 1px rgba(0, 0, 0, 0.15);\n",
              "      filter: drop-shadow(0px 1px 2px rgba(0, 0, 0, 0.3));\n",
              "      fill: #FFFFFF;\n",
              "    }\n",
              "  </style>\n",
              "\n",
              "      <script>\n",
              "        const buttonEl =\n",
              "          document.querySelector('#df-eb4ed7bc-91f7-41eb-ad9d-f08ae6c55cc4 button.colab-df-convert');\n",
              "        buttonEl.style.display =\n",
              "          google.colab.kernel.accessAllowed ? 'block' : 'none';\n",
              "\n",
              "        async function convertToInteractive(key) {\n",
              "          const element = document.querySelector('#df-eb4ed7bc-91f7-41eb-ad9d-f08ae6c55cc4');\n",
              "          const dataTable =\n",
              "            await google.colab.kernel.invokeFunction('convertToInteractive',\n",
              "                                                     [key], {});\n",
              "          if (!dataTable) return;\n",
              "\n",
              "          const docLinkHtml = 'Like what you see? Visit the ' +\n",
              "            '<a target=\"_blank\" href=https://colab.research.google.com/notebooks/data_table.ipynb>data table notebook</a>'\n",
              "            + ' to learn more about interactive tables.';\n",
              "          element.innerHTML = '';\n",
              "          dataTable['output_type'] = 'display_data';\n",
              "          await google.colab.output.renderOutput(dataTable, element);\n",
              "          const docLink = document.createElement('div');\n",
              "          docLink.innerHTML = docLinkHtml;\n",
              "          element.appendChild(docLink);\n",
              "        }\n",
              "      </script>\n",
              "    </div>\n",
              "  </div>\n",
              "  "
            ]
          },
          "metadata": {},
          "execution_count": 19
        }
      ],
      "source": [
        "dataset.head()"
      ]
    },
    {
      "cell_type": "code",
      "execution_count": 20,
      "metadata": {
        "id": "iLKUyrzND1BU",
        "colab": {
          "base_uri": "https://localhost:8080/",
          "height": 112
        },
        "outputId": "1b1dedba-da6c-49aa-d766-8524f64b1886"
      },
      "outputs": [
        {
          "output_type": "execute_result",
          "data": {
            "text/plain": [
              "               Motor   Año  Kilometraje  Cero_km  \\\n",
              "Nombre                                             \n",
              "Passat  Motor Diesel  1991       5712.0    False   \n",
              "\n",
              "                                               Accesorios      Valor  \n",
              "Nombre                                                                \n",
              "Passat  ['Central multimedia', 'Techo panorámico', 'Fr...  106161.94  "
            ],
            "text/html": [
              "\n",
              "  <div id=\"df-e55f5df9-d805-462b-8f9e-e42bd2886911\">\n",
              "    <div class=\"colab-df-container\">\n",
              "      <div>\n",
              "<style scoped>\n",
              "    .dataframe tbody tr th:only-of-type {\n",
              "        vertical-align: middle;\n",
              "    }\n",
              "\n",
              "    .dataframe tbody tr th {\n",
              "        vertical-align: top;\n",
              "    }\n",
              "\n",
              "    .dataframe thead th {\n",
              "        text-align: right;\n",
              "    }\n",
              "</style>\n",
              "<table border=\"1\" class=\"dataframe\">\n",
              "  <thead>\n",
              "    <tr style=\"text-align: right;\">\n",
              "      <th></th>\n",
              "      <th>Motor</th>\n",
              "      <th>Año</th>\n",
              "      <th>Kilometraje</th>\n",
              "      <th>Cero_km</th>\n",
              "      <th>Accesorios</th>\n",
              "      <th>Valor</th>\n",
              "    </tr>\n",
              "    <tr>\n",
              "      <th>Nombre</th>\n",
              "      <th></th>\n",
              "      <th></th>\n",
              "      <th></th>\n",
              "      <th></th>\n",
              "      <th></th>\n",
              "      <th></th>\n",
              "    </tr>\n",
              "  </thead>\n",
              "  <tbody>\n",
              "    <tr>\n",
              "      <th>Passat</th>\n",
              "      <td>Motor Diesel</td>\n",
              "      <td>1991</td>\n",
              "      <td>5712.0</td>\n",
              "      <td>False</td>\n",
              "      <td>['Central multimedia', 'Techo panorámico', 'Fr...</td>\n",
              "      <td>106161.94</td>\n",
              "    </tr>\n",
              "  </tbody>\n",
              "</table>\n",
              "</div>\n",
              "      <button class=\"colab-df-convert\" onclick=\"convertToInteractive('df-e55f5df9-d805-462b-8f9e-e42bd2886911')\"\n",
              "              title=\"Convert this dataframe to an interactive table.\"\n",
              "              style=\"display:none;\">\n",
              "        \n",
              "  <svg xmlns=\"http://www.w3.org/2000/svg\" height=\"24px\"viewBox=\"0 0 24 24\"\n",
              "       width=\"24px\">\n",
              "    <path d=\"M0 0h24v24H0V0z\" fill=\"none\"/>\n",
              "    <path d=\"M18.56 5.44l.94 2.06.94-2.06 2.06-.94-2.06-.94-.94-2.06-.94 2.06-2.06.94zm-11 1L8.5 8.5l.94-2.06 2.06-.94-2.06-.94L8.5 2.5l-.94 2.06-2.06.94zm10 10l.94 2.06.94-2.06 2.06-.94-2.06-.94-.94-2.06-.94 2.06-2.06.94z\"/><path d=\"M17.41 7.96l-1.37-1.37c-.4-.4-.92-.59-1.43-.59-.52 0-1.04.2-1.43.59L10.3 9.45l-7.72 7.72c-.78.78-.78 2.05 0 2.83L4 21.41c.39.39.9.59 1.41.59.51 0 1.02-.2 1.41-.59l7.78-7.78 2.81-2.81c.8-.78.8-2.07 0-2.86zM5.41 20L4 18.59l7.72-7.72 1.47 1.35L5.41 20z\"/>\n",
              "  </svg>\n",
              "      </button>\n",
              "      \n",
              "  <style>\n",
              "    .colab-df-container {\n",
              "      display:flex;\n",
              "      flex-wrap:wrap;\n",
              "      gap: 12px;\n",
              "    }\n",
              "\n",
              "    .colab-df-convert {\n",
              "      background-color: #E8F0FE;\n",
              "      border: none;\n",
              "      border-radius: 50%;\n",
              "      cursor: pointer;\n",
              "      display: none;\n",
              "      fill: #1967D2;\n",
              "      height: 32px;\n",
              "      padding: 0 0 0 0;\n",
              "      width: 32px;\n",
              "    }\n",
              "\n",
              "    .colab-df-convert:hover {\n",
              "      background-color: #E2EBFA;\n",
              "      box-shadow: 0px 1px 2px rgba(60, 64, 67, 0.3), 0px 1px 3px 1px rgba(60, 64, 67, 0.15);\n",
              "      fill: #174EA6;\n",
              "    }\n",
              "\n",
              "    [theme=dark] .colab-df-convert {\n",
              "      background-color: #3B4455;\n",
              "      fill: #D2E3FC;\n",
              "    }\n",
              "\n",
              "    [theme=dark] .colab-df-convert:hover {\n",
              "      background-color: #434B5C;\n",
              "      box-shadow: 0px 1px 3px 1px rgba(0, 0, 0, 0.15);\n",
              "      filter: drop-shadow(0px 1px 2px rgba(0, 0, 0, 0.3));\n",
              "      fill: #FFFFFF;\n",
              "    }\n",
              "  </style>\n",
              "\n",
              "      <script>\n",
              "        const buttonEl =\n",
              "          document.querySelector('#df-e55f5df9-d805-462b-8f9e-e42bd2886911 button.colab-df-convert');\n",
              "        buttonEl.style.display =\n",
              "          google.colab.kernel.accessAllowed ? 'block' : 'none';\n",
              "\n",
              "        async function convertToInteractive(key) {\n",
              "          const element = document.querySelector('#df-e55f5df9-d805-462b-8f9e-e42bd2886911');\n",
              "          const dataTable =\n",
              "            await google.colab.kernel.invokeFunction('convertToInteractive',\n",
              "                                                     [key], {});\n",
              "          if (!dataTable) return;\n",
              "\n",
              "          const docLinkHtml = 'Like what you see? Visit the ' +\n",
              "            '<a target=\"_blank\" href=https://colab.research.google.com/notebooks/data_table.ipynb>data table notebook</a>'\n",
              "            + ' to learn more about interactive tables.';\n",
              "          element.innerHTML = '';\n",
              "          dataTable['output_type'] = 'display_data';\n",
              "          await google.colab.output.renderOutput(dataTable, element);\n",
              "          const docLink = document.createElement('div');\n",
              "          docLink.innerHTML = docLinkHtml;\n",
              "          element.appendChild(docLink);\n",
              "        }\n",
              "      </script>\n",
              "    </div>\n",
              "  </div>\n",
              "  "
            ]
          },
          "metadata": {},
          "execution_count": 20
        }
      ],
      "source": [
        "dataset.iloc[[1]]"
      ]
    },
    {
      "cell_type": "code",
      "execution_count": 22,
      "metadata": {
        "id": "KGZpixYUD1BU",
        "colab": {
          "base_uri": "https://localhost:8080/",
          "height": 175
        },
        "outputId": "4be5ef3f-f568-41de-dba8-d37f75a7b8fe"
      },
      "outputs": [
        {
          "output_type": "execute_result",
          "data": {
            "text/plain": [
              "                    Motor   Año  Kilometraje  Cero_km  \\\n",
              "Nombre                                                  \n",
              "Passat       Motor Diesel  1991       5712.0    False   \n",
              "Crossfox  Motor Diesel V8  1990      37123.0    False   \n",
              "DS5       Motor 2.4 Turbo  2019          NaN     True   \n",
              "\n",
              "                                                 Accesorios      Valor  \n",
              "Nombre                                                                  \n",
              "Passat    ['Central multimedia', 'Techo panorámico', 'Fr...  106161.94  \n",
              "Crossfox  ['Piloto automático', 'Control de estabilidad'...   72832.16  \n",
              "DS5       ['Cerraduras electricas', '4 X 4', 'Ventanas e...  124549.07  "
            ],
            "text/html": [
              "\n",
              "  <div id=\"df-72fe6f50-539a-49f0-9679-73480cba5d7a\">\n",
              "    <div class=\"colab-df-container\">\n",
              "      <div>\n",
              "<style scoped>\n",
              "    .dataframe tbody tr th:only-of-type {\n",
              "        vertical-align: middle;\n",
              "    }\n",
              "\n",
              "    .dataframe tbody tr th {\n",
              "        vertical-align: top;\n",
              "    }\n",
              "\n",
              "    .dataframe thead th {\n",
              "        text-align: right;\n",
              "    }\n",
              "</style>\n",
              "<table border=\"1\" class=\"dataframe\">\n",
              "  <thead>\n",
              "    <tr style=\"text-align: right;\">\n",
              "      <th></th>\n",
              "      <th>Motor</th>\n",
              "      <th>Año</th>\n",
              "      <th>Kilometraje</th>\n",
              "      <th>Cero_km</th>\n",
              "      <th>Accesorios</th>\n",
              "      <th>Valor</th>\n",
              "    </tr>\n",
              "    <tr>\n",
              "      <th>Nombre</th>\n",
              "      <th></th>\n",
              "      <th></th>\n",
              "      <th></th>\n",
              "      <th></th>\n",
              "      <th></th>\n",
              "      <th></th>\n",
              "    </tr>\n",
              "  </thead>\n",
              "  <tbody>\n",
              "    <tr>\n",
              "      <th>Passat</th>\n",
              "      <td>Motor Diesel</td>\n",
              "      <td>1991</td>\n",
              "      <td>5712.0</td>\n",
              "      <td>False</td>\n",
              "      <td>['Central multimedia', 'Techo panorámico', 'Fr...</td>\n",
              "      <td>106161.94</td>\n",
              "    </tr>\n",
              "    <tr>\n",
              "      <th>Crossfox</th>\n",
              "      <td>Motor Diesel V8</td>\n",
              "      <td>1990</td>\n",
              "      <td>37123.0</td>\n",
              "      <td>False</td>\n",
              "      <td>['Piloto automático', 'Control de estabilidad'...</td>\n",
              "      <td>72832.16</td>\n",
              "    </tr>\n",
              "    <tr>\n",
              "      <th>DS5</th>\n",
              "      <td>Motor 2.4 Turbo</td>\n",
              "      <td>2019</td>\n",
              "      <td>NaN</td>\n",
              "      <td>True</td>\n",
              "      <td>['Cerraduras electricas', '4 X 4', 'Ventanas e...</td>\n",
              "      <td>124549.07</td>\n",
              "    </tr>\n",
              "  </tbody>\n",
              "</table>\n",
              "</div>\n",
              "      <button class=\"colab-df-convert\" onclick=\"convertToInteractive('df-72fe6f50-539a-49f0-9679-73480cba5d7a')\"\n",
              "              title=\"Convert this dataframe to an interactive table.\"\n",
              "              style=\"display:none;\">\n",
              "        \n",
              "  <svg xmlns=\"http://www.w3.org/2000/svg\" height=\"24px\"viewBox=\"0 0 24 24\"\n",
              "       width=\"24px\">\n",
              "    <path d=\"M0 0h24v24H0V0z\" fill=\"none\"/>\n",
              "    <path d=\"M18.56 5.44l.94 2.06.94-2.06 2.06-.94-2.06-.94-.94-2.06-.94 2.06-2.06.94zm-11 1L8.5 8.5l.94-2.06 2.06-.94-2.06-.94L8.5 2.5l-.94 2.06-2.06.94zm10 10l.94 2.06.94-2.06 2.06-.94-2.06-.94-.94-2.06-.94 2.06-2.06.94z\"/><path d=\"M17.41 7.96l-1.37-1.37c-.4-.4-.92-.59-1.43-.59-.52 0-1.04.2-1.43.59L10.3 9.45l-7.72 7.72c-.78.78-.78 2.05 0 2.83L4 21.41c.39.39.9.59 1.41.59.51 0 1.02-.2 1.41-.59l7.78-7.78 2.81-2.81c.8-.78.8-2.07 0-2.86zM5.41 20L4 18.59l7.72-7.72 1.47 1.35L5.41 20z\"/>\n",
              "  </svg>\n",
              "      </button>\n",
              "      \n",
              "  <style>\n",
              "    .colab-df-container {\n",
              "      display:flex;\n",
              "      flex-wrap:wrap;\n",
              "      gap: 12px;\n",
              "    }\n",
              "\n",
              "    .colab-df-convert {\n",
              "      background-color: #E8F0FE;\n",
              "      border: none;\n",
              "      border-radius: 50%;\n",
              "      cursor: pointer;\n",
              "      display: none;\n",
              "      fill: #1967D2;\n",
              "      height: 32px;\n",
              "      padding: 0 0 0 0;\n",
              "      width: 32px;\n",
              "    }\n",
              "\n",
              "    .colab-df-convert:hover {\n",
              "      background-color: #E2EBFA;\n",
              "      box-shadow: 0px 1px 2px rgba(60, 64, 67, 0.3), 0px 1px 3px 1px rgba(60, 64, 67, 0.15);\n",
              "      fill: #174EA6;\n",
              "    }\n",
              "\n",
              "    [theme=dark] .colab-df-convert {\n",
              "      background-color: #3B4455;\n",
              "      fill: #D2E3FC;\n",
              "    }\n",
              "\n",
              "    [theme=dark] .colab-df-convert:hover {\n",
              "      background-color: #434B5C;\n",
              "      box-shadow: 0px 1px 3px 1px rgba(0, 0, 0, 0.15);\n",
              "      filter: drop-shadow(0px 1px 2px rgba(0, 0, 0, 0.3));\n",
              "      fill: #FFFFFF;\n",
              "    }\n",
              "  </style>\n",
              "\n",
              "      <script>\n",
              "        const buttonEl =\n",
              "          document.querySelector('#df-72fe6f50-539a-49f0-9679-73480cba5d7a button.colab-df-convert');\n",
              "        buttonEl.style.display =\n",
              "          google.colab.kernel.accessAllowed ? 'block' : 'none';\n",
              "\n",
              "        async function convertToInteractive(key) {\n",
              "          const element = document.querySelector('#df-72fe6f50-539a-49f0-9679-73480cba5d7a');\n",
              "          const dataTable =\n",
              "            await google.colab.kernel.invokeFunction('convertToInteractive',\n",
              "                                                     [key], {});\n",
              "          if (!dataTable) return;\n",
              "\n",
              "          const docLinkHtml = 'Like what you see? Visit the ' +\n",
              "            '<a target=\"_blank\" href=https://colab.research.google.com/notebooks/data_table.ipynb>data table notebook</a>'\n",
              "            + ' to learn more about interactive tables.';\n",
              "          element.innerHTML = '';\n",
              "          dataTable['output_type'] = 'display_data';\n",
              "          await google.colab.output.renderOutput(dataTable, element);\n",
              "          const docLink = document.createElement('div');\n",
              "          docLink.innerHTML = docLinkHtml;\n",
              "          element.appendChild(docLink);\n",
              "        }\n",
              "      </script>\n",
              "    </div>\n",
              "  </div>\n",
              "  "
            ]
          },
          "metadata": {},
          "execution_count": 22
        }
      ],
      "source": [
        "#Cuando es un intervalo solo se usa un []\n",
        "dataset.iloc[1:4]"
      ]
    },
    {
      "cell_type": "code",
      "execution_count": 28,
      "metadata": {
        "id": "GxdqIz4LD1BV",
        "colab": {
          "base_uri": "https://localhost:8080/",
          "height": 175
        },
        "outputId": "38675378-29c5-4e47-9ddd-d85be533ea73"
      },
      "outputs": [
        {
          "output_type": "execute_result",
          "data": {
            "text/plain": [
              "                    Motor      Valor  Kilometraje\n",
              "Nombre                                           \n",
              "Passat       Motor Diesel  106161.94       5712.0\n",
              "Crossfox  Motor Diesel V8   72832.16      37123.0\n",
              "DS5       Motor 2.4 Turbo  124549.07          NaN"
            ],
            "text/html": [
              "\n",
              "  <div id=\"df-f0137573-a2d4-4299-9850-0f54818e84e8\">\n",
              "    <div class=\"colab-df-container\">\n",
              "      <div>\n",
              "<style scoped>\n",
              "    .dataframe tbody tr th:only-of-type {\n",
              "        vertical-align: middle;\n",
              "    }\n",
              "\n",
              "    .dataframe tbody tr th {\n",
              "        vertical-align: top;\n",
              "    }\n",
              "\n",
              "    .dataframe thead th {\n",
              "        text-align: right;\n",
              "    }\n",
              "</style>\n",
              "<table border=\"1\" class=\"dataframe\">\n",
              "  <thead>\n",
              "    <tr style=\"text-align: right;\">\n",
              "      <th></th>\n",
              "      <th>Motor</th>\n",
              "      <th>Valor</th>\n",
              "      <th>Kilometraje</th>\n",
              "    </tr>\n",
              "    <tr>\n",
              "      <th>Nombre</th>\n",
              "      <th></th>\n",
              "      <th></th>\n",
              "      <th></th>\n",
              "    </tr>\n",
              "  </thead>\n",
              "  <tbody>\n",
              "    <tr>\n",
              "      <th>Passat</th>\n",
              "      <td>Motor Diesel</td>\n",
              "      <td>106161.94</td>\n",
              "      <td>5712.0</td>\n",
              "    </tr>\n",
              "    <tr>\n",
              "      <th>Crossfox</th>\n",
              "      <td>Motor Diesel V8</td>\n",
              "      <td>72832.16</td>\n",
              "      <td>37123.0</td>\n",
              "    </tr>\n",
              "    <tr>\n",
              "      <th>DS5</th>\n",
              "      <td>Motor 2.4 Turbo</td>\n",
              "      <td>124549.07</td>\n",
              "      <td>NaN</td>\n",
              "    </tr>\n",
              "  </tbody>\n",
              "</table>\n",
              "</div>\n",
              "      <button class=\"colab-df-convert\" onclick=\"convertToInteractive('df-f0137573-a2d4-4299-9850-0f54818e84e8')\"\n",
              "              title=\"Convert this dataframe to an interactive table.\"\n",
              "              style=\"display:none;\">\n",
              "        \n",
              "  <svg xmlns=\"http://www.w3.org/2000/svg\" height=\"24px\"viewBox=\"0 0 24 24\"\n",
              "       width=\"24px\">\n",
              "    <path d=\"M0 0h24v24H0V0z\" fill=\"none\"/>\n",
              "    <path d=\"M18.56 5.44l.94 2.06.94-2.06 2.06-.94-2.06-.94-.94-2.06-.94 2.06-2.06.94zm-11 1L8.5 8.5l.94-2.06 2.06-.94-2.06-.94L8.5 2.5l-.94 2.06-2.06.94zm10 10l.94 2.06.94-2.06 2.06-.94-2.06-.94-.94-2.06-.94 2.06-2.06.94z\"/><path d=\"M17.41 7.96l-1.37-1.37c-.4-.4-.92-.59-1.43-.59-.52 0-1.04.2-1.43.59L10.3 9.45l-7.72 7.72c-.78.78-.78 2.05 0 2.83L4 21.41c.39.39.9.59 1.41.59.51 0 1.02-.2 1.41-.59l7.78-7.78 2.81-2.81c.8-.78.8-2.07 0-2.86zM5.41 20L4 18.59l7.72-7.72 1.47 1.35L5.41 20z\"/>\n",
              "  </svg>\n",
              "      </button>\n",
              "      \n",
              "  <style>\n",
              "    .colab-df-container {\n",
              "      display:flex;\n",
              "      flex-wrap:wrap;\n",
              "      gap: 12px;\n",
              "    }\n",
              "\n",
              "    .colab-df-convert {\n",
              "      background-color: #E8F0FE;\n",
              "      border: none;\n",
              "      border-radius: 50%;\n",
              "      cursor: pointer;\n",
              "      display: none;\n",
              "      fill: #1967D2;\n",
              "      height: 32px;\n",
              "      padding: 0 0 0 0;\n",
              "      width: 32px;\n",
              "    }\n",
              "\n",
              "    .colab-df-convert:hover {\n",
              "      background-color: #E2EBFA;\n",
              "      box-shadow: 0px 1px 2px rgba(60, 64, 67, 0.3), 0px 1px 3px 1px rgba(60, 64, 67, 0.15);\n",
              "      fill: #174EA6;\n",
              "    }\n",
              "\n",
              "    [theme=dark] .colab-df-convert {\n",
              "      background-color: #3B4455;\n",
              "      fill: #D2E3FC;\n",
              "    }\n",
              "\n",
              "    [theme=dark] .colab-df-convert:hover {\n",
              "      background-color: #434B5C;\n",
              "      box-shadow: 0px 1px 3px 1px rgba(0, 0, 0, 0.15);\n",
              "      filter: drop-shadow(0px 1px 2px rgba(0, 0, 0, 0.3));\n",
              "      fill: #FFFFFF;\n",
              "    }\n",
              "  </style>\n",
              "\n",
              "      <script>\n",
              "        const buttonEl =\n",
              "          document.querySelector('#df-f0137573-a2d4-4299-9850-0f54818e84e8 button.colab-df-convert');\n",
              "        buttonEl.style.display =\n",
              "          google.colab.kernel.accessAllowed ? 'block' : 'none';\n",
              "\n",
              "        async function convertToInteractive(key) {\n",
              "          const element = document.querySelector('#df-f0137573-a2d4-4299-9850-0f54818e84e8');\n",
              "          const dataTable =\n",
              "            await google.colab.kernel.invokeFunction('convertToInteractive',\n",
              "                                                     [key], {});\n",
              "          if (!dataTable) return;\n",
              "\n",
              "          const docLinkHtml = 'Like what you see? Visit the ' +\n",
              "            '<a target=\"_blank\" href=https://colab.research.google.com/notebooks/data_table.ipynb>data table notebook</a>'\n",
              "            + ' to learn more about interactive tables.';\n",
              "          element.innerHTML = '';\n",
              "          dataTable['output_type'] = 'display_data';\n",
              "          await google.colab.output.renderOutput(dataTable, element);\n",
              "          const docLink = document.createElement('div');\n",
              "          docLink.innerHTML = docLinkHtml;\n",
              "          element.appendChild(docLink);\n",
              "        }\n",
              "      </script>\n",
              "    </div>\n",
              "  </div>\n",
              "  "
            ]
          },
          "metadata": {},
          "execution_count": 28
        }
      ],
      "source": [
        "dataset.iloc[1:4,[0, 5, 2]]"
      ]
    },
    {
      "cell_type": "code",
      "execution_count": 24,
      "metadata": {
        "id": "AVIhs7uLD1BW",
        "scrolled": true,
        "colab": {
          "base_uri": "https://localhost:8080/",
          "height": 175
        },
        "outputId": "3f9f69a0-6555-4816-9719-65b8c3ba999f"
      },
      "outputs": [
        {
          "output_type": "execute_result",
          "data": {
            "text/plain": [
              "                               Motor      Valor  Kilometraje\n",
              "Nombre                                                      \n",
              "Passat                  Motor Diesel  106161.94       5712.0\n",
              "Optima                 Motor 1.8 16v   86641.34          NaN\n",
              "Lamborghini Obvious  Motor Diesel V6  133529.84      98079.0"
            ],
            "text/html": [
              "\n",
              "  <div id=\"df-c1398e27-61e5-4b61-8204-0b7f5b064c6b\">\n",
              "    <div class=\"colab-df-container\">\n",
              "      <div>\n",
              "<style scoped>\n",
              "    .dataframe tbody tr th:only-of-type {\n",
              "        vertical-align: middle;\n",
              "    }\n",
              "\n",
              "    .dataframe tbody tr th {\n",
              "        vertical-align: top;\n",
              "    }\n",
              "\n",
              "    .dataframe thead th {\n",
              "        text-align: right;\n",
              "    }\n",
              "</style>\n",
              "<table border=\"1\" class=\"dataframe\">\n",
              "  <thead>\n",
              "    <tr style=\"text-align: right;\">\n",
              "      <th></th>\n",
              "      <th>Motor</th>\n",
              "      <th>Valor</th>\n",
              "      <th>Kilometraje</th>\n",
              "    </tr>\n",
              "    <tr>\n",
              "      <th>Nombre</th>\n",
              "      <th></th>\n",
              "      <th></th>\n",
              "      <th></th>\n",
              "    </tr>\n",
              "  </thead>\n",
              "  <tbody>\n",
              "    <tr>\n",
              "      <th>Passat</th>\n",
              "      <td>Motor Diesel</td>\n",
              "      <td>106161.94</td>\n",
              "      <td>5712.0</td>\n",
              "    </tr>\n",
              "    <tr>\n",
              "      <th>Optima</th>\n",
              "      <td>Motor 1.8 16v</td>\n",
              "      <td>86641.34</td>\n",
              "      <td>NaN</td>\n",
              "    </tr>\n",
              "    <tr>\n",
              "      <th>Lamborghini Obvious</th>\n",
              "      <td>Motor Diesel V6</td>\n",
              "      <td>133529.84</td>\n",
              "      <td>98079.0</td>\n",
              "    </tr>\n",
              "  </tbody>\n",
              "</table>\n",
              "</div>\n",
              "      <button class=\"colab-df-convert\" onclick=\"convertToInteractive('df-c1398e27-61e5-4b61-8204-0b7f5b064c6b')\"\n",
              "              title=\"Convert this dataframe to an interactive table.\"\n",
              "              style=\"display:none;\">\n",
              "        \n",
              "  <svg xmlns=\"http://www.w3.org/2000/svg\" height=\"24px\"viewBox=\"0 0 24 24\"\n",
              "       width=\"24px\">\n",
              "    <path d=\"M0 0h24v24H0V0z\" fill=\"none\"/>\n",
              "    <path d=\"M18.56 5.44l.94 2.06.94-2.06 2.06-.94-2.06-.94-.94-2.06-.94 2.06-2.06.94zm-11 1L8.5 8.5l.94-2.06 2.06-.94-2.06-.94L8.5 2.5l-.94 2.06-2.06.94zm10 10l.94 2.06.94-2.06 2.06-.94-2.06-.94-.94-2.06-.94 2.06-2.06.94z\"/><path d=\"M17.41 7.96l-1.37-1.37c-.4-.4-.92-.59-1.43-.59-.52 0-1.04.2-1.43.59L10.3 9.45l-7.72 7.72c-.78.78-.78 2.05 0 2.83L4 21.41c.39.39.9.59 1.41.59.51 0 1.02-.2 1.41-.59l7.78-7.78 2.81-2.81c.8-.78.8-2.07 0-2.86zM5.41 20L4 18.59l7.72-7.72 1.47 1.35L5.41 20z\"/>\n",
              "  </svg>\n",
              "      </button>\n",
              "      \n",
              "  <style>\n",
              "    .colab-df-container {\n",
              "      display:flex;\n",
              "      flex-wrap:wrap;\n",
              "      gap: 12px;\n",
              "    }\n",
              "\n",
              "    .colab-df-convert {\n",
              "      background-color: #E8F0FE;\n",
              "      border: none;\n",
              "      border-radius: 50%;\n",
              "      cursor: pointer;\n",
              "      display: none;\n",
              "      fill: #1967D2;\n",
              "      height: 32px;\n",
              "      padding: 0 0 0 0;\n",
              "      width: 32px;\n",
              "    }\n",
              "\n",
              "    .colab-df-convert:hover {\n",
              "      background-color: #E2EBFA;\n",
              "      box-shadow: 0px 1px 2px rgba(60, 64, 67, 0.3), 0px 1px 3px 1px rgba(60, 64, 67, 0.15);\n",
              "      fill: #174EA6;\n",
              "    }\n",
              "\n",
              "    [theme=dark] .colab-df-convert {\n",
              "      background-color: #3B4455;\n",
              "      fill: #D2E3FC;\n",
              "    }\n",
              "\n",
              "    [theme=dark] .colab-df-convert:hover {\n",
              "      background-color: #434B5C;\n",
              "      box-shadow: 0px 1px 3px 1px rgba(0, 0, 0, 0.15);\n",
              "      filter: drop-shadow(0px 1px 2px rgba(0, 0, 0, 0.3));\n",
              "      fill: #FFFFFF;\n",
              "    }\n",
              "  </style>\n",
              "\n",
              "      <script>\n",
              "        const buttonEl =\n",
              "          document.querySelector('#df-c1398e27-61e5-4b61-8204-0b7f5b064c6b button.colab-df-convert');\n",
              "        buttonEl.style.display =\n",
              "          google.colab.kernel.accessAllowed ? 'block' : 'none';\n",
              "\n",
              "        async function convertToInteractive(key) {\n",
              "          const element = document.querySelector('#df-c1398e27-61e5-4b61-8204-0b7f5b064c6b');\n",
              "          const dataTable =\n",
              "            await google.colab.kernel.invokeFunction('convertToInteractive',\n",
              "                                                     [key], {});\n",
              "          if (!dataTable) return;\n",
              "\n",
              "          const docLinkHtml = 'Like what you see? Visit the ' +\n",
              "            '<a target=\"_blank\" href=https://colab.research.google.com/notebooks/data_table.ipynb>data table notebook</a>'\n",
              "            + ' to learn more about interactive tables.';\n",
              "          element.innerHTML = '';\n",
              "          dataTable['output_type'] = 'display_data';\n",
              "          await google.colab.output.renderOutput(dataTable, element);\n",
              "          const docLink = document.createElement('div');\n",
              "          docLink.innerHTML = docLinkHtml;\n",
              "          element.appendChild(docLink);\n",
              "        }\n",
              "      </script>\n",
              "    </div>\n",
              "  </div>\n",
              "  "
            ]
          },
          "metadata": {},
          "execution_count": 24
        }
      ],
      "source": [
        "dataset.iloc[[1, 42, 22],[0, 5, 2]]"
      ]
    },
    {
      "cell_type": "code",
      "source": [
        "dataset.iloc[:,[0, 5, 2]]"
      ],
      "metadata": {
        "colab": {
          "base_uri": "https://localhost:8080/",
          "height": 455
        },
        "id": "2sK8eslgGvx_",
        "outputId": "6106be49-8f86-4979-935c-c498f26d60a7"
      },
      "execution_count": 25,
      "outputs": [
        {
          "output_type": "execute_result",
          "data": {
            "text/plain": [
              "                                       Motor      Valor  Kilometraje\n",
              "Nombre                                                              \n",
              "Jetta Variant                Motor 4.0 Turbo   88078.64      44410.0\n",
              "Passat                          Motor Diesel  106161.94       5712.0\n",
              "Crossfox                     Motor Diesel V8   72832.16      37123.0\n",
              "DS5                          Motor 2.4 Turbo  124549.07          NaN\n",
              "Aston Martin DB4             Motor 2.4 Turbo   92612.10      25757.0\n",
              "...                                      ...        ...          ...\n",
              "Phantom 2013                        Motor V8   51759.58      27505.0\n",
              "Cadillac Ciel concept               Motor V8   51667.06      29981.0\n",
              "Classe GLK             Motor 5.0 V8 Bi-Turbo   68934.03      52637.0\n",
              "Aston Martin DB5                Motor Diesel  122110.90       7685.0\n",
              "Macan                        Motor Diesel V6   90381.47      50188.0\n",
              "\n",
              "[258 rows x 3 columns]"
            ],
            "text/html": [
              "\n",
              "  <div id=\"df-f14b9319-5308-45e0-a756-f70373f58f6d\">\n",
              "    <div class=\"colab-df-container\">\n",
              "      <div>\n",
              "<style scoped>\n",
              "    .dataframe tbody tr th:only-of-type {\n",
              "        vertical-align: middle;\n",
              "    }\n",
              "\n",
              "    .dataframe tbody tr th {\n",
              "        vertical-align: top;\n",
              "    }\n",
              "\n",
              "    .dataframe thead th {\n",
              "        text-align: right;\n",
              "    }\n",
              "</style>\n",
              "<table border=\"1\" class=\"dataframe\">\n",
              "  <thead>\n",
              "    <tr style=\"text-align: right;\">\n",
              "      <th></th>\n",
              "      <th>Motor</th>\n",
              "      <th>Valor</th>\n",
              "      <th>Kilometraje</th>\n",
              "    </tr>\n",
              "    <tr>\n",
              "      <th>Nombre</th>\n",
              "      <th></th>\n",
              "      <th></th>\n",
              "      <th></th>\n",
              "    </tr>\n",
              "  </thead>\n",
              "  <tbody>\n",
              "    <tr>\n",
              "      <th>Jetta Variant</th>\n",
              "      <td>Motor 4.0 Turbo</td>\n",
              "      <td>88078.64</td>\n",
              "      <td>44410.0</td>\n",
              "    </tr>\n",
              "    <tr>\n",
              "      <th>Passat</th>\n",
              "      <td>Motor Diesel</td>\n",
              "      <td>106161.94</td>\n",
              "      <td>5712.0</td>\n",
              "    </tr>\n",
              "    <tr>\n",
              "      <th>Crossfox</th>\n",
              "      <td>Motor Diesel V8</td>\n",
              "      <td>72832.16</td>\n",
              "      <td>37123.0</td>\n",
              "    </tr>\n",
              "    <tr>\n",
              "      <th>DS5</th>\n",
              "      <td>Motor 2.4 Turbo</td>\n",
              "      <td>124549.07</td>\n",
              "      <td>NaN</td>\n",
              "    </tr>\n",
              "    <tr>\n",
              "      <th>Aston Martin DB4</th>\n",
              "      <td>Motor 2.4 Turbo</td>\n",
              "      <td>92612.10</td>\n",
              "      <td>25757.0</td>\n",
              "    </tr>\n",
              "    <tr>\n",
              "      <th>...</th>\n",
              "      <td>...</td>\n",
              "      <td>...</td>\n",
              "      <td>...</td>\n",
              "    </tr>\n",
              "    <tr>\n",
              "      <th>Phantom 2013</th>\n",
              "      <td>Motor V8</td>\n",
              "      <td>51759.58</td>\n",
              "      <td>27505.0</td>\n",
              "    </tr>\n",
              "    <tr>\n",
              "      <th>Cadillac Ciel concept</th>\n",
              "      <td>Motor V8</td>\n",
              "      <td>51667.06</td>\n",
              "      <td>29981.0</td>\n",
              "    </tr>\n",
              "    <tr>\n",
              "      <th>Classe GLK</th>\n",
              "      <td>Motor 5.0 V8 Bi-Turbo</td>\n",
              "      <td>68934.03</td>\n",
              "      <td>52637.0</td>\n",
              "    </tr>\n",
              "    <tr>\n",
              "      <th>Aston Martin DB5</th>\n",
              "      <td>Motor Diesel</td>\n",
              "      <td>122110.90</td>\n",
              "      <td>7685.0</td>\n",
              "    </tr>\n",
              "    <tr>\n",
              "      <th>Macan</th>\n",
              "      <td>Motor Diesel V6</td>\n",
              "      <td>90381.47</td>\n",
              "      <td>50188.0</td>\n",
              "    </tr>\n",
              "  </tbody>\n",
              "</table>\n",
              "<p>258 rows × 3 columns</p>\n",
              "</div>\n",
              "      <button class=\"colab-df-convert\" onclick=\"convertToInteractive('df-f14b9319-5308-45e0-a756-f70373f58f6d')\"\n",
              "              title=\"Convert this dataframe to an interactive table.\"\n",
              "              style=\"display:none;\">\n",
              "        \n",
              "  <svg xmlns=\"http://www.w3.org/2000/svg\" height=\"24px\"viewBox=\"0 0 24 24\"\n",
              "       width=\"24px\">\n",
              "    <path d=\"M0 0h24v24H0V0z\" fill=\"none\"/>\n",
              "    <path d=\"M18.56 5.44l.94 2.06.94-2.06 2.06-.94-2.06-.94-.94-2.06-.94 2.06-2.06.94zm-11 1L8.5 8.5l.94-2.06 2.06-.94-2.06-.94L8.5 2.5l-.94 2.06-2.06.94zm10 10l.94 2.06.94-2.06 2.06-.94-2.06-.94-.94-2.06-.94 2.06-2.06.94z\"/><path d=\"M17.41 7.96l-1.37-1.37c-.4-.4-.92-.59-1.43-.59-.52 0-1.04.2-1.43.59L10.3 9.45l-7.72 7.72c-.78.78-.78 2.05 0 2.83L4 21.41c.39.39.9.59 1.41.59.51 0 1.02-.2 1.41-.59l7.78-7.78 2.81-2.81c.8-.78.8-2.07 0-2.86zM5.41 20L4 18.59l7.72-7.72 1.47 1.35L5.41 20z\"/>\n",
              "  </svg>\n",
              "      </button>\n",
              "      \n",
              "  <style>\n",
              "    .colab-df-container {\n",
              "      display:flex;\n",
              "      flex-wrap:wrap;\n",
              "      gap: 12px;\n",
              "    }\n",
              "\n",
              "    .colab-df-convert {\n",
              "      background-color: #E8F0FE;\n",
              "      border: none;\n",
              "      border-radius: 50%;\n",
              "      cursor: pointer;\n",
              "      display: none;\n",
              "      fill: #1967D2;\n",
              "      height: 32px;\n",
              "      padding: 0 0 0 0;\n",
              "      width: 32px;\n",
              "    }\n",
              "\n",
              "    .colab-df-convert:hover {\n",
              "      background-color: #E2EBFA;\n",
              "      box-shadow: 0px 1px 2px rgba(60, 64, 67, 0.3), 0px 1px 3px 1px rgba(60, 64, 67, 0.15);\n",
              "      fill: #174EA6;\n",
              "    }\n",
              "\n",
              "    [theme=dark] .colab-df-convert {\n",
              "      background-color: #3B4455;\n",
              "      fill: #D2E3FC;\n",
              "    }\n",
              "\n",
              "    [theme=dark] .colab-df-convert:hover {\n",
              "      background-color: #434B5C;\n",
              "      box-shadow: 0px 1px 3px 1px rgba(0, 0, 0, 0.15);\n",
              "      filter: drop-shadow(0px 1px 2px rgba(0, 0, 0, 0.3));\n",
              "      fill: #FFFFFF;\n",
              "    }\n",
              "  </style>\n",
              "\n",
              "      <script>\n",
              "        const buttonEl =\n",
              "          document.querySelector('#df-f14b9319-5308-45e0-a756-f70373f58f6d button.colab-df-convert');\n",
              "        buttonEl.style.display =\n",
              "          google.colab.kernel.accessAllowed ? 'block' : 'none';\n",
              "\n",
              "        async function convertToInteractive(key) {\n",
              "          const element = document.querySelector('#df-f14b9319-5308-45e0-a756-f70373f58f6d');\n",
              "          const dataTable =\n",
              "            await google.colab.kernel.invokeFunction('convertToInteractive',\n",
              "                                                     [key], {});\n",
              "          if (!dataTable) return;\n",
              "\n",
              "          const docLinkHtml = 'Like what you see? Visit the ' +\n",
              "            '<a target=\"_blank\" href=https://colab.research.google.com/notebooks/data_table.ipynb>data table notebook</a>'\n",
              "            + ' to learn more about interactive tables.';\n",
              "          element.innerHTML = '';\n",
              "          dataTable['output_type'] = 'display_data';\n",
              "          await google.colab.output.renderOutput(dataTable, element);\n",
              "          const docLink = document.createElement('div');\n",
              "          docLink.innerHTML = docLinkHtml;\n",
              "          element.appendChild(docLink);\n",
              "        }\n",
              "      </script>\n",
              "    </div>\n",
              "  </div>\n",
              "  "
            ]
          },
          "metadata": {},
          "execution_count": 25
        }
      ]
    },
    {
      "cell_type": "markdown",
      "metadata": {
        "id": "eAbwq1oLD1BW"
      },
      "source": [
        "# 5.3 Consultas en DataFrames"
      ]
    },
    {
      "cell_type": "code",
      "execution_count": 29,
      "metadata": {
        "id": "AOZTWzehD1BW",
        "scrolled": true,
        "colab": {
          "base_uri": "https://localhost:8080/",
          "height": 237
        },
        "outputId": "1321a66d-3e60-4272-82db-124c98127735"
      },
      "outputs": [
        {
          "output_type": "execute_result",
          "data": {
            "text/plain": [
              "                            Motor   Año  Kilometraje  Cero_km  \\\n",
              "Nombre                                                          \n",
              "Jetta Variant     Motor 4.0 Turbo  2003      44410.0    False   \n",
              "Passat               Motor Diesel  1991       5712.0    False   \n",
              "Crossfox          Motor Diesel V8  1990      37123.0    False   \n",
              "DS5               Motor 2.4 Turbo  2019          NaN     True   \n",
              "Aston Martin DB4  Motor 2.4 Turbo  2006      25757.0    False   \n",
              "\n",
              "                                                         Accesorios      Valor  \n",
              "Nombre                                                                          \n",
              "Jetta Variant     ['Llantas de aleación', 'Cerraduras electricas...   88078.64  \n",
              "Passat            ['Central multimedia', 'Techo panorámico', 'Fr...  106161.94  \n",
              "Crossfox          ['Piloto automático', 'Control de estabilidad'...   72832.16  \n",
              "DS5               ['Cerraduras electricas', '4 X 4', 'Ventanas e...  124549.07  \n",
              "Aston Martin DB4  ['Llantas de aleación', '4 X 4', 'Central mult...   92612.10  "
            ],
            "text/html": [
              "\n",
              "  <div id=\"df-bb87d950-4fd3-4483-bd89-213a3e9c539c\">\n",
              "    <div class=\"colab-df-container\">\n",
              "      <div>\n",
              "<style scoped>\n",
              "    .dataframe tbody tr th:only-of-type {\n",
              "        vertical-align: middle;\n",
              "    }\n",
              "\n",
              "    .dataframe tbody tr th {\n",
              "        vertical-align: top;\n",
              "    }\n",
              "\n",
              "    .dataframe thead th {\n",
              "        text-align: right;\n",
              "    }\n",
              "</style>\n",
              "<table border=\"1\" class=\"dataframe\">\n",
              "  <thead>\n",
              "    <tr style=\"text-align: right;\">\n",
              "      <th></th>\n",
              "      <th>Motor</th>\n",
              "      <th>Año</th>\n",
              "      <th>Kilometraje</th>\n",
              "      <th>Cero_km</th>\n",
              "      <th>Accesorios</th>\n",
              "      <th>Valor</th>\n",
              "    </tr>\n",
              "    <tr>\n",
              "      <th>Nombre</th>\n",
              "      <th></th>\n",
              "      <th></th>\n",
              "      <th></th>\n",
              "      <th></th>\n",
              "      <th></th>\n",
              "      <th></th>\n",
              "    </tr>\n",
              "  </thead>\n",
              "  <tbody>\n",
              "    <tr>\n",
              "      <th>Jetta Variant</th>\n",
              "      <td>Motor 4.0 Turbo</td>\n",
              "      <td>2003</td>\n",
              "      <td>44410.0</td>\n",
              "      <td>False</td>\n",
              "      <td>['Llantas de aleación', 'Cerraduras electricas...</td>\n",
              "      <td>88078.64</td>\n",
              "    </tr>\n",
              "    <tr>\n",
              "      <th>Passat</th>\n",
              "      <td>Motor Diesel</td>\n",
              "      <td>1991</td>\n",
              "      <td>5712.0</td>\n",
              "      <td>False</td>\n",
              "      <td>['Central multimedia', 'Techo panorámico', 'Fr...</td>\n",
              "      <td>106161.94</td>\n",
              "    </tr>\n",
              "    <tr>\n",
              "      <th>Crossfox</th>\n",
              "      <td>Motor Diesel V8</td>\n",
              "      <td>1990</td>\n",
              "      <td>37123.0</td>\n",
              "      <td>False</td>\n",
              "      <td>['Piloto automático', 'Control de estabilidad'...</td>\n",
              "      <td>72832.16</td>\n",
              "    </tr>\n",
              "    <tr>\n",
              "      <th>DS5</th>\n",
              "      <td>Motor 2.4 Turbo</td>\n",
              "      <td>2019</td>\n",
              "      <td>NaN</td>\n",
              "      <td>True</td>\n",
              "      <td>['Cerraduras electricas', '4 X 4', 'Ventanas e...</td>\n",
              "      <td>124549.07</td>\n",
              "    </tr>\n",
              "    <tr>\n",
              "      <th>Aston Martin DB4</th>\n",
              "      <td>Motor 2.4 Turbo</td>\n",
              "      <td>2006</td>\n",
              "      <td>25757.0</td>\n",
              "      <td>False</td>\n",
              "      <td>['Llantas de aleación', '4 X 4', 'Central mult...</td>\n",
              "      <td>92612.10</td>\n",
              "    </tr>\n",
              "  </tbody>\n",
              "</table>\n",
              "</div>\n",
              "      <button class=\"colab-df-convert\" onclick=\"convertToInteractive('df-bb87d950-4fd3-4483-bd89-213a3e9c539c')\"\n",
              "              title=\"Convert this dataframe to an interactive table.\"\n",
              "              style=\"display:none;\">\n",
              "        \n",
              "  <svg xmlns=\"http://www.w3.org/2000/svg\" height=\"24px\"viewBox=\"0 0 24 24\"\n",
              "       width=\"24px\">\n",
              "    <path d=\"M0 0h24v24H0V0z\" fill=\"none\"/>\n",
              "    <path d=\"M18.56 5.44l.94 2.06.94-2.06 2.06-.94-2.06-.94-.94-2.06-.94 2.06-2.06.94zm-11 1L8.5 8.5l.94-2.06 2.06-.94-2.06-.94L8.5 2.5l-.94 2.06-2.06.94zm10 10l.94 2.06.94-2.06 2.06-.94-2.06-.94-.94-2.06-.94 2.06-2.06.94z\"/><path d=\"M17.41 7.96l-1.37-1.37c-.4-.4-.92-.59-1.43-.59-.52 0-1.04.2-1.43.59L10.3 9.45l-7.72 7.72c-.78.78-.78 2.05 0 2.83L4 21.41c.39.39.9.59 1.41.59.51 0 1.02-.2 1.41-.59l7.78-7.78 2.81-2.81c.8-.78.8-2.07 0-2.86zM5.41 20L4 18.59l7.72-7.72 1.47 1.35L5.41 20z\"/>\n",
              "  </svg>\n",
              "      </button>\n",
              "      \n",
              "  <style>\n",
              "    .colab-df-container {\n",
              "      display:flex;\n",
              "      flex-wrap:wrap;\n",
              "      gap: 12px;\n",
              "    }\n",
              "\n",
              "    .colab-df-convert {\n",
              "      background-color: #E8F0FE;\n",
              "      border: none;\n",
              "      border-radius: 50%;\n",
              "      cursor: pointer;\n",
              "      display: none;\n",
              "      fill: #1967D2;\n",
              "      height: 32px;\n",
              "      padding: 0 0 0 0;\n",
              "      width: 32px;\n",
              "    }\n",
              "\n",
              "    .colab-df-convert:hover {\n",
              "      background-color: #E2EBFA;\n",
              "      box-shadow: 0px 1px 2px rgba(60, 64, 67, 0.3), 0px 1px 3px 1px rgba(60, 64, 67, 0.15);\n",
              "      fill: #174EA6;\n",
              "    }\n",
              "\n",
              "    [theme=dark] .colab-df-convert {\n",
              "      background-color: #3B4455;\n",
              "      fill: #D2E3FC;\n",
              "    }\n",
              "\n",
              "    [theme=dark] .colab-df-convert:hover {\n",
              "      background-color: #434B5C;\n",
              "      box-shadow: 0px 1px 3px 1px rgba(0, 0, 0, 0.15);\n",
              "      filter: drop-shadow(0px 1px 2px rgba(0, 0, 0, 0.3));\n",
              "      fill: #FFFFFF;\n",
              "    }\n",
              "  </style>\n",
              "\n",
              "      <script>\n",
              "        const buttonEl =\n",
              "          document.querySelector('#df-bb87d950-4fd3-4483-bd89-213a3e9c539c button.colab-df-convert');\n",
              "        buttonEl.style.display =\n",
              "          google.colab.kernel.accessAllowed ? 'block' : 'none';\n",
              "\n",
              "        async function convertToInteractive(key) {\n",
              "          const element = document.querySelector('#df-bb87d950-4fd3-4483-bd89-213a3e9c539c');\n",
              "          const dataTable =\n",
              "            await google.colab.kernel.invokeFunction('convertToInteractive',\n",
              "                                                     [key], {});\n",
              "          if (!dataTable) return;\n",
              "\n",
              "          const docLinkHtml = 'Like what you see? Visit the ' +\n",
              "            '<a target=\"_blank\" href=https://colab.research.google.com/notebooks/data_table.ipynb>data table notebook</a>'\n",
              "            + ' to learn more about interactive tables.';\n",
              "          element.innerHTML = '';\n",
              "          dataTable['output_type'] = 'display_data';\n",
              "          await google.colab.output.renderOutput(dataTable, element);\n",
              "          const docLink = document.createElement('div');\n",
              "          docLink.innerHTML = docLinkHtml;\n",
              "          element.appendChild(docLink);\n",
              "        }\n",
              "      </script>\n",
              "    </div>\n",
              "  </div>\n",
              "  "
            ]
          },
          "metadata": {},
          "execution_count": 29
        }
      ],
      "source": [
        "dataset.head()"
      ]
    },
    {
      "cell_type": "code",
      "execution_count": 31,
      "metadata": {
        "id": "rO5T4h94D1BX",
        "scrolled": true,
        "colab": {
          "base_uri": "https://localhost:8080/"
        },
        "outputId": "7c403d35-9c29-419b-e1e5-a51c5493d484"
      },
      "outputs": [
        {
          "output_type": "execute_result",
          "data": {
            "text/plain": [
              "Nombre\n",
              "Jetta Variant                  Motor 4.0 Turbo\n",
              "Passat                            Motor Diesel\n",
              "Crossfox                       Motor Diesel V8\n",
              "DS5                            Motor 2.4 Turbo\n",
              "Aston Martin DB4               Motor 2.4 Turbo\n",
              "                                 ...          \n",
              "Phantom 2013                          Motor V8\n",
              "Cadillac Ciel concept                 Motor V8\n",
              "Classe GLK               Motor 5.0 V8 Bi-Turbo\n",
              "Aston Martin DB5                  Motor Diesel\n",
              "Macan                          Motor Diesel V6\n",
              "Name: Motor, Length: 258, dtype: object"
            ]
          },
          "metadata": {},
          "execution_count": 31
        }
      ],
      "source": [
        "dataset.Motor"
      ]
    },
    {
      "cell_type": "code",
      "execution_count": 32,
      "metadata": {
        "id": "STZ-l8oaD1BX",
        "colab": {
          "base_uri": "https://localhost:8080/"
        },
        "outputId": "4057a3bc-e329-467c-82f4-8e5abb758d27"
      },
      "outputs": [
        {
          "output_type": "execute_result",
          "data": {
            "text/plain": [
              "Nombre\n",
              "Jetta Variant            False\n",
              "Passat                    True\n",
              "Crossfox                 False\n",
              "DS5                      False\n",
              "Aston Martin DB4         False\n",
              "                         ...  \n",
              "Phantom 2013             False\n",
              "Cadillac Ciel concept    False\n",
              "Classe GLK               False\n",
              "Aston Martin DB5          True\n",
              "Macan                    False\n",
              "Name: Motor, Length: 258, dtype: bool"
            ]
          },
          "metadata": {},
          "execution_count": 32
        }
      ],
      "source": [
        "dataset.Motor == 'Motor Diesel'"
      ]
    },
    {
      "cell_type": "code",
      "execution_count": 33,
      "metadata": {
        "id": "OZC8NAn6D1BX",
        "colab": {
          "base_uri": "https://localhost:8080/"
        },
        "outputId": "021be002-5f84-41db-b468-5ebb88bce400"
      },
      "outputs": [
        {
          "output_type": "execute_result",
          "data": {
            "text/plain": [
              "pandas.core.series.Series"
            ]
          },
          "metadata": {},
          "execution_count": 33
        }
      ],
      "source": [
        "type(dataset.Motor == 'Motor Diesel')"
      ]
    },
    {
      "cell_type": "code",
      "execution_count": 34,
      "metadata": {
        "id": "OzXC2M40D1BY",
        "scrolled": true,
        "colab": {
          "base_uri": "https://localhost:8080/",
          "height": 896
        },
        "outputId": "40249865-620d-48f8-dd47-866182864c05"
      },
      "outputs": [
        {
          "output_type": "execute_result",
          "data": {
            "text/plain": [
              "                              Motor   Año  Kilometraje  Cero_km  \\\n",
              "Nombre                                                            \n",
              "Passat                 Motor Diesel  1991       5712.0    False   \n",
              "Effa Hafei Picape Baú  Motor Diesel  1991     102959.0    False   \n",
              "Sorento                Motor Diesel  2019          NaN     True   \n",
              "New Fiesta Hatch       Motor Diesel  2017     118895.0    False   \n",
              "Kangoo Express         Motor Diesel  2007      29132.0    False   \n",
              "Fit                    Motor Diesel  2013      44329.0    False   \n",
              "Cielo Hatch            Motor Diesel  2019          NaN     True   \n",
              "Symbol                 Motor Diesel  2016     117714.0    False   \n",
              "A4 Sedan               Motor Diesel  2002      30511.0    False   \n",
              "A4 Avant               Motor Diesel  2014      17357.0    False   \n",
              "Silver Shadow          Motor Diesel  2015      99052.0    False   \n",
              "Camry                  Motor Diesel  2019          NaN     True   \n",
              "Clio                   Motor Diesel  1990      66437.0    False   \n",
              "Série 3 M3 Coupé       Motor Diesel  2013      19896.0    False   \n",
              "Gallardo LP 560 – 4    Motor Diesel  2000     113045.0    False   \n",
              "Chana Utility          Motor Diesel  2009      52034.0    False   \n",
              "TT Roadster            Motor Diesel  1998     107392.0    False   \n",
              "Aston Martin Virage    Motor Diesel  2019          NaN     True   \n",
              "Sandero                Motor Diesel  2015      34783.0    False   \n",
              "XKR                    Motor Diesel  1996      85127.0    False   \n",
              "X5                     Motor Diesel  2002      13606.0    False   \n",
              "Dodge Dakota           Motor Diesel  1993      71544.0    False   \n",
              "i30 CW                 Motor Diesel  2015       8497.0    False   \n",
              "Série 7 Sedã           Motor Diesel  2019          NaN     True   \n",
              "V60                    Motor Diesel  2004      91840.0    False   \n",
              "Aston Martin DB5       Motor Diesel  1996       7685.0    False   \n",
              "\n",
              "                                                              Accesorios  \\\n",
              "Nombre                                                                     \n",
              "Passat                 ['Central multimedia', 'Techo panorámico', 'Fr...   \n",
              "Effa Hafei Picape Baú  ['Control de estabilidad', 'Panel digital', 'V...   \n",
              "Sorento                ['Sensor de lluvia', 'Cámara de estacionamient...   \n",
              "New Fiesta Hatch       ['Sensor de estacionamiento', 'Cerraduras elec...   \n",
              "Kangoo Express         ['Asientos de cuero', 'Transmisión automática'...   \n",
              "Fit                    ['Frenos ABS', 'Cámara de estacionamiento', 'T...   \n",
              "Cielo Hatch            ['Panel digital', 'Central multimedia', 'Cámar...   \n",
              "Symbol                 ['4 X 4', 'Piloto automático', 'Sensor crepusc...   \n",
              "A4 Sedan               ['Cámara de estacionamiento', '4 X 4', 'Cerrad...   \n",
              "A4 Avant               ['Techo panorámico', '4 X 4', 'Asientos de cue...   \n",
              "Silver Shadow          ['4 X 4', 'Central multimedia', 'Aire condicio...   \n",
              "Camry                  ['Cerraduras electricas', 'Llantas de aleación...   \n",
              "Clio                   ['4 X 4', 'Transmisión automática', 'Frenos AB...   \n",
              "Série 3 M3 Coupé       ['Asientos de cuero', 'Sensor de lluvia', 'Air...   \n",
              "Gallardo LP 560 – 4    ['Frenos ABS', 'Techo panorámico', 'Central mu...   \n",
              "Chana Utility          ['Aire condicionado', 'Sensor de estacionamien...   \n",
              "TT Roadster            ['Aire condicionado', 'Sensor de estacionamien...   \n",
              "Aston Martin Virage    ['Cerraduras electricas', 'Control de tracción...   \n",
              "Sandero                ['Piloto automático', 'Techo panorámico', 'Tra...   \n",
              "XKR                    ['Control de tracción', 'Aire condicionado', '...   \n",
              "X5                     ['Control de tracción', 'Piloto automático', '...   \n",
              "Dodge Dakota           ['Control de tracción', 'Sensor de estacionami...   \n",
              "i30 CW                 ['Sensor de lluvia', 'Ventanas eléctricas', 'C...   \n",
              "Série 7 Sedã           ['Ventanas eléctricas', 'Cerraduras electricas...   \n",
              "V60                    ['Llantas de aleación', 'Sensor crepuscular', ...   \n",
              "Aston Martin DB5       ['Aire condicionado', '4 X 4', 'Transmisión au...   \n",
              "\n",
              "                           Valor  \n",
              "Nombre                            \n",
              "Passat                 106161.94  \n",
              "Effa Hafei Picape Baú  125684.65  \n",
              "Sorento                 81399.35  \n",
              "New Fiesta Hatch        66007.16  \n",
              "Kangoo Express         146716.91  \n",
              "Fit                     77836.23  \n",
              "Cielo Hatch            145197.70  \n",
              "Symbol                 133030.60  \n",
              "A4 Sedan                96369.04  \n",
              "A4 Avant               138946.88  \n",
              "Silver Shadow          143568.22  \n",
              "Camry                  138597.27  \n",
              "Clio                   111130.33  \n",
              "Série 3 M3 Coupé        69219.89  \n",
              "Gallardo LP 560 – 4    144118.91  \n",
              "Chana Utility          132662.32  \n",
              "TT Roadster             85311.40  \n",
              "Aston Martin Virage     97290.18  \n",
              "Sandero                112350.61  \n",
              "XKR                     54263.16  \n",
              "X5                      62041.32  \n",
              "Dodge Dakota           141083.35  \n",
              "i30 CW                  73311.75  \n",
              "Série 7 Sedã            67539.79  \n",
              "V60                    114728.74  \n",
              "Aston Martin DB5       122110.90  "
            ],
            "text/html": [
              "\n",
              "  <div id=\"df-bd888177-46f7-421a-9103-dcfe2ff4f353\">\n",
              "    <div class=\"colab-df-container\">\n",
              "      <div>\n",
              "<style scoped>\n",
              "    .dataframe tbody tr th:only-of-type {\n",
              "        vertical-align: middle;\n",
              "    }\n",
              "\n",
              "    .dataframe tbody tr th {\n",
              "        vertical-align: top;\n",
              "    }\n",
              "\n",
              "    .dataframe thead th {\n",
              "        text-align: right;\n",
              "    }\n",
              "</style>\n",
              "<table border=\"1\" class=\"dataframe\">\n",
              "  <thead>\n",
              "    <tr style=\"text-align: right;\">\n",
              "      <th></th>\n",
              "      <th>Motor</th>\n",
              "      <th>Año</th>\n",
              "      <th>Kilometraje</th>\n",
              "      <th>Cero_km</th>\n",
              "      <th>Accesorios</th>\n",
              "      <th>Valor</th>\n",
              "    </tr>\n",
              "    <tr>\n",
              "      <th>Nombre</th>\n",
              "      <th></th>\n",
              "      <th></th>\n",
              "      <th></th>\n",
              "      <th></th>\n",
              "      <th></th>\n",
              "      <th></th>\n",
              "    </tr>\n",
              "  </thead>\n",
              "  <tbody>\n",
              "    <tr>\n",
              "      <th>Passat</th>\n",
              "      <td>Motor Diesel</td>\n",
              "      <td>1991</td>\n",
              "      <td>5712.0</td>\n",
              "      <td>False</td>\n",
              "      <td>['Central multimedia', 'Techo panorámico', 'Fr...</td>\n",
              "      <td>106161.94</td>\n",
              "    </tr>\n",
              "    <tr>\n",
              "      <th>Effa Hafei Picape Baú</th>\n",
              "      <td>Motor Diesel</td>\n",
              "      <td>1991</td>\n",
              "      <td>102959.0</td>\n",
              "      <td>False</td>\n",
              "      <td>['Control de estabilidad', 'Panel digital', 'V...</td>\n",
              "      <td>125684.65</td>\n",
              "    </tr>\n",
              "    <tr>\n",
              "      <th>Sorento</th>\n",
              "      <td>Motor Diesel</td>\n",
              "      <td>2019</td>\n",
              "      <td>NaN</td>\n",
              "      <td>True</td>\n",
              "      <td>['Sensor de lluvia', 'Cámara de estacionamient...</td>\n",
              "      <td>81399.35</td>\n",
              "    </tr>\n",
              "    <tr>\n",
              "      <th>New Fiesta Hatch</th>\n",
              "      <td>Motor Diesel</td>\n",
              "      <td>2017</td>\n",
              "      <td>118895.0</td>\n",
              "      <td>False</td>\n",
              "      <td>['Sensor de estacionamiento', 'Cerraduras elec...</td>\n",
              "      <td>66007.16</td>\n",
              "    </tr>\n",
              "    <tr>\n",
              "      <th>Kangoo Express</th>\n",
              "      <td>Motor Diesel</td>\n",
              "      <td>2007</td>\n",
              "      <td>29132.0</td>\n",
              "      <td>False</td>\n",
              "      <td>['Asientos de cuero', 'Transmisión automática'...</td>\n",
              "      <td>146716.91</td>\n",
              "    </tr>\n",
              "    <tr>\n",
              "      <th>Fit</th>\n",
              "      <td>Motor Diesel</td>\n",
              "      <td>2013</td>\n",
              "      <td>44329.0</td>\n",
              "      <td>False</td>\n",
              "      <td>['Frenos ABS', 'Cámara de estacionamiento', 'T...</td>\n",
              "      <td>77836.23</td>\n",
              "    </tr>\n",
              "    <tr>\n",
              "      <th>Cielo Hatch</th>\n",
              "      <td>Motor Diesel</td>\n",
              "      <td>2019</td>\n",
              "      <td>NaN</td>\n",
              "      <td>True</td>\n",
              "      <td>['Panel digital', 'Central multimedia', 'Cámar...</td>\n",
              "      <td>145197.70</td>\n",
              "    </tr>\n",
              "    <tr>\n",
              "      <th>Symbol</th>\n",
              "      <td>Motor Diesel</td>\n",
              "      <td>2016</td>\n",
              "      <td>117714.0</td>\n",
              "      <td>False</td>\n",
              "      <td>['4 X 4', 'Piloto automático', 'Sensor crepusc...</td>\n",
              "      <td>133030.60</td>\n",
              "    </tr>\n",
              "    <tr>\n",
              "      <th>A4 Sedan</th>\n",
              "      <td>Motor Diesel</td>\n",
              "      <td>2002</td>\n",
              "      <td>30511.0</td>\n",
              "      <td>False</td>\n",
              "      <td>['Cámara de estacionamiento', '4 X 4', 'Cerrad...</td>\n",
              "      <td>96369.04</td>\n",
              "    </tr>\n",
              "    <tr>\n",
              "      <th>A4 Avant</th>\n",
              "      <td>Motor Diesel</td>\n",
              "      <td>2014</td>\n",
              "      <td>17357.0</td>\n",
              "      <td>False</td>\n",
              "      <td>['Techo panorámico', '4 X 4', 'Asientos de cue...</td>\n",
              "      <td>138946.88</td>\n",
              "    </tr>\n",
              "    <tr>\n",
              "      <th>Silver Shadow</th>\n",
              "      <td>Motor Diesel</td>\n",
              "      <td>2015</td>\n",
              "      <td>99052.0</td>\n",
              "      <td>False</td>\n",
              "      <td>['4 X 4', 'Central multimedia', 'Aire condicio...</td>\n",
              "      <td>143568.22</td>\n",
              "    </tr>\n",
              "    <tr>\n",
              "      <th>Camry</th>\n",
              "      <td>Motor Diesel</td>\n",
              "      <td>2019</td>\n",
              "      <td>NaN</td>\n",
              "      <td>True</td>\n",
              "      <td>['Cerraduras electricas', 'Llantas de aleación...</td>\n",
              "      <td>138597.27</td>\n",
              "    </tr>\n",
              "    <tr>\n",
              "      <th>Clio</th>\n",
              "      <td>Motor Diesel</td>\n",
              "      <td>1990</td>\n",
              "      <td>66437.0</td>\n",
              "      <td>False</td>\n",
              "      <td>['4 X 4', 'Transmisión automática', 'Frenos AB...</td>\n",
              "      <td>111130.33</td>\n",
              "    </tr>\n",
              "    <tr>\n",
              "      <th>Série 3 M3 Coupé</th>\n",
              "      <td>Motor Diesel</td>\n",
              "      <td>2013</td>\n",
              "      <td>19896.0</td>\n",
              "      <td>False</td>\n",
              "      <td>['Asientos de cuero', 'Sensor de lluvia', 'Air...</td>\n",
              "      <td>69219.89</td>\n",
              "    </tr>\n",
              "    <tr>\n",
              "      <th>Gallardo LP 560 – 4</th>\n",
              "      <td>Motor Diesel</td>\n",
              "      <td>2000</td>\n",
              "      <td>113045.0</td>\n",
              "      <td>False</td>\n",
              "      <td>['Frenos ABS', 'Techo panorámico', 'Central mu...</td>\n",
              "      <td>144118.91</td>\n",
              "    </tr>\n",
              "    <tr>\n",
              "      <th>Chana Utility</th>\n",
              "      <td>Motor Diesel</td>\n",
              "      <td>2009</td>\n",
              "      <td>52034.0</td>\n",
              "      <td>False</td>\n",
              "      <td>['Aire condicionado', 'Sensor de estacionamien...</td>\n",
              "      <td>132662.32</td>\n",
              "    </tr>\n",
              "    <tr>\n",
              "      <th>TT Roadster</th>\n",
              "      <td>Motor Diesel</td>\n",
              "      <td>1998</td>\n",
              "      <td>107392.0</td>\n",
              "      <td>False</td>\n",
              "      <td>['Aire condicionado', 'Sensor de estacionamien...</td>\n",
              "      <td>85311.40</td>\n",
              "    </tr>\n",
              "    <tr>\n",
              "      <th>Aston Martin Virage</th>\n",
              "      <td>Motor Diesel</td>\n",
              "      <td>2019</td>\n",
              "      <td>NaN</td>\n",
              "      <td>True</td>\n",
              "      <td>['Cerraduras electricas', 'Control de tracción...</td>\n",
              "      <td>97290.18</td>\n",
              "    </tr>\n",
              "    <tr>\n",
              "      <th>Sandero</th>\n",
              "      <td>Motor Diesel</td>\n",
              "      <td>2015</td>\n",
              "      <td>34783.0</td>\n",
              "      <td>False</td>\n",
              "      <td>['Piloto automático', 'Techo panorámico', 'Tra...</td>\n",
              "      <td>112350.61</td>\n",
              "    </tr>\n",
              "    <tr>\n",
              "      <th>XKR</th>\n",
              "      <td>Motor Diesel</td>\n",
              "      <td>1996</td>\n",
              "      <td>85127.0</td>\n",
              "      <td>False</td>\n",
              "      <td>['Control de tracción', 'Aire condicionado', '...</td>\n",
              "      <td>54263.16</td>\n",
              "    </tr>\n",
              "    <tr>\n",
              "      <th>X5</th>\n",
              "      <td>Motor Diesel</td>\n",
              "      <td>2002</td>\n",
              "      <td>13606.0</td>\n",
              "      <td>False</td>\n",
              "      <td>['Control de tracción', 'Piloto automático', '...</td>\n",
              "      <td>62041.32</td>\n",
              "    </tr>\n",
              "    <tr>\n",
              "      <th>Dodge Dakota</th>\n",
              "      <td>Motor Diesel</td>\n",
              "      <td>1993</td>\n",
              "      <td>71544.0</td>\n",
              "      <td>False</td>\n",
              "      <td>['Control de tracción', 'Sensor de estacionami...</td>\n",
              "      <td>141083.35</td>\n",
              "    </tr>\n",
              "    <tr>\n",
              "      <th>i30 CW</th>\n",
              "      <td>Motor Diesel</td>\n",
              "      <td>2015</td>\n",
              "      <td>8497.0</td>\n",
              "      <td>False</td>\n",
              "      <td>['Sensor de lluvia', 'Ventanas eléctricas', 'C...</td>\n",
              "      <td>73311.75</td>\n",
              "    </tr>\n",
              "    <tr>\n",
              "      <th>Série 7 Sedã</th>\n",
              "      <td>Motor Diesel</td>\n",
              "      <td>2019</td>\n",
              "      <td>NaN</td>\n",
              "      <td>True</td>\n",
              "      <td>['Ventanas eléctricas', 'Cerraduras electricas...</td>\n",
              "      <td>67539.79</td>\n",
              "    </tr>\n",
              "    <tr>\n",
              "      <th>V60</th>\n",
              "      <td>Motor Diesel</td>\n",
              "      <td>2004</td>\n",
              "      <td>91840.0</td>\n",
              "      <td>False</td>\n",
              "      <td>['Llantas de aleación', 'Sensor crepuscular', ...</td>\n",
              "      <td>114728.74</td>\n",
              "    </tr>\n",
              "    <tr>\n",
              "      <th>Aston Martin DB5</th>\n",
              "      <td>Motor Diesel</td>\n",
              "      <td>1996</td>\n",
              "      <td>7685.0</td>\n",
              "      <td>False</td>\n",
              "      <td>['Aire condicionado', '4 X 4', 'Transmisión au...</td>\n",
              "      <td>122110.90</td>\n",
              "    </tr>\n",
              "  </tbody>\n",
              "</table>\n",
              "</div>\n",
              "      <button class=\"colab-df-convert\" onclick=\"convertToInteractive('df-bd888177-46f7-421a-9103-dcfe2ff4f353')\"\n",
              "              title=\"Convert this dataframe to an interactive table.\"\n",
              "              style=\"display:none;\">\n",
              "        \n",
              "  <svg xmlns=\"http://www.w3.org/2000/svg\" height=\"24px\"viewBox=\"0 0 24 24\"\n",
              "       width=\"24px\">\n",
              "    <path d=\"M0 0h24v24H0V0z\" fill=\"none\"/>\n",
              "    <path d=\"M18.56 5.44l.94 2.06.94-2.06 2.06-.94-2.06-.94-.94-2.06-.94 2.06-2.06.94zm-11 1L8.5 8.5l.94-2.06 2.06-.94-2.06-.94L8.5 2.5l-.94 2.06-2.06.94zm10 10l.94 2.06.94-2.06 2.06-.94-2.06-.94-.94-2.06-.94 2.06-2.06.94z\"/><path d=\"M17.41 7.96l-1.37-1.37c-.4-.4-.92-.59-1.43-.59-.52 0-1.04.2-1.43.59L10.3 9.45l-7.72 7.72c-.78.78-.78 2.05 0 2.83L4 21.41c.39.39.9.59 1.41.59.51 0 1.02-.2 1.41-.59l7.78-7.78 2.81-2.81c.8-.78.8-2.07 0-2.86zM5.41 20L4 18.59l7.72-7.72 1.47 1.35L5.41 20z\"/>\n",
              "  </svg>\n",
              "      </button>\n",
              "      \n",
              "  <style>\n",
              "    .colab-df-container {\n",
              "      display:flex;\n",
              "      flex-wrap:wrap;\n",
              "      gap: 12px;\n",
              "    }\n",
              "\n",
              "    .colab-df-convert {\n",
              "      background-color: #E8F0FE;\n",
              "      border: none;\n",
              "      border-radius: 50%;\n",
              "      cursor: pointer;\n",
              "      display: none;\n",
              "      fill: #1967D2;\n",
              "      height: 32px;\n",
              "      padding: 0 0 0 0;\n",
              "      width: 32px;\n",
              "    }\n",
              "\n",
              "    .colab-df-convert:hover {\n",
              "      background-color: #E2EBFA;\n",
              "      box-shadow: 0px 1px 2px rgba(60, 64, 67, 0.3), 0px 1px 3px 1px rgba(60, 64, 67, 0.15);\n",
              "      fill: #174EA6;\n",
              "    }\n",
              "\n",
              "    [theme=dark] .colab-df-convert {\n",
              "      background-color: #3B4455;\n",
              "      fill: #D2E3FC;\n",
              "    }\n",
              "\n",
              "    [theme=dark] .colab-df-convert:hover {\n",
              "      background-color: #434B5C;\n",
              "      box-shadow: 0px 1px 3px 1px rgba(0, 0, 0, 0.15);\n",
              "      filter: drop-shadow(0px 1px 2px rgba(0, 0, 0, 0.3));\n",
              "      fill: #FFFFFF;\n",
              "    }\n",
              "  </style>\n",
              "\n",
              "      <script>\n",
              "        const buttonEl =\n",
              "          document.querySelector('#df-bd888177-46f7-421a-9103-dcfe2ff4f353 button.colab-df-convert');\n",
              "        buttonEl.style.display =\n",
              "          google.colab.kernel.accessAllowed ? 'block' : 'none';\n",
              "\n",
              "        async function convertToInteractive(key) {\n",
              "          const element = document.querySelector('#df-bd888177-46f7-421a-9103-dcfe2ff4f353');\n",
              "          const dataTable =\n",
              "            await google.colab.kernel.invokeFunction('convertToInteractive',\n",
              "                                                     [key], {});\n",
              "          if (!dataTable) return;\n",
              "\n",
              "          const docLinkHtml = 'Like what you see? Visit the ' +\n",
              "            '<a target=\"_blank\" href=https://colab.research.google.com/notebooks/data_table.ipynb>data table notebook</a>'\n",
              "            + ' to learn more about interactive tables.';\n",
              "          element.innerHTML = '';\n",
              "          dataTable['output_type'] = 'display_data';\n",
              "          await google.colab.output.renderOutput(dataTable, element);\n",
              "          const docLink = document.createElement('div');\n",
              "          docLink.innerHTML = docLinkHtml;\n",
              "          element.appendChild(docLink);\n",
              "        }\n",
              "      </script>\n",
              "    </div>\n",
              "  </div>\n",
              "  "
            ]
          },
          "metadata": {},
          "execution_count": 34
        }
      ],
      "source": [
        "dataset[dataset.Motor == 'Motor Diesel']"
      ]
    },
    {
      "cell_type": "code",
      "source": [
        "dataset[(dataset.Motor == 'Motor Diesel') & (dataset.Cero_km == True)]"
      ],
      "metadata": {
        "colab": {
          "base_uri": "https://localhost:8080/",
          "height": 237
        },
        "id": "P9AMdm6nLNKD",
        "outputId": "c0aefef1-e9c4-4574-f32f-653f44a2b4c9"
      },
      "execution_count": 35,
      "outputs": [
        {
          "output_type": "execute_result",
          "data": {
            "text/plain": [
              "                            Motor   Año  Kilometraje  Cero_km  \\\n",
              "Nombre                                                          \n",
              "Sorento              Motor Diesel  2019          NaN     True   \n",
              "Cielo Hatch          Motor Diesel  2019          NaN     True   \n",
              "Camry                Motor Diesel  2019          NaN     True   \n",
              "Aston Martin Virage  Motor Diesel  2019          NaN     True   \n",
              "Série 7 Sedã         Motor Diesel  2019          NaN     True   \n",
              "\n",
              "                                                            Accesorios  \\\n",
              "Nombre                                                                   \n",
              "Sorento              ['Sensor de lluvia', 'Cámara de estacionamient...   \n",
              "Cielo Hatch          ['Panel digital', 'Central multimedia', 'Cámar...   \n",
              "Camry                ['Cerraduras electricas', 'Llantas de aleación...   \n",
              "Aston Martin Virage  ['Cerraduras electricas', 'Control de tracción...   \n",
              "Série 7 Sedã         ['Ventanas eléctricas', 'Cerraduras electricas...   \n",
              "\n",
              "                         Valor  \n",
              "Nombre                          \n",
              "Sorento               81399.35  \n",
              "Cielo Hatch          145197.70  \n",
              "Camry                138597.27  \n",
              "Aston Martin Virage   97290.18  \n",
              "Série 7 Sedã          67539.79  "
            ],
            "text/html": [
              "\n",
              "  <div id=\"df-4f621d26-de98-4ea3-825a-ff388b29d930\">\n",
              "    <div class=\"colab-df-container\">\n",
              "      <div>\n",
              "<style scoped>\n",
              "    .dataframe tbody tr th:only-of-type {\n",
              "        vertical-align: middle;\n",
              "    }\n",
              "\n",
              "    .dataframe tbody tr th {\n",
              "        vertical-align: top;\n",
              "    }\n",
              "\n",
              "    .dataframe thead th {\n",
              "        text-align: right;\n",
              "    }\n",
              "</style>\n",
              "<table border=\"1\" class=\"dataframe\">\n",
              "  <thead>\n",
              "    <tr style=\"text-align: right;\">\n",
              "      <th></th>\n",
              "      <th>Motor</th>\n",
              "      <th>Año</th>\n",
              "      <th>Kilometraje</th>\n",
              "      <th>Cero_km</th>\n",
              "      <th>Accesorios</th>\n",
              "      <th>Valor</th>\n",
              "    </tr>\n",
              "    <tr>\n",
              "      <th>Nombre</th>\n",
              "      <th></th>\n",
              "      <th></th>\n",
              "      <th></th>\n",
              "      <th></th>\n",
              "      <th></th>\n",
              "      <th></th>\n",
              "    </tr>\n",
              "  </thead>\n",
              "  <tbody>\n",
              "    <tr>\n",
              "      <th>Sorento</th>\n",
              "      <td>Motor Diesel</td>\n",
              "      <td>2019</td>\n",
              "      <td>NaN</td>\n",
              "      <td>True</td>\n",
              "      <td>['Sensor de lluvia', 'Cámara de estacionamient...</td>\n",
              "      <td>81399.35</td>\n",
              "    </tr>\n",
              "    <tr>\n",
              "      <th>Cielo Hatch</th>\n",
              "      <td>Motor Diesel</td>\n",
              "      <td>2019</td>\n",
              "      <td>NaN</td>\n",
              "      <td>True</td>\n",
              "      <td>['Panel digital', 'Central multimedia', 'Cámar...</td>\n",
              "      <td>145197.70</td>\n",
              "    </tr>\n",
              "    <tr>\n",
              "      <th>Camry</th>\n",
              "      <td>Motor Diesel</td>\n",
              "      <td>2019</td>\n",
              "      <td>NaN</td>\n",
              "      <td>True</td>\n",
              "      <td>['Cerraduras electricas', 'Llantas de aleación...</td>\n",
              "      <td>138597.27</td>\n",
              "    </tr>\n",
              "    <tr>\n",
              "      <th>Aston Martin Virage</th>\n",
              "      <td>Motor Diesel</td>\n",
              "      <td>2019</td>\n",
              "      <td>NaN</td>\n",
              "      <td>True</td>\n",
              "      <td>['Cerraduras electricas', 'Control de tracción...</td>\n",
              "      <td>97290.18</td>\n",
              "    </tr>\n",
              "    <tr>\n",
              "      <th>Série 7 Sedã</th>\n",
              "      <td>Motor Diesel</td>\n",
              "      <td>2019</td>\n",
              "      <td>NaN</td>\n",
              "      <td>True</td>\n",
              "      <td>['Ventanas eléctricas', 'Cerraduras electricas...</td>\n",
              "      <td>67539.79</td>\n",
              "    </tr>\n",
              "  </tbody>\n",
              "</table>\n",
              "</div>\n",
              "      <button class=\"colab-df-convert\" onclick=\"convertToInteractive('df-4f621d26-de98-4ea3-825a-ff388b29d930')\"\n",
              "              title=\"Convert this dataframe to an interactive table.\"\n",
              "              style=\"display:none;\">\n",
              "        \n",
              "  <svg xmlns=\"http://www.w3.org/2000/svg\" height=\"24px\"viewBox=\"0 0 24 24\"\n",
              "       width=\"24px\">\n",
              "    <path d=\"M0 0h24v24H0V0z\" fill=\"none\"/>\n",
              "    <path d=\"M18.56 5.44l.94 2.06.94-2.06 2.06-.94-2.06-.94-.94-2.06-.94 2.06-2.06.94zm-11 1L8.5 8.5l.94-2.06 2.06-.94-2.06-.94L8.5 2.5l-.94 2.06-2.06.94zm10 10l.94 2.06.94-2.06 2.06-.94-2.06-.94-.94-2.06-.94 2.06-2.06.94z\"/><path d=\"M17.41 7.96l-1.37-1.37c-.4-.4-.92-.59-1.43-.59-.52 0-1.04.2-1.43.59L10.3 9.45l-7.72 7.72c-.78.78-.78 2.05 0 2.83L4 21.41c.39.39.9.59 1.41.59.51 0 1.02-.2 1.41-.59l7.78-7.78 2.81-2.81c.8-.78.8-2.07 0-2.86zM5.41 20L4 18.59l7.72-7.72 1.47 1.35L5.41 20z\"/>\n",
              "  </svg>\n",
              "      </button>\n",
              "      \n",
              "  <style>\n",
              "    .colab-df-container {\n",
              "      display:flex;\n",
              "      flex-wrap:wrap;\n",
              "      gap: 12px;\n",
              "    }\n",
              "\n",
              "    .colab-df-convert {\n",
              "      background-color: #E8F0FE;\n",
              "      border: none;\n",
              "      border-radius: 50%;\n",
              "      cursor: pointer;\n",
              "      display: none;\n",
              "      fill: #1967D2;\n",
              "      height: 32px;\n",
              "      padding: 0 0 0 0;\n",
              "      width: 32px;\n",
              "    }\n",
              "\n",
              "    .colab-df-convert:hover {\n",
              "      background-color: #E2EBFA;\n",
              "      box-shadow: 0px 1px 2px rgba(60, 64, 67, 0.3), 0px 1px 3px 1px rgba(60, 64, 67, 0.15);\n",
              "      fill: #174EA6;\n",
              "    }\n",
              "\n",
              "    [theme=dark] .colab-df-convert {\n",
              "      background-color: #3B4455;\n",
              "      fill: #D2E3FC;\n",
              "    }\n",
              "\n",
              "    [theme=dark] .colab-df-convert:hover {\n",
              "      background-color: #434B5C;\n",
              "      box-shadow: 0px 1px 3px 1px rgba(0, 0, 0, 0.15);\n",
              "      filter: drop-shadow(0px 1px 2px rgba(0, 0, 0, 0.3));\n",
              "      fill: #FFFFFF;\n",
              "    }\n",
              "  </style>\n",
              "\n",
              "      <script>\n",
              "        const buttonEl =\n",
              "          document.querySelector('#df-4f621d26-de98-4ea3-825a-ff388b29d930 button.colab-df-convert');\n",
              "        buttonEl.style.display =\n",
              "          google.colab.kernel.accessAllowed ? 'block' : 'none';\n",
              "\n",
              "        async function convertToInteractive(key) {\n",
              "          const element = document.querySelector('#df-4f621d26-de98-4ea3-825a-ff388b29d930');\n",
              "          const dataTable =\n",
              "            await google.colab.kernel.invokeFunction('convertToInteractive',\n",
              "                                                     [key], {});\n",
              "          if (!dataTable) return;\n",
              "\n",
              "          const docLinkHtml = 'Like what you see? Visit the ' +\n",
              "            '<a target=\"_blank\" href=https://colab.research.google.com/notebooks/data_table.ipynb>data table notebook</a>'\n",
              "            + ' to learn more about interactive tables.';\n",
              "          element.innerHTML = '';\n",
              "          dataTable['output_type'] = 'display_data';\n",
              "          await google.colab.output.renderOutput(dataTable, element);\n",
              "          const docLink = document.createElement('div');\n",
              "          docLink.innerHTML = docLinkHtml;\n",
              "          element.appendChild(docLink);\n",
              "        }\n",
              "      </script>\n",
              "    </div>\n",
              "  </div>\n",
              "  "
            ]
          },
          "metadata": {},
          "execution_count": 35
        }
      ]
    },
    {
      "cell_type": "markdown",
      "metadata": {
        "id": "_XKXcWO-D1BY"
      },
      "source": [
        "### Utilizando el método query"
      ]
    },
    {
      "cell_type": "code",
      "execution_count": 36,
      "metadata": {
        "id": "AB9JirSoD1BY",
        "colab": {
          "base_uri": "https://localhost:8080/",
          "height": 237
        },
        "outputId": "88caef6e-e238-4391-a4fe-c466f78fdc5f"
      },
      "outputs": [
        {
          "output_type": "execute_result",
          "data": {
            "text/plain": [
              "                            Motor   Año  Kilometraje  Cero_km  \\\n",
              "Nombre                                                          \n",
              "Sorento              Motor Diesel  2019          NaN     True   \n",
              "Cielo Hatch          Motor Diesel  2019          NaN     True   \n",
              "Camry                Motor Diesel  2019          NaN     True   \n",
              "Aston Martin Virage  Motor Diesel  2019          NaN     True   \n",
              "Série 7 Sedã         Motor Diesel  2019          NaN     True   \n",
              "\n",
              "                                                            Accesorios  \\\n",
              "Nombre                                                                   \n",
              "Sorento              ['Sensor de lluvia', 'Cámara de estacionamient...   \n",
              "Cielo Hatch          ['Panel digital', 'Central multimedia', 'Cámar...   \n",
              "Camry                ['Cerraduras electricas', 'Llantas de aleación...   \n",
              "Aston Martin Virage  ['Cerraduras electricas', 'Control de tracción...   \n",
              "Série 7 Sedã         ['Ventanas eléctricas', 'Cerraduras electricas...   \n",
              "\n",
              "                         Valor  \n",
              "Nombre                          \n",
              "Sorento               81399.35  \n",
              "Cielo Hatch          145197.70  \n",
              "Camry                138597.27  \n",
              "Aston Martin Virage   97290.18  \n",
              "Série 7 Sedã          67539.79  "
            ],
            "text/html": [
              "\n",
              "  <div id=\"df-523be50c-ae0a-439d-a285-d8831a5d4cd8\">\n",
              "    <div class=\"colab-df-container\">\n",
              "      <div>\n",
              "<style scoped>\n",
              "    .dataframe tbody tr th:only-of-type {\n",
              "        vertical-align: middle;\n",
              "    }\n",
              "\n",
              "    .dataframe tbody tr th {\n",
              "        vertical-align: top;\n",
              "    }\n",
              "\n",
              "    .dataframe thead th {\n",
              "        text-align: right;\n",
              "    }\n",
              "</style>\n",
              "<table border=\"1\" class=\"dataframe\">\n",
              "  <thead>\n",
              "    <tr style=\"text-align: right;\">\n",
              "      <th></th>\n",
              "      <th>Motor</th>\n",
              "      <th>Año</th>\n",
              "      <th>Kilometraje</th>\n",
              "      <th>Cero_km</th>\n",
              "      <th>Accesorios</th>\n",
              "      <th>Valor</th>\n",
              "    </tr>\n",
              "    <tr>\n",
              "      <th>Nombre</th>\n",
              "      <th></th>\n",
              "      <th></th>\n",
              "      <th></th>\n",
              "      <th></th>\n",
              "      <th></th>\n",
              "      <th></th>\n",
              "    </tr>\n",
              "  </thead>\n",
              "  <tbody>\n",
              "    <tr>\n",
              "      <th>Sorento</th>\n",
              "      <td>Motor Diesel</td>\n",
              "      <td>2019</td>\n",
              "      <td>NaN</td>\n",
              "      <td>True</td>\n",
              "      <td>['Sensor de lluvia', 'Cámara de estacionamient...</td>\n",
              "      <td>81399.35</td>\n",
              "    </tr>\n",
              "    <tr>\n",
              "      <th>Cielo Hatch</th>\n",
              "      <td>Motor Diesel</td>\n",
              "      <td>2019</td>\n",
              "      <td>NaN</td>\n",
              "      <td>True</td>\n",
              "      <td>['Panel digital', 'Central multimedia', 'Cámar...</td>\n",
              "      <td>145197.70</td>\n",
              "    </tr>\n",
              "    <tr>\n",
              "      <th>Camry</th>\n",
              "      <td>Motor Diesel</td>\n",
              "      <td>2019</td>\n",
              "      <td>NaN</td>\n",
              "      <td>True</td>\n",
              "      <td>['Cerraduras electricas', 'Llantas de aleación...</td>\n",
              "      <td>138597.27</td>\n",
              "    </tr>\n",
              "    <tr>\n",
              "      <th>Aston Martin Virage</th>\n",
              "      <td>Motor Diesel</td>\n",
              "      <td>2019</td>\n",
              "      <td>NaN</td>\n",
              "      <td>True</td>\n",
              "      <td>['Cerraduras electricas', 'Control de tracción...</td>\n",
              "      <td>97290.18</td>\n",
              "    </tr>\n",
              "    <tr>\n",
              "      <th>Série 7 Sedã</th>\n",
              "      <td>Motor Diesel</td>\n",
              "      <td>2019</td>\n",
              "      <td>NaN</td>\n",
              "      <td>True</td>\n",
              "      <td>['Ventanas eléctricas', 'Cerraduras electricas...</td>\n",
              "      <td>67539.79</td>\n",
              "    </tr>\n",
              "  </tbody>\n",
              "</table>\n",
              "</div>\n",
              "      <button class=\"colab-df-convert\" onclick=\"convertToInteractive('df-523be50c-ae0a-439d-a285-d8831a5d4cd8')\"\n",
              "              title=\"Convert this dataframe to an interactive table.\"\n",
              "              style=\"display:none;\">\n",
              "        \n",
              "  <svg xmlns=\"http://www.w3.org/2000/svg\" height=\"24px\"viewBox=\"0 0 24 24\"\n",
              "       width=\"24px\">\n",
              "    <path d=\"M0 0h24v24H0V0z\" fill=\"none\"/>\n",
              "    <path d=\"M18.56 5.44l.94 2.06.94-2.06 2.06-.94-2.06-.94-.94-2.06-.94 2.06-2.06.94zm-11 1L8.5 8.5l.94-2.06 2.06-.94-2.06-.94L8.5 2.5l-.94 2.06-2.06.94zm10 10l.94 2.06.94-2.06 2.06-.94-2.06-.94-.94-2.06-.94 2.06-2.06.94z\"/><path d=\"M17.41 7.96l-1.37-1.37c-.4-.4-.92-.59-1.43-.59-.52 0-1.04.2-1.43.59L10.3 9.45l-7.72 7.72c-.78.78-.78 2.05 0 2.83L4 21.41c.39.39.9.59 1.41.59.51 0 1.02-.2 1.41-.59l7.78-7.78 2.81-2.81c.8-.78.8-2.07 0-2.86zM5.41 20L4 18.59l7.72-7.72 1.47 1.35L5.41 20z\"/>\n",
              "  </svg>\n",
              "      </button>\n",
              "      \n",
              "  <style>\n",
              "    .colab-df-container {\n",
              "      display:flex;\n",
              "      flex-wrap:wrap;\n",
              "      gap: 12px;\n",
              "    }\n",
              "\n",
              "    .colab-df-convert {\n",
              "      background-color: #E8F0FE;\n",
              "      border: none;\n",
              "      border-radius: 50%;\n",
              "      cursor: pointer;\n",
              "      display: none;\n",
              "      fill: #1967D2;\n",
              "      height: 32px;\n",
              "      padding: 0 0 0 0;\n",
              "      width: 32px;\n",
              "    }\n",
              "\n",
              "    .colab-df-convert:hover {\n",
              "      background-color: #E2EBFA;\n",
              "      box-shadow: 0px 1px 2px rgba(60, 64, 67, 0.3), 0px 1px 3px 1px rgba(60, 64, 67, 0.15);\n",
              "      fill: #174EA6;\n",
              "    }\n",
              "\n",
              "    [theme=dark] .colab-df-convert {\n",
              "      background-color: #3B4455;\n",
              "      fill: #D2E3FC;\n",
              "    }\n",
              "\n",
              "    [theme=dark] .colab-df-convert:hover {\n",
              "      background-color: #434B5C;\n",
              "      box-shadow: 0px 1px 3px 1px rgba(0, 0, 0, 0.15);\n",
              "      filter: drop-shadow(0px 1px 2px rgba(0, 0, 0, 0.3));\n",
              "      fill: #FFFFFF;\n",
              "    }\n",
              "  </style>\n",
              "\n",
              "      <script>\n",
              "        const buttonEl =\n",
              "          document.querySelector('#df-523be50c-ae0a-439d-a285-d8831a5d4cd8 button.colab-df-convert');\n",
              "        buttonEl.style.display =\n",
              "          google.colab.kernel.accessAllowed ? 'block' : 'none';\n",
              "\n",
              "        async function convertToInteractive(key) {\n",
              "          const element = document.querySelector('#df-523be50c-ae0a-439d-a285-d8831a5d4cd8');\n",
              "          const dataTable =\n",
              "            await google.colab.kernel.invokeFunction('convertToInteractive',\n",
              "                                                     [key], {});\n",
              "          if (!dataTable) return;\n",
              "\n",
              "          const docLinkHtml = 'Like what you see? Visit the ' +\n",
              "            '<a target=\"_blank\" href=https://colab.research.google.com/notebooks/data_table.ipynb>data table notebook</a>'\n",
              "            + ' to learn more about interactive tables.';\n",
              "          element.innerHTML = '';\n",
              "          dataTable['output_type'] = 'display_data';\n",
              "          await google.colab.output.renderOutput(dataTable, element);\n",
              "          const docLink = document.createElement('div');\n",
              "          docLink.innerHTML = docLinkHtml;\n",
              "          element.appendChild(docLink);\n",
              "        }\n",
              "      </script>\n",
              "    </div>\n",
              "  </div>\n",
              "  "
            ]
          },
          "metadata": {},
          "execution_count": 36
        }
      ],
      "source": [
        "dataset.query('Motor ==\"Motor Diesel\" and Cero_km == True')"
      ]
    },
    {
      "cell_type": "markdown",
      "metadata": {
        "id": "ciJ4dw_FD1BZ"
      },
      "source": [
        "# 5.4 Iterando con DataFrames"
      ]
    },
    {
      "cell_type": "code",
      "execution_count": 37,
      "metadata": {
        "id": "TKAB-g5KD1BZ",
        "colab": {
          "base_uri": "https://localhost:8080/",
          "height": 237
        },
        "outputId": "21ae7978-afd8-4bf3-9637-82dd9e636c49"
      },
      "outputs": [
        {
          "output_type": "execute_result",
          "data": {
            "text/plain": [
              "                            Motor   Año  Kilometraje  Cero_km  \\\n",
              "Nombre                                                          \n",
              "Jetta Variant     Motor 4.0 Turbo  2003      44410.0    False   \n",
              "Passat               Motor Diesel  1991       5712.0    False   \n",
              "Crossfox          Motor Diesel V8  1990      37123.0    False   \n",
              "DS5               Motor 2.4 Turbo  2019          NaN     True   \n",
              "Aston Martin DB4  Motor 2.4 Turbo  2006      25757.0    False   \n",
              "\n",
              "                                                         Accesorios      Valor  \n",
              "Nombre                                                                          \n",
              "Jetta Variant     ['Llantas de aleación', 'Cerraduras electricas...   88078.64  \n",
              "Passat            ['Central multimedia', 'Techo panorámico', 'Fr...  106161.94  \n",
              "Crossfox          ['Piloto automático', 'Control de estabilidad'...   72832.16  \n",
              "DS5               ['Cerraduras electricas', '4 X 4', 'Ventanas e...  124549.07  \n",
              "Aston Martin DB4  ['Llantas de aleación', '4 X 4', 'Central mult...   92612.10  "
            ],
            "text/html": [
              "\n",
              "  <div id=\"df-001bd807-d1b4-453b-b5f2-52d8f7093fff\">\n",
              "    <div class=\"colab-df-container\">\n",
              "      <div>\n",
              "<style scoped>\n",
              "    .dataframe tbody tr th:only-of-type {\n",
              "        vertical-align: middle;\n",
              "    }\n",
              "\n",
              "    .dataframe tbody tr th {\n",
              "        vertical-align: top;\n",
              "    }\n",
              "\n",
              "    .dataframe thead th {\n",
              "        text-align: right;\n",
              "    }\n",
              "</style>\n",
              "<table border=\"1\" class=\"dataframe\">\n",
              "  <thead>\n",
              "    <tr style=\"text-align: right;\">\n",
              "      <th></th>\n",
              "      <th>Motor</th>\n",
              "      <th>Año</th>\n",
              "      <th>Kilometraje</th>\n",
              "      <th>Cero_km</th>\n",
              "      <th>Accesorios</th>\n",
              "      <th>Valor</th>\n",
              "    </tr>\n",
              "    <tr>\n",
              "      <th>Nombre</th>\n",
              "      <th></th>\n",
              "      <th></th>\n",
              "      <th></th>\n",
              "      <th></th>\n",
              "      <th></th>\n",
              "      <th></th>\n",
              "    </tr>\n",
              "  </thead>\n",
              "  <tbody>\n",
              "    <tr>\n",
              "      <th>Jetta Variant</th>\n",
              "      <td>Motor 4.0 Turbo</td>\n",
              "      <td>2003</td>\n",
              "      <td>44410.0</td>\n",
              "      <td>False</td>\n",
              "      <td>['Llantas de aleación', 'Cerraduras electricas...</td>\n",
              "      <td>88078.64</td>\n",
              "    </tr>\n",
              "    <tr>\n",
              "      <th>Passat</th>\n",
              "      <td>Motor Diesel</td>\n",
              "      <td>1991</td>\n",
              "      <td>5712.0</td>\n",
              "      <td>False</td>\n",
              "      <td>['Central multimedia', 'Techo panorámico', 'Fr...</td>\n",
              "      <td>106161.94</td>\n",
              "    </tr>\n",
              "    <tr>\n",
              "      <th>Crossfox</th>\n",
              "      <td>Motor Diesel V8</td>\n",
              "      <td>1990</td>\n",
              "      <td>37123.0</td>\n",
              "      <td>False</td>\n",
              "      <td>['Piloto automático', 'Control de estabilidad'...</td>\n",
              "      <td>72832.16</td>\n",
              "    </tr>\n",
              "    <tr>\n",
              "      <th>DS5</th>\n",
              "      <td>Motor 2.4 Turbo</td>\n",
              "      <td>2019</td>\n",
              "      <td>NaN</td>\n",
              "      <td>True</td>\n",
              "      <td>['Cerraduras electricas', '4 X 4', 'Ventanas e...</td>\n",
              "      <td>124549.07</td>\n",
              "    </tr>\n",
              "    <tr>\n",
              "      <th>Aston Martin DB4</th>\n",
              "      <td>Motor 2.4 Turbo</td>\n",
              "      <td>2006</td>\n",
              "      <td>25757.0</td>\n",
              "      <td>False</td>\n",
              "      <td>['Llantas de aleación', '4 X 4', 'Central mult...</td>\n",
              "      <td>92612.10</td>\n",
              "    </tr>\n",
              "  </tbody>\n",
              "</table>\n",
              "</div>\n",
              "      <button class=\"colab-df-convert\" onclick=\"convertToInteractive('df-001bd807-d1b4-453b-b5f2-52d8f7093fff')\"\n",
              "              title=\"Convert this dataframe to an interactive table.\"\n",
              "              style=\"display:none;\">\n",
              "        \n",
              "  <svg xmlns=\"http://www.w3.org/2000/svg\" height=\"24px\"viewBox=\"0 0 24 24\"\n",
              "       width=\"24px\">\n",
              "    <path d=\"M0 0h24v24H0V0z\" fill=\"none\"/>\n",
              "    <path d=\"M18.56 5.44l.94 2.06.94-2.06 2.06-.94-2.06-.94-.94-2.06-.94 2.06-2.06.94zm-11 1L8.5 8.5l.94-2.06 2.06-.94-2.06-.94L8.5 2.5l-.94 2.06-2.06.94zm10 10l.94 2.06.94-2.06 2.06-.94-2.06-.94-.94-2.06-.94 2.06-2.06.94z\"/><path d=\"M17.41 7.96l-1.37-1.37c-.4-.4-.92-.59-1.43-.59-.52 0-1.04.2-1.43.59L10.3 9.45l-7.72 7.72c-.78.78-.78 2.05 0 2.83L4 21.41c.39.39.9.59 1.41.59.51 0 1.02-.2 1.41-.59l7.78-7.78 2.81-2.81c.8-.78.8-2.07 0-2.86zM5.41 20L4 18.59l7.72-7.72 1.47 1.35L5.41 20z\"/>\n",
              "  </svg>\n",
              "      </button>\n",
              "      \n",
              "  <style>\n",
              "    .colab-df-container {\n",
              "      display:flex;\n",
              "      flex-wrap:wrap;\n",
              "      gap: 12px;\n",
              "    }\n",
              "\n",
              "    .colab-df-convert {\n",
              "      background-color: #E8F0FE;\n",
              "      border: none;\n",
              "      border-radius: 50%;\n",
              "      cursor: pointer;\n",
              "      display: none;\n",
              "      fill: #1967D2;\n",
              "      height: 32px;\n",
              "      padding: 0 0 0 0;\n",
              "      width: 32px;\n",
              "    }\n",
              "\n",
              "    .colab-df-convert:hover {\n",
              "      background-color: #E2EBFA;\n",
              "      box-shadow: 0px 1px 2px rgba(60, 64, 67, 0.3), 0px 1px 3px 1px rgba(60, 64, 67, 0.15);\n",
              "      fill: #174EA6;\n",
              "    }\n",
              "\n",
              "    [theme=dark] .colab-df-convert {\n",
              "      background-color: #3B4455;\n",
              "      fill: #D2E3FC;\n",
              "    }\n",
              "\n",
              "    [theme=dark] .colab-df-convert:hover {\n",
              "      background-color: #434B5C;\n",
              "      box-shadow: 0px 1px 3px 1px rgba(0, 0, 0, 0.15);\n",
              "      filter: drop-shadow(0px 1px 2px rgba(0, 0, 0, 0.3));\n",
              "      fill: #FFFFFF;\n",
              "    }\n",
              "  </style>\n",
              "\n",
              "      <script>\n",
              "        const buttonEl =\n",
              "          document.querySelector('#df-001bd807-d1b4-453b-b5f2-52d8f7093fff button.colab-df-convert');\n",
              "        buttonEl.style.display =\n",
              "          google.colab.kernel.accessAllowed ? 'block' : 'none';\n",
              "\n",
              "        async function convertToInteractive(key) {\n",
              "          const element = document.querySelector('#df-001bd807-d1b4-453b-b5f2-52d8f7093fff');\n",
              "          const dataTable =\n",
              "            await google.colab.kernel.invokeFunction('convertToInteractive',\n",
              "                                                     [key], {});\n",
              "          if (!dataTable) return;\n",
              "\n",
              "          const docLinkHtml = 'Like what you see? Visit the ' +\n",
              "            '<a target=\"_blank\" href=https://colab.research.google.com/notebooks/data_table.ipynb>data table notebook</a>'\n",
              "            + ' to learn more about interactive tables.';\n",
              "          element.innerHTML = '';\n",
              "          dataTable['output_type'] = 'display_data';\n",
              "          await google.colab.output.renderOutput(dataTable, element);\n",
              "          const docLink = document.createElement('div');\n",
              "          docLink.innerHTML = docLinkHtml;\n",
              "          element.appendChild(docLink);\n",
              "        }\n",
              "      </script>\n",
              "    </div>\n",
              "  </div>\n",
              "  "
            ]
          },
          "metadata": {},
          "execution_count": 37
        }
      ],
      "source": [
        "dataset.head()"
      ]
    },
    {
      "cell_type": "code",
      "execution_count": 38,
      "metadata": {
        "id": "eFTNtPRWD1Ba",
        "colab": {
          "base_uri": "https://localhost:8080/"
        },
        "outputId": "4c3b94b2-3e2b-4b34-d9cc-387c4f5c2bc6"
      },
      "outputs": [
        {
          "output_type": "stream",
          "name": "stdout",
          "text": [
            "Motor\n",
            "Año\n",
            "Kilometraje\n",
            "Cero_km\n",
            "Accesorios\n",
            "Valor\n"
          ]
        }
      ],
      "source": [
        "for item in dataset:\n",
        "  print(item)"
      ]
    },
    {
      "cell_type": "code",
      "source": [
        "list(dataset.iterrows())"
      ],
      "metadata": {
        "colab": {
          "base_uri": "https://localhost:8080/"
        },
        "id": "FZcviY3OM8P2",
        "outputId": "33ef5f22-adbb-493b-d1c6-7d393c5a3842"
      },
      "execution_count": 40,
      "outputs": [
        {
          "output_type": "execute_result",
          "data": {
            "text/plain": [
              "[('Jetta Variant',\n",
              "  Motor                                            Motor 4.0 Turbo\n",
              "  Año                                                         2003\n",
              "  Kilometraje                                              44410.0\n",
              "  Cero_km                                                    False\n",
              "  Accesorios     ['Llantas de aleación', 'Cerraduras electricas...\n",
              "  Valor                                                   88078.64\n",
              "  Name: Jetta Variant, dtype: object),\n",
              " ('Passat',\n",
              "  Motor                                               Motor Diesel\n",
              "  Año                                                         1991\n",
              "  Kilometraje                                               5712.0\n",
              "  Cero_km                                                    False\n",
              "  Accesorios     ['Central multimedia', 'Techo panorámico', 'Fr...\n",
              "  Valor                                                  106161.94\n",
              "  Name: Passat, dtype: object),\n",
              " ('Crossfox',\n",
              "  Motor                                            Motor Diesel V8\n",
              "  Año                                                         1990\n",
              "  Kilometraje                                              37123.0\n",
              "  Cero_km                                                    False\n",
              "  Accesorios     ['Piloto automático', 'Control de estabilidad'...\n",
              "  Valor                                                   72832.16\n",
              "  Name: Crossfox, dtype: object),\n",
              " ('DS5',\n",
              "  Motor                                            Motor 2.4 Turbo\n",
              "  Año                                                         2019\n",
              "  Kilometraje                                                  NaN\n",
              "  Cero_km                                                     True\n",
              "  Accesorios     ['Cerraduras electricas', '4 X 4', 'Ventanas e...\n",
              "  Valor                                                  124549.07\n",
              "  Name: DS5, dtype: object),\n",
              " ('Aston Martin DB4',\n",
              "  Motor                                            Motor 2.4 Turbo\n",
              "  Año                                                         2006\n",
              "  Kilometraje                                              25757.0\n",
              "  Cero_km                                                    False\n",
              "  Accesorios     ['Llantas de aleación', '4 X 4', 'Central mult...\n",
              "  Valor                                                    92612.1\n",
              "  Name: Aston Martin DB4, dtype: object),\n",
              " ('Palio Weekend',\n",
              "  Motor                                              Motor 1.8 16v\n",
              "  Año                                                         2012\n",
              "  Kilometraje                                              10728.0\n",
              "  Cero_km                                                    False\n",
              "  Accesorios     ['Sensor de estacionamiento', 'Techo panorámic...\n",
              "  Valor                                                   97497.73\n",
              "  Name: Palio Weekend, dtype: object),\n",
              " ('A5',\n",
              "  Motor                                            Motor 4.0 Turbo\n",
              "  Año                                                         2019\n",
              "  Kilometraje                                                  NaN\n",
              "  Cero_km                                                     True\n",
              "  Accesorios     ['Transmisión automática', 'Cámara de estacion...\n",
              "  Valor                                                    56445.2\n",
              "  Name: A5, dtype: object),\n",
              " ('Série 3 Cabrio',\n",
              "  Motor                                               Motor 1.0 8v\n",
              "  Año                                                         2009\n",
              "  Kilometraje                                              77599.0\n",
              "  Cero_km                                                    False\n",
              "  Accesorios     ['Control de estabilidad', 'Sensor crepuscular...\n",
              "  Valor                                                  112310.44\n",
              "  Name: Série 3 Cabrio, dtype: object),\n",
              " ('Dodge Jorney',\n",
              "  Motor                                              Motor 3.0 32v\n",
              "  Año                                                         2010\n",
              "  Kilometraje                                              99197.0\n",
              "  Cero_km                                                    False\n",
              "  Accesorios     ['Ventanas eléctricas', 'Piloto automático', '...\n",
              "  Valor                                                  120716.27\n",
              "  Name: Dodge Jorney, dtype: object),\n",
              " ('Carens',\n",
              "  Motor                                      Motor 5.0 V8 Bi-Turbo\n",
              "  Año                                                         2011\n",
              "  Kilometraje                                              37978.0\n",
              "  Cero_km                                                    False\n",
              "  Accesorios     ['Aire condicionado', 'Panel digital', 'Centra...\n",
              "  Valor                                                   76566.49\n",
              "  Name: Carens, dtype: object),\n",
              " ('Ford Edge',\n",
              "  Motor                                            Motor Diesel V6\n",
              "  Año                                                         2002\n",
              "  Kilometraje                                              12859.0\n",
              "  Cero_km                                                    False\n",
              "  Accesorios     ['Sensor crepuscular', 'Llantas de aleación', ...\n",
              "  Valor                                                   71647.59\n",
              "  Name: Ford Edge, dtype: object),\n",
              " ('Courier',\n",
              "  Motor                                            Motor Diesel V8\n",
              "  Año                                                         2007\n",
              "  Kilometraje                                               8052.0\n",
              "  Cero_km                                                    False\n",
              "  Accesorios     ['Central multimedia', '4 X 4', 'Piloto automá...\n",
              "  Valor                                                   73919.53\n",
              "  Name: Courier, dtype: object),\n",
              " ('S-18',\n",
              "  Motor                                                   Motor V6\n",
              "  Año                                                         2001\n",
              "  Kilometraje                                              89773.0\n",
              "  Cero_km                                                    False\n",
              "  Accesorios     ['Asientos de cuero', 'Sensor de lluvia', 'Lla...\n",
              "  Valor                                                  112732.99\n",
              "  Name: S-18, dtype: object),\n",
              " ('J5',\n",
              "  Motor                                                   Motor V6\n",
              "  Año                                                         2019\n",
              "  Kilometraje                                                  NaN\n",
              "  Cero_km                                                     True\n",
              "  Accesorios     ['Sensor crepuscular', 'Panel digital', 'Llant...\n",
              "  Valor                                                   53183.38\n",
              "  Name: J5, dtype: object),\n",
              " ('F-Type Coupé',\n",
              "  Motor                                      Motor 5.0 V8 Bi-Turbo\n",
              "  Año                                                         2009\n",
              "  Kilometraje                                              41457.0\n",
              "  Cero_km                                                    False\n",
              "  Accesorios     ['Piloto automático', 'Sensor crepuscular', 'S...\n",
              "  Valor                                                  127488.42\n",
              "  Name: F-Type Coupé, dtype: object),\n",
              " ('RAM',\n",
              "  Motor                                            Motor Diesel V8\n",
              "  Año                                                         2016\n",
              "  Kilometraje                                             115607.0\n",
              "  Cero_km                                                    False\n",
              "  Accesorios     ['Sensor crepuscular', 'Transmisión automática...\n",
              "  Valor                                                    59910.4\n",
              "  Name: RAM, dtype: object),\n",
              " ('Série 1',\n",
              "  Motor                                              Motor 3.0 32v\n",
              "  Año                                                         2012\n",
              "  Kilometraje                                              46449.0\n",
              "  Cero_km                                                    False\n",
              "  Accesorios     ['Techo panorámico', 'Cámara de estacionamient...\n",
              "  Valor                                                   61118.59\n",
              "  Name: Série 1, dtype: object),\n",
              " ('A3',\n",
              "  Motor                                               Motor 1.0 8v\n",
              "  Año                                                         2019\n",
              "  Kilometraje                                                  NaN\n",
              "  Cero_km                                                     True\n",
              "  Accesorios     ['4 X 4', 'Piloto automático', 'Central multim...\n",
              "  Valor                                                   88552.39\n",
              "  Name: A3, dtype: object),\n",
              " ('XC90',\n",
              "  Motor                                               Motor 1.0 8v\n",
              "  Año                                                         2016\n",
              "  Kilometraje                                              37086.0\n",
              "  Cero_km                                                    False\n",
              "  Accesorios     ['Cerraduras electricas', 'Ventanas eléctricas...\n",
              "  Valor                                                   62696.69\n",
              "  Name: XC90, dtype: object),\n",
              " ('RS 3 Sportback',\n",
              "  Motor                                              Motor 3.0 32v\n",
              "  Año                                                         2017\n",
              "  Kilometraje                                              15173.0\n",
              "  Cero_km                                                    False\n",
              "  Accesorios     ['4 X 4', 'Piloto automático', 'Central multim...\n",
              "  Valor                                                   101726.3\n",
              "  Name: RS 3 Sportback, dtype: object),\n",
              " ('Pajero Sport',\n",
              "  Motor                                               Motor 1.0 8v\n",
              "  Año                                                         2002\n",
              "  Kilometraje                                             101193.0\n",
              "  Cero_km                                                    False\n",
              "  Accesorios     ['Sensor de estacionamiento', 'Piloto automáti...\n",
              "  Valor                                                  106147.38\n",
              "  Name: Pajero Sport, dtype: object),\n",
              " ('Série 1 M',\n",
              "  Motor                                                   Motor V8\n",
              "  Año                                                         2019\n",
              "  Kilometraje                                                  NaN\n",
              "  Cero_km                                                     True\n",
              "  Accesorios     ['Control de estabilidad', 'Central multimedia...\n",
              "  Valor                                                    94564.4\n",
              "  Name: Série 1 M, dtype: object),\n",
              " ('Lamborghini Obvious',\n",
              "  Motor                                            Motor Diesel V6\n",
              "  Año                                                         1994\n",
              "  Kilometraje                                              98079.0\n",
              "  Cero_km                                                    False\n",
              "  Accesorios     ['Llantas de aleación', 'Transmisión automátic...\n",
              "  Valor                                                  133529.84\n",
              "  Name: Lamborghini Obvious, dtype: object),\n",
              " ('Effa Hafei Picape Baú',\n",
              "  Motor                                               Motor Diesel\n",
              "  Año                                                         1991\n",
              "  Kilometraje                                             102959.0\n",
              "  Cero_km                                                    False\n",
              "  Accesorios     ['Control de estabilidad', 'Panel digital', 'V...\n",
              "  Valor                                                  125684.65\n",
              "  Name: Effa Hafei Picape Baú, dtype: object),\n",
              " ('Lamborghini Murciélago',\n",
              "  Motor                                      Motor 5.0 V8 Bi-Turbo\n",
              "  Año                                                         2019\n",
              "  Kilometraje                                                  NaN\n",
              "  Cero_km                                                     True\n",
              "  Accesorios     ['Frenos ABS', 'Transmisión automática', 'Aire...\n",
              "  Valor                                                  121596.21\n",
              "  Name: Lamborghini Murciélago, dtype: object),\n",
              " ('Up!',\n",
              "  Motor                                            Motor Diesel V6\n",
              "  Año                                                         2019\n",
              "  Kilometraje                                                  NaN\n",
              "  Cero_km                                                     True\n",
              "  Accesorios     ['Sensor de estacionamiento', 'Ventanas eléctr...\n",
              "  Valor                                                    71367.1\n",
              "  Name: Up!, dtype: object),\n",
              " ('Fiesta Rocam Sedan',\n",
              "  Motor                                            Motor 4.0 Turbo\n",
              "  Año                                                         2016\n",
              "  Kilometraje                                               5795.0\n",
              "  Cero_km                                                    False\n",
              "  Accesorios     ['Aire condicionado', 'Asientos de cuero', 'Tr...\n",
              "  Valor                                                   95347.75\n",
              "  Name: Fiesta Rocam Sedan, dtype: object),\n",
              " ('Sandero Stepway',\n",
              "  Motor                                              Motor 3.0 32v\n",
              "  Año                                                         2019\n",
              "  Kilometraje                                                  NaN\n",
              "  Cero_km                                                     True\n",
              "  Accesorios     ['Frenos ABS', 'Aire condicionado', 'Techo pan...\n",
              "  Valor                                                  105432.84\n",
              "  Name: Sandero Stepway, dtype: object),\n",
              " ('Cayman S',\n",
              "  Motor                                              Motor 3.0 32v\n",
              "  Año                                                         2002\n",
              "  Kilometraje                                              58848.0\n",
              "  Cero_km                                                    False\n",
              "  Accesorios     ['Transmisión automática', 'Sensor de estacion...\n",
              "  Valor                                                   57045.27\n",
              "  Name: Cayman S, dtype: object),\n",
              " ('V40',\n",
              "  Motor                                            Motor 4.0 Turbo\n",
              "  Año                                                         1991\n",
              "  Kilometraje                                              94381.0\n",
              "  Cero_km                                                    False\n",
              "  Accesorios     ['Cámara de estacionamiento', 'Sensor de estac...\n",
              "  Valor                                                   120432.7\n",
              "  Name: V40, dtype: object),\n",
              " ('Classe SLS AMG',\n",
              "  Motor                                               Motor 1.0 8v\n",
              "  Año                                                         1997\n",
              "  Kilometraje                                              30163.0\n",
              "  Cero_km                                                    False\n",
              "  Accesorios     ['Sensor de estacionamiento', 'Control de esta...\n",
              "  Valor                                                    70707.2\n",
              "  Name: Classe SLS AMG, dtype: object),\n",
              " ('Gol G4',\n",
              "  Motor                                              Motor 2.0 16v\n",
              "  Año                                                         1995\n",
              "  Kilometraje                                              53332.0\n",
              "  Cero_km                                                    False\n",
              "  Accesorios     ['Sensor crepuscular', '4 X 4', 'Ventanas eléc...\n",
              "  Valor                                                   69105.18\n",
              "  Name: Gol G4, dtype: object),\n",
              " ('Linea',\n",
              "  Motor                                               Motor 1.0 8v\n",
              "  Año                                                         2018\n",
              "  Kilometraje                                              17720.0\n",
              "  Cero_km                                                    False\n",
              "  Accesorios     ['Piloto automático', 'Panel digital', 'Ventan...\n",
              "  Valor                                                   59358.69\n",
              "  Name: Linea, dtype: object),\n",
              " ('Ford F100',\n",
              "  Motor                                              Motor 2.0 16v\n",
              "  Año                                                         1991\n",
              "  Kilometraje                                              33808.0\n",
              "  Cero_km                                                    False\n",
              "  Accesorios     ['Control de tracción', 'Sensor crepuscular', ...\n",
              "  Valor                                                    65955.4\n",
              "  Name: Ford F100, dtype: object),\n",
              " ('J2',\n",
              "  Motor                                                   Motor V8\n",
              "  Año                                                         2014\n",
              "  Kilometraje                                              90684.0\n",
              "  Cero_km                                                    False\n",
              "  Accesorios     ['Techo panorámico', 'Sensor de estacionamient...\n",
              "  Valor                                                   60017.03\n",
              "  Name: J2, dtype: object),\n",
              " ('Aston Martin DBS',\n",
              "  Motor                                                   Motor V8\n",
              "  Año                                                         1995\n",
              "  Kilometraje                                              43975.0\n",
              "  Cero_km                                                    False\n",
              "  Accesorios     ['Techo panorámico', 'Piloto automático', 'Air...\n",
              "  Valor                                                  118909.52\n",
              "  Name: Aston Martin DBS, dtype: object),\n",
              " ('Pajero TR4',\n",
              "  Motor                                            Motor 2.4 Turbo\n",
              "  Año                                                         2019\n",
              "  Kilometraje                                                  NaN\n",
              "  Cero_km                                                     True\n",
              "  Accesorios     ['Control de tracción', 'Asientos de cuero', '...\n",
              "  Valor                                                   51606.59\n",
              "  Name: Pajero TR4, dtype: object),\n",
              " ('Polo Sedan',\n",
              "  Motor                                                   Motor V6\n",
              "  Año                                                         2019\n",
              "  Kilometraje                                                  NaN\n",
              "  Cero_km                                                     True\n",
              "  Accesorios     ['Sensor de lluvia', 'Sensor crepuscular', 'Ai...\n",
              "  Valor                                                  123281.87\n",
              "  Name: Polo Sedan, dtype: object),\n",
              " ('California',\n",
              "  Motor                                               Motor 1.0 8v\n",
              "  Año                                                         2009\n",
              "  Kilometraje                                               5526.0\n",
              "  Cero_km                                                    False\n",
              "  Accesorios     ['Llantas de aleación', 'Aire condicionado', '...\n",
              "  Valor                                                   69770.18\n",
              "  Name: California, dtype: object),\n",
              " ('S60',\n",
              "  Motor                                            Motor 2.4 Turbo\n",
              "  Año                                                         2019\n",
              "  Kilometraje                                                  NaN\n",
              "  Cero_km                                                     True\n",
              "  Accesorios     ['Techo panorámico', 'Frenos ABS', '4 X 4', 'A...\n",
              "  Valor                                                  102609.54\n",
              "  Name: S60, dtype: object),\n",
              " ('Tucson',\n",
              "  Motor                                              Motor 2.0 16v\n",
              "  Año                                                         2013\n",
              "  Kilometraje                                              93415.0\n",
              "  Cero_km                                                    False\n",
              "  Accesorios     ['Ventanas eléctricas', 'Sensor crepuscular', ...\n",
              "  Valor                                                   67997.19\n",
              "  Name: Tucson, dtype: object),\n",
              " ('HB20',\n",
              "  Motor                                                   Motor V6\n",
              "  Año                                                         2003\n",
              "  Kilometraje                                              40762.0\n",
              "  Cero_km                                                    False\n",
              "  Accesorios     ['Sensor de lluvia', 'Cerraduras electricas', ...\n",
              "  Valor                                                  135235.29\n",
              "  Name: HB20, dtype: object),\n",
              " ('Optima',\n",
              "  Motor                                              Motor 1.8 16v\n",
              "  Año                                                         2019\n",
              "  Kilometraje                                                  NaN\n",
              "  Cero_km                                                     True\n",
              "  Accesorios     ['Central multimedia', 'Aire condicionado', 'T...\n",
              "  Valor                                                   86641.34\n",
              "  Name: Optima, dtype: object),\n",
              " ('Logan',\n",
              "  Motor                                            Motor 4.0 Turbo\n",
              "  Año                                                         2002\n",
              "  Kilometraje                                              86302.0\n",
              "  Cero_km                                                    False\n",
              "  Accesorios     ['Cámara de estacionamiento', 'Ventanas eléctr...\n",
              "  Valor                                                  136818.39\n",
              "  Name: Logan, dtype: object),\n",
              " ('Range Rover Vogue',\n",
              "  Motor                                               Motor 1.0 8v\n",
              "  Año                                                         2019\n",
              "  Kilometraje                                                  NaN\n",
              "  Cero_km                                                     True\n",
              "  Accesorios     ['4 X 4', 'Ventanas eléctricas', 'Llantas de a...\n",
              "  Valor                                                  117626.73\n",
              "  Name: Range Rover Vogue, dtype: object),\n",
              " ('Sonata',\n",
              "  Motor                                      Motor 5.0 V8 Bi-Turbo\n",
              "  Año                                                         2002\n",
              "  Kilometraje                                               9755.0\n",
              "  Cero_km                                                    False\n",
              "  Accesorios     ['Piloto automático', 'Aire condicionado', 'Ve...\n",
              "  Valor                                                    56208.7\n",
              "  Name: Sonata, dtype: object),\n",
              " ('Ford New Fiesta Sedan',\n",
              "  Motor                                              Motor 3.0 32v\n",
              "  Año                                                         2004\n",
              "  Kilometraje                                              69945.0\n",
              "  Cero_km                                                    False\n",
              "  Accesorios     ['Techo panorámico', 'Panel digital', 'Aire co...\n",
              "  Valor                                                   84222.65\n",
              "  Name: Ford New Fiesta Sedan, dtype: object),\n",
              " ('Série 5 Gran Turismo',\n",
              "  Motor                                            Motor 4.0 Turbo\n",
              "  Año                                                         2001\n",
              "  Kilometraje                                               2395.0\n",
              "  Cero_km                                                    False\n",
              "  Accesorios     ['Control de tracción', 'Piloto automático', '...\n",
              "  Valor                                                   90781.65\n",
              "  Name: Série 5 Gran Turismo, dtype: object),\n",
              " ('CR-V',\n",
              "  Motor                                            Motor Diesel V8\n",
              "  Año                                                         2019\n",
              "  Kilometraje                                                  NaN\n",
              "  Cero_km                                                     True\n",
              "  Accesorios     ['Transmisión automática', 'Central multimedia...\n",
              "  Valor                                                    64701.1\n",
              "  Name: CR-V, dtype: object),\n",
              " ('Ford EcoSport',\n",
              "  Motor                                               Motor 1.0 8v\n",
              "  Año                                                         2003\n",
              "  Kilometraje                                              80349.0\n",
              "  Cero_km                                                    False\n",
              "  Accesorios     ['Ventanas eléctricas', 'Piloto automático', '...\n",
              "  Valor                                                  126350.49\n",
              "  Name: Ford EcoSport, dtype: object),\n",
              " ('Versa',\n",
              "  Motor                                              Motor 3.0 32v\n",
              "  Año                                                         2009\n",
              "  Kilometraje                                              85554.0\n",
              "  Cero_km                                                    False\n",
              "  Accesorios     ['Asientos de cuero', 'Aire condicionado', 'Ll...\n",
              "  Valor                                                  148152.89\n",
              "  Name: Versa, dtype: object),\n",
              " ('Classe E',\n",
              "  Motor                                               Motor 1.0 8v\n",
              "  Año                                                         2006\n",
              "  Kilometraje                                              50496.0\n",
              "  Cero_km                                                    False\n",
              "  Accesorios     ['Frenos ABS', 'Sensor de estacionamiento', 'C...\n",
              "  Valor                                                  132298.83\n",
              "  Name: Classe E, dtype: object),\n",
              " ('Carnival',\n",
              "  Motor                                                   Motor V8\n",
              "  Año                                                         2000\n",
              "  Kilometraje                                              67716.0\n",
              "  Cero_km                                                    False\n",
              "  Accesorios     ['Cerraduras electricas', 'Transmisión automát...\n",
              "  Valor                                                  137627.63\n",
              "  Name: Carnival, dtype: object),\n",
              " ('Aston Martin V8 Vantage Roadster',\n",
              "  Motor                                            Motor 2.4 Turbo\n",
              "  Año                                                         2006\n",
              "  Kilometraje                                              93947.0\n",
              "  Cero_km                                                    False\n",
              "  Accesorios     ['Transmisión automática', 'Cámara de estacion...\n",
              "  Valor                                                   80422.71\n",
              "  Name: Aston Martin V8 Vantage Roadster, dtype: object),\n",
              " ('Hoggar',\n",
              "  Motor                                      Motor 5.0 V8 Bi-Turbo\n",
              "  Año                                                         2010\n",
              "  Kilometraje                                              35345.0\n",
              "  Cero_km                                                    False\n",
              "  Accesorios     ['Control de estabilidad', 'Asientos de cuero'...\n",
              "  Valor                                                   56373.99\n",
              "  Name: Hoggar, dtype: object),\n",
              " ('A1',\n",
              "  Motor                                      Motor 5.0 V8 Bi-Turbo\n",
              "  Año                                                         1994\n",
              "  Kilometraje                                              81007.0\n",
              "  Cero_km                                                    False\n",
              "  Accesorios     ['Panel digital', 'Transmisión automática', 'C...\n",
              "  Valor                                                   70846.03\n",
              "  Name: A1, dtype: object),\n",
              " ('Aston Martin DB7 Vantage',\n",
              "  Motor                                                   Motor V6\n",
              "  Año                                                         2007\n",
              "  Kilometraje                                             119513.0\n",
              "  Cero_km                                                    False\n",
              "  Accesorios     ['Sensor crepuscular', 'Piloto automático', 'T...\n",
              "  Valor                                                  128694.23\n",
              "  Name: Aston Martin DB7 Vantage, dtype: object),\n",
              " ('CLA',\n",
              "  Motor                                               Motor 1.0 8v\n",
              "  Año                                                         2019\n",
              "  Kilometraje                                                  NaN\n",
              "  Cero_km                                                     True\n",
              "  Accesorios     ['Central multimedia', 'Sensor de lluvia', 'Co...\n",
              "  Valor                                                  133329.19\n",
              "  Name: CLA, dtype: object),\n",
              " ('Accord',\n",
              "  Motor                                                   Motor V8\n",
              "  Año                                                         2019\n",
              "  Kilometraje                                                  NaN\n",
              "  Cero_km                                                     True\n",
              "  Accesorios     ['Sensor de estacionamiento', 'Aire condiciona...\n",
              "  Valor                                                  131961.43\n",
              "  Name: Accord, dtype: object),\n",
              " ('EXTRA 103EX',\n",
              "  Motor                                              Motor 2.0 16v\n",
              "  Año                                                         2019\n",
              "  Kilometraje                                                  NaN\n",
              "  Cero_km                                                     True\n",
              "  Accesorios     ['Sensor de estacionamiento', 'Central multime...\n",
              "  Valor                                                  112033.27\n",
              "  Name: EXTRA 103EX, dtype: object),\n",
              " ('Sorento',\n",
              "  Motor                                               Motor Diesel\n",
              "  Año                                                         2019\n",
              "  Kilometraje                                                  NaN\n",
              "  Cero_km                                                     True\n",
              "  Accesorios     ['Sensor de lluvia', 'Cámara de estacionamient...\n",
              "  Valor                                                   81399.35\n",
              "  Name: Sorento, dtype: object),\n",
              " ('Tiggo',\n",
              "  Motor                                              Motor 3.0 32v\n",
              "  Año                                                         2019\n",
              "  Kilometraje                                                  NaN\n",
              "  Cero_km                                                     True\n",
              "  Accesorios     ['Cámara de estacionamiento', 'Frenos ABS', 'P...\n",
              "  Valor                                                    97163.1\n",
              "  Name: Tiggo, dtype: object),\n",
              " ('New Fiesta Hatch',\n",
              "  Motor                                               Motor Diesel\n",
              "  Año                                                         2017\n",
              "  Kilometraje                                             118895.0\n",
              "  Cero_km                                                    False\n",
              "  Accesorios     ['Sensor de estacionamiento', 'Cerraduras elec...\n",
              "  Valor                                                   66007.16\n",
              "  Name: New Fiesta Hatch, dtype: object),\n",
              " ('Jeep Renegade',\n",
              "  Motor                                      Motor 5.0 V8 Bi-Turbo\n",
              "  Año                                                         2011\n",
              "  Kilometraje                                              48509.0\n",
              "  Cero_km                                                    False\n",
              "  Accesorios     ['Ventanas eléctricas', 'Techo panorámico', 'A...\n",
              "  Valor                                                  128776.22\n",
              "  Name: Jeep Renegade, dtype: object),\n",
              " ('Lamborghini Ankonian',\n",
              "  Motor                                              Motor 2.0 16v\n",
              "  Año                                                         2001\n",
              "  Kilometraje                                             100912.0\n",
              "  Cero_km                                                    False\n",
              "  Accesorios     ['Asientos de cuero', 'Cámara de estacionamien...\n",
              "  Valor                                                  142623.02\n",
              "  Name: Lamborghini Ankonian, dtype: object),\n",
              " ('Space Cross',\n",
              "  Motor                                      Motor 5.0 V8 Bi-Turbo\n",
              "  Año                                                         1996\n",
              "  Kilometraje                                              95649.0\n",
              "  Cero_km                                                    False\n",
              "  Accesorios     ['Techo panorámico', 'Ventanas eléctricas', 'S...\n",
              "  Valor                                                  136930.13\n",
              "  Name: Space Cross, dtype: object),\n",
              " ('Touareg',\n",
              "  Motor                                                   Motor V8\n",
              "  Año                                                         2019\n",
              "  Kilometraje                                                  NaN\n",
              "  Cero_km                                                     True\n",
              "  Accesorios     ['Control de estabilidad', 'Piloto automático'...\n",
              "  Valor                                                   66526.61\n",
              "  Name: Touareg, dtype: object),\n",
              " ('Classe M',\n",
              "  Motor                                               Motor 1.0 8v\n",
              "  Año                                                         1994\n",
              "  Kilometraje                                              90495.0\n",
              "  Cero_km                                                    False\n",
              "  Accesorios     ['Central multimedia', 'Asientos de cuero', 'L...\n",
              "  Valor                                                  114154.87\n",
              "  Name: Classe M, dtype: object),\n",
              " ('Lancer Evolution X',\n",
              "  Motor                                            Motor Diesel V6\n",
              "  Año                                                         2019\n",
              "  Kilometraje                                                  NaN\n",
              "  Cero_km                                                     True\n",
              "  Accesorios     ['Ventanas eléctricas', 'Transmisión automátic...\n",
              "  Valor                                                  142392.75\n",
              "  Name: Lancer Evolution X, dtype: object),\n",
              " ('Kangoo Express',\n",
              "  Motor                                               Motor Diesel\n",
              "  Año                                                         2007\n",
              "  Kilometraje                                              29132.0\n",
              "  Cero_km                                                    False\n",
              "  Accesorios     ['Asientos de cuero', 'Transmisión automática'...\n",
              "  Valor                                                  146716.91\n",
              "  Name: Kangoo Express, dtype: object),\n",
              " ('SW4',\n",
              "  Motor                                            Motor Diesel V6\n",
              "  Año                                                         1994\n",
              "  Kilometraje                                              23802.0\n",
              "  Cero_km                                                    False\n",
              "  Accesorios     ['Sensor de lluvia', 'Asientos de cuero', 'Con...\n",
              "  Valor                                                  122485.68\n",
              "  Name: SW4, dtype: object),\n",
              " ('Cadillac ELR',\n",
              "  Motor                                               Motor 1.0 8v\n",
              "  Año                                                         2007\n",
              "  Kilometraje                                              84992.0\n",
              "  Cero_km                                                    False\n",
              "  Accesorios     ['Sensor crepuscular', 'Cerraduras electricas'...\n",
              "  Valor                                                   97951.03\n",
              "  Name: Cadillac ELR, dtype: object),\n",
              " ('Doblò',\n",
              "  Motor                                              Motor 1.8 16v\n",
              "  Año                                                         1997\n",
              "  Kilometraje                                              54395.0\n",
              "  Cero_km                                                    False\n",
              "  Accesorios     ['Cámara de estacionamiento', 'Techo panorámic...\n",
              "  Valor                                                   78283.49\n",
              "  Name: Doblò, dtype: object),\n",
              " ('Lamborghini Egoista',\n",
              "  Motor                                              Motor 3.0 32v\n",
              "  Año                                                         2006\n",
              "  Kilometraje                                              26731.0\n",
              "  Cero_km                                                    False\n",
              "  Accesorios     ['Llantas de aleación', 'Control de tracción',...\n",
              "  Valor                                                   83434.04\n",
              "  Name: Lamborghini Egoista, dtype: object),\n",
              " ('Fit',\n",
              "  Motor                                               Motor Diesel\n",
              "  Año                                                         2013\n",
              "  Kilometraje                                              44329.0\n",
              "  Cero_km                                                    False\n",
              "  Accesorios     ['Frenos ABS', 'Cámara de estacionamiento', 'T...\n",
              "  Valor                                                   77836.23\n",
              "  Name: Fit, dtype: object),\n",
              " ('C5',\n",
              "  Motor                                              Motor 2.0 16v\n",
              "  Año                                                         1994\n",
              "  Kilometraje                                             118236.0\n",
              "  Cero_km                                                    False\n",
              "  Accesorios     ['Panel digital', 'Techo panorámico', 'Piloto ...\n",
              "  Valor                                                   60813.92\n",
              "  Name: C5, dtype: object),\n",
              " ('Celer Hatch',\n",
              "  Motor                                                   Motor V8\n",
              "  Año                                                         2008\n",
              "  Kilometraje                                             113808.0\n",
              "  Cero_km                                                    False\n",
              "  Accesorios     ['Control de estabilidad', 'Transmisión automá...\n",
              "  Valor                                                   91353.86\n",
              "  Name: Celer Hatch, dtype: object),\n",
              " ('HB20S',\n",
              "  Motor                                                   Motor V8\n",
              "  Año                                                         2008\n",
              "  Kilometraje                                                610.0\n",
              "  Cero_km                                                    False\n",
              "  Accesorios     ['Techo panorámico', 'Llantas de aleación', 'C...\n",
              "  Valor                                                  116281.21\n",
              "  Name: HB20S, dtype: object),\n",
              " ('Cielo Hatch',\n",
              "  Motor                                               Motor Diesel\n",
              "  Año                                                         2019\n",
              "  Kilometraje                                                  NaN\n",
              "  Cero_km                                                     True\n",
              "  Accesorios     ['Panel digital', 'Central multimedia', 'Cámar...\n",
              "  Valor                                                   145197.7\n",
              "  Name: Cielo Hatch, dtype: object),\n",
              " ('Livina',\n",
              "  Motor                                              Motor 2.0 16v\n",
              "  Año                                                         2019\n",
              "  Kilometraje                                                  NaN\n",
              "  Cero_km                                                     True\n",
              "  Accesorios     ['Sensor crepuscular', 'Cámara de estacionamie...\n",
              "  Valor                                                    50742.1\n",
              "  Name: Livina, dtype: object),\n",
              " ('Ducato',\n",
              "  Motor                                      Motor 5.0 V8 Bi-Turbo\n",
              "  Año                                                         1999\n",
              "  Kilometraje                                              12887.0\n",
              "  Cero_km                                                    False\n",
              "  Accesorios     ['Sensor de lluvia', 'Panel digital', 'Sensor ...\n",
              "  Valor                                                   73033.53\n",
              "  Name: Ducato, dtype: object),\n",
              " ('March',\n",
              "  Motor                                                   Motor V6\n",
              "  Año                                                         2007\n",
              "  Kilometraje                                              79607.0\n",
              "  Cero_km                                                    False\n",
              "  Accesorios     ['Asientos de cuero', 'Piloto automático', 'Se...\n",
              "  Valor                                                   54332.87\n",
              "  Name: March, dtype: object),\n",
              " ('Cadillac XTS sedan',\n",
              "  Motor                                            Motor Diesel V6\n",
              "  Año                                                         1993\n",
              "  Kilometraje                                              90924.0\n",
              "  Cero_km                                                    False\n",
              "  Accesorios     ['Aire condicionado', 'Transmisión automática'...\n",
              "  Valor                                                   52207.45\n",
              "  Name: Cadillac XTS sedan, dtype: object),\n",
              " ('Lamborghini Centenario',\n",
              "  Motor                                                   Motor V6\n",
              "  Año                                                         1995\n",
              "  Kilometraje                                              42733.0\n",
              "  Cero_km                                                    False\n",
              "  Accesorios     ['Central multimedia', 'Ventanas eléctricas', ...\n",
              "  Valor                                                    63578.5\n",
              "  Name: Lamborghini Centenario, dtype: object),\n",
              " ('Hilux',\n",
              "  Motor                                      Motor 5.0 V8 Bi-Turbo\n",
              "  Año                                                         2019\n",
              "  Kilometraje                                                  NaN\n",
              "  Cero_km                                                     True\n",
              "  Accesorios     ['4 X 4', 'Piloto automático', 'Techo panorámi...\n",
              "  Valor                                                   64507.72\n",
              "  Name: Hilux, dtype: object),\n",
              " ('Grand Siena',\n",
              "  Motor                                            Motor Diesel V8\n",
              "  Año                                                         2019\n",
              "  Kilometraje                                                  NaN\n",
              "  Cero_km                                                     True\n",
              "  Accesorios     ['Asientos de cuero', 'Panel digital', 'Sensor...\n",
              "  Valor                                                  115075.59\n",
              "  Name: Grand Siena, dtype: object),\n",
              " ('Symbol',\n",
              "  Motor                                               Motor Diesel\n",
              "  Año                                                         2016\n",
              "  Kilometraje                                             117714.0\n",
              "  Cero_km                                                    False\n",
              "  Accesorios     ['4 X 4', 'Piloto automático', 'Sensor crepusc...\n",
              "  Valor                                                   133030.6\n",
              "  Name: Symbol, dtype: object),\n",
              " ('Aston Martin V12 GT Zagato',\n",
              "  Motor                                            Motor 4.0 Turbo\n",
              "  Año                                                         2011\n",
              "  Kilometraje                                             113885.0\n",
              "  Cero_km                                                    False\n",
              "  Accesorios     ['Central multimedia', 'Piloto automático', 'S...\n",
              "  Valor                                                  141591.86\n",
              "  Name: Aston Martin V12 GT Zagato, dtype: object),\n",
              " ('Fusion',\n",
              "  Motor                                              Motor 1.8 16v\n",
              "  Año                                                         2019\n",
              "  Kilometraje                                                  NaN\n",
              "  Cero_km                                                     True\n",
              "  Accesorios     ['Control de tracción', 'Transmisión automátic...\n",
              "  Valor                                                  100380.28\n",
              "  Name: Fusion, dtype: object),\n",
              " ('A4 Sedan',\n",
              "  Motor                                               Motor Diesel\n",
              "  Año                                                         2002\n",
              "  Kilometraje                                              30511.0\n",
              "  Cero_km                                                    False\n",
              "  Accesorios     ['Cámara de estacionamiento', '4 X 4', 'Cerrad...\n",
              "  Valor                                                   96369.04\n",
              "  Name: A4 Sedan, dtype: object),\n",
              " ('Xsara Picasso',\n",
              "  Motor                                              Motor 2.0 16v\n",
              "  Año                                                         2013\n",
              "  Kilometraje                                              74867.0\n",
              "  Cero_km                                                    False\n",
              "  Accesorios     ['Sensor de lluvia', 'Techo panorámico', 'Cent...\n",
              "  Valor                                                  142603.84\n",
              "  Name: Xsara Picasso, dtype: object),\n",
              " ('207 SW',\n",
              "  Motor                                              Motor 3.0 32v\n",
              "  Año                                                         2017\n",
              "  Kilometraje                                             119760.0\n",
              "  Cero_km                                                    False\n",
              "  Accesorios     ['Control de estabilidad', 'Cerraduras electri...\n",
              "  Valor                                                  117709.67\n",
              "  Name: 207 SW, dtype: object),\n",
              " ('Star',\n",
              "  Motor                                                   Motor V6\n",
              "  Año                                                         2016\n",
              "  Kilometraje                                               8356.0\n",
              "  Cero_km                                                    False\n",
              "  Accesorios     ['Cámara de estacionamiento', '4 X 4', 'Centra...\n",
              "  Valor                                                  102241.54\n",
              "  Name: Star, dtype: object),\n",
              " ('Doblò Cargo',\n",
              "  Motor                                              Motor 3.0 32v\n",
              "  Año                                                         2008\n",
              "  Kilometraje                                              64247.0\n",
              "  Cero_km                                                    False\n",
              "  Accesorios     ['Frenos ABS', 'Techo panorámico', 'Ventanas e...\n",
              "  Valor                                                   96065.38\n",
              "  Name: Doblò Cargo, dtype: object),\n",
              " ('Cadillac CTS',\n",
              "  Motor                                              Motor 1.8 16v\n",
              "  Año                                                         2018\n",
              "  Kilometraje                                              88661.0\n",
              "  Cero_km                                                    False\n",
              "  Accesorios     ['Cerraduras electricas', 'Sensor de lluvia', ...\n",
              "  Valor                                                   53894.61\n",
              "  Name: Cadillac CTS, dtype: object),\n",
              " ('Cayenne',\n",
              "  Motor                                               Motor 1.0 8v\n",
              "  Año                                                         2003\n",
              "  Kilometraje                                               4539.0\n",
              "  Cero_km                                                    False\n",
              "  Accesorios     ['Control de tracción', 'Piloto automático', '...\n",
              "  Valor                                                  123911.78\n",
              "  Name: Cayenne, dtype: object),\n",
              " ('Fox',\n",
              "  Motor                                            Motor 4.0 Turbo\n",
              "  Año                                                         2003\n",
              "  Kilometraje                                             110116.0\n",
              "  Cero_km                                                    False\n",
              "  Accesorios     ['Piloto automático', 'Transmisión automática'...\n",
              "  Valor                                                  101996.35\n",
              "  Name: Fox, dtype: object),\n",
              " ('Tiida Hatch',\n",
              "  Motor                                            Motor Diesel V6\n",
              "  Año                                                         2004\n",
              "  Kilometraje                                              33215.0\n",
              "  Cero_km                                                    False\n",
              "  Accesorios     ['Techo panorámico', 'Cerraduras electricas', ...\n",
              "  Valor                                                   83431.66\n",
              "  Name: Tiida Hatch, dtype: object),\n",
              " ('Dodge Charger',\n",
              "  Motor                                            Motor 2.4 Turbo\n",
              "  Año                                                         2010\n",
              "  Kilometraje                                              92001.0\n",
              "  Cero_km                                                    False\n",
              "  Accesorios     ['Ventanas eléctricas', 'Sensor crepuscular', ...\n",
              "  Valor                                                  122975.63\n",
              "  Name: Dodge Charger, dtype: object),\n",
              " ('Face',\n",
              "  Motor                                                   Motor V8\n",
              "  Año                                                         2019\n",
              "  Kilometraje                                                  NaN\n",
              "  Cero_km                                                     True\n",
              "  Accesorios     ['Control de estabilidad', 'Ventanas eléctrica...\n",
              "  Valor                                                   93227.73\n",
              "  Name: Face, dtype: object),\n",
              " ('Prius',\n",
              "  Motor                                              Motor 3.0 32v\n",
              "  Año                                                         2006\n",
              "  Kilometraje                                              81708.0\n",
              "  Cero_km                                                    False\n",
              "  Accesorios     ['Llantas de aleación', 'Asientos de cuero', '...\n",
              "  Valor                                                   58762.65\n",
              "  Name: Prius, dtype: object),\n",
              " ('Idea',\n",
              "  Motor                                                   Motor V6\n",
              "  Año                                                         2001\n",
              "  Kilometraje                                              70641.0\n",
              "  Cero_km                                                    False\n",
              "  Accesorios     ['Central multimedia', 'Piloto automático', 'C...\n",
              "  Valor                                                  139549.67\n",
              "  Name: Idea, dtype: object),\n",
              " ('A8',\n",
              "  Motor                                              Motor 2.0 16v\n",
              "  Año                                                         2019\n",
              "  Kilometraje                                                  NaN\n",
              "  Cero_km                                                     True\n",
              "  Accesorios     ['Panel digital', 'Techo panorámico', 'Piloto ...\n",
              "  Valor                                                  122016.42\n",
              "  Name: A8, dtype: object),\n",
              " ('Série 1 Cabrio',\n",
              "  Motor                                              Motor 3.0 32v\n",
              "  Año                                                         2015\n",
              "  Kilometraje                                              91277.0\n",
              "  Cero_km                                                    False\n",
              "  Accesorios     ['Ventanas eléctricas', 'Cerraduras electricas...\n",
              "  Valor                                                   72731.98\n",
              "  Name: Série 1 Cabrio, dtype: object),\n",
              " ('Edge',\n",
              "  Motor                                                   Motor V6\n",
              "  Año                                                         2018\n",
              "  Kilometraje                                              26544.0\n",
              "  Cero_km                                                    False\n",
              "  Accesorios     ['Frenos ABS', 'Control de tracción', 'Sensor ...\n",
              "  Valor                                                   88416.54\n",
              "  Name: Edge, dtype: object),\n",
              " ('Cadillac ATS sedan',\n",
              "  Motor                                              Motor 1.8 16v\n",
              "  Año                                                         2017\n",
              "  Kilometraje                                              52596.0\n",
              "  Cero_km                                                    False\n",
              "  Accesorios     ['Panel digital', 'Ventanas eléctricas', 'Tech...\n",
              "  Valor                                                   73873.42\n",
              "  Name: Cadillac ATS sedan, dtype: object),\n",
              " ('Lamborghini Asterion LPI 910-4',\n",
              "  Motor                                      Motor 5.0 V8 Bi-Turbo\n",
              "  Año                                                         1992\n",
              "  Kilometraje                                              47503.0\n",
              "  Cero_km                                                    False\n",
              "  Accesorios     ['Aire condicionado', 'Panel digital', 'Contro...\n",
              "  Valor                                                   70709.34\n",
              "  Name: Lamborghini Asterion LPI 910-4, dtype: object),\n",
              " ('Frontier',\n",
              "  Motor                                                   Motor V8\n",
              "  Año                                                         2001\n",
              "  Kilometraje                                              89056.0\n",
              "  Cero_km                                                    False\n",
              "  Accesorios     ['Transmisión automática', 'Llantas de aleació...\n",
              "  Valor                                                   115306.5\n",
              "  Name: Frontier, dtype: object),\n",
              " ('Série 3 Sedã',\n",
              "  Motor                                              Motor 3.0 32v\n",
              "  Año                                                         1993\n",
              "  Kilometraje                                              28834.0\n",
              "  Cero_km                                                    False\n",
              "  Accesorios     ['Control de tracción', 'Control de estabilida...\n",
              "  Valor                                                   55924.63\n",
              "  Name: Série 3 Sedã, dtype: object),\n",
              " ('Lamborghini LM002',\n",
              "  Motor                                              Motor 1.8 16v\n",
              "  Año                                                         1995\n",
              "  Kilometraje                                             110564.0\n",
              "  Cero_km                                                    False\n",
              "  Accesorios     ['Asientos de cuero', 'Frenos ABS', 'Central m...\n",
              "  Valor                                                   85052.26\n",
              "  Name: Lamborghini LM002, dtype: object),\n",
              " ('Cadillac XLR',\n",
              "  Motor                                            Motor Diesel V8\n",
              "  Año                                                         2003\n",
              "  Kilometraje                                              56638.0\n",
              "  Cero_km                                                    False\n",
              "  Accesorios     ['Sensor crepuscular', 'Techo panorámico', 'Se...\n",
              "  Valor                                                   56646.34\n",
              "  Name: Cadillac XLR, dtype: object),\n",
              " ('A4 Avant',\n",
              "  Motor                                               Motor Diesel\n",
              "  Año                                                         2014\n",
              "  Kilometraje                                              17357.0\n",
              "  Cero_km                                                    False\n",
              "  Accesorios     ['Techo panorámico', '4 X 4', 'Asientos de cue...\n",
              "  Valor                                                  138946.88\n",
              "  Name: A4 Avant, dtype: object),\n",
              " ('EcoSport',\n",
              "  Motor                                            Motor 4.0 Turbo\n",
              "  Año                                                         2008\n",
              "  Kilometraje                                              74015.0\n",
              "  Cero_km                                                    False\n",
              "  Accesorios     ['Piloto automático', 'Sensor de estacionamien...\n",
              "  Valor                                                  108256.72\n",
              "  Name: EcoSport, dtype: object),\n",
              " ('J3',\n",
              "  Motor                                              Motor 1.8 16v\n",
              "  Año                                                         2013\n",
              "  Kilometraje                                              15196.0\n",
              "  Cero_km                                                    False\n",
              "  Accesorios     ['Control de estabilidad', '4 X 4', 'Cámara de...\n",
              "  Valor                                                    58979.3\n",
              "  Name: J3, dtype: object),\n",
              " ('Q3',\n",
              "  Motor                                              Motor 3.0 32v\n",
              "  Año                                                         2019\n",
              "  Kilometraje                                                  NaN\n",
              "  Cero_km                                                     True\n",
              "  Accesorios     ['Control de estabilidad', 'Asientos de cuero'...\n",
              "  Valor                                                  114727.68\n",
              "  Name: Q3, dtype: object),\n",
              " ('Aston Martin V8 Vantage',\n",
              "  Motor                                                   Motor V8\n",
              "  Año                                                         2017\n",
              "  Kilometraje                                              10821.0\n",
              "  Cero_km                                                    False\n",
              "  Accesorios     ['Techo panorámico', 'Control de tracción', 'P...\n",
              "  Valor                                                  139661.48\n",
              "  Name: Aston Martin V8 Vantage, dtype: object),\n",
              " ('Z4 Roadster',\n",
              "  Motor                                              Motor 3.0 32v\n",
              "  Año                                                         2019\n",
              "  Kilometraje                                                  NaN\n",
              "  Cero_km                                                     True\n",
              "  Accesorios     ['Central multimedia', 'Transmisión automática...\n",
              "  Valor                                                   80382.24\n",
              "  Name: Z4 Roadster, dtype: object),\n",
              " ('Lamborghini Ferruccio',\n",
              "  Motor                                              Motor 3.0 32v\n",
              "  Año                                                         2019\n",
              "  Kilometraje                                                  NaN\n",
              "  Cero_km                                                     True\n",
              "  Accesorios     ['Ventanas eléctricas', 'Piloto automático', '...\n",
              "  Valor                                                  149157.17\n",
              "  Name: Lamborghini Ferruccio, dtype: object),\n",
              " ('Ford Ka+',\n",
              "  Motor                                              Motor 1.8 16v\n",
              "  Año                                                         2006\n",
              "  Kilometraje                                               9595.0\n",
              "  Cero_km                                                    False\n",
              "  Accesorios     ['Sensor crepuscular', 'Piloto automático', 'C...\n",
              "  Valor                                                   87830.41\n",
              "  Name: Ford Ka+, dtype: object),\n",
              " ('Silver Shadow',\n",
              "  Motor                                               Motor Diesel\n",
              "  Año                                                         2015\n",
              "  Kilometraje                                              99052.0\n",
              "  Cero_km                                                    False\n",
              "  Accesorios     ['4 X 4', 'Central multimedia', 'Aire condicio...\n",
              "  Valor                                                  143568.22\n",
              "  Name: Silver Shadow, dtype: object),\n",
              " ('Classe C 63 AMG Touring',\n",
              "  Motor                                            Motor Diesel V8\n",
              "  Año                                                         2007\n",
              "  Kilometraje                                              52389.0\n",
              "  Cero_km                                                    False\n",
              "  Accesorios     ['Central multimedia', 'Piloto automático', 'F...\n",
              "  Valor                                                  138171.85\n",
              "  Name: Classe C 63 AMG Touring, dtype: object),\n",
              " ('Discovery 4',\n",
              "  Motor                                            Motor 4.0 Turbo\n",
              "  Año                                                         2005\n",
              "  Kilometraje                                             119945.0\n",
              "  Cero_km                                                    False\n",
              "  Accesorios     ['Frenos ABS', 'Llantas de aleación', 'Sensor ...\n",
              "  Valor                                                  115784.95\n",
              "  Name: Discovery 4, dtype: object),\n",
              " ('Veloster',\n",
              "  Motor                                            Motor Diesel V8\n",
              "  Año                                                         2017\n",
              "  Kilometraje                                              96005.0\n",
              "  Cero_km                                                    False\n",
              "  Accesorios     ['Aire condicionado', 'Central multimedia', 'A...\n",
              "  Valor                                                  146508.99\n",
              "  Name: Veloster, dtype: object),\n",
              " ('Classe C',\n",
              "  Motor                                            Motor Diesel V6\n",
              "  Año                                                         1998\n",
              "  Kilometraje                                              31639.0\n",
              "  Cero_km                                                    False\n",
              "  Accesorios     ['Frenos ABS', 'Sensor de lluvia', 'Central mu...\n",
              "  Valor                                                  137670.23\n",
              "  Name: Classe C, dtype: object),\n",
              " ('Camry',\n",
              "  Motor                                               Motor Diesel\n",
              "  Año                                                         2019\n",
              "  Kilometraje                                                  NaN\n",
              "  Cero_km                                                     True\n",
              "  Accesorios     ['Cerraduras electricas', 'Llantas de aleación...\n",
              "  Valor                                                  138597.27\n",
              "  Name: Camry, dtype: object),\n",
              " ('C5 Tourer',\n",
              "  Motor                                            Motor Diesel V6\n",
              "  Año                                                         1999\n",
              "  Kilometraje                                              80187.0\n",
              "  Cero_km                                                    False\n",
              "  Accesorios     ['Llantas de aleación', 'Sensor de lluvia', 'P...\n",
              "  Valor                                                  147627.81\n",
              "  Name: C5 Tourer, dtype: object),\n",
              " ('R8 GT',\n",
              "  Motor                                            Motor 4.0 Turbo\n",
              "  Año                                                         2019\n",
              "  Kilometraje                                                  NaN\n",
              "  Cero_km                                                     True\n",
              "  Accesorios     ['Llantas de aleación', 'Transmisión automátic...\n",
              "  Valor                                                   62999.02\n",
              "  Name: R8 GT, dtype: object),\n",
              " ('Bongo',\n",
              "  Motor                                            Motor Diesel V8\n",
              "  Año                                                         2009\n",
              "  Kilometraje                                              58212.0\n",
              "  Cero_km                                                    False\n",
              "  Accesorios     ['Ventanas eléctricas', 'Techo panorámico', 'P...\n",
              "  Valor                                                   91242.44\n",
              "  Name: Bongo, dtype: object),\n",
              " ('ASX',\n",
              "  Motor                                            Motor Diesel V8\n",
              "  Año                                                         2003\n",
              "  Kilometraje                                              61672.0\n",
              "  Cero_km                                                    False\n",
              "  Accesorios     ['Aire condicionado', 'Sensor crepuscular', 'L...\n",
              "  Valor                                                  149489.92\n",
              "  Name: ASX, dtype: object),\n",
              " ('Cadillac SRX',\n",
              "  Motor                                      Motor 5.0 V8 Bi-Turbo\n",
              "  Año                                                         1994\n",
              "  Kilometraje                                              32017.0\n",
              "  Cero_km                                                    False\n",
              "  Accesorios     ['Panel digital', 'Piloto automático', 'Contro...\n",
              "  Valor                                                   63529.95\n",
              "  Name: Cadillac SRX, dtype: object),\n",
              " ('Classe CL',\n",
              "  Motor                                                   Motor V8\n",
              "  Año                                                         2019\n",
              "  Kilometraje                                                  NaN\n",
              "  Cero_km                                                     True\n",
              "  Accesorios     ['Central multimedia', 'Transmisión automática...\n",
              "  Valor                                                   58525.41\n",
              "  Name: Classe CL, dtype: object),\n",
              " ('500 Abarth',\n",
              "  Motor                                                   Motor V6\n",
              "  Año                                                         1994\n",
              "  Kilometraje                                              56944.0\n",
              "  Cero_km                                                    False\n",
              "  Accesorios     ['4 X 4', 'Techo panorámico', 'Control de trac...\n",
              "  Valor                                                   90345.05\n",
              "  Name: 500 Abarth, dtype: object),\n",
              " ('Aston Martin Cygnet',\n",
              "  Motor                                      Motor 5.0 V8 Bi-Turbo\n",
              "  Año                                                         2019\n",
              "  Kilometraje                                                  NaN\n",
              "  Cero_km                                                     True\n",
              "  Accesorios     ['Panel digital', 'Aire condicionado', 'Sensor...\n",
              "  Valor                                                  147770.87\n",
              "  Name: Aston Martin Cygnet, dtype: object),\n",
              " ('Cadillac STS',\n",
              "  Motor                                            Motor 4.0 Turbo\n",
              "  Año                                                         2015\n",
              "  Kilometraje                                              86519.0\n",
              "  Cero_km                                                    False\n",
              "  Accesorios     ['Panel digital', 'Asientos de cuero', 'Sensor...\n",
              "  Valor                                                  106617.71\n",
              "  Name: Cadillac STS, dtype: object),\n",
              " ('Aston Martin DB9',\n",
              "  Motor                                              Motor 1.8 16v\n",
              "  Año                                                         1996\n",
              "  Kilometraje                                               4821.0\n",
              "  Cero_km                                                    False\n",
              "  Accesorios     ['Aire condicionado', 'Ventanas eléctricas', '...\n",
              "  Valor                                                  104929.88\n",
              "  Name: Aston Martin DB9, dtype: object),\n",
              " ('NX 200t',\n",
              "  Motor                                            Motor 2.4 Turbo\n",
              "  Año                                                         1997\n",
              "  Kilometraje                                             101025.0\n",
              "  Cero_km                                                    False\n",
              "  Accesorios     ['Control de estabilidad', 'Panel digital', 'A...\n",
              "  Valor                                                  100712.45\n",
              "  Name: NX 200t, dtype: object),\n",
              " ('Aston Martin One-77',\n",
              "  Motor                                                   Motor V6\n",
              "  Año                                                         1993\n",
              "  Kilometraje                                              30705.0\n",
              "  Cero_km                                                    False\n",
              "  Accesorios     ['Sensor de estacionamiento', 'Llantas de alea...\n",
              "  Valor                                                  141982.93\n",
              "  Name: Aston Martin One-77, dtype: object),\n",
              " ('Lamborghini Veneno',\n",
              "  Motor                                              Motor 3.0 32v\n",
              "  Año                                                         2019\n",
              "  Kilometraje                                                  NaN\n",
              "  Cero_km                                                     True\n",
              "  Accesorios     ['4 X 4', 'Sensor de estacionamiento', 'Transm...\n",
              "  Valor                                                  104038.79\n",
              "  Name: Lamborghini Veneno, dtype: object),\n",
              " ('Sentra',\n",
              "  Motor                                              Motor 2.0 16v\n",
              "  Año                                                         1992\n",
              "  Kilometraje                                              32555.0\n",
              "  Cero_km                                                    False\n",
              "  Accesorios     ['Piloto automático', 'Sensor crepuscular', 'C...\n",
              "  Valor                                                   88501.54\n",
              "  Name: Sentra, dtype: object),\n",
              " ('Jumper',\n",
              "  Motor                                            Motor 2.4 Turbo\n",
              "  Año                                                         1995\n",
              "  Kilometraje                                             103389.0\n",
              "  Cero_km                                                    False\n",
              "  Accesorios     ['Aire condicionado', 'Llantas de aleación', '...\n",
              "  Valor                                                   79782.02\n",
              "  Name: Jumper, dtype: object),\n",
              " ('i30',\n",
              "  Motor                                              Motor 1.8 16v\n",
              "  Año                                                         2019\n",
              "  Kilometraje                                                  NaN\n",
              "  Cero_km                                                     True\n",
              "  Accesorios     ['Transmisión automática', 'Control de estabil...\n",
              "  Valor                                                    86224.1\n",
              "  Name: i30, dtype: object),\n",
              " ('X6',\n",
              "  Motor                                            Motor Diesel V6\n",
              "  Año                                                         1990\n",
              "  Kilometraje                                              55289.0\n",
              "  Cero_km                                                    False\n",
              "  Accesorios     ['Cámara de estacionamiento', 'Cerraduras elec...\n",
              "  Valor                                                  103596.18\n",
              "  Name: X6, dtype: object),\n",
              " ('Voyage',\n",
              "  Motor                                      Motor 5.0 V8 Bi-Turbo\n",
              "  Año                                                         2019\n",
              "  Kilometraje                                                  NaN\n",
              "  Cero_km                                                     True\n",
              "  Accesorios     ['Aire condicionado', 'Sensor de estacionamien...\n",
              "  Valor                                                  148996.47\n",
              "  Name: Voyage, dtype: object),\n",
              " ('Phantom I Phantom II',\n",
              "  Motor                                              Motor 1.8 16v\n",
              "  Año                                                         2019\n",
              "  Kilometraje                                                  NaN\n",
              "  Cero_km                                                     True\n",
              "  Accesorios     ['Piloto automático', 'Frenos ABS', 'Panel dig...\n",
              "  Valor                                                   60948.01\n",
              "  Name: Phantom I Phantom II, dtype: object),\n",
              " ('Passat Variant',\n",
              "  Motor                                               Motor 1.0 8v\n",
              "  Año                                                         1991\n",
              "  Kilometraje                                             115930.0\n",
              "  Cero_km                                                    False\n",
              "  Accesorios     ['Frenos ABS', 'Llantas de aleación', 'Piloto ...\n",
              "  Valor                                                   69535.44\n",
              "  Name: Passat Variant, dtype: object),\n",
              " ('Clio',\n",
              "  Motor                                               Motor Diesel\n",
              "  Año                                                         1990\n",
              "  Kilometraje                                              66437.0\n",
              "  Cero_km                                                    False\n",
              "  Accesorios     ['4 X 4', 'Transmisión automática', 'Frenos AB...\n",
              "  Valor                                                  111130.33\n",
              "  Name: Clio, dtype: object),\n",
              " ('Classe G',\n",
              "  Motor                                            Motor Diesel V6\n",
              "  Año                                                         2012\n",
              "  Kilometraje                                              96800.0\n",
              "  Cero_km                                                    False\n",
              "  Accesorios     ['Control de estabilidad', 'Central multimedia...\n",
              "  Valor                                                   65847.69\n",
              "  Name: Classe G, dtype: object),\n",
              " ('Silver Ghost',\n",
              "  Motor                                              Motor 1.8 16v\n",
              "  Año                                                         2007\n",
              "  Kilometraje                                              14237.0\n",
              "  Cero_km                                                    False\n",
              "  Accesorios     ['Cerraduras electricas', 'Panel digital', 'Cá...\n",
              "  Valor                                                   78096.06\n",
              "  Name: Silver Ghost, dtype: object),\n",
              " ('Série 3 M3 Coupé',\n",
              "  Motor                                               Motor Diesel\n",
              "  Año                                                         2013\n",
              "  Kilometraje                                              19896.0\n",
              "  Cero_km                                                    False\n",
              "  Accesorios     ['Asientos de cuero', 'Sensor de lluvia', 'Air...\n",
              "  Valor                                                   69219.89\n",
              "  Name: Série 3 M3 Coupé, dtype: object),\n",
              " ('Gallardo LP 560 – 4',\n",
              "  Motor                                               Motor Diesel\n",
              "  Año                                                         2000\n",
              "  Kilometraje                                             113045.0\n",
              "  Cero_km                                                    False\n",
              "  Accesorios     ['Frenos ABS', 'Techo panorámico', 'Central mu...\n",
              "  Valor                                                  144118.91\n",
              "  Name: Gallardo LP 560 – 4, dtype: object),\n",
              " ('Freelander 2',\n",
              "  Motor                                            Motor Diesel V6\n",
              "  Año                                                         2002\n",
              "  Kilometraje                                             114942.0\n",
              "  Cero_km                                                    False\n",
              "  Accesorios     ['4 X 4', 'Cámara de estacionamiento', 'Sensor...\n",
              "  Valor                                                   77397.05\n",
              "  Name: Freelander 2, dtype: object),\n",
              " ('Grand Cherokee',\n",
              "  Motor                                      Motor 5.0 V8 Bi-Turbo\n",
              "  Año                                                         1996\n",
              "  Kilometraje                                               3173.0\n",
              "  Cero_km                                                    False\n",
              "  Accesorios     ['Transmisión automática', 'Cerraduras electri...\n",
              "  Valor                                                   68974.25\n",
              "  Name: Grand Cherokee, dtype: object),\n",
              " ('Aston Martin DBR9',\n",
              "  Motor                                            Motor 4.0 Turbo\n",
              "  Año                                                         1996\n",
              "  Kilometraje                                              83611.0\n",
              "  Cero_km                                                    False\n",
              "  Accesorios     ['Control de estabilidad', 'Sensor de estacion...\n",
              "  Valor                                                   125231.3\n",
              "  Name: Aston Martin DBR9, dtype: object),\n",
              " ('Soul',\n",
              "  Motor                                      Motor 5.0 V8 Bi-Turbo\n",
              "  Año                                                         2015\n",
              "  Kilometraje                                              25356.0\n",
              "  Cero_km                                                    False\n",
              "  Accesorios     ['Sensor crepuscular', 'Piloto automático', 'S...\n",
              "  Valor                                                   85501.12\n",
              "  Name: Soul, dtype: object),\n",
              " ('Cadillac BLS',\n",
              "  Motor                                                   Motor V8\n",
              "  Año                                                         1993\n",
              "  Kilometraje                                              88634.0\n",
              "  Cero_km                                                    False\n",
              "  Accesorios     ['Techo panorámico', 'Control de estabilidad',...\n",
              "  Valor                                                  137116.21\n",
              "  Name: Cadillac BLS, dtype: object),\n",
              " ('RX 350',\n",
              "  Motor                                                   Motor V6\n",
              "  Año                                                         2013\n",
              "  Kilometraje                                               2314.0\n",
              "  Cero_km                                                    False\n",
              "  Accesorios     ['Piloto automático', 'Sensor crepuscular', 'A...\n",
              "  Valor                                                  138823.81\n",
              "  Name: RX 350, dtype: object),\n",
              " ('Cayman',\n",
              "  Motor                                              Motor 3.0 32v\n",
              "  Año                                                         2013\n",
              "  Kilometraje                                               2627.0\n",
              "  Cero_km                                                    False\n",
              "  Accesorios     ['Central multimedia', 'Panel digital', 'Senso...\n",
              "  Valor                                                  117961.95\n",
              "  Name: Cayman, dtype: object),\n",
              " ('Chana Utility',\n",
              "  Motor                                               Motor Diesel\n",
              "  Año                                                         2009\n",
              "  Kilometraje                                              52034.0\n",
              "  Cero_km                                                    False\n",
              "  Accesorios     ['Aire condicionado', 'Sensor de estacionamien...\n",
              "  Valor                                                  132662.32\n",
              "  Name: Chana Utility, dtype: object),\n",
              " ('308 CC',\n",
              "  Motor                                            Motor 4.0 Turbo\n",
              "  Año                                                         2019\n",
              "  Kilometraje                                                  NaN\n",
              "  Cero_km                                                     True\n",
              "  Accesorios     ['Cámara de estacionamiento', 'Asientos de cue...\n",
              "  Valor                                                  146405.79\n",
              "  Name: 308 CC, dtype: object),\n",
              " ('L200 Triton',\n",
              "  Motor                                            Motor Diesel V8\n",
              "  Año                                                         2019\n",
              "  Kilometraje                                                  NaN\n",
              "  Cero_km                                                     True\n",
              "  Accesorios     ['Ventanas eléctricas', 'Aire condicionado', '...\n",
              "  Valor                                                   81999.21\n",
              "  Name: L200 Triton, dtype: object),\n",
              " ('Jetta',\n",
              "  Motor                                      Motor 5.0 V8 Bi-Turbo\n",
              "  Año                                                         2002\n",
              "  Kilometraje                                              79577.0\n",
              "  Cero_km                                                    False\n",
              "  Accesorios     ['Central multimedia', 'Ventanas eléctricas', ...\n",
              "  Valor                                                   140934.6\n",
              "  Name: Jetta, dtype: object),\n",
              " ('C4 Lounge',\n",
              "  Motor                                                   Motor V8\n",
              "  Año                                                         1997\n",
              "  Kilometraje                                             108201.0\n",
              "  Cero_km                                                    False\n",
              "  Accesorios     ['Central multimedia', 'Control de tracción', ...\n",
              "  Valor                                                   82366.81\n",
              "  Name: C4 Lounge, dtype: object),\n",
              " ('C4 Pallas',\n",
              "  Motor                                               Motor 1.0 8v\n",
              "  Año                                                         1998\n",
              "  Kilometraje                                              76453.0\n",
              "  Cero_km                                                    False\n",
              "  Accesorios     ['4 X 4', 'Frenos ABS', 'Sensor de lluvia', 'L...\n",
              "  Valor                                                   70424.11\n",
              "  Name: C4 Pallas, dtype: object),\n",
              " ('Equus',\n",
              "  Motor                                              Motor 3.0 32v\n",
              "  Año                                                         2004\n",
              "  Kilometraje                                              57683.0\n",
              "  Cero_km                                                    False\n",
              "  Accesorios     ['Cerraduras electricas', 'Llantas de aleación...\n",
              "  Valor                                                   53620.31\n",
              "  Name: Equus, dtype: object),\n",
              " ('Classe GL',\n",
              "  Motor                                              Motor 3.0 32v\n",
              "  Año                                                         1996\n",
              "  Kilometraje                                              96610.0\n",
              "  Cero_km                                                    False\n",
              "  Accesorios     ['Frenos ABS', 'Cámara de estacionamiento', 'C...\n",
              "  Valor                                                   73389.18\n",
              "  Name: Classe GL, dtype: object),\n",
              " ('Range Rover Evoque',\n",
              "  Motor                                              Motor 2.0 16v\n",
              "  Año                                                         2015\n",
              "  Kilometraje                                             109001.0\n",
              "  Cero_km                                                    False\n",
              "  Accesorios     ['Llantas de aleación', 'Techo panorámico', 'S...\n",
              "  Valor                                                  111618.12\n",
              "  Name: Range Rover Evoque, dtype: object),\n",
              " ('Cherokee',\n",
              "  Motor                                            Motor 4.0 Turbo\n",
              "  Año                                                         2016\n",
              "  Kilometraje                                              26212.0\n",
              "  Cero_km                                                    False\n",
              "  Accesorios     ['Panel digital', 'Cerraduras electricas', 'Ll...\n",
              "  Valor                                                  112187.37\n",
              "  Name: Cherokee, dtype: object),\n",
              " ('Punto',\n",
              "  Motor                                            Motor 4.0 Turbo\n",
              "  Año                                                         2005\n",
              "  Kilometraje                                              45971.0\n",
              "  Cero_km                                                    False\n",
              "  Accesorios     ['Central multimedia', 'Transmisión automática...\n",
              "  Valor                                                  120812.57\n",
              "  Name: Punto, dtype: object),\n",
              " ('Grand Tour',\n",
              "  Motor                                              Motor 3.0 32v\n",
              "  Año                                                         1999\n",
              "  Kilometraje                                              49182.0\n",
              "  Cero_km                                                    False\n",
              "  Accesorios     ['Llantas de aleación', 'Cerraduras electricas...\n",
              "  Valor                                                  116031.04\n",
              "  Name: Grand Tour, dtype: object),\n",
              " ('Fluence',\n",
              "  Motor                                            Motor Diesel V6\n",
              "  Año                                                         1995\n",
              "  Kilometraje                                              49907.0\n",
              "  Cero_km                                                    False\n",
              "  Accesorios     ['Sensor crepuscular', 'Techo panorámico', 'Tr...\n",
              "  Valor                                                  125398.11\n",
              "  Name: Fluence, dtype: object),\n",
              " ('Effa Hafei Picape Cabine Simples',\n",
              "  Motor                                               Motor 1.0 8v\n",
              "  Año                                                         1993\n",
              "  Kilometraje                                              38620.0\n",
              "  Cero_km                                                    False\n",
              "  Accesorios     ['Piloto automático', 'Aire condicionado', 'Ce...\n",
              "  Valor                                                   76101.47\n",
              "  Name: Effa Hafei Picape Cabine Simples, dtype: object),\n",
              " ('Durango',\n",
              "  Motor                                              Motor 2.0 16v\n",
              "  Año                                                         2004\n",
              "  Kilometraje                                              60996.0\n",
              "  Cero_km                                                    False\n",
              "  Accesorios     ['Asientos de cuero', 'Panel digital', 'Transm...\n",
              "  Valor                                                   75263.24\n",
              "  Name: Durango, dtype: object),\n",
              " ('Boxster',\n",
              "  Motor                                            Motor Diesel V8\n",
              "  Año                                                         2013\n",
              "  Kilometraje                                              73914.0\n",
              "  Cero_km                                                    False\n",
              "  Accesorios     ['Techo panorámico', 'Sensor crepuscular', 'As...\n",
              "  Valor                                                  147387.76\n",
              "  Name: Boxster, dtype: object),\n",
              " ('TT Roadster',\n",
              "  Motor                                               Motor Diesel\n",
              "  Año                                                         1998\n",
              "  Kilometraje                                             107392.0\n",
              "  Cero_km                                                    False\n",
              "  Accesorios     ['Aire condicionado', 'Sensor de estacionamien...\n",
              "  Valor                                                    85311.4\n",
              "  Name: TT Roadster, dtype: object),\n",
              " ('Lamborghini Jalpa',\n",
              "  Motor                                              Motor 1.8 16v\n",
              "  Año                                                         2018\n",
              "  Kilometraje                                               9146.0\n",
              "  Cero_km                                                    False\n",
              "  Accesorios     ['Piloto automático', 'Frenos ABS', 'Sensor de...\n",
              "  Valor                                                   54388.11\n",
              "  Name: Lamborghini Jalpa, dtype: object),\n",
              " ('Classe SLK',\n",
              "  Motor                                            Motor 4.0 Turbo\n",
              "  Año                                                         2019\n",
              "  Kilometraje                                                  NaN\n",
              "  Cero_km                                                     True\n",
              "  Accesorios     ['4 X 4', 'Sensor de estacionamiento', 'Contro...\n",
              "  Valor                                                  124156.65\n",
              "  Name: Classe SLK, dtype: object),\n",
              " ('Golf',\n",
              "  Motor                                               Motor 1.0 8v\n",
              "  Año                                                         2018\n",
              "  Kilometraje                                              17924.0\n",
              "  Cero_km                                                    False\n",
              "  Accesorios     ['Llantas de aleación', 'Control de tracción',...\n",
              "  Valor                                                  146203.34\n",
              "  Name: Golf, dtype: object),\n",
              " ('C3 Picasso',\n",
              "  Motor                                              Motor 3.0 32v\n",
              "  Año                                                         2019\n",
              "  Kilometraje                                                  NaN\n",
              "  Cero_km                                                     True\n",
              "  Accesorios     ['Techo panorámico', 'Sensor crepuscular', 'Se...\n",
              "  Valor                                                   56453.94\n",
              "  Name: C3 Picasso, dtype: object),\n",
              " ('V50',\n",
              "  Motor                                              Motor 2.0 16v\n",
              "  Año                                                         1990\n",
              "  Kilometraje                                             116949.0\n",
              "  Cero_km                                                    False\n",
              "  Accesorios     ['Techo panorámico', 'Cámara de estacionamient...\n",
              "  Valor                                                   68873.79\n",
              "  Name: V50, dtype: object),\n",
              " ('Picanto',\n",
              "  Motor                                            Motor 4.0 Turbo\n",
              "  Año                                                         2009\n",
              "  Kilometraje                                              20476.0\n",
              "  Cero_km                                                    False\n",
              "  Accesorios     ['Panel digital', 'Control de estabilidad', 'F...\n",
              "  Valor                                                   91667.61\n",
              "  Name: Picanto, dtype: object),\n",
              " ('Cadenza',\n",
              "  Motor                                            Motor Diesel V6\n",
              "  Año                                                         1990\n",
              "  Kilometraje                                              52804.0\n",
              "  Cero_km                                                    False\n",
              "  Accesorios     ['Sensor crepuscular', 'Control de estabilidad...\n",
              "  Valor                                                   93776.52\n",
              "  Name: Cadenza, dtype: object),\n",
              " ('Etios Sedã',\n",
              "  Motor                                      Motor 5.0 V8 Bi-Turbo\n",
              "  Año                                                         2006\n",
              "  Kilometraje                                               8849.0\n",
              "  Cero_km                                                    False\n",
              "  Accesorios     ['Aire condicionado', 'Ventanas eléctricas', '...\n",
              "  Valor                                                   66433.82\n",
              "  Name: Etios Sedã, dtype: object),\n",
              " ('Alsvin',\n",
              "  Motor                                            Motor Diesel V8\n",
              "  Año                                                         2002\n",
              "  Kilometraje                                              91724.0\n",
              "  Cero_km                                                    False\n",
              "  Accesorios     ['Central multimedia', 'Control de estabilidad...\n",
              "  Valor                                                  109059.27\n",
              "  Name: Alsvin, dtype: object),\n",
              " ('Cadillac ATS',\n",
              "  Motor                                            Motor Diesel V6\n",
              "  Año                                                         1991\n",
              "  Kilometraje                                              32056.0\n",
              "  Cero_km                                                    False\n",
              "  Accesorios     ['Piloto automático', 'Llantas de aleación', '...\n",
              "  Valor                                                  122069.97\n",
              "  Name: Cadillac ATS, dtype: object),\n",
              " ('Série 3 M3 Sedã',\n",
              "  Motor                                            Motor Diesel V6\n",
              "  Año                                                         1992\n",
              "  Kilometraje                                              74886.0\n",
              "  Cero_km                                                    False\n",
              "  Accesorios     ['Panel digital', 'Frenos ABS', 'Aire condicio...\n",
              "  Valor                                                  113090.32\n",
              "  Name: Série 3 M3 Sedã, dtype: object),\n",
              " ('Classe S',\n",
              "  Motor                                              Motor 3.0 32v\n",
              "  Año                                                         2019\n",
              "  Kilometraje                                                  NaN\n",
              "  Cero_km                                                     True\n",
              "  Accesorios     ['Control de tracción', 'Techo panorámico', 'T...\n",
              "  Valor                                                    89401.1\n",
              "  Name: Classe S, dtype: object),\n",
              " ('T6',\n",
              "  Motor                                              Motor 3.0 32v\n",
              "  Año                                                         2019\n",
              "  Kilometraje                                                  NaN\n",
              "  Cero_km                                                     True\n",
              "  Accesorios     ['Sensor de lluvia', 'Cámara de estacionamient...\n",
              "  Valor                                                   56842.79\n",
              "  Name: T6, dtype: object),\n",
              " ('Aston Martin DB7',\n",
              "  Motor                                            Motor Diesel V8\n",
              "  Año                                                         2005\n",
              "  Kilometraje                                              52189.0\n",
              "  Cero_km                                                    False\n",
              "  Accesorios     ['Cerraduras electricas', 'Panel digital', 'Se...\n",
              "  Valor                                                  146676.71\n",
              "  Name: Aston Martin DB7, dtype: object),\n",
              " ('207 Sedan',\n",
              "  Motor                                            Motor 4.0 Turbo\n",
              "  Año                                                         2010\n",
              "  Kilometraje                                              83559.0\n",
              "  Cero_km                                                    False\n",
              "  Accesorios     ['Control de tracción', 'Central multimedia', ...\n",
              "  Valor                                                   89511.96\n",
              "  Name: 207 Sedan, dtype: object),\n",
              " ('Aston Martin Virage',\n",
              "  Motor                                               Motor Diesel\n",
              "  Año                                                         2019\n",
              "  Kilometraje                                                  NaN\n",
              "  Cero_km                                                     True\n",
              "  Accesorios     ['Cerraduras electricas', 'Control de tracción...\n",
              "  Valor                                                   97290.18\n",
              "  Name: Aston Martin Virage, dtype: object),\n",
              " ('Azera',\n",
              "  Motor                                              Motor 1.8 16v\n",
              "  Año                                                         2016\n",
              "  Kilometraje                                              20328.0\n",
              "  Cero_km                                                    False\n",
              "  Accesorios     ['Asientos de cuero', 'Control de tracción', '...\n",
              "  Valor                                                  120673.56\n",
              "  Name: Azera, dtype: object),\n",
              " ('Vantage Volante',\n",
              "  Motor                                            Motor Diesel V8\n",
              "  Año                                                         2019\n",
              "  Kilometraje                                                  NaN\n",
              "  Cero_km                                                     True\n",
              "  Accesorios     ['Frenos ABS', 'Control de tracción', 'Central...\n",
              "  Valor                                                  114434.94\n",
              "  Name: Vantage Volante, dtype: object),\n",
              " ('Siena EL',\n",
              "  Motor                                                   Motor V8\n",
              "  Año                                                         2010\n",
              "  Kilometraje                                              75577.0\n",
              "  Cero_km                                                    False\n",
              "  Accesorios     ['Frenos ABS', 'Sensor crepuscular', 'Control ...\n",
              "  Valor                                                  139546.69\n",
              "  Name: Siena EL, dtype: object),\n",
              " ('Palio Adventure',\n",
              "  Motor                                            Motor Diesel V8\n",
              "  Año                                                         1994\n",
              "  Kilometraje                                              33659.0\n",
              "  Cero_km                                                    False\n",
              "  Accesorios     ['Techo panorámico', 'Central multimedia', 'Pi...\n",
              "  Valor                                                   95078.16\n",
              "  Name: Palio Adventure, dtype: object),\n",
              " ('HB20X',\n",
              "  Motor                                                   Motor V8\n",
              "  Año                                                         2001\n",
              "  Kilometraje                                             104341.0\n",
              "  Cero_km                                                    False\n",
              "  Accesorios     ['Sensor crepuscular', 'Techo panorámico', 'Pa...\n",
              "  Valor                                                   68091.77\n",
              "  Name: HB20X, dtype: object),\n",
              " ('HR',\n",
              "  Motor                                      Motor 5.0 V8 Bi-Turbo\n",
              "  Año                                                         2014\n",
              "  Kilometraje                                              25510.0\n",
              "  Cero_km                                                    False\n",
              "  Accesorios     ['Control de tracción', 'Transmisión automátic...\n",
              "  Valor                                                   61496.97\n",
              "  Name: HR, dtype: object),\n",
              " ('Cadillac STS V-Series',\n",
              "  Motor                                              Motor 2.0 16v\n",
              "  Año                                                         1996\n",
              "  Kilometraje                                              18965.0\n",
              "  Cero_km                                                    False\n",
              "  Accesorios     ['Ventanas eléctricas', 'Piloto automático', '...\n",
              "  Valor                                                   139669.3\n",
              "  Name: Cadillac STS V-Series, dtype: object),\n",
              " ('Série 1 Coupé',\n",
              "  Motor                                               Motor 1.0 8v\n",
              "  Año                                                         1993\n",
              "  Kilometraje                                              87161.0\n",
              "  Cero_km                                                    False\n",
              "  Accesorios     ['Control de estabilidad', 'Techo panorámico',...\n",
              "  Valor                                                   80661.39\n",
              "  Name: Série 1 Coupé, dtype: object),\n",
              " ('SpaceFox',\n",
              "  Motor                                                   Motor V8\n",
              "  Año                                                         1993\n",
              "  Kilometraje                                               6652.0\n",
              "  Cero_km                                                    False\n",
              "  Accesorios     ['Sensor crepuscular', '4 X 4', 'Panel digital...\n",
              "  Valor                                                   61783.65\n",
              "  Name: SpaceFox, dtype: object),\n",
              " ('C30',\n",
              "  Motor                                               Motor 1.0 8v\n",
              "  Año                                                         2001\n",
              "  Kilometraje                                              55738.0\n",
              "  Cero_km                                                    False\n",
              "  Accesorios     ['Techo panorámico', 'Frenos ABS', 'Sensor cre...\n",
              "  Valor                                                   52805.91\n",
              "  Name: C30, dtype: object),\n",
              " ('J3 Turin',\n",
              "  Motor                                                   Motor V6\n",
              "  Año                                                         2019\n",
              "  Kilometraje                                                  NaN\n",
              "  Cero_km                                                     True\n",
              "  Accesorios     ['Sensor crepuscular', 'Cámara de estacionamie...\n",
              "  Valor                                                  127024.75\n",
              "  Name: J3 Turin, dtype: object),\n",
              " ('Classe B',\n",
              "  Motor                                            Motor Diesel V8\n",
              "  Año                                                         2019\n",
              "  Kilometraje                                                  NaN\n",
              "  Cero_km                                                     True\n",
              "  Accesorios     ['4 X 4', 'Asientos de cuero', 'Sensor crepusc...\n",
              "  Valor                                                   135543.0\n",
              "  Name: Classe B, dtype: object),\n",
              " ('Parati',\n",
              "  Motor                                            Motor Diesel V8\n",
              "  Año                                                         2019\n",
              "  Kilometraje                                                  NaN\n",
              "  Cero_km                                                     True\n",
              "  Accesorios     ['Sensor de estacionamiento', 'Piloto automáti...\n",
              "  Valor                                                  121708.73\n",
              "  Name: Parati, dtype: object),\n",
              " ('Cadillac CTS V-Series',\n",
              "  Motor                                            Motor 4.0 Turbo\n",
              "  Año                                                         2007\n",
              "  Kilometraje                                              64320.0\n",
              "  Cero_km                                                    False\n",
              "  Accesorios     ['Piloto automático', 'Aire condicionado', 'Ce...\n",
              "  Valor                                                  107342.68\n",
              "  Name: Cadillac CTS V-Series, dtype: object),\n",
              " ('Sedan',\n",
              "  Motor                                                   Motor V8\n",
              "  Año                                                         2019\n",
              "  Kilometraje                                                  NaN\n",
              "  Cero_km                                                     True\n",
              "  Accesorios     ['Asientos de cuero', 'Central multimedia', 'F...\n",
              "  Valor                                                    57888.1\n",
              "  Name: Sedan, dtype: object),\n",
              " ('Classe CLS 63 AMG',\n",
              "  Motor                                            Motor Diesel V6\n",
              "  Año                                                         2016\n",
              "  Kilometraje                                              68678.0\n",
              "  Cero_km                                                    False\n",
              "  Accesorios     ['Frenos ABS', 'Ventanas eléctricas', 'Transmi...\n",
              "  Valor                                                  118161.48\n",
              "  Name: Classe CLS 63 AMG, dtype: object),\n",
              " ('Aircross',\n",
              "  Motor                                               Motor 1.0 8v\n",
              "  Año                                                         2014\n",
              "  Kilometraje                                              71697.0\n",
              "  Cero_km                                                    False\n",
              "  Accesorios     ['Control de tracción', 'Piloto automático', '...\n",
              "  Valor                                                  142499.06\n",
              "  Name: Aircross, dtype: object),\n",
              " ('Aston Martin V12 Vantage',\n",
              "  Motor                                                   Motor V8\n",
              "  Año                                                         2019\n",
              "  Kilometraje                                                  NaN\n",
              "  Cero_km                                                     True\n",
              "  Accesorios     ['Asientos de cuero', 'Central multimedia', 'C...\n",
              "  Valor                                                  128396.11\n",
              "  Name: Aston Martin V12 Vantage, dtype: object),\n",
              " ('Sandero',\n",
              "  Motor                                               Motor Diesel\n",
              "  Año                                                         2015\n",
              "  Kilometraje                                              34783.0\n",
              "  Cero_km                                                    False\n",
              "  Accesorios     ['Piloto automático', 'Techo panorámico', 'Tra...\n",
              "  Valor                                                  112350.61\n",
              "  Name: Sandero, dtype: object),\n",
              " ('New Fiesta',\n",
              "  Motor                                      Motor 5.0 V8 Bi-Turbo\n",
              "  Año                                                         2015\n",
              "  Kilometraje                                              33772.0\n",
              "  Cero_km                                                    False\n",
              "  Accesorios     ['Control de tracción', 'Cerraduras electricas...\n",
              "  Valor                                                  124661.38\n",
              "  Name: New Fiesta, dtype: object),\n",
              " ('XKR',\n",
              "  Motor                                               Motor Diesel\n",
              "  Año                                                         1996\n",
              "  Kilometraje                                              85127.0\n",
              "  Cero_km                                                    False\n",
              "  Accesorios     ['Control de tracción', 'Aire condicionado', '...\n",
              "  Valor                                                   54263.16\n",
              "  Name: XKR, dtype: object),\n",
              " ('X5',\n",
              "  Motor                                               Motor Diesel\n",
              "  Año                                                         2002\n",
              "  Kilometraje                                              13606.0\n",
              "  Cero_km                                                    False\n",
              "  Accesorios     ['Control de tracción', 'Piloto automático', '...\n",
              "  Valor                                                   62041.32\n",
              "  Name: X5, dtype: object),\n",
              " ('Cadillac DTS',\n",
              "  Motor                                              Motor 1.8 16v\n",
              "  Año                                                         2005\n",
              "  Kilometraje                                              35647.0\n",
              "  Cero_km                                                    False\n",
              "  Accesorios     ['Central multimedia', 'Llantas de aleación', ...\n",
              "  Valor                                                  129296.11\n",
              "  Name: Cadillac DTS, dtype: object),\n",
              " ('Pajero Dakar',\n",
              "  Motor                                            Motor 4.0 Turbo\n",
              "  Año                                                         1995\n",
              "  Kilometraje                                              95128.0\n",
              "  Cero_km                                                    False\n",
              "  Accesorios     ['Piloto automático', 'Sensor de lluvia', 'Con...\n",
              "  Valor                                                   60998.33\n",
              "  Name: Pajero Dakar, dtype: object),\n",
              " ('Classe A',\n",
              "  Motor                                               Motor 1.0 8v\n",
              "  Año                                                         1999\n",
              "  Kilometraje                                              14046.0\n",
              "  Cero_km                                                    False\n",
              "  Accesorios     ['Control de tracción', 'Central multimedia', ...\n",
              "  Valor                                                    58008.5\n",
              "  Name: Classe A, dtype: object),\n",
              " ('Ford Focus Fastback',\n",
              "  Motor                                            Motor 4.0 Turbo\n",
              "  Año                                                         2005\n",
              "  Kilometraje                                              41194.0\n",
              "  Cero_km                                                    False\n",
              "  Accesorios     ['Asientos de cuero', 'Cámara de estacionamien...\n",
              "  Valor                                                   82304.19\n",
              "  Name: Ford Focus Fastback, dtype: object),\n",
              " ('Partner',\n",
              "  Motor                                            Motor 2.4 Turbo\n",
              "  Año                                                         2019\n",
              "  Kilometraje                                                  NaN\n",
              "  Cero_km                                                     True\n",
              "  Accesorios     ['Central multimedia', 'Control de tracción', ...\n",
              "  Valor                                                  114531.74\n",
              "  Name: Partner, dtype: object),\n",
              " ('R8',\n",
              "  Motor                                                   Motor V6\n",
              "  Año                                                         1997\n",
              "  Kilometraje                                              96100.0\n",
              "  Cero_km                                                    False\n",
              "  Accesorios     ['4 X 4', 'Control de estabilidad', 'Cámara de...\n",
              "  Valor                                                  128565.61\n",
              "  Name: R8, dtype: object),\n",
              " ('Aston Martin DBS Volante',\n",
              "  Motor                                            Motor 4.0 Turbo\n",
              "  Año                                                         1990\n",
              "  Kilometraje                                             103900.0\n",
              "  Cero_km                                                    False\n",
              "  Accesorios     ['Central multimedia', 'Control de estabilidad...\n",
              "  Valor                                                  126488.26\n",
              "  Name: Aston Martin DBS Volante, dtype: object),\n",
              " ('Mohave',\n",
              "  Motor                                            Motor Diesel V6\n",
              "  Año                                                         2001\n",
              "  Kilometraje                                              43814.0\n",
              "  Cero_km                                                    False\n",
              "  Accesorios     ['Cerraduras electricas', 'Central multimedia'...\n",
              "  Valor                                                  119074.55\n",
              "  Name: Mohave, dtype: object),\n",
              " ('Fusca',\n",
              "  Motor                                              Motor 3.0 32v\n",
              "  Año                                                         2013\n",
              "  Kilometraje                                              24638.0\n",
              "  Cero_km                                                    False\n",
              "  Accesorios     ['Transmisión automática', 'Techo panorámico',...\n",
              "  Valor                                                  130238.04\n",
              "  Name: Fusca, dtype: object),\n",
              " ('Chana Family',\n",
              "  Motor                                                   Motor V8\n",
              "  Año                                                         2019\n",
              "  Kilometraje                                                  NaN\n",
              "  Cero_km                                                     True\n",
              "  Accesorios     ['Piloto automático', 'Techo panorámico', 'Sen...\n",
              "  Valor                                                  115760.17\n",
              "  Name: Chana Family, dtype: object),\n",
              " ('XC40',\n",
              "  Motor                                            Motor 2.4 Turbo\n",
              "  Año                                                         2017\n",
              "  Kilometraje                                             110966.0\n",
              "  Cero_km                                                    False\n",
              "  Accesorios     ['Sensor de lluvia', 'Central multimedia', 'Ve...\n",
              "  Valor                                                   121248.0\n",
              "  Name: XC40, dtype: object),\n",
              " ('Phantom I Jonckheere Aerodynamic Coupe',\n",
              "  Motor                                              Motor 1.8 16v\n",
              "  Año                                                         2011\n",
              "  Kilometraje                                              15987.0\n",
              "  Cero_km                                                    False\n",
              "  Accesorios     ['Sensor crepuscular', 'Cerraduras electricas'...\n",
              "  Valor                                                   98156.35\n",
              "  Name: Phantom I Jonckheere Aerodynamic Coupe, dtype: object),\n",
              " ('Boxer',\n",
              "  Motor                                                   Motor V6\n",
              "  Año                                                         2005\n",
              "  Kilometraje                                              53369.0\n",
              "  Cero_km                                                    False\n",
              "  Accesorios     ['Cerraduras electricas', 'Piloto automático',...\n",
              "  Valor                                                   112146.8\n",
              "  Name: Boxer, dtype: object),\n",
              " ('Chana Cargo',\n",
              "  Motor                                              Motor 2.0 16v\n",
              "  Año                                                         2007\n",
              "  Kilometraje                                              10077.0\n",
              "  Cero_km                                                    False\n",
              "  Accesorios     ['Techo panorámico', '4 X 4', 'Central multime...\n",
              "  Valor                                                  102729.63\n",
              "  Name: Chana Cargo, dtype: object),\n",
              " ('Dodge Dakota',\n",
              "  Motor                                               Motor Diesel\n",
              "  Año                                                         1993\n",
              "  Kilometraje                                              71544.0\n",
              "  Cero_km                                                    False\n",
              "  Accesorios     ['Control de tracción', 'Sensor de estacionami...\n",
              "  Valor                                                  141083.35\n",
              "  Name: Dodge Dakota, dtype: object),\n",
              " ('X1',\n",
              "  Motor                                            Motor Diesel V8\n",
              "  Año                                                         1991\n",
              "  Kilometraje                                                107.0\n",
              "  Cero_km                                                    False\n",
              "  Accesorios     ['4 X 4', 'Techo panorámico', 'Aire condiciona...\n",
              "  Valor                                                  102968.76\n",
              "  Name: X1, dtype: object),\n",
              " ('GLA',\n",
              "  Motor                                               Motor 1.0 8v\n",
              "  Año                                                         1991\n",
              "  Kilometraje                                               8394.0\n",
              "  Cero_km                                                    False\n",
              "  Accesorios     ['Sensor de lluvia', 'Cámara de estacionamient...\n",
              "  Valor                                                   76310.01\n",
              "  Name: GLA, dtype: object),\n",
              " ('Range Rover Sport',\n",
              "  Motor                                               Motor 1.0 8v\n",
              "  Año                                                         1997\n",
              "  Kilometraje                                              41498.0\n",
              "  Cero_km                                                    False\n",
              "  Accesorios     ['Sensor de estacionamiento', 'Cámara de estac...\n",
              "  Valor                                                  120481.74\n",
              "  Name: Range Rover Sport, dtype: object),\n",
              " ('DS3',\n",
              "  Motor                                              Motor 1.8 16v\n",
              "  Año                                                         2000\n",
              "  Kilometraje                                             116002.0\n",
              "  Cero_km                                                    False\n",
              "  Accesorios     ['Control de estabilidad', 'Aire condicionado'...\n",
              "  Valor                                                   54559.18\n",
              "  Name: DS3, dtype: object),\n",
              " ('Veracruz',\n",
              "  Motor                                            Motor Diesel V8\n",
              "  Año                                                         2007\n",
              "  Kilometraje                                             100858.0\n",
              "  Cero_km                                                    False\n",
              "  Accesorios     ['Control de estabilidad', 'Cámara de estacion...\n",
              "  Valor                                                   92957.64\n",
              "  Name: Veracruz, dtype: object),\n",
              " ('Cadillac CTS coupe, sedan, and wagon',\n",
              "  Motor                                                   Motor V8\n",
              "  Año                                                         2006\n",
              "  Kilometraje                                              67475.0\n",
              "  Cero_km                                                    False\n",
              "  Accesorios     ['Sensor de lluvia', 'Sensor de estacionamient...\n",
              "  Valor                                                  127810.06\n",
              "  Name: Cadillac CTS coupe, sedan, and wagon, dtype: object),\n",
              " ('i30 CW',\n",
              "  Motor                                               Motor Diesel\n",
              "  Año                                                         2015\n",
              "  Kilometraje                                               8497.0\n",
              "  Cero_km                                                    False\n",
              "  Accesorios     ['Sensor de lluvia', 'Ventanas eléctricas', 'C...\n",
              "  Valor                                                   73311.75\n",
              "  Name: i30 CW, dtype: object),\n",
              " ('Phantom III',\n",
              "  Motor                                            Motor Diesel V6\n",
              "  Año                                                         2008\n",
              "  Kilometraje                                               4420.0\n",
              "  Cero_km                                                    False\n",
              "  Accesorios     ['Ventanas eléctricas', 'Asientos de cuero', '...\n",
              "  Valor                                                   65138.03\n",
              "  Name: Phantom III, dtype: object),\n",
              " ('A3 Sedan',\n",
              "  Motor                                                   Motor V6\n",
              "  Año                                                         2019\n",
              "  Kilometraje                                                  NaN\n",
              "  Cero_km                                                     True\n",
              "  Accesorios     ['Aire condicionado', 'Sensor de lluvia', 'Cer...\n",
              "  Valor                                                   90141.47\n",
              "  Name: A3 Sedan, dtype: object),\n",
              " ('Aston Martin DB9 Volante',\n",
              "  Motor                                              Motor 2.0 16v\n",
              "  Año                                                         1996\n",
              "  Kilometraje                                              58537.0\n",
              "  Cero_km                                                    False\n",
              "  Accesorios     ['Central multimedia', 'Asientos de cuero', 'C...\n",
              "  Valor                                                   71160.36\n",
              "  Name: Aston Martin DB9 Volante, dtype: object),\n",
              " ('Série 7 Sedã',\n",
              "  Motor                                               Motor Diesel\n",
              "  Año                                                         2019\n",
              "  Kilometraje                                                  NaN\n",
              "  Cero_km                                                     True\n",
              "  Accesorios     ['Ventanas eléctricas', 'Cerraduras electricas...\n",
              "  Valor                                                   67539.79\n",
              "  Name: Série 7 Sedã, dtype: object),\n",
              " ('Lamborghini Reventón',\n",
              "  Motor                                            Motor 4.0 Turbo\n",
              "  Año                                                         2019\n",
              "  Kilometraje                                                  NaN\n",
              "  Cero_km                                                     True\n",
              "  Accesorios     ['Control de tracción', 'Aire condicionado', '...\n",
              "  Valor                                                   67664.86\n",
              "  Name: Lamborghini Reventón, dtype: object),\n",
              " ('Grand Livina',\n",
              "  Motor                                              Motor 2.0 16v\n",
              "  Año                                                         2014\n",
              "  Kilometraje                                             112016.0\n",
              "  Cero_km                                                    False\n",
              "  Accesorios     ['Control de tracción', 'Techo panorámico', 'V...\n",
              "  Valor                                                   68652.16\n",
              "  Name: Grand Livina, dtype: object),\n",
              " ('V60',\n",
              "  Motor                                               Motor Diesel\n",
              "  Año                                                         2004\n",
              "  Kilometraje                                              91840.0\n",
              "  Cero_km                                                    False\n",
              "  Accesorios     ['Llantas de aleación', 'Sensor crepuscular', ...\n",
              "  Valor                                                  114728.74\n",
              "  Name: V60, dtype: object),\n",
              " ('Effa Hafei Picape Cabine Dupla',\n",
              "  Motor                                                   Motor V6\n",
              "  Año                                                         2008\n",
              "  Kilometraje                                             112787.0\n",
              "  Cero_km                                                    False\n",
              "  Accesorios     ['Sensor crepuscular', 'Control de tracción', ...\n",
              "  Valor                                                  141645.08\n",
              "  Name: Effa Hafei Picape Cabine Dupla, dtype: object),\n",
              " ('Benni Mini',\n",
              "  Motor                                                   Motor V8\n",
              "  Año                                                         2019\n",
              "  Kilometraje                                                  NaN\n",
              "  Cero_km                                                     True\n",
              "  Accesorios     ['Sensor crepuscular', 'Transmisión automática...\n",
              "  Valor                                                  126247.84\n",
              "  Name: Benni Mini, dtype: object),\n",
              " ('Uno',\n",
              "  Motor                                            Motor Diesel V6\n",
              "  Año                                                         2019\n",
              "  Kilometraje                                                  NaN\n",
              "  Cero_km                                                     True\n",
              "  Accesorios     ['Central multimedia', 'Sensor crepuscular', '...\n",
              "  Valor                                                  128852.21\n",
              "  Name: Uno, dtype: object),\n",
              " ('L200 Savana',\n",
              "  Motor                                              Motor 2.0 16v\n",
              "  Año                                                         2012\n",
              "  Kilometraje                                               9293.0\n",
              "  Cero_km                                                    False\n",
              "  Accesorios     ['Sensor de lluvia', 'Ventanas eléctricas', 'P...\n",
              "  Valor                                                  132384.76\n",
              "  Name: L200 Savana, dtype: object),\n",
              " ('Santa Fe',\n",
              "  Motor                                              Motor 3.0 32v\n",
              "  Año                                                         2019\n",
              "  Kilometraje                                                  NaN\n",
              "  Cero_km                                                     True\n",
              "  Accesorios     ['Cerraduras electricas', 'Aire condicionado',...\n",
              "  Valor                                                  129415.33\n",
              "  Name: Santa Fe, dtype: object),\n",
              " ('RS5',\n",
              "  Motor                                                   Motor V6\n",
              "  Año                                                         1996\n",
              "  Kilometraje                                              55083.0\n",
              "  Cero_km                                                    False\n",
              "  Accesorios     ['Panel digital', 'Transmisión automática', 'V...\n",
              "  Valor                                                   89536.82\n",
              "  Name: RS5, dtype: object),\n",
              " ('Cerato',\n",
              "  Motor                                                   Motor V6\n",
              "  Año                                                         2011\n",
              "  Kilometraje                                              48796.0\n",
              "  Cero_km                                                    False\n",
              "  Accesorios     ['Sensor de estacionamiento', 'Cámara de estac...\n",
              "  Valor                                                    87975.3\n",
              "  Name: Cerato, dtype: object),\n",
              " ('XC60',\n",
              "  Motor                                            Motor 4.0 Turbo\n",
              "  Año                                                         2019\n",
              "  Kilometraje                                                  NaN\n",
              "  Cero_km                                                     True\n",
              "  Accesorios     ['Panel digital', 'Piloto automático', 'Centra...\n",
              "  Valor                                                   77675.79\n",
              "  Name: XC60, dtype: object),\n",
              " ('LS 460L',\n",
              "  Motor                                            Motor Diesel V8\n",
              "  Año                                                         2010\n",
              "  Kilometraje                                              89685.0\n",
              "  Cero_km                                                    False\n",
              "  Accesorios     ['Llantas de aleación', 'Frenos ABS', 'Control...\n",
              "  Valor                                                   58881.67\n",
              "  Name: LS 460L, dtype: object),\n",
              " ('Lamborghini Sesto Elemento',\n",
              "  Motor                                                   Motor V8\n",
              "  Año                                                         2007\n",
              "  Kilometraje                                              85384.0\n",
              "  Cero_km                                                    False\n",
              "  Accesorios     ['Sensor crepuscular', 'Frenos ABS', 'Aire con...\n",
              "  Valor                                                   55081.99\n",
              "  Name: Lamborghini Sesto Elemento, dtype: object),\n",
              " ('Lamborghini Huracán',\n",
              "  Motor                                                   Motor V8\n",
              "  Año                                                         1994\n",
              "  Kilometraje                                              98108.0\n",
              "  Cero_km                                                    False\n",
              "  Accesorios     ['Sensor de lluvia', 'Sensor de estacionamient...\n",
              "  Valor                                                  118826.44\n",
              "  Name: Lamborghini Huracán, dtype: object),\n",
              " ('A7',\n",
              "  Motor                                               Motor 1.0 8v\n",
              "  Año                                                         2007\n",
              "  Kilometraje                                              71280.0\n",
              "  Cero_km                                                    False\n",
              "  Accesorios     ['Sensor de lluvia', 'Ventanas eléctricas', 'S...\n",
              "  Valor                                                  137627.62\n",
              "  Name: A7, dtype: object),\n",
              " ('Phantom 2013',\n",
              "  Motor                                                   Motor V8\n",
              "  Año                                                         2014\n",
              "  Kilometraje                                              27505.0\n",
              "  Cero_km                                                    False\n",
              "  Accesorios     ['Control de estabilidad', 'Piloto automático'...\n",
              "  Valor                                                   51759.58\n",
              "  Name: Phantom 2013, dtype: object),\n",
              " ('Cadillac Ciel concept',\n",
              "  Motor                                                   Motor V8\n",
              "  Año                                                         1991\n",
              "  Kilometraje                                              29981.0\n",
              "  Cero_km                                                    False\n",
              "  Accesorios     ['Asientos de cuero', 'Panel digital', 'Sensor...\n",
              "  Valor                                                   51667.06\n",
              "  Name: Cadillac Ciel concept, dtype: object),\n",
              " ('Classe GLK',\n",
              "  Motor                                      Motor 5.0 V8 Bi-Turbo\n",
              "  Año                                                         2002\n",
              "  Kilometraje                                              52637.0\n",
              "  Cero_km                                                    False\n",
              "  Accesorios     ['Llantas de aleación', 'Control de tracción',...\n",
              "  Valor                                                   68934.03\n",
              "  Name: Classe GLK, dtype: object),\n",
              " ('Aston Martin DB5',\n",
              "  Motor                                               Motor Diesel\n",
              "  Año                                                         1996\n",
              "  Kilometraje                                               7685.0\n",
              "  Cero_km                                                    False\n",
              "  Accesorios     ['Aire condicionado', '4 X 4', 'Transmisión au...\n",
              "  Valor                                                   122110.9\n",
              "  Name: Aston Martin DB5, dtype: object),\n",
              " ('Macan',\n",
              "  Motor                                            Motor Diesel V6\n",
              "  Año                                                         1992\n",
              "  Kilometraje                                              50188.0\n",
              "  Cero_km                                                    False\n",
              "  Accesorios     ['Central multimedia', 'Techo panorámico', 'Ve...\n",
              "  Valor                                                   90381.47\n",
              "  Name: Macan, dtype: object)]"
            ]
          },
          "metadata": {},
          "execution_count": 40
        }
      ]
    },
    {
      "cell_type": "code",
      "source": [
        "for index, row in dataset.iterrows():\n",
        "  if(2020 - row.Año != 0):\n",
        "    dataset.loc[index, 'km_media'] = row.Kilometraje / (2020 - row.Año)\n",
        "  else:\n",
        "    dataset.loc[index, 'km_media'] = 0\n",
        "dataset"
      ],
      "metadata": {
        "colab": {
          "base_uri": "https://localhost:8080/",
          "height": 455
        },
        "id": "XuOYCWErNerc",
        "outputId": "f6c8f016-54b4-4a0d-c7ff-f86ae89b3ee0"
      },
      "execution_count": 42,
      "outputs": [
        {
          "output_type": "execute_result",
          "data": {
            "text/plain": [
              "                                       Motor   Año  Kilometraje  Cero_km  \\\n",
              "Nombre                                                                     \n",
              "Jetta Variant                Motor 4.0 Turbo  2003      44410.0    False   \n",
              "Passat                          Motor Diesel  1991       5712.0    False   \n",
              "Crossfox                     Motor Diesel V8  1990      37123.0    False   \n",
              "DS5                          Motor 2.4 Turbo  2019          NaN     True   \n",
              "Aston Martin DB4             Motor 2.4 Turbo  2006      25757.0    False   \n",
              "...                                      ...   ...          ...      ...   \n",
              "Phantom 2013                        Motor V8  2014      27505.0    False   \n",
              "Cadillac Ciel concept               Motor V8  1991      29981.0    False   \n",
              "Classe GLK             Motor 5.0 V8 Bi-Turbo  2002      52637.0    False   \n",
              "Aston Martin DB5                Motor Diesel  1996       7685.0    False   \n",
              "Macan                        Motor Diesel V6  1992      50188.0    False   \n",
              "\n",
              "                                                              Accesorios  \\\n",
              "Nombre                                                                     \n",
              "Jetta Variant          ['Llantas de aleación', 'Cerraduras electricas...   \n",
              "Passat                 ['Central multimedia', 'Techo panorámico', 'Fr...   \n",
              "Crossfox               ['Piloto automático', 'Control de estabilidad'...   \n",
              "DS5                    ['Cerraduras electricas', '4 X 4', 'Ventanas e...   \n",
              "Aston Martin DB4       ['Llantas de aleación', '4 X 4', 'Central mult...   \n",
              "...                                                                  ...   \n",
              "Phantom 2013           ['Control de estabilidad', 'Piloto automático'...   \n",
              "Cadillac Ciel concept  ['Asientos de cuero', 'Panel digital', 'Sensor...   \n",
              "Classe GLK             ['Llantas de aleación', 'Control de tracción',...   \n",
              "Aston Martin DB5       ['Aire condicionado', '4 X 4', 'Transmisión au...   \n",
              "Macan                  ['Central multimedia', 'Techo panorámico', 'Ve...   \n",
              "\n",
              "                           Valor     km_media  \n",
              "Nombre                                         \n",
              "Jetta Variant           88078.64  2612.352941  \n",
              "Passat                 106161.94   196.965517  \n",
              "Crossfox                72832.16  1237.433333  \n",
              "DS5                    124549.07          NaN  \n",
              "Aston Martin DB4        92612.10  1839.785714  \n",
              "...                          ...          ...  \n",
              "Phantom 2013            51759.58  4584.166667  \n",
              "Cadillac Ciel concept   51667.06  1033.827586  \n",
              "Classe GLK              68934.03  2924.277778  \n",
              "Aston Martin DB5       122110.90   320.208333  \n",
              "Macan                   90381.47  1792.428571  \n",
              "\n",
              "[258 rows x 7 columns]"
            ],
            "text/html": [
              "\n",
              "  <div id=\"df-b83b2ee0-92e5-4e9d-9ff8-24e090acecd6\">\n",
              "    <div class=\"colab-df-container\">\n",
              "      <div>\n",
              "<style scoped>\n",
              "    .dataframe tbody tr th:only-of-type {\n",
              "        vertical-align: middle;\n",
              "    }\n",
              "\n",
              "    .dataframe tbody tr th {\n",
              "        vertical-align: top;\n",
              "    }\n",
              "\n",
              "    .dataframe thead th {\n",
              "        text-align: right;\n",
              "    }\n",
              "</style>\n",
              "<table border=\"1\" class=\"dataframe\">\n",
              "  <thead>\n",
              "    <tr style=\"text-align: right;\">\n",
              "      <th></th>\n",
              "      <th>Motor</th>\n",
              "      <th>Año</th>\n",
              "      <th>Kilometraje</th>\n",
              "      <th>Cero_km</th>\n",
              "      <th>Accesorios</th>\n",
              "      <th>Valor</th>\n",
              "      <th>km_media</th>\n",
              "    </tr>\n",
              "    <tr>\n",
              "      <th>Nombre</th>\n",
              "      <th></th>\n",
              "      <th></th>\n",
              "      <th></th>\n",
              "      <th></th>\n",
              "      <th></th>\n",
              "      <th></th>\n",
              "      <th></th>\n",
              "    </tr>\n",
              "  </thead>\n",
              "  <tbody>\n",
              "    <tr>\n",
              "      <th>Jetta Variant</th>\n",
              "      <td>Motor 4.0 Turbo</td>\n",
              "      <td>2003</td>\n",
              "      <td>44410.0</td>\n",
              "      <td>False</td>\n",
              "      <td>['Llantas de aleación', 'Cerraduras electricas...</td>\n",
              "      <td>88078.64</td>\n",
              "      <td>2612.352941</td>\n",
              "    </tr>\n",
              "    <tr>\n",
              "      <th>Passat</th>\n",
              "      <td>Motor Diesel</td>\n",
              "      <td>1991</td>\n",
              "      <td>5712.0</td>\n",
              "      <td>False</td>\n",
              "      <td>['Central multimedia', 'Techo panorámico', 'Fr...</td>\n",
              "      <td>106161.94</td>\n",
              "      <td>196.965517</td>\n",
              "    </tr>\n",
              "    <tr>\n",
              "      <th>Crossfox</th>\n",
              "      <td>Motor Diesel V8</td>\n",
              "      <td>1990</td>\n",
              "      <td>37123.0</td>\n",
              "      <td>False</td>\n",
              "      <td>['Piloto automático', 'Control de estabilidad'...</td>\n",
              "      <td>72832.16</td>\n",
              "      <td>1237.433333</td>\n",
              "    </tr>\n",
              "    <tr>\n",
              "      <th>DS5</th>\n",
              "      <td>Motor 2.4 Turbo</td>\n",
              "      <td>2019</td>\n",
              "      <td>NaN</td>\n",
              "      <td>True</td>\n",
              "      <td>['Cerraduras electricas', '4 X 4', 'Ventanas e...</td>\n",
              "      <td>124549.07</td>\n",
              "      <td>NaN</td>\n",
              "    </tr>\n",
              "    <tr>\n",
              "      <th>Aston Martin DB4</th>\n",
              "      <td>Motor 2.4 Turbo</td>\n",
              "      <td>2006</td>\n",
              "      <td>25757.0</td>\n",
              "      <td>False</td>\n",
              "      <td>['Llantas de aleación', '4 X 4', 'Central mult...</td>\n",
              "      <td>92612.10</td>\n",
              "      <td>1839.785714</td>\n",
              "    </tr>\n",
              "    <tr>\n",
              "      <th>...</th>\n",
              "      <td>...</td>\n",
              "      <td>...</td>\n",
              "      <td>...</td>\n",
              "      <td>...</td>\n",
              "      <td>...</td>\n",
              "      <td>...</td>\n",
              "      <td>...</td>\n",
              "    </tr>\n",
              "    <tr>\n",
              "      <th>Phantom 2013</th>\n",
              "      <td>Motor V8</td>\n",
              "      <td>2014</td>\n",
              "      <td>27505.0</td>\n",
              "      <td>False</td>\n",
              "      <td>['Control de estabilidad', 'Piloto automático'...</td>\n",
              "      <td>51759.58</td>\n",
              "      <td>4584.166667</td>\n",
              "    </tr>\n",
              "    <tr>\n",
              "      <th>Cadillac Ciel concept</th>\n",
              "      <td>Motor V8</td>\n",
              "      <td>1991</td>\n",
              "      <td>29981.0</td>\n",
              "      <td>False</td>\n",
              "      <td>['Asientos de cuero', 'Panel digital', 'Sensor...</td>\n",
              "      <td>51667.06</td>\n",
              "      <td>1033.827586</td>\n",
              "    </tr>\n",
              "    <tr>\n",
              "      <th>Classe GLK</th>\n",
              "      <td>Motor 5.0 V8 Bi-Turbo</td>\n",
              "      <td>2002</td>\n",
              "      <td>52637.0</td>\n",
              "      <td>False</td>\n",
              "      <td>['Llantas de aleación', 'Control de tracción',...</td>\n",
              "      <td>68934.03</td>\n",
              "      <td>2924.277778</td>\n",
              "    </tr>\n",
              "    <tr>\n",
              "      <th>Aston Martin DB5</th>\n",
              "      <td>Motor Diesel</td>\n",
              "      <td>1996</td>\n",
              "      <td>7685.0</td>\n",
              "      <td>False</td>\n",
              "      <td>['Aire condicionado', '4 X 4', 'Transmisión au...</td>\n",
              "      <td>122110.90</td>\n",
              "      <td>320.208333</td>\n",
              "    </tr>\n",
              "    <tr>\n",
              "      <th>Macan</th>\n",
              "      <td>Motor Diesel V6</td>\n",
              "      <td>1992</td>\n",
              "      <td>50188.0</td>\n",
              "      <td>False</td>\n",
              "      <td>['Central multimedia', 'Techo panorámico', 'Ve...</td>\n",
              "      <td>90381.47</td>\n",
              "      <td>1792.428571</td>\n",
              "    </tr>\n",
              "  </tbody>\n",
              "</table>\n",
              "<p>258 rows × 7 columns</p>\n",
              "</div>\n",
              "      <button class=\"colab-df-convert\" onclick=\"convertToInteractive('df-b83b2ee0-92e5-4e9d-9ff8-24e090acecd6')\"\n",
              "              title=\"Convert this dataframe to an interactive table.\"\n",
              "              style=\"display:none;\">\n",
              "        \n",
              "  <svg xmlns=\"http://www.w3.org/2000/svg\" height=\"24px\"viewBox=\"0 0 24 24\"\n",
              "       width=\"24px\">\n",
              "    <path d=\"M0 0h24v24H0V0z\" fill=\"none\"/>\n",
              "    <path d=\"M18.56 5.44l.94 2.06.94-2.06 2.06-.94-2.06-.94-.94-2.06-.94 2.06-2.06.94zm-11 1L8.5 8.5l.94-2.06 2.06-.94-2.06-.94L8.5 2.5l-.94 2.06-2.06.94zm10 10l.94 2.06.94-2.06 2.06-.94-2.06-.94-.94-2.06-.94 2.06-2.06.94z\"/><path d=\"M17.41 7.96l-1.37-1.37c-.4-.4-.92-.59-1.43-.59-.52 0-1.04.2-1.43.59L10.3 9.45l-7.72 7.72c-.78.78-.78 2.05 0 2.83L4 21.41c.39.39.9.59 1.41.59.51 0 1.02-.2 1.41-.59l7.78-7.78 2.81-2.81c.8-.78.8-2.07 0-2.86zM5.41 20L4 18.59l7.72-7.72 1.47 1.35L5.41 20z\"/>\n",
              "  </svg>\n",
              "      </button>\n",
              "      \n",
              "  <style>\n",
              "    .colab-df-container {\n",
              "      display:flex;\n",
              "      flex-wrap:wrap;\n",
              "      gap: 12px;\n",
              "    }\n",
              "\n",
              "    .colab-df-convert {\n",
              "      background-color: #E8F0FE;\n",
              "      border: none;\n",
              "      border-radius: 50%;\n",
              "      cursor: pointer;\n",
              "      display: none;\n",
              "      fill: #1967D2;\n",
              "      height: 32px;\n",
              "      padding: 0 0 0 0;\n",
              "      width: 32px;\n",
              "    }\n",
              "\n",
              "    .colab-df-convert:hover {\n",
              "      background-color: #E2EBFA;\n",
              "      box-shadow: 0px 1px 2px rgba(60, 64, 67, 0.3), 0px 1px 3px 1px rgba(60, 64, 67, 0.15);\n",
              "      fill: #174EA6;\n",
              "    }\n",
              "\n",
              "    [theme=dark] .colab-df-convert {\n",
              "      background-color: #3B4455;\n",
              "      fill: #D2E3FC;\n",
              "    }\n",
              "\n",
              "    [theme=dark] .colab-df-convert:hover {\n",
              "      background-color: #434B5C;\n",
              "      box-shadow: 0px 1px 3px 1px rgba(0, 0, 0, 0.15);\n",
              "      filter: drop-shadow(0px 1px 2px rgba(0, 0, 0, 0.3));\n",
              "      fill: #FFFFFF;\n",
              "    }\n",
              "  </style>\n",
              "\n",
              "      <script>\n",
              "        const buttonEl =\n",
              "          document.querySelector('#df-b83b2ee0-92e5-4e9d-9ff8-24e090acecd6 button.colab-df-convert');\n",
              "        buttonEl.style.display =\n",
              "          google.colab.kernel.accessAllowed ? 'block' : 'none';\n",
              "\n",
              "        async function convertToInteractive(key) {\n",
              "          const element = document.querySelector('#df-b83b2ee0-92e5-4e9d-9ff8-24e090acecd6');\n",
              "          const dataTable =\n",
              "            await google.colab.kernel.invokeFunction('convertToInteractive',\n",
              "                                                     [key], {});\n",
              "          if (!dataTable) return;\n",
              "\n",
              "          const docLinkHtml = 'Like what you see? Visit the ' +\n",
              "            '<a target=\"_blank\" href=https://colab.research.google.com/notebooks/data_table.ipynb>data table notebook</a>'\n",
              "            + ' to learn more about interactive tables.';\n",
              "          element.innerHTML = '';\n",
              "          dataTable['output_type'] = 'display_data';\n",
              "          await google.colab.output.renderOutput(dataTable, element);\n",
              "          const docLink = document.createElement('div');\n",
              "          docLink.innerHTML = docLinkHtml;\n",
              "          element.appendChild(docLink);\n",
              "        }\n",
              "      </script>\n",
              "    </div>\n",
              "  </div>\n",
              "  "
            ]
          },
          "metadata": {},
          "execution_count": 42
        }
      ]
    },
    {
      "cell_type": "markdown",
      "metadata": {
        "id": "HnUzHFQPD1Ba"
      },
      "source": [
        "# 5.5 Tratamiento de datos"
      ]
    },
    {
      "cell_type": "code",
      "execution_count": null,
      "metadata": {
        "id": "FRxBWoBGD1Ba"
      },
      "outputs": [],
      "source": []
    },
    {
      "cell_type": "code",
      "execution_count": null,
      "metadata": {
        "id": "HHSwH0ZaD1Bc"
      },
      "outputs": [],
      "source": []
    },
    {
      "cell_type": "code",
      "execution_count": null,
      "metadata": {
        "id": "G27pxgZ5D1Bd",
        "scrolled": true
      },
      "outputs": [],
      "source": []
    },
    {
      "cell_type": "code",
      "execution_count": null,
      "metadata": {
        "id": "DhlRbxy2D1Bd",
        "scrolled": true
      },
      "outputs": [],
      "source": []
    },
    {
      "cell_type": "code",
      "execution_count": null,
      "metadata": {
        "id": "OL04QU5RD1Be"
      },
      "outputs": [],
      "source": []
    },
    {
      "cell_type": "code",
      "execution_count": null,
      "metadata": {
        "id": "fTH2JkGDD1Bf",
        "scrolled": true
      },
      "outputs": [],
      "source": []
    },
    {
      "cell_type": "code",
      "execution_count": null,
      "metadata": {
        "id": "lure2GvpD1Bg"
      },
      "outputs": [],
      "source": []
    },
    {
      "cell_type": "code",
      "execution_count": null,
      "metadata": {
        "id": "4-ZvhXjvD1Bj"
      },
      "outputs": [],
      "source": []
    },
    {
      "cell_type": "code",
      "execution_count": null,
      "metadata": {
        "id": "MQUw7i1OD1Bk",
        "scrolled": true
      },
      "outputs": [],
      "source": []
    },
    {
      "cell_type": "code",
      "execution_count": null,
      "metadata": {
        "id": "U4Cse7miD1Bl"
      },
      "outputs": [],
      "source": []
    },
    {
      "cell_type": "code",
      "execution_count": null,
      "metadata": {
        "id": "8L4wum05D1Bl",
        "scrolled": true
      },
      "outputs": [],
      "source": []
    },
    {
      "cell_type": "code",
      "execution_count": null,
      "metadata": {
        "id": "8iLOc-U3D1Bm"
      },
      "outputs": [],
      "source": []
    }
  ],
  "metadata": {
    "colab": {
      "provenance": [],
      "include_colab_link": true
    },
    "kernelspec": {
      "display_name": "Python 3",
      "language": "python",
      "name": "python3"
    },
    "language_info": {
      "codemirror_mode": {
        "name": "ipython",
        "version": 3
      },
      "file_extension": ".py",
      "mimetype": "text/x-python",
      "name": "python",
      "nbconvert_exporter": "python",
      "pygments_lexer": "ipython3",
      "version": "3.7.1"
    }
  },
  "nbformat": 4,
  "nbformat_minor": 0
}